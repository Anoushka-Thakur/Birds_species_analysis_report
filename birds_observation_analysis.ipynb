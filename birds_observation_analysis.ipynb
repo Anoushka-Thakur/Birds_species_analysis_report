{
 "cells": [
  {
   "cell_type": "markdown",
   "id": "67098eae",
   "metadata": {},
   "source": [
    "# BIRDS SPECIES OBSERVATION ANALYSIS"
   ]
  },
  {
   "cell_type": "markdown",
   "id": "08150010",
   "metadata": {},
   "source": [
    "## Problem Statement"
   ]
  },
  {
   "cell_type": "markdown",
   "id": "36b2446c",
   "metadata": {},
   "source": [
    "##### The project aims to analyze the distribution and diversity of bird species in two distinct ecosystems: forests and grasslands. By examining bird species observations across these habitats, the goal is to understand how environmental factors, such as vegetation type, climate, and terrain, influence bird populations and their behavior. The study will involve working on the provided observational data of bird species present in both ecosystems, identifying patterns of habitat preference, and assessing the impact of these habitats on bird diversity. The findings can provide valuable insights into habitat conservation, biodiversity management, and the effects of environmental changes on avian communities."
   ]
  },
  {
   "cell_type": "markdown",
   "id": "81149d46",
   "metadata": {},
   "source": [
    "## Exploratory Data Analysis on Birds Observation Analysis"
   ]
  },
  {
   "cell_type": "markdown",
   "id": "78349caf",
   "metadata": {},
   "source": [
    "##### This analysis is focusing on birds watching study a section comes under environmental studies. The project reveals the diversity and distribution of birds species on two ecosystem - forest and grassland. The population and  survival instinct in weather and climate condition, the visiting and observing trends. The visualization is shown with the help of Plotly."
   ]
  },
  {
   "cell_type": "markdown",
   "id": "372d26d4",
   "metadata": {},
   "source": [
    "Github link- https://github.com/Anoushka-Thakur/My-activities"
   ]
  },
  {
   "cell_type": "markdown",
   "id": "d5641d3e",
   "metadata": {},
   "source": [
    "##### Load necessary libraries"
   ]
  },
  {
   "cell_type": "code",
   "execution_count": 1,
   "id": "08887acf",
   "metadata": {},
   "outputs": [],
   "source": [
    "import pandas as pd\n",
    "import plotly.express as px\n",
    "import plotly.graph_objects as go\n",
    "import plotly.io as pio\n",
    "from plotly.subplots import make_subplots"
   ]
  },
  {
   "cell_type": "markdown",
   "id": "2e885846",
   "metadata": {},
   "source": [
    "##### Rename the .XLSX file to excel file"
   ]
  },
  {
   "cell_type": "code",
   "execution_count": 2,
   "id": "ed1dab6b",
   "metadata": {},
   "outputs": [],
   "source": [
    "# Forest\n",
    "file_path_1 = 'C:\\\\Users\\\\anous\\\\OneDrive\\\\PROJECTS\\\\BIRD SPECIES OBSERVATION PROJECT\\\\Bird_Monitoring_Data_FOREST.XLSX'"
   ]
  },
  {
   "cell_type": "code",
   "execution_count": 3,
   "id": "64ca549e",
   "metadata": {},
   "outputs": [],
   "source": [
    "# Read the Excel file with multiple sheets\n",
    "excel_data = pd.ExcelFile(file_path_1)"
   ]
  },
  {
   "cell_type": "code",
   "execution_count": 4,
   "id": "d5dcd393",
   "metadata": {},
   "outputs": [],
   "source": [
    "# Get all sheet names\n",
    "sheet_names = excel_data.sheet_names"
   ]
  },
  {
   "cell_type": "code",
   "execution_count": 5,
   "id": "7c5f810b",
   "metadata": {},
   "outputs": [
    {
     "name": "stdout",
     "output_type": "stream",
     "text": [
      "ANTI\n",
      "CATO\n",
      "CHOH\n",
      "GWMP\n",
      "HAFE\n",
      "MANA\n",
      "MONO\n",
      "NACE\n",
      "PRWI\n",
      "ROCR\n",
      "WOTR\n"
     ]
    }
   ],
   "source": [
    "# Read data from all sheets into a dictionary\n",
    "sheet_dict= {}\n",
    "for sheet_name in sheet_names:\n",
    "    sheet_dict[sheet_name]= excel_data.parse(sheet_name)\n",
    "    print(sheet_name)"
   ]
  },
  {
   "cell_type": "code",
   "execution_count": 6,
   "id": "96346b67",
   "metadata": {},
   "outputs": [
    {
     "name": "stdout",
     "output_type": "stream",
     "text": [
      "     Admin_Unit_Code Sub_Unit_Code Site_Name  Plot_Name Location_Type  Year  \\\n",
      "0               ANTI           NaN    ANTI 1  ANTI-0036        Forest  2018   \n",
      "1               ANTI           NaN    ANTI 1  ANTI-0036        Forest  2018   \n",
      "2               ANTI           NaN    ANTI 1  ANTI-0036        Forest  2018   \n",
      "3               ANTI           NaN    ANTI 1  ANTI-0036        Forest  2018   \n",
      "4               ANTI           NaN    ANTI 1  ANTI-0036        Forest  2018   \n",
      "...              ...           ...       ...        ...           ...   ...   \n",
      "8541            WOTR           NaN      WOTR  WOTR-0001        Forest  2018   \n",
      "8542            WOTR           NaN      WOTR  WOTR-0001        Forest  2018   \n",
      "8543            WOTR           NaN      WOTR  WOTR-0001        Forest  2018   \n",
      "8544            WOTR           NaN      WOTR  WOTR-0001        Forest  2018   \n",
      "8545            WOTR           NaN      WOTR  WOTR-0001        Forest  2018   \n",
      "\n",
      "           Date Start_Time  End_Time          Observer  ...  NPSTaxonCode  \\\n",
      "0    2018-05-22   06:19:00  06:29:00  Elizabeth Oswald  ...         83803   \n",
      "1    2018-05-22   06:19:00  06:29:00  Elizabeth Oswald  ...         90935   \n",
      "2    2018-05-22   06:19:00  06:29:00  Elizabeth Oswald  ...         84865   \n",
      "3    2018-05-22   06:19:00  06:29:00  Elizabeth Oswald  ...         93634   \n",
      "4    2018-05-22   06:19:00  06:29:00  Elizabeth Oswald  ...         88394   \n",
      "...         ...        ...       ...               ...  ...           ...   \n",
      "8541 2018-07-08   08:13:00  08:23:00    Kimberly Serno  ...         88350   \n",
      "8542 2018-07-08   08:13:00  08:23:00    Kimberly Serno  ...         87136   \n",
      "8543 2018-07-08   08:13:00  08:23:00    Kimberly Serno  ...         85824   \n",
      "8544 2018-07-08   08:13:00  08:23:00    Kimberly Serno  ...         94228   \n",
      "8545 2018-07-08   08:13:00  08:23:00    Kimberly Serno  ...         94228   \n",
      "\n",
      "     AOU_Code PIF_Watchlist_Status Regional_Stewardship_Status  Temperature  \\\n",
      "0        EATO                False                        True         19.9   \n",
      "1        WBNU                False                       False         19.9   \n",
      "2        RBWO                False                       False         19.9   \n",
      "3        OROR                False                       False         19.9   \n",
      "4        NOMO                False                       False         19.9   \n",
      "...       ...                  ...                         ...          ...   \n",
      "8541     CARW                False                       False         20.6   \n",
      "8542     AMRO                False                       False         20.6   \n",
      "8543     ACFL                False                        True         20.6   \n",
      "8544     NOCA                False                       False         20.6   \n",
      "8545     NOCA                False                       False         20.6   \n",
      "\n",
      "       Humidity                  Sky  \\\n",
      "0     79.400002      Cloudy/Overcast   \n",
      "1     79.400002      Cloudy/Overcast   \n",
      "2     79.400002      Cloudy/Overcast   \n",
      "3     79.400002      Cloudy/Overcast   \n",
      "4     79.400002      Cloudy/Overcast   \n",
      "...         ...                  ...   \n",
      "8541  75.500000  Clear or Few Clouds   \n",
      "8542  75.500000  Clear or Few Clouds   \n",
      "8543  75.500000  Clear or Few Clouds   \n",
      "8544  75.500000  Clear or Few Clouds   \n",
      "8545  75.500000  Clear or Few Clouds   \n",
      "\n",
      "                                           Wind             Disturbance  \\\n",
      "0         Calm (< 1 mph) smoke rises vertically      No effect on count   \n",
      "1         Calm (< 1 mph) smoke rises vertically      No effect on count   \n",
      "2         Calm (< 1 mph) smoke rises vertically      No effect on count   \n",
      "3         Calm (< 1 mph) smoke rises vertically      No effect on count   \n",
      "4         Calm (< 1 mph) smoke rises vertically      No effect on count   \n",
      "...                                         ...                     ...   \n",
      "8541  Light air movement (1-3 mph) smoke drifts  Slight effect on count   \n",
      "8542  Light air movement (1-3 mph) smoke drifts  Slight effect on count   \n",
      "8543  Light air movement (1-3 mph) smoke drifts  Slight effect on count   \n",
      "8544  Light air movement (1-3 mph) smoke drifts  Slight effect on count   \n",
      "8545  Light air movement (1-3 mph) smoke drifts  Slight effect on count   \n",
      "\n",
      "      Initial_Three_Min_Cnt  \n",
      "0                      True  \n",
      "1                      True  \n",
      "2                     False  \n",
      "3                     False  \n",
      "4                     False  \n",
      "...                     ...  \n",
      "8541                   True  \n",
      "8542                   True  \n",
      "8543                  False  \n",
      "8544                   True  \n",
      "8545                   True  \n",
      "\n",
      "[8546 rows x 29 columns]\n"
     ]
    }
   ],
   "source": [
    "combined_data_1= pd.concat(sheet_dict.values(), ignore_index= True)\n",
    "print(combined_data_1)"
   ]
  },
  {
   "cell_type": "markdown",
   "id": "d1f5cc26",
   "metadata": {},
   "source": [
    "##### Rename the .XLSX file to excel file"
   ]
  },
  {
   "cell_type": "code",
   "execution_count": 7,
   "id": "a402eb86",
   "metadata": {},
   "outputs": [],
   "source": [
    "# Grassland\n",
    "file_path_2= 'C:\\\\Users\\\\anous\\\\OneDrive\\\\PROJECTS\\\\BIRD SPECIES OBSERVATION PROJECT\\\\Bird_Monitoring_Data_GRASSLAND.XLSX'"
   ]
  },
  {
   "cell_type": "code",
   "execution_count": 8,
   "id": "e61b6a94",
   "metadata": {},
   "outputs": [],
   "source": [
    "# Read the Excel file with multiple sheets\n",
    "excel_data = pd.ExcelFile(file_path_2)"
   ]
  },
  {
   "cell_type": "code",
   "execution_count": 9,
   "id": "16ae0bf8",
   "metadata": {},
   "outputs": [],
   "source": [
    "# Get all sheet names\n",
    "sheet_names = excel_data.sheet_names"
   ]
  },
  {
   "cell_type": "code",
   "execution_count": 10,
   "id": "e2a90629",
   "metadata": {},
   "outputs": [
    {
     "name": "stdout",
     "output_type": "stream",
     "text": [
      "ANTI\n",
      "CATO\n",
      "CHOH\n",
      "GWMP\n",
      "HAFE\n"
     ]
    },
    {
     "name": "stderr",
     "output_type": "stream",
     "text": [
      "C:\\Users\\anous\\AppData\\Local\\Temp\\ipykernel_6572\\1427761643.py:6: FutureWarning: The behavior of DataFrame concatenation with empty or all-NA entries is deprecated. In a future version, this will no longer exclude empty or all-NA columns when determining the result dtypes. To retain the old behavior, exclude the relevant entries before the concat operation.\n",
      "  combined_data_2= pd.concat(sheet_dict.values(), ignore_index= True)\n",
      "C:\\Users\\anous\\AppData\\Local\\Temp\\ipykernel_6572\\1427761643.py:6: FutureWarning: The behavior of DataFrame concatenation with empty or all-NA entries is deprecated. In a future version, this will no longer exclude empty or all-NA columns when determining the result dtypes. To retain the old behavior, exclude the relevant entries before the concat operation.\n",
      "  combined_data_2= pd.concat(sheet_dict.values(), ignore_index= True)\n",
      "C:\\Users\\anous\\AppData\\Local\\Temp\\ipykernel_6572\\1427761643.py:6: FutureWarning: The behavior of DataFrame concatenation with empty or all-NA entries is deprecated. In a future version, this will no longer exclude empty or all-NA columns when determining the result dtypes. To retain the old behavior, exclude the relevant entries before the concat operation.\n",
      "  combined_data_2= pd.concat(sheet_dict.values(), ignore_index= True)\n",
      "C:\\Users\\anous\\AppData\\Local\\Temp\\ipykernel_6572\\1427761643.py:6: FutureWarning: The behavior of DataFrame concatenation with empty or all-NA entries is deprecated. In a future version, this will no longer exclude empty or all-NA columns when determining the result dtypes. To retain the old behavior, exclude the relevant entries before the concat operation.\n",
      "  combined_data_2= pd.concat(sheet_dict.values(), ignore_index= True)\n"
     ]
    },
    {
     "name": "stdout",
     "output_type": "stream",
     "text": [
      "MANA\n"
     ]
    },
    {
     "name": "stderr",
     "output_type": "stream",
     "text": [
      "C:\\Users\\anous\\AppData\\Local\\Temp\\ipykernel_6572\\1427761643.py:6: FutureWarning: The behavior of DataFrame concatenation with empty or all-NA entries is deprecated. In a future version, this will no longer exclude empty or all-NA columns when determining the result dtypes. To retain the old behavior, exclude the relevant entries before the concat operation.\n",
      "  combined_data_2= pd.concat(sheet_dict.values(), ignore_index= True)\n"
     ]
    },
    {
     "name": "stdout",
     "output_type": "stream",
     "text": [
      "MONO\n",
      "NACE\n",
      "PRWI\n",
      "ROCR\n",
      "WOTR\n",
      "     Admin_Unit_Code Sub_Unit_Code  Plot_Name Location_Type  Year       Date  \\\n",
      "0               ANTI           NaN  ANTI-0054     Grassland  2018 2018-05-22   \n",
      "1               ANTI           NaN  ANTI-0054     Grassland  2018 2018-05-22   \n",
      "2               ANTI           NaN  ANTI-0054     Grassland  2018 2018-05-22   \n",
      "3               ANTI           NaN  ANTI-0054     Grassland  2018 2018-05-22   \n",
      "4               ANTI           NaN  ANTI-0054     Grassland  2018 2018-05-22   \n",
      "...              ...           ...        ...           ...   ...        ...   \n",
      "8526            MONO           NaN  MONO-0089     Grassland  2018 2018-05-10   \n",
      "8527            MONO           NaN  MONO-0089     Grassland  2018 2018-05-10   \n",
      "8528            MONO           NaN  MONO-0089     Grassland  2018 2018-05-10   \n",
      "8529            MONO           NaN  MONO-0089     Grassland  2018 2018-05-10   \n",
      "8530            MONO           NaN  MONO-0089     Grassland  2018 2018-05-10   \n",
      "\n",
      "     Start_Time  End_Time          Observer Visit  ... AOU_Code  \\\n",
      "0      05:35:00  05:45:00  Elizabeth Oswald     1  ...     CHSP   \n",
      "1      05:35:00  05:45:00  Elizabeth Oswald     1  ...     EABL   \n",
      "2      05:35:00  05:45:00  Elizabeth Oswald     1  ...     GRSP   \n",
      "3      05:35:00  05:45:00  Elizabeth Oswald     1  ...     EABL   \n",
      "4      05:35:00  05:45:00  Elizabeth Oswald     1  ...     FISP   \n",
      "...         ...       ...               ...   ...  ...      ...   \n",
      "8526   06:35:00  06:46:00    Brian Swimelar     1  ...     EUST   \n",
      "8527   06:35:00  06:46:00    Brian Swimelar     1  ...     EUST   \n",
      "8528   06:35:00  06:46:00    Brian Swimelar     1  ...     EUST   \n",
      "8529   06:35:00  06:46:00    Brian Swimelar     1  ...     EUST   \n",
      "8530   06:35:00  06:46:00    Brian Swimelar     1  ...     EUST   \n",
      "\n",
      "     PIF_Watchlist_Status Regional_Stewardship_Status Temperature Humidity  \\\n",
      "0                   False                       False        20.0     79.0   \n",
      "1                   False                       False        20.0     79.0   \n",
      "2                   False                       False        20.0     79.0   \n",
      "3                   False                       False        20.0     79.0   \n",
      "4                   False                        True        20.0     79.0   \n",
      "...                   ...                         ...         ...      ...   \n",
      "8526                False                       False        19.0     63.0   \n",
      "8527                False                       False        19.0     63.0   \n",
      "8528                False                       False        19.0     63.0   \n",
      "8529                False                       False        19.0     63.0   \n",
      "8530                False                       False        19.0     63.0   \n",
      "\n",
      "                  Sky                                       Wind  \\\n",
      "0     Cloudy/Overcast   Light breeze (4-7 mph) wind felt on face   \n",
      "1     Cloudy/Overcast   Light breeze (4-7 mph) wind felt on face   \n",
      "2     Cloudy/Overcast   Light breeze (4-7 mph) wind felt on face   \n",
      "3     Cloudy/Overcast   Light breeze (4-7 mph) wind felt on face   \n",
      "4     Cloudy/Overcast   Light breeze (4-7 mph) wind felt on face   \n",
      "...               ...                                        ...   \n",
      "8526    Partly Cloudy  Light air movement (1-3 mph) smoke drifts   \n",
      "8527    Partly Cloudy  Light air movement (1-3 mph) smoke drifts   \n",
      "8528    Partly Cloudy  Light air movement (1-3 mph) smoke drifts   \n",
      "8529    Partly Cloudy  Light air movement (1-3 mph) smoke drifts   \n",
      "8530    Partly Cloudy  Light air movement (1-3 mph) smoke drifts   \n",
      "\n",
      "                 Disturbance  Previously_Obs Initial_Three_Min_Cnt  \n",
      "0     Slight effect on count           False                  True  \n",
      "1     Slight effect on count           False                 False  \n",
      "2     Slight effect on count           False                  True  \n",
      "3     Slight effect on count           False                  True  \n",
      "4     Slight effect on count           False                  True  \n",
      "...                      ...             ...                   ...  \n",
      "8526  Slight effect on count           False                 False  \n",
      "8527  Slight effect on count           False                 False  \n",
      "8528  Slight effect on count           False                 False  \n",
      "8529  Slight effect on count           False                 False  \n",
      "8530  Slight effect on count           False                 False  \n",
      "\n",
      "[8531 rows x 29 columns]\n"
     ]
    },
    {
     "name": "stderr",
     "output_type": "stream",
     "text": [
      "C:\\Users\\anous\\AppData\\Local\\Temp\\ipykernel_6572\\1427761643.py:6: FutureWarning: The behavior of DataFrame concatenation with empty or all-NA entries is deprecated. In a future version, this will no longer exclude empty or all-NA columns when determining the result dtypes. To retain the old behavior, exclude the relevant entries before the concat operation.\n",
      "  combined_data_2= pd.concat(sheet_dict.values(), ignore_index= True)\n",
      "C:\\Users\\anous\\AppData\\Local\\Temp\\ipykernel_6572\\1427761643.py:6: FutureWarning: The behavior of DataFrame concatenation with empty or all-NA entries is deprecated. In a future version, this will no longer exclude empty or all-NA columns when determining the result dtypes. To retain the old behavior, exclude the relevant entries before the concat operation.\n",
      "  combined_data_2= pd.concat(sheet_dict.values(), ignore_index= True)\n",
      "C:\\Users\\anous\\AppData\\Local\\Temp\\ipykernel_6572\\1427761643.py:6: FutureWarning: The behavior of DataFrame concatenation with empty or all-NA entries is deprecated. In a future version, this will no longer exclude empty or all-NA columns when determining the result dtypes. To retain the old behavior, exclude the relevant entries before the concat operation.\n",
      "  combined_data_2= pd.concat(sheet_dict.values(), ignore_index= True)\n",
      "C:\\Users\\anous\\AppData\\Local\\Temp\\ipykernel_6572\\1427761643.py:6: FutureWarning: The behavior of DataFrame concatenation with empty or all-NA entries is deprecated. In a future version, this will no longer exclude empty or all-NA columns when determining the result dtypes. To retain the old behavior, exclude the relevant entries before the concat operation.\n",
      "  combined_data_2= pd.concat(sheet_dict.values(), ignore_index= True)\n",
      "C:\\Users\\anous\\AppData\\Local\\Temp\\ipykernel_6572\\1427761643.py:6: FutureWarning: The behavior of DataFrame concatenation with empty or all-NA entries is deprecated. In a future version, this will no longer exclude empty or all-NA columns when determining the result dtypes. To retain the old behavior, exclude the relevant entries before the concat operation.\n",
      "  combined_data_2= pd.concat(sheet_dict.values(), ignore_index= True)\n"
     ]
    }
   ],
   "source": [
    "# Read data from all sheets into a dictionary\n",
    "sheet_dict= {}\n",
    "for sheet_name in sheet_names:\n",
    "    sheet_dict[sheet_name]= excel_data.parse(sheet_name)\n",
    "    print(sheet_name)\n",
    "    combined_data_2= pd.concat(sheet_dict.values(), ignore_index= True)\n",
    "print(combined_data_2)"
   ]
  },
  {
   "cell_type": "code",
   "execution_count": 11,
   "id": "b2b80e39",
   "metadata": {},
   "outputs": [],
   "source": [
    "merged_df = pd.merge(combined_data_1, combined_data_2, on='AcceptedTSN', how='outer', suffixes=('_forest', '_grassland'))"
   ]
  },
  {
   "cell_type": "code",
   "execution_count": 12,
   "id": "b0f9bc0d",
   "metadata": {},
   "outputs": [
    {
     "name": "stdout",
     "output_type": "stream",
     "text": [
      "<class 'pandas.core.frame.DataFrame'>\n",
      "RangeIndex: 1339774 entries, 0 to 1339773\n",
      "Data columns (total 57 columns):\n",
      " #   Column                                 Non-Null Count    Dtype         \n",
      "---  ------                                 --------------    -----         \n",
      " 0   Admin_Unit_Code_forest                 1339501 non-null  object        \n",
      " 1   Sub_Unit_Code_forest                   141219 non-null   object        \n",
      " 2   Site_Name                              1339501 non-null  object        \n",
      " 3   Plot_Name_forest                       1339501 non-null  object        \n",
      " 4   Location_Type_forest                   1339501 non-null  object        \n",
      " 5   Year_forest                            1339501 non-null  float64       \n",
      " 6   Date_forest                            1339501 non-null  datetime64[ns]\n",
      " 7   Start_Time_forest                      1339501 non-null  object        \n",
      " 8   End_Time_forest                        1339501 non-null  object        \n",
      " 9   Observer_forest                        1339501 non-null  object        \n",
      " 10  Visit_forest                           1339501 non-null  float64       \n",
      " 11  Interval_Length_forest                 1339501 non-null  object        \n",
      " 12  ID_Method_forest                       1339456 non-null  object        \n",
      " 13  Distance_forest                        1324868 non-null  object        \n",
      " 14  Flyover_Observed_forest                1339501 non-null  object        \n",
      " 15  Sex_forest                             354384 non-null   object        \n",
      " 16  Common_Name_forest                     1339501 non-null  object        \n",
      " 17  Scientific_Name_forest                 1339501 non-null  object        \n",
      " 18  AcceptedTSN                            1339558 non-null  float64       \n",
      " 19  NPSTaxonCode                           1339501 non-null  float64       \n",
      " 20  AOU_Code_forest                        1339501 non-null  object        \n",
      " 21  PIF_Watchlist_Status_forest            1339501 non-null  object        \n",
      " 22  Regional_Stewardship_Status_forest     1339501 non-null  object        \n",
      " 23  Temperature_forest                     1339501 non-null  float64       \n",
      " 24  Humidity_forest                        1339501 non-null  float64       \n",
      " 25  Sky_forest                             1339501 non-null  object        \n",
      " 26  Wind_forest                            1339501 non-null  object        \n",
      " 27  Disturbance_forest                     1339501 non-null  object        \n",
      " 28  Initial_Three_Min_Cnt_forest           1339501 non-null  object        \n",
      " 29  Admin_Unit_Code_grassland              1339583 non-null  object        \n",
      " 30  Sub_Unit_Code_grassland                0 non-null        object        \n",
      " 31  Plot_Name_grassland                    1339583 non-null  object        \n",
      " 32  Location_Type_grassland                1339583 non-null  object        \n",
      " 33  Year_grassland                         1339583 non-null  object        \n",
      " 34  Date_grassland                         1339583 non-null  datetime64[ns]\n",
      " 35  Start_Time_grassland                   1339583 non-null  object        \n",
      " 36  End_Time_grassland                     1339583 non-null  object        \n",
      " 37  Observer_grassland                     1339583 non-null  object        \n",
      " 38  Visit_grassland                        1339583 non-null  object        \n",
      " 39  Interval_Length_grassland              1339583 non-null  object        \n",
      " 40  ID_Method_grassland                    1339441 non-null  object        \n",
      " 41  Distance_grassland                     1265636 non-null  object        \n",
      " 42  Flyover_Observed_grassland             1339583 non-null  object        \n",
      " 43  Sex_grassland                          1339583 non-null  object        \n",
      " 44  Common_Name_grassland                  1339583 non-null  object        \n",
      " 45  Scientific_Name_grassland              1339583 non-null  object        \n",
      " 46  TaxonCode                              1339581 non-null  float64       \n",
      " 47  AOU_Code_grassland                     1339583 non-null  object        \n",
      " 48  PIF_Watchlist_Status_grassland         1339583 non-null  object        \n",
      " 49  Regional_Stewardship_Status_grassland  1339583 non-null  object        \n",
      " 50  Temperature_grassland                  1339583 non-null  float64       \n",
      " 51  Humidity_grassland                     1339583 non-null  float64       \n",
      " 52  Sky_grassland                          1339583 non-null  object        \n",
      " 53  Wind_grassland                         1339583 non-null  object        \n",
      " 54  Disturbance_grassland                  1339583 non-null  object        \n",
      " 55  Previously_Obs                         1339583 non-null  object        \n",
      " 56  Initial_Three_Min_Cnt_grassland        1339583 non-null  object        \n",
      "dtypes: datetime64[ns](2), float64(9), object(46)\n",
      "memory usage: 582.6+ MB\n"
     ]
    }
   ],
   "source": [
    "merged_df.info()"
   ]
  },
  {
   "cell_type": "markdown",
   "id": "cbcbaf5f",
   "metadata": {},
   "source": [
    "##### Change the datatype to correct datatypes"
   ]
  },
  {
   "cell_type": "code",
   "execution_count": 13,
   "id": "e8c838c3",
   "metadata": {},
   "outputs": [],
   "source": [
    "# change datatypes\n",
    "merged_df['Date_forest']= pd.to_datetime(merged_df['Date_forest'], format='%Y-%m-%d', errors= 'coerce')\n",
    "merged_df['Date_grassland']= pd.to_datetime(merged_df['Date_grassland'], format='%Y-%m-%d', errors= 'coerce')\n",
    "merged_df['Start_Time_forest']= pd.to_datetime(merged_df['Start_Time_forest'], format='%H:%M:%S', errors= 'coerce').dt.time\n",
    "merged_df['End_Time_forest']= pd.to_datetime(merged_df['End_Time_forest'], format='%H:%M:%S', errors= 'coerce').dt.time\n",
    "merged_df['Start_Time_grassland']= pd.to_datetime(merged_df['Start_Time_grassland'], format='%H:%M:%S', errors= 'coerce').dt.time\n",
    "merged_df['End_Time_grassland']= pd.to_datetime(merged_df['End_Time_grassland'], format='%H:%M:%S', errors= 'coerce').dt.time"
   ]
  },
  {
   "cell_type": "code",
   "execution_count": 14,
   "id": "4008ab99",
   "metadata": {},
   "outputs": [
    {
     "name": "stdout",
     "output_type": "stream",
     "text": [
      "  Admin_Unit_Code_forest Sub_Unit_Code_forest Site_Name Plot_Name_forest  \\\n",
      "0                   CHOH                  NaN   CHOH 18        CHOH-1319   \n",
      "1                   CHOH                  NaN   CHOH 18        CHOH-1256   \n",
      "2                   CHOH                  NaN   CHOH 17        CHOH-1241   \n",
      "3                   GWMP                  NaN    GWMP 5        GWMP-0200   \n",
      "4                   GWMP                  NaN    GWMP 5        GWMP-0200   \n",
      "\n",
      "  Location_Type_forest  Year_forest Date_forest Start_Time_forest  \\\n",
      "0               Forest       2018.0  2018-06-13          09:16:00   \n",
      "1               Forest       2018.0  2018-06-13          08:17:00   \n",
      "2               Forest       2018.0  2018-06-13          07:43:00   \n",
      "3               Forest       2018.0  2018-05-30          07:44:00   \n",
      "4               Forest       2018.0  2018-05-30          07:44:00   \n",
      "\n",
      "  End_Time_forest   Observer_forest  ...  AOU_Code_grassland  \\\n",
      "0        09:26:00  Elizabeth Oswald  ...                 NaN   \n",
      "1        08:27:00  Elizabeth Oswald  ...                 NaN   \n",
      "2        07:53:00  Elizabeth Oswald  ...                 NaN   \n",
      "3        07:54:00    Kimberly Serno  ...                 NaN   \n",
      "4        07:54:00    Kimberly Serno  ...                 NaN   \n",
      "\n",
      "  PIF_Watchlist_Status_grassland Regional_Stewardship_Status_grassland  \\\n",
      "0                            NaN                                   NaN   \n",
      "1                            NaN                                   NaN   \n",
      "2                            NaN                                   NaN   \n",
      "3                            NaN                                   NaN   \n",
      "4                            NaN                                   NaN   \n",
      "\n",
      "  Temperature_grassland Humidity_grassland Sky_grassland Wind_grassland  \\\n",
      "0                   NaN                NaN           NaN            NaN   \n",
      "1                   NaN                NaN           NaN            NaN   \n",
      "2                   NaN                NaN           NaN            NaN   \n",
      "3                   NaN                NaN           NaN            NaN   \n",
      "4                   NaN                NaN           NaN            NaN   \n",
      "\n",
      "  Disturbance_grassland  Previously_Obs  Initial_Three_Min_Cnt_grassland  \n",
      "0                   NaN             NaN                              NaN  \n",
      "1                   NaN             NaN                              NaN  \n",
      "2                   NaN             NaN                              NaN  \n",
      "3                   NaN             NaN                              NaN  \n",
      "4                   NaN             NaN                              NaN  \n",
      "\n",
      "[5 rows x 57 columns]\n"
     ]
    }
   ],
   "source": [
    "# First 5 heads of data\n",
    "print(merged_df.head(5))"
   ]
  },
  {
   "cell_type": "markdown",
   "id": "7f5665c8",
   "metadata": {},
   "source": [
    "##### Checking null values"
   ]
  },
  {
   "cell_type": "code",
   "execution_count": 15,
   "id": "44a4dec6",
   "metadata": {
    "lines_to_next_cell": 2
   },
   "outputs": [
    {
     "data": {
      "text/plain": [
       "Admin_Unit_Code_forest                       273\n",
       "Sub_Unit_Code_forest                     1198555\n",
       "Site_Name                                    273\n",
       "Plot_Name_forest                             273\n",
       "Location_Type_forest                         273\n",
       "Year_forest                                  273\n",
       "Date_forest                                  273\n",
       "Start_Time_forest                            273\n",
       "End_Time_forest                              273\n",
       "Observer_forest                              273\n",
       "Visit_forest                                 273\n",
       "Interval_Length_forest                       273\n",
       "ID_Method_forest                             318\n",
       "Distance_forest                            14906\n",
       "Flyover_Observed_forest                      273\n",
       "Sex_forest                                985390\n",
       "Common_Name_forest                           273\n",
       "Scientific_Name_forest                       273\n",
       "AcceptedTSN                                  216\n",
       "NPSTaxonCode                                 273\n",
       "AOU_Code_forest                              273\n",
       "PIF_Watchlist_Status_forest                  273\n",
       "Regional_Stewardship_Status_forest           273\n",
       "Temperature_forest                           273\n",
       "Humidity_forest                              273\n",
       "Sky_forest                                   273\n",
       "Wind_forest                                  273\n",
       "Disturbance_forest                           273\n",
       "Initial_Three_Min_Cnt_forest                 273\n",
       "Admin_Unit_Code_grassland                    191\n",
       "Sub_Unit_Code_grassland                  1339774\n",
       "Plot_Name_grassland                          191\n",
       "Location_Type_grassland                      191\n",
       "Year_grassland                               191\n",
       "Date_grassland                               191\n",
       "Start_Time_grassland                         191\n",
       "End_Time_grassland                           191\n",
       "Observer_grassland                           191\n",
       "Visit_grassland                              191\n",
       "Interval_Length_grassland                    191\n",
       "ID_Method_grassland                          333\n",
       "Distance_grassland                         74138\n",
       "Flyover_Observed_grassland                   191\n",
       "Sex_grassland                                191\n",
       "Common_Name_grassland                        191\n",
       "Scientific_Name_grassland                    191\n",
       "TaxonCode                                    193\n",
       "AOU_Code_grassland                           191\n",
       "PIF_Watchlist_Status_grassland               191\n",
       "Regional_Stewardship_Status_grassland        191\n",
       "Temperature_grassland                        191\n",
       "Humidity_grassland                           191\n",
       "Sky_grassland                                191\n",
       "Wind_grassland                               191\n",
       "Disturbance_grassland                        191\n",
       "Previously_Obs                               191\n",
       "Initial_Three_Min_Cnt_grassland              191\n",
       "dtype: int64"
      ]
     },
     "execution_count": 15,
     "metadata": {},
     "output_type": "execute_result"
    }
   ],
   "source": [
    "merged_df.isnull().sum()"
   ]
  },
  {
   "cell_type": "markdown",
   "id": "f6dbf583",
   "metadata": {},
   "source": [
    "##### Repalcing numerical columns null values with 0"
   ]
  },
  {
   "cell_type": "code",
   "execution_count": 16,
   "id": "0c8b8a2f",
   "metadata": {},
   "outputs": [],
   "source": [
    "# Fill numerical columns with 0\n",
    "numerical_cols = merged_df.select_dtypes(include=['number']).columns\n",
    "merged_df[numerical_cols] = merged_df[numerical_cols].fillna(0)"
   ]
  },
  {
   "cell_type": "markdown",
   "id": "4f7c4424",
   "metadata": {},
   "source": [
    "##### Replacing categorical columns null values with unknown"
   ]
  },
  {
   "cell_type": "code",
   "execution_count": 17,
   "id": "1627fa5a",
   "metadata": {},
   "outputs": [],
   "source": [
    "# Fill object/categorical columns with 'Unknown'\n",
    "object_cols = merged_df.select_dtypes(include=['object']).columns\n",
    "merged_df[object_cols] = merged_df[object_cols].fillna('Unknown')"
   ]
  },
  {
   "cell_type": "code",
   "execution_count": 18,
   "id": "adda4162",
   "metadata": {},
   "outputs": [
    {
     "name": "stdout",
     "output_type": "stream",
     "text": [
      "Missing values after filling:\n",
      "Admin_Unit_Code_forest                     0\n",
      "Sub_Unit_Code_forest                       0\n",
      "Site_Name                                  0\n",
      "Plot_Name_forest                           0\n",
      "Location_Type_forest                       0\n",
      "Year_forest                                0\n",
      "Date_forest                              273\n",
      "Start_Time_forest                          0\n",
      "End_Time_forest                            0\n",
      "Observer_forest                            0\n",
      "Visit_forest                               0\n",
      "Interval_Length_forest                     0\n",
      "ID_Method_forest                           0\n",
      "Distance_forest                            0\n",
      "Flyover_Observed_forest                    0\n",
      "Sex_forest                                 0\n",
      "Common_Name_forest                         0\n",
      "Scientific_Name_forest                     0\n",
      "AcceptedTSN                                0\n",
      "NPSTaxonCode                               0\n",
      "AOU_Code_forest                            0\n",
      "PIF_Watchlist_Status_forest                0\n",
      "Regional_Stewardship_Status_forest         0\n",
      "Temperature_forest                         0\n",
      "Humidity_forest                            0\n",
      "Sky_forest                                 0\n",
      "Wind_forest                                0\n",
      "Disturbance_forest                         0\n",
      "Initial_Three_Min_Cnt_forest               0\n",
      "Admin_Unit_Code_grassland                  0\n",
      "Sub_Unit_Code_grassland                    0\n",
      "Plot_Name_grassland                        0\n",
      "Location_Type_grassland                    0\n",
      "Year_grassland                             0\n",
      "Date_grassland                           191\n",
      "Start_Time_grassland                       0\n",
      "End_Time_grassland                         0\n",
      "Observer_grassland                         0\n",
      "Visit_grassland                            0\n",
      "Interval_Length_grassland                  0\n",
      "ID_Method_grassland                        0\n",
      "Distance_grassland                         0\n",
      "Flyover_Observed_grassland                 0\n",
      "Sex_grassland                              0\n",
      "Common_Name_grassland                      0\n",
      "Scientific_Name_grassland                  0\n",
      "TaxonCode                                  0\n",
      "AOU_Code_grassland                         0\n",
      "PIF_Watchlist_Status_grassland             0\n",
      "Regional_Stewardship_Status_grassland      0\n",
      "Temperature_grassland                      0\n",
      "Humidity_grassland                         0\n",
      "Sky_grassland                              0\n",
      "Wind_grassland                             0\n",
      "Disturbance_grassland                      0\n",
      "Previously_Obs                             0\n",
      "Initial_Three_Min_Cnt_grassland            0\n",
      "dtype: int64\n"
     ]
    }
   ],
   "source": [
    "print(\"Missing values after filling:\")\n",
    "print(merged_df.isnull().sum())"
   ]
  },
  {
   "cell_type": "markdown",
   "id": "b4b34627",
   "metadata": {},
   "source": [
    "##### Descriptive analysis"
   ]
  },
  {
   "cell_type": "code",
   "execution_count": 19,
   "id": "8adee276",
   "metadata": {},
   "outputs": [
    {
     "name": "stdout",
     "output_type": "stream",
     "text": [
      "\n",
      "-- Descriptive Aanlysis--\n"
     ]
    },
    {
     "data": {
      "text/html": [
       "<div>\n",
       "<style scoped>\n",
       "    .dataframe tbody tr th:only-of-type {\n",
       "        vertical-align: middle;\n",
       "    }\n",
       "\n",
       "    .dataframe tbody tr th {\n",
       "        vertical-align: top;\n",
       "    }\n",
       "\n",
       "    .dataframe thead th {\n",
       "        text-align: right;\n",
       "    }\n",
       "</style>\n",
       "<table border=\"1\" class=\"dataframe\">\n",
       "  <thead>\n",
       "    <tr style=\"text-align: right;\">\n",
       "      <th></th>\n",
       "      <th>Year_forest</th>\n",
       "      <th>Date_forest</th>\n",
       "      <th>Visit_forest</th>\n",
       "      <th>AcceptedTSN</th>\n",
       "      <th>NPSTaxonCode</th>\n",
       "      <th>Temperature_forest</th>\n",
       "      <th>Humidity_forest</th>\n",
       "      <th>Date_grassland</th>\n",
       "      <th>TaxonCode</th>\n",
       "      <th>Temperature_grassland</th>\n",
       "      <th>Humidity_grassland</th>\n",
       "    </tr>\n",
       "  </thead>\n",
       "  <tbody>\n",
       "    <tr>\n",
       "      <th>count</th>\n",
       "      <td>1.339774e+06</td>\n",
       "      <td>1339501</td>\n",
       "      <td>1.339774e+06</td>\n",
       "      <td>1.339774e+06</td>\n",
       "      <td>1.339774e+06</td>\n",
       "      <td>1.339774e+06</td>\n",
       "      <td>1.339774e+06</td>\n",
       "      <td>1339583</td>\n",
       "      <td>1.339774e+06</td>\n",
       "      <td>1.339774e+06</td>\n",
       "      <td>1.339774e+06</td>\n",
       "    </tr>\n",
       "    <tr>\n",
       "      <th>mean</th>\n",
       "      <td>2.017589e+03</td>\n",
       "      <td>2018-06-12 04:43:57.202958336</td>\n",
       "      <td>1.503507e+00</td>\n",
       "      <td>2.163369e+05</td>\n",
       "      <td>1.085801e+05</td>\n",
       "      <td>2.172861e+01</td>\n",
       "      <td>7.716580e+01</td>\n",
       "      <td>2018-06-15 01:41:13.940324352</td>\n",
       "      <td>1.085157e+05</td>\n",
       "      <td>2.316243e+01</td>\n",
       "      <td>7.021442e+01</td>\n",
       "    </tr>\n",
       "    <tr>\n",
       "      <th>min</th>\n",
       "      <td>0.000000e+00</td>\n",
       "      <td>2018-05-07 00:00:00</td>\n",
       "      <td>0.000000e+00</td>\n",
       "      <td>0.000000e+00</td>\n",
       "      <td>0.000000e+00</td>\n",
       "      <td>0.000000e+00</td>\n",
       "      <td>0.000000e+00</td>\n",
       "      <td>2018-05-07 00:00:00</td>\n",
       "      <td>0.000000e+00</td>\n",
       "      <td>0.000000e+00</td>\n",
       "      <td>0.000000e+00</td>\n",
       "    </tr>\n",
       "    <tr>\n",
       "      <th>25%</th>\n",
       "      <td>2.018000e+03</td>\n",
       "      <td>2018-05-26 00:00:00</td>\n",
       "      <td>1.000000e+00</td>\n",
       "      <td>1.785810e+05</td>\n",
       "      <td>8.713600e+04</td>\n",
       "      <td>1.940000e+01</td>\n",
       "      <td>7.150000e+01</td>\n",
       "      <td>2018-05-23 00:00:00</td>\n",
       "      <td>8.713600e+04</td>\n",
       "      <td>2.010000e+01</td>\n",
       "      <td>6.280000e+01</td>\n",
       "    </tr>\n",
       "    <tr>\n",
       "      <th>50%</th>\n",
       "      <td>2.018000e+03</td>\n",
       "      <td>2018-06-13 00:00:00</td>\n",
       "      <td>2.000000e+00</td>\n",
       "      <td>1.791240e+05</td>\n",
       "      <td>9.358700e+04</td>\n",
       "      <td>2.190000e+01</td>\n",
       "      <td>7.830000e+01</td>\n",
       "      <td>2018-06-19 00:00:00</td>\n",
       "      <td>9.358700e+04</td>\n",
       "      <td>2.280000e+01</td>\n",
       "      <td>7.090000e+01</td>\n",
       "    </tr>\n",
       "    <tr>\n",
       "      <th>75%</th>\n",
       "      <td>2.018000e+03</td>\n",
       "      <td>2018-06-30 00:00:00</td>\n",
       "      <td>2.000000e+00</td>\n",
       "      <td>1.794350e+05</td>\n",
       "      <td>9.422800e+04</td>\n",
       "      <td>2.400000e+01</td>\n",
       "      <td>8.410000e+01</td>\n",
       "      <td>2018-07-13 00:00:00</td>\n",
       "      <td>9.422800e+04</td>\n",
       "      <td>2.630000e+01</td>\n",
       "      <td>8.060000e+01</td>\n",
       "    </tr>\n",
       "    <tr>\n",
       "      <th>max</th>\n",
       "      <td>2.018000e+03</td>\n",
       "      <td>2018-07-15 00:00:00</td>\n",
       "      <td>2.000000e+00</td>\n",
       "      <td>9.501060e+05</td>\n",
       "      <td>9.269170e+05</td>\n",
       "      <td>3.440000e+01</td>\n",
       "      <td>9.790000e+01</td>\n",
       "      <td>2018-07-19 00:00:00</td>\n",
       "      <td>9.269170e+05</td>\n",
       "      <td>3.730000e+01</td>\n",
       "      <td>9.880000e+01</td>\n",
       "    </tr>\n",
       "    <tr>\n",
       "      <th>std</th>\n",
       "      <td>2.880332e+01</td>\n",
       "      <td>NaN</td>\n",
       "      <td>5.003953e-01</td>\n",
       "      <td>1.143888e+05</td>\n",
       "      <td>6.059608e+04</td>\n",
       "      <td>3.625755e+00</td>\n",
       "      <td>9.513079e+00</td>\n",
       "      <td>NaN</td>\n",
       "      <td>6.021454e+04</td>\n",
       "      <td>4.644240e+00</td>\n",
       "      <td>1.334796e+01</td>\n",
       "    </tr>\n",
       "  </tbody>\n",
       "</table>\n",
       "</div>"
      ],
      "text/plain": [
       "        Year_forest                    Date_forest  Visit_forest  \\\n",
       "count  1.339774e+06                        1339501  1.339774e+06   \n",
       "mean   2.017589e+03  2018-06-12 04:43:57.202958336  1.503507e+00   \n",
       "min    0.000000e+00            2018-05-07 00:00:00  0.000000e+00   \n",
       "25%    2.018000e+03            2018-05-26 00:00:00  1.000000e+00   \n",
       "50%    2.018000e+03            2018-06-13 00:00:00  2.000000e+00   \n",
       "75%    2.018000e+03            2018-06-30 00:00:00  2.000000e+00   \n",
       "max    2.018000e+03            2018-07-15 00:00:00  2.000000e+00   \n",
       "std    2.880332e+01                            NaN  5.003953e-01   \n",
       "\n",
       "        AcceptedTSN  NPSTaxonCode  Temperature_forest  Humidity_forest  \\\n",
       "count  1.339774e+06  1.339774e+06        1.339774e+06     1.339774e+06   \n",
       "mean   2.163369e+05  1.085801e+05        2.172861e+01     7.716580e+01   \n",
       "min    0.000000e+00  0.000000e+00        0.000000e+00     0.000000e+00   \n",
       "25%    1.785810e+05  8.713600e+04        1.940000e+01     7.150000e+01   \n",
       "50%    1.791240e+05  9.358700e+04        2.190000e+01     7.830000e+01   \n",
       "75%    1.794350e+05  9.422800e+04        2.400000e+01     8.410000e+01   \n",
       "max    9.501060e+05  9.269170e+05        3.440000e+01     9.790000e+01   \n",
       "std    1.143888e+05  6.059608e+04        3.625755e+00     9.513079e+00   \n",
       "\n",
       "                      Date_grassland     TaxonCode  Temperature_grassland  \\\n",
       "count                        1339583  1.339774e+06           1.339774e+06   \n",
       "mean   2018-06-15 01:41:13.940324352  1.085157e+05           2.316243e+01   \n",
       "min              2018-05-07 00:00:00  0.000000e+00           0.000000e+00   \n",
       "25%              2018-05-23 00:00:00  8.713600e+04           2.010000e+01   \n",
       "50%              2018-06-19 00:00:00  9.358700e+04           2.280000e+01   \n",
       "75%              2018-07-13 00:00:00  9.422800e+04           2.630000e+01   \n",
       "max              2018-07-19 00:00:00  9.269170e+05           3.730000e+01   \n",
       "std                              NaN  6.021454e+04           4.644240e+00   \n",
       "\n",
       "       Humidity_grassland  \n",
       "count        1.339774e+06  \n",
       "mean         7.021442e+01  \n",
       "min          0.000000e+00  \n",
       "25%          6.280000e+01  \n",
       "50%          7.090000e+01  \n",
       "75%          8.060000e+01  \n",
       "max          9.880000e+01  \n",
       "std          1.334796e+01  "
      ]
     },
     "execution_count": 19,
     "metadata": {},
     "output_type": "execute_result"
    }
   ],
   "source": [
    "# Descriptive analysis\n",
    "print('\\n-- Descriptive Aanlysis--')\n",
    "merged_df.describe()"
   ]
  },
  {
   "cell_type": "markdown",
   "id": "2f749850",
   "metadata": {},
   "source": [
    "##### Performing Feature engineering"
   ]
  },
  {
   "cell_type": "code",
   "execution_count": 21,
   "id": "bf4c7b0d",
   "metadata": {},
   "outputs": [],
   "source": [
    "# Extract temporal features from the 'Date_forest' column\n",
    "merged_df['Year'] = merged_df['Date_forest'].dt.year\n",
    "merged_df['Month'] = merged_df['Date_forest'].dt.month\n",
    "merged_df['Season'] = merged_df['Month'].map({\n",
    "    1: 'Winter', 2: 'Winter', 3: 'Spring', 4: 'Spring', 5: 'Spring',\n",
    "    6: 'Summer', 7: 'Summer', 8: 'Summer', 9: 'Autumn', 10: 'Autumn',\n",
    "    11: 'Autumn', 12: 'Winter'\n",
    "})"
   ]
  },
  {
   "cell_type": "code",
   "execution_count": 22,
   "id": "f4006349",
   "metadata": {
    "lines_to_next_cell": 2
   },
   "outputs": [],
   "source": [
    "# Analyze Observation Time\n",
    "# Filter out rows where both Start_Time_forest and Start_Time_grassland are null or 'Unknown'\n",
    "filtered_df = merged_df.dropna(subset=['Start_Time_forest', 'Start_Time_grassland'], how='all')\n",
    "filtered_df = filtered_df[\n",
    "    (filtered_df['Start_Time_forest'] != 'Unknown') |\n",
    "    (filtered_df['Start_Time_grassland'] != 'Unknown')\n",
    "]"
   ]
  },
  {
   "cell_type": "code",
   "execution_count": 23,
   "id": "737e7305",
   "metadata": {
    "lines_to_next_cell": 2
   },
   "outputs": [],
   "source": [
    "# Extract the hour from the start time columns\n",
    "filtered_df['Start_Hour_forest'] = pd.to_datetime(filtered_df['Start_Time_forest'], format='%H:%M:%S', errors='coerce').dt.hour\n",
    "filtered_df['Start_Hour_grassland'] = pd.to_datetime(filtered_df['Start_Time_grassland'], format='%H:%M:%S', errors='coerce').dt.hour"
   ]
  },
  {
   "cell_type": "code",
   "execution_count": 24,
   "id": "161b9df8",
   "metadata": {},
   "outputs": [],
   "source": [
    "# Combine the start hours from both forest and grassland data\n",
    "all_start_hours = pd.concat([filtered_df['Start_Hour_forest'], filtered_df['Start_Hour_grassland']]).dropna()"
   ]
  },
  {
   "cell_type": "code",
   "execution_count": 25,
   "id": "78bed58f",
   "metadata": {},
   "outputs": [],
   "source": [
    "# Analyze the distribution of start hours\n",
    "start_hour_counts = all_start_hours.value_counts().sort_index()"
   ]
  },
  {
   "cell_type": "code",
   "execution_count": 26,
   "id": "ab133ae1",
   "metadata": {},
   "outputs": [
    {
     "name": "stdout",
     "output_type": "stream",
     "text": [
      "Distribution of start hours:\n",
      "5.0     214390\n",
      "6.0     702265\n",
      "7.0     719822\n",
      "8.0     548506\n",
      "9.0     327765\n",
      "10.0    166336\n",
      "Name: count, dtype: int64\n"
     ]
    }
   ],
   "source": [
    "print(\"Distribution of start hours:\")\n",
    "print(start_hour_counts)"
   ]
  },
  {
   "cell_type": "markdown",
   "id": "ef9f0437",
   "metadata": {},
   "source": [
    "####  Let's begin with EDA"
   ]
  },
  {
   "cell_type": "markdown",
   "id": "30727615",
   "metadata": {},
   "source": [
    "#### Line chart visualization for the distribution of birds observation by hours"
   ]
  },
  {
   "cell_type": "code",
   "execution_count": 27,
   "id": "9e4e0413",
   "metadata": {},
   "outputs": [
    {
     "data": {
      "application/vnd.plotly.v1+json": {
       "config": {
        "plotlyServerURL": "https://plot.ly"
       },
       "data": [
        {
         "hovertemplate": "index=%{x}<br>count=%{y}<extra></extra>",
         "legendgroup": "",
         "line": {
          "color": "#636efa",
          "dash": "solid"
         },
         "marker": {
          "symbol": "circle"
         },
         "mode": "lines",
         "name": "",
         "orientation": "v",
         "showlegend": false,
         "type": "scatter",
         "x": {
          "bdata": "AAAAAAAAFEAAAAAAAAAYQAAAAAAAABxAAAAAAAAAIEAAAAAAAAAiQAAAAAAAACRA",
          "dtype": "f8"
         },
         "xaxis": "x",
         "y": {
          "bdata": "dkUDADm3CgDO+woAml4IAFUABQDAiQIA",
          "dtype": "i4"
         },
         "yaxis": "y"
        }
       ],
       "layout": {
        "legend": {
         "tracegroupgap": 0
        },
        "template": {
         "data": {
          "bar": [
           {
            "error_x": {
             "color": "#2a3f5f"
            },
            "error_y": {
             "color": "#2a3f5f"
            },
            "marker": {
             "line": {
              "color": "#E5ECF6",
              "width": 0.5
             },
             "pattern": {
              "fillmode": "overlay",
              "size": 10,
              "solidity": 0.2
             }
            },
            "type": "bar"
           }
          ],
          "barpolar": [
           {
            "marker": {
             "line": {
              "color": "#E5ECF6",
              "width": 0.5
             },
             "pattern": {
              "fillmode": "overlay",
              "size": 10,
              "solidity": 0.2
             }
            },
            "type": "barpolar"
           }
          ],
          "carpet": [
           {
            "aaxis": {
             "endlinecolor": "#2a3f5f",
             "gridcolor": "white",
             "linecolor": "white",
             "minorgridcolor": "white",
             "startlinecolor": "#2a3f5f"
            },
            "baxis": {
             "endlinecolor": "#2a3f5f",
             "gridcolor": "white",
             "linecolor": "white",
             "minorgridcolor": "white",
             "startlinecolor": "#2a3f5f"
            },
            "type": "carpet"
           }
          ],
          "choropleth": [
           {
            "colorbar": {
             "outlinewidth": 0,
             "ticks": ""
            },
            "type": "choropleth"
           }
          ],
          "contour": [
           {
            "colorbar": {
             "outlinewidth": 0,
             "ticks": ""
            },
            "colorscale": [
             [
              0,
              "#0d0887"
             ],
             [
              0.1111111111111111,
              "#46039f"
             ],
             [
              0.2222222222222222,
              "#7201a8"
             ],
             [
              0.3333333333333333,
              "#9c179e"
             ],
             [
              0.4444444444444444,
              "#bd3786"
             ],
             [
              0.5555555555555556,
              "#d8576b"
             ],
             [
              0.6666666666666666,
              "#ed7953"
             ],
             [
              0.7777777777777778,
              "#fb9f3a"
             ],
             [
              0.8888888888888888,
              "#fdca26"
             ],
             [
              1,
              "#f0f921"
             ]
            ],
            "type": "contour"
           }
          ],
          "contourcarpet": [
           {
            "colorbar": {
             "outlinewidth": 0,
             "ticks": ""
            },
            "type": "contourcarpet"
           }
          ],
          "heatmap": [
           {
            "colorbar": {
             "outlinewidth": 0,
             "ticks": ""
            },
            "colorscale": [
             [
              0,
              "#0d0887"
             ],
             [
              0.1111111111111111,
              "#46039f"
             ],
             [
              0.2222222222222222,
              "#7201a8"
             ],
             [
              0.3333333333333333,
              "#9c179e"
             ],
             [
              0.4444444444444444,
              "#bd3786"
             ],
             [
              0.5555555555555556,
              "#d8576b"
             ],
             [
              0.6666666666666666,
              "#ed7953"
             ],
             [
              0.7777777777777778,
              "#fb9f3a"
             ],
             [
              0.8888888888888888,
              "#fdca26"
             ],
             [
              1,
              "#f0f921"
             ]
            ],
            "type": "heatmap"
           }
          ],
          "histogram": [
           {
            "marker": {
             "pattern": {
              "fillmode": "overlay",
              "size": 10,
              "solidity": 0.2
             }
            },
            "type": "histogram"
           }
          ],
          "histogram2d": [
           {
            "colorbar": {
             "outlinewidth": 0,
             "ticks": ""
            },
            "colorscale": [
             [
              0,
              "#0d0887"
             ],
             [
              0.1111111111111111,
              "#46039f"
             ],
             [
              0.2222222222222222,
              "#7201a8"
             ],
             [
              0.3333333333333333,
              "#9c179e"
             ],
             [
              0.4444444444444444,
              "#bd3786"
             ],
             [
              0.5555555555555556,
              "#d8576b"
             ],
             [
              0.6666666666666666,
              "#ed7953"
             ],
             [
              0.7777777777777778,
              "#fb9f3a"
             ],
             [
              0.8888888888888888,
              "#fdca26"
             ],
             [
              1,
              "#f0f921"
             ]
            ],
            "type": "histogram2d"
           }
          ],
          "histogram2dcontour": [
           {
            "colorbar": {
             "outlinewidth": 0,
             "ticks": ""
            },
            "colorscale": [
             [
              0,
              "#0d0887"
             ],
             [
              0.1111111111111111,
              "#46039f"
             ],
             [
              0.2222222222222222,
              "#7201a8"
             ],
             [
              0.3333333333333333,
              "#9c179e"
             ],
             [
              0.4444444444444444,
              "#bd3786"
             ],
             [
              0.5555555555555556,
              "#d8576b"
             ],
             [
              0.6666666666666666,
              "#ed7953"
             ],
             [
              0.7777777777777778,
              "#fb9f3a"
             ],
             [
              0.8888888888888888,
              "#fdca26"
             ],
             [
              1,
              "#f0f921"
             ]
            ],
            "type": "histogram2dcontour"
           }
          ],
          "mesh3d": [
           {
            "colorbar": {
             "outlinewidth": 0,
             "ticks": ""
            },
            "type": "mesh3d"
           }
          ],
          "parcoords": [
           {
            "line": {
             "colorbar": {
              "outlinewidth": 0,
              "ticks": ""
             }
            },
            "type": "parcoords"
           }
          ],
          "pie": [
           {
            "automargin": true,
            "type": "pie"
           }
          ],
          "scatter": [
           {
            "fillpattern": {
             "fillmode": "overlay",
             "size": 10,
             "solidity": 0.2
            },
            "type": "scatter"
           }
          ],
          "scatter3d": [
           {
            "line": {
             "colorbar": {
              "outlinewidth": 0,
              "ticks": ""
             }
            },
            "marker": {
             "colorbar": {
              "outlinewidth": 0,
              "ticks": ""
             }
            },
            "type": "scatter3d"
           }
          ],
          "scattercarpet": [
           {
            "marker": {
             "colorbar": {
              "outlinewidth": 0,
              "ticks": ""
             }
            },
            "type": "scattercarpet"
           }
          ],
          "scattergeo": [
           {
            "marker": {
             "colorbar": {
              "outlinewidth": 0,
              "ticks": ""
             }
            },
            "type": "scattergeo"
           }
          ],
          "scattergl": [
           {
            "marker": {
             "colorbar": {
              "outlinewidth": 0,
              "ticks": ""
             }
            },
            "type": "scattergl"
           }
          ],
          "scattermap": [
           {
            "marker": {
             "colorbar": {
              "outlinewidth": 0,
              "ticks": ""
             }
            },
            "type": "scattermap"
           }
          ],
          "scattermapbox": [
           {
            "marker": {
             "colorbar": {
              "outlinewidth": 0,
              "ticks": ""
             }
            },
            "type": "scattermapbox"
           }
          ],
          "scatterpolar": [
           {
            "marker": {
             "colorbar": {
              "outlinewidth": 0,
              "ticks": ""
             }
            },
            "type": "scatterpolar"
           }
          ],
          "scatterpolargl": [
           {
            "marker": {
             "colorbar": {
              "outlinewidth": 0,
              "ticks": ""
             }
            },
            "type": "scatterpolargl"
           }
          ],
          "scatterternary": [
           {
            "marker": {
             "colorbar": {
              "outlinewidth": 0,
              "ticks": ""
             }
            },
            "type": "scatterternary"
           }
          ],
          "surface": [
           {
            "colorbar": {
             "outlinewidth": 0,
             "ticks": ""
            },
            "colorscale": [
             [
              0,
              "#0d0887"
             ],
             [
              0.1111111111111111,
              "#46039f"
             ],
             [
              0.2222222222222222,
              "#7201a8"
             ],
             [
              0.3333333333333333,
              "#9c179e"
             ],
             [
              0.4444444444444444,
              "#bd3786"
             ],
             [
              0.5555555555555556,
              "#d8576b"
             ],
             [
              0.6666666666666666,
              "#ed7953"
             ],
             [
              0.7777777777777778,
              "#fb9f3a"
             ],
             [
              0.8888888888888888,
              "#fdca26"
             ],
             [
              1,
              "#f0f921"
             ]
            ],
            "type": "surface"
           }
          ],
          "table": [
           {
            "cells": {
             "fill": {
              "color": "#EBF0F8"
             },
             "line": {
              "color": "white"
             }
            },
            "header": {
             "fill": {
              "color": "#C8D4E3"
             },
             "line": {
              "color": "white"
             }
            },
            "type": "table"
           }
          ]
         },
         "layout": {
          "annotationdefaults": {
           "arrowcolor": "#2a3f5f",
           "arrowhead": 0,
           "arrowwidth": 1
          },
          "autotypenumbers": "strict",
          "coloraxis": {
           "colorbar": {
            "outlinewidth": 0,
            "ticks": ""
           }
          },
          "colorscale": {
           "diverging": [
            [
             0,
             "#8e0152"
            ],
            [
             0.1,
             "#c51b7d"
            ],
            [
             0.2,
             "#de77ae"
            ],
            [
             0.3,
             "#f1b6da"
            ],
            [
             0.4,
             "#fde0ef"
            ],
            [
             0.5,
             "#f7f7f7"
            ],
            [
             0.6,
             "#e6f5d0"
            ],
            [
             0.7,
             "#b8e186"
            ],
            [
             0.8,
             "#7fbc41"
            ],
            [
             0.9,
             "#4d9221"
            ],
            [
             1,
             "#276419"
            ]
           ],
           "sequential": [
            [
             0,
             "#0d0887"
            ],
            [
             0.1111111111111111,
             "#46039f"
            ],
            [
             0.2222222222222222,
             "#7201a8"
            ],
            [
             0.3333333333333333,
             "#9c179e"
            ],
            [
             0.4444444444444444,
             "#bd3786"
            ],
            [
             0.5555555555555556,
             "#d8576b"
            ],
            [
             0.6666666666666666,
             "#ed7953"
            ],
            [
             0.7777777777777778,
             "#fb9f3a"
            ],
            [
             0.8888888888888888,
             "#fdca26"
            ],
            [
             1,
             "#f0f921"
            ]
           ],
           "sequentialminus": [
            [
             0,
             "#0d0887"
            ],
            [
             0.1111111111111111,
             "#46039f"
            ],
            [
             0.2222222222222222,
             "#7201a8"
            ],
            [
             0.3333333333333333,
             "#9c179e"
            ],
            [
             0.4444444444444444,
             "#bd3786"
            ],
            [
             0.5555555555555556,
             "#d8576b"
            ],
            [
             0.6666666666666666,
             "#ed7953"
            ],
            [
             0.7777777777777778,
             "#fb9f3a"
            ],
            [
             0.8888888888888888,
             "#fdca26"
            ],
            [
             1,
             "#f0f921"
            ]
           ]
          },
          "colorway": [
           "#636efa",
           "#EF553B",
           "#00cc96",
           "#ab63fa",
           "#FFA15A",
           "#19d3f3",
           "#FF6692",
           "#B6E880",
           "#FF97FF",
           "#FECB52"
          ],
          "font": {
           "color": "#2a3f5f"
          },
          "geo": {
           "bgcolor": "white",
           "lakecolor": "white",
           "landcolor": "#E5ECF6",
           "showlakes": true,
           "showland": true,
           "subunitcolor": "white"
          },
          "hoverlabel": {
           "align": "left"
          },
          "hovermode": "closest",
          "mapbox": {
           "style": "light"
          },
          "paper_bgcolor": "white",
          "plot_bgcolor": "#E5ECF6",
          "polar": {
           "angularaxis": {
            "gridcolor": "white",
            "linecolor": "white",
            "ticks": ""
           },
           "bgcolor": "#E5ECF6",
           "radialaxis": {
            "gridcolor": "white",
            "linecolor": "white",
            "ticks": ""
           }
          },
          "scene": {
           "xaxis": {
            "backgroundcolor": "#E5ECF6",
            "gridcolor": "white",
            "gridwidth": 2,
            "linecolor": "white",
            "showbackground": true,
            "ticks": "",
            "zerolinecolor": "white"
           },
           "yaxis": {
            "backgroundcolor": "#E5ECF6",
            "gridcolor": "white",
            "gridwidth": 2,
            "linecolor": "white",
            "showbackground": true,
            "ticks": "",
            "zerolinecolor": "white"
           },
           "zaxis": {
            "backgroundcolor": "#E5ECF6",
            "gridcolor": "white",
            "gridwidth": 2,
            "linecolor": "white",
            "showbackground": true,
            "ticks": "",
            "zerolinecolor": "white"
           }
          },
          "shapedefaults": {
           "line": {
            "color": "#2a3f5f"
           }
          },
          "ternary": {
           "aaxis": {
            "gridcolor": "white",
            "linecolor": "white",
            "ticks": ""
           },
           "baxis": {
            "gridcolor": "white",
            "linecolor": "white",
            "ticks": ""
           },
           "bgcolor": "#E5ECF6",
           "caxis": {
            "gridcolor": "white",
            "linecolor": "white",
            "ticks": ""
           }
          },
          "title": {
           "x": 0.05
          },
          "xaxis": {
           "automargin": true,
           "gridcolor": "white",
           "linecolor": "white",
           "ticks": "",
           "title": {
            "standoff": 15
           },
           "zerolinecolor": "white",
           "zerolinewidth": 2
          },
          "yaxis": {
           "automargin": true,
           "gridcolor": "white",
           "linecolor": "white",
           "ticks": "",
           "title": {
            "standoff": 15
           },
           "zerolinecolor": "white",
           "zerolinewidth": 2
          }
         }
        },
        "title": {
         "text": "Distribution of Bird Observation Start Hours (Line Chart)"
        },
        "xaxis": {
         "anchor": "y",
         "domain": [
          0,
          1
         ],
         "title": {
          "text": "Hour"
         }
        },
        "yaxis": {
         "anchor": "x",
         "domain": [
          0,
          1
         ],
         "title": {
          "text": "Count"
         }
        }
       }
      }
     },
     "metadata": {},
     "output_type": "display_data"
    }
   ],
   "source": [
    "# Create a line chart for the distribution of start hours\n",
    "fig_start_hour_line = px.line(start_hour_counts, x=start_hour_counts.index, y='count', title='Distribution of Bird Observation Start Hours (Line Chart)')\n",
    "fig_start_hour_line.update_layout(xaxis_title='Hour', yaxis_title='Count')\n",
    "fig_start_hour_line.show()"
   ]
  },
  {
   "cell_type": "markdown",
   "id": "d9a03287",
   "metadata": {},
   "source": [
    "##### Analyzing seasonal trends (summer and spring)"
   ]
  },
  {
   "cell_type": "code",
   "execution_count": 29,
   "id": "d1ee207a",
   "metadata": {},
   "outputs": [
    {
     "name": "stdout",
     "output_type": "stream",
     "text": [
      "   Season  Unique_Species_Count\n",
      "0  Spring                    94\n",
      "1  Summer                    91\n"
     ]
    }
   ],
   "source": [
    "# Analyze seasonal trends\n",
    "seasonal_species_count = merged_df[merged_df['Season'] != 'Unknown'].groupby('Season')['AcceptedTSN'].nunique().reset_index()\n",
    "seasonal_species_count.rename(columns={'AcceptedTSN': 'Unique_Species_Count'}, inplace=True)\n",
    "print(seasonal_species_count)"
   ]
  },
  {
   "cell_type": "markdown",
   "id": "3d331fef",
   "metadata": {},
   "source": [
    "##### Seasonal trends observation of Unique species"
   ]
  },
  {
   "cell_type": "code",
   "execution_count": 30,
   "id": "3dfb1465",
   "metadata": {},
   "outputs": [
    {
     "data": {
      "application/vnd.plotly.v1+json": {
       "config": {
        "plotlyServerURL": "https://plot.ly"
       },
       "data": [
        {
         "hovertemplate": "Season=%{x}<br>Unique_Species_Count=%{y}<extra></extra>",
         "legendgroup": "",
         "marker": {
          "color": "#636efa",
          "pattern": {
           "shape": ""
          }
         },
         "name": "",
         "orientation": "v",
         "showlegend": false,
         "textposition": "auto",
         "type": "bar",
         "x": [
          "Spring",
          "Summer"
         ],
         "xaxis": "x",
         "y": {
          "bdata": "Xls=",
          "dtype": "i1"
         },
         "yaxis": "y"
        }
       ],
       "layout": {
        "barmode": "relative",
        "legend": {
         "tracegroupgap": 0
        },
        "template": {
         "data": {
          "bar": [
           {
            "error_x": {
             "color": "#2a3f5f"
            },
            "error_y": {
             "color": "#2a3f5f"
            },
            "marker": {
             "line": {
              "color": "#E5ECF6",
              "width": 0.5
             },
             "pattern": {
              "fillmode": "overlay",
              "size": 10,
              "solidity": 0.2
             }
            },
            "type": "bar"
           }
          ],
          "barpolar": [
           {
            "marker": {
             "line": {
              "color": "#E5ECF6",
              "width": 0.5
             },
             "pattern": {
              "fillmode": "overlay",
              "size": 10,
              "solidity": 0.2
             }
            },
            "type": "barpolar"
           }
          ],
          "carpet": [
           {
            "aaxis": {
             "endlinecolor": "#2a3f5f",
             "gridcolor": "white",
             "linecolor": "white",
             "minorgridcolor": "white",
             "startlinecolor": "#2a3f5f"
            },
            "baxis": {
             "endlinecolor": "#2a3f5f",
             "gridcolor": "white",
             "linecolor": "white",
             "minorgridcolor": "white",
             "startlinecolor": "#2a3f5f"
            },
            "type": "carpet"
           }
          ],
          "choropleth": [
           {
            "colorbar": {
             "outlinewidth": 0,
             "ticks": ""
            },
            "type": "choropleth"
           }
          ],
          "contour": [
           {
            "colorbar": {
             "outlinewidth": 0,
             "ticks": ""
            },
            "colorscale": [
             [
              0,
              "#0d0887"
             ],
             [
              0.1111111111111111,
              "#46039f"
             ],
             [
              0.2222222222222222,
              "#7201a8"
             ],
             [
              0.3333333333333333,
              "#9c179e"
             ],
             [
              0.4444444444444444,
              "#bd3786"
             ],
             [
              0.5555555555555556,
              "#d8576b"
             ],
             [
              0.6666666666666666,
              "#ed7953"
             ],
             [
              0.7777777777777778,
              "#fb9f3a"
             ],
             [
              0.8888888888888888,
              "#fdca26"
             ],
             [
              1,
              "#f0f921"
             ]
            ],
            "type": "contour"
           }
          ],
          "contourcarpet": [
           {
            "colorbar": {
             "outlinewidth": 0,
             "ticks": ""
            },
            "type": "contourcarpet"
           }
          ],
          "heatmap": [
           {
            "colorbar": {
             "outlinewidth": 0,
             "ticks": ""
            },
            "colorscale": [
             [
              0,
              "#0d0887"
             ],
             [
              0.1111111111111111,
              "#46039f"
             ],
             [
              0.2222222222222222,
              "#7201a8"
             ],
             [
              0.3333333333333333,
              "#9c179e"
             ],
             [
              0.4444444444444444,
              "#bd3786"
             ],
             [
              0.5555555555555556,
              "#d8576b"
             ],
             [
              0.6666666666666666,
              "#ed7953"
             ],
             [
              0.7777777777777778,
              "#fb9f3a"
             ],
             [
              0.8888888888888888,
              "#fdca26"
             ],
             [
              1,
              "#f0f921"
             ]
            ],
            "type": "heatmap"
           }
          ],
          "histogram": [
           {
            "marker": {
             "pattern": {
              "fillmode": "overlay",
              "size": 10,
              "solidity": 0.2
             }
            },
            "type": "histogram"
           }
          ],
          "histogram2d": [
           {
            "colorbar": {
             "outlinewidth": 0,
             "ticks": ""
            },
            "colorscale": [
             [
              0,
              "#0d0887"
             ],
             [
              0.1111111111111111,
              "#46039f"
             ],
             [
              0.2222222222222222,
              "#7201a8"
             ],
             [
              0.3333333333333333,
              "#9c179e"
             ],
             [
              0.4444444444444444,
              "#bd3786"
             ],
             [
              0.5555555555555556,
              "#d8576b"
             ],
             [
              0.6666666666666666,
              "#ed7953"
             ],
             [
              0.7777777777777778,
              "#fb9f3a"
             ],
             [
              0.8888888888888888,
              "#fdca26"
             ],
             [
              1,
              "#f0f921"
             ]
            ],
            "type": "histogram2d"
           }
          ],
          "histogram2dcontour": [
           {
            "colorbar": {
             "outlinewidth": 0,
             "ticks": ""
            },
            "colorscale": [
             [
              0,
              "#0d0887"
             ],
             [
              0.1111111111111111,
              "#46039f"
             ],
             [
              0.2222222222222222,
              "#7201a8"
             ],
             [
              0.3333333333333333,
              "#9c179e"
             ],
             [
              0.4444444444444444,
              "#bd3786"
             ],
             [
              0.5555555555555556,
              "#d8576b"
             ],
             [
              0.6666666666666666,
              "#ed7953"
             ],
             [
              0.7777777777777778,
              "#fb9f3a"
             ],
             [
              0.8888888888888888,
              "#fdca26"
             ],
             [
              1,
              "#f0f921"
             ]
            ],
            "type": "histogram2dcontour"
           }
          ],
          "mesh3d": [
           {
            "colorbar": {
             "outlinewidth": 0,
             "ticks": ""
            },
            "type": "mesh3d"
           }
          ],
          "parcoords": [
           {
            "line": {
             "colorbar": {
              "outlinewidth": 0,
              "ticks": ""
             }
            },
            "type": "parcoords"
           }
          ],
          "pie": [
           {
            "automargin": true,
            "type": "pie"
           }
          ],
          "scatter": [
           {
            "fillpattern": {
             "fillmode": "overlay",
             "size": 10,
             "solidity": 0.2
            },
            "type": "scatter"
           }
          ],
          "scatter3d": [
           {
            "line": {
             "colorbar": {
              "outlinewidth": 0,
              "ticks": ""
             }
            },
            "marker": {
             "colorbar": {
              "outlinewidth": 0,
              "ticks": ""
             }
            },
            "type": "scatter3d"
           }
          ],
          "scattercarpet": [
           {
            "marker": {
             "colorbar": {
              "outlinewidth": 0,
              "ticks": ""
             }
            },
            "type": "scattercarpet"
           }
          ],
          "scattergeo": [
           {
            "marker": {
             "colorbar": {
              "outlinewidth": 0,
              "ticks": ""
             }
            },
            "type": "scattergeo"
           }
          ],
          "scattergl": [
           {
            "marker": {
             "colorbar": {
              "outlinewidth": 0,
              "ticks": ""
             }
            },
            "type": "scattergl"
           }
          ],
          "scattermap": [
           {
            "marker": {
             "colorbar": {
              "outlinewidth": 0,
              "ticks": ""
             }
            },
            "type": "scattermap"
           }
          ],
          "scattermapbox": [
           {
            "marker": {
             "colorbar": {
              "outlinewidth": 0,
              "ticks": ""
             }
            },
            "type": "scattermapbox"
           }
          ],
          "scatterpolar": [
           {
            "marker": {
             "colorbar": {
              "outlinewidth": 0,
              "ticks": ""
             }
            },
            "type": "scatterpolar"
           }
          ],
          "scatterpolargl": [
           {
            "marker": {
             "colorbar": {
              "outlinewidth": 0,
              "ticks": ""
             }
            },
            "type": "scatterpolargl"
           }
          ],
          "scatterternary": [
           {
            "marker": {
             "colorbar": {
              "outlinewidth": 0,
              "ticks": ""
             }
            },
            "type": "scatterternary"
           }
          ],
          "surface": [
           {
            "colorbar": {
             "outlinewidth": 0,
             "ticks": ""
            },
            "colorscale": [
             [
              0,
              "#0d0887"
             ],
             [
              0.1111111111111111,
              "#46039f"
             ],
             [
              0.2222222222222222,
              "#7201a8"
             ],
             [
              0.3333333333333333,
              "#9c179e"
             ],
             [
              0.4444444444444444,
              "#bd3786"
             ],
             [
              0.5555555555555556,
              "#d8576b"
             ],
             [
              0.6666666666666666,
              "#ed7953"
             ],
             [
              0.7777777777777778,
              "#fb9f3a"
             ],
             [
              0.8888888888888888,
              "#fdca26"
             ],
             [
              1,
              "#f0f921"
             ]
            ],
            "type": "surface"
           }
          ],
          "table": [
           {
            "cells": {
             "fill": {
              "color": "#EBF0F8"
             },
             "line": {
              "color": "white"
             }
            },
            "header": {
             "fill": {
              "color": "#C8D4E3"
             },
             "line": {
              "color": "white"
             }
            },
            "type": "table"
           }
          ]
         },
         "layout": {
          "annotationdefaults": {
           "arrowcolor": "#2a3f5f",
           "arrowhead": 0,
           "arrowwidth": 1
          },
          "autotypenumbers": "strict",
          "coloraxis": {
           "colorbar": {
            "outlinewidth": 0,
            "ticks": ""
           }
          },
          "colorscale": {
           "diverging": [
            [
             0,
             "#8e0152"
            ],
            [
             0.1,
             "#c51b7d"
            ],
            [
             0.2,
             "#de77ae"
            ],
            [
             0.3,
             "#f1b6da"
            ],
            [
             0.4,
             "#fde0ef"
            ],
            [
             0.5,
             "#f7f7f7"
            ],
            [
             0.6,
             "#e6f5d0"
            ],
            [
             0.7,
             "#b8e186"
            ],
            [
             0.8,
             "#7fbc41"
            ],
            [
             0.9,
             "#4d9221"
            ],
            [
             1,
             "#276419"
            ]
           ],
           "sequential": [
            [
             0,
             "#0d0887"
            ],
            [
             0.1111111111111111,
             "#46039f"
            ],
            [
             0.2222222222222222,
             "#7201a8"
            ],
            [
             0.3333333333333333,
             "#9c179e"
            ],
            [
             0.4444444444444444,
             "#bd3786"
            ],
            [
             0.5555555555555556,
             "#d8576b"
            ],
            [
             0.6666666666666666,
             "#ed7953"
            ],
            [
             0.7777777777777778,
             "#fb9f3a"
            ],
            [
             0.8888888888888888,
             "#fdca26"
            ],
            [
             1,
             "#f0f921"
            ]
           ],
           "sequentialminus": [
            [
             0,
             "#0d0887"
            ],
            [
             0.1111111111111111,
             "#46039f"
            ],
            [
             0.2222222222222222,
             "#7201a8"
            ],
            [
             0.3333333333333333,
             "#9c179e"
            ],
            [
             0.4444444444444444,
             "#bd3786"
            ],
            [
             0.5555555555555556,
             "#d8576b"
            ],
            [
             0.6666666666666666,
             "#ed7953"
            ],
            [
             0.7777777777777778,
             "#fb9f3a"
            ],
            [
             0.8888888888888888,
             "#fdca26"
            ],
            [
             1,
             "#f0f921"
            ]
           ]
          },
          "colorway": [
           "#636efa",
           "#EF553B",
           "#00cc96",
           "#ab63fa",
           "#FFA15A",
           "#19d3f3",
           "#FF6692",
           "#B6E880",
           "#FF97FF",
           "#FECB52"
          ],
          "font": {
           "color": "#2a3f5f"
          },
          "geo": {
           "bgcolor": "white",
           "lakecolor": "white",
           "landcolor": "#E5ECF6",
           "showlakes": true,
           "showland": true,
           "subunitcolor": "white"
          },
          "hoverlabel": {
           "align": "left"
          },
          "hovermode": "closest",
          "mapbox": {
           "style": "light"
          },
          "paper_bgcolor": "white",
          "plot_bgcolor": "#E5ECF6",
          "polar": {
           "angularaxis": {
            "gridcolor": "white",
            "linecolor": "white",
            "ticks": ""
           },
           "bgcolor": "#E5ECF6",
           "radialaxis": {
            "gridcolor": "white",
            "linecolor": "white",
            "ticks": ""
           }
          },
          "scene": {
           "xaxis": {
            "backgroundcolor": "#E5ECF6",
            "gridcolor": "white",
            "gridwidth": 2,
            "linecolor": "white",
            "showbackground": true,
            "ticks": "",
            "zerolinecolor": "white"
           },
           "yaxis": {
            "backgroundcolor": "#E5ECF6",
            "gridcolor": "white",
            "gridwidth": 2,
            "linecolor": "white",
            "showbackground": true,
            "ticks": "",
            "zerolinecolor": "white"
           },
           "zaxis": {
            "backgroundcolor": "#E5ECF6",
            "gridcolor": "white",
            "gridwidth": 2,
            "linecolor": "white",
            "showbackground": true,
            "ticks": "",
            "zerolinecolor": "white"
           }
          },
          "shapedefaults": {
           "line": {
            "color": "#2a3f5f"
           }
          },
          "ternary": {
           "aaxis": {
            "gridcolor": "white",
            "linecolor": "white",
            "ticks": ""
           },
           "baxis": {
            "gridcolor": "white",
            "linecolor": "white",
            "ticks": ""
           },
           "bgcolor": "#E5ECF6",
           "caxis": {
            "gridcolor": "white",
            "linecolor": "white",
            "ticks": ""
           }
          },
          "title": {
           "x": 0.05
          },
          "xaxis": {
           "automargin": true,
           "gridcolor": "white",
           "linecolor": "white",
           "ticks": "",
           "title": {
            "standoff": 15
           },
           "zerolinecolor": "white",
           "zerolinewidth": 2
          },
          "yaxis": {
           "automargin": true,
           "gridcolor": "white",
           "linecolor": "white",
           "ticks": "",
           "title": {
            "standoff": 15
           },
           "zerolinecolor": "white",
           "zerolinewidth": 2
          }
         }
        },
        "title": {
         "text": "Unique Species Count by Season"
        },
        "xaxis": {
         "anchor": "y",
         "domain": [
          0,
          1
         ],
         "title": {
          "text": "Season"
         }
        },
        "yaxis": {
         "anchor": "x",
         "domain": [
          0,
          1
         ],
         "title": {
          "text": "Unique Species Count"
         }
        }
       }
      }
     },
     "metadata": {},
     "output_type": "display_data"
    }
   ],
   "source": [
    "# Create a bar chart for seasonal trends\n",
    "fig_seasonal_trends = px.bar(seasonal_species_count, x='Season', y='Unique_Species_Count', title='Unique Species Count by Season')\n",
    "fig_seasonal_trends.update_layout(xaxis_title='Season', yaxis_title='Unique Species Count')\n",
    "fig_seasonal_trends.show()"
   ]
  },
  {
   "cell_type": "markdown",
   "id": "4ab9be0a",
   "metadata": {},
   "source": [
    "##### Analyze the unique species by location (forest and grassland)"
   ]
  },
  {
   "cell_type": "code",
   "execution_count": 31,
   "id": "8b7cdb83",
   "metadata": {},
   "outputs": [
    {
     "name": "stdout",
     "output_type": "stream",
     "text": [
      "Unique species count by Location Type (Forest):\n",
      "  Location_Type_forest  Unique_Species_Count\n",
      "0               Forest                   108\n"
     ]
    }
   ],
   "source": [
    "# Analyze Location Insights\n",
    "location_species_count = merged_df[merged_df['Location_Type_forest'] != 'Unknown'].groupby('Location_Type_forest')['AcceptedTSN'].nunique().reset_index()\n",
    "location_species_count.rename(columns={'AcceptedTSN': 'Unique_Species_Count'}, inplace=True)\n",
    "print(\"Unique species count by Location Type (Forest):\")\n",
    "print(location_species_count)"
   ]
  },
  {
   "cell_type": "code",
   "execution_count": 32,
   "id": "c842c528",
   "metadata": {},
   "outputs": [
    {
     "name": "stdout",
     "output_type": "stream",
     "text": [
      "Unique species count by Location Type (Grassland):\n",
      "  Location_Type_grassland  Unique_Species_Count\n",
      "0               Grassland                   107\n"
     ]
    }
   ],
   "source": [
    "location_species_count_grassland = merged_df[merged_df['Location_Type_grassland'] != 'Unknown'].groupby('Location_Type_grassland')['AcceptedTSN'].nunique().reset_index()\n",
    "location_species_count_grassland.rename(columns={'AcceptedTSN': 'Unique_Species_Count'}, inplace=True)\n",
    "print(\"Unique species count by Location Type (Grassland):\")\n",
    "print(location_species_count_grassland)"
   ]
  },
  {
   "cell_type": "markdown",
   "id": "d4190d01",
   "metadata": {},
   "source": [
    "##### Analyze the count of unique species of forest in the plot "
   ]
  },
  {
   "cell_type": "code",
   "execution_count": 104,
   "id": "d099ae73",
   "metadata": {},
   "outputs": [
    {
     "name": "stdout",
     "output_type": "stream",
     "text": [
      "Unique species count by Plot Name (Forest):\n",
      "    Plot_Name_forest  Unique_Species_Count\n",
      "97         CHOH-0812                    26\n",
      "248        NACE-0477                    23\n",
      "78         CHOH-0380                    22\n",
      "58         CHOH-0002                    22\n",
      "95         CHOH-0795                    22\n",
      "..               ...                   ...\n",
      "401        ROCR-0186                     6\n",
      "336        PRWI-0446                     6\n",
      "57         CATO-0365                     4\n",
      "30         CATO-0158                     4\n",
      "402          Unknown                     1\n",
      "\n",
      "[409 rows x 2 columns]\n"
     ]
    }
   ],
   "source": [
    "plot_species_count_forest_sorted = merged_df.groupby('Plot_Name_forest')['Common_Name_forest'].nunique().reset_index(name='Unique_Species_Count').sort_values(by='Unique_Species_Count', ascending=False)\n",
    "\n",
    "print(\"Unique species count by Plot Name (Forest):\")\n",
    "print(plot_species_count_forest_sorted)"
   ]
  },
  {
   "cell_type": "markdown",
   "id": "8019a26e",
   "metadata": {},
   "source": [
    "##### Analyze the count of unique species of grassland in the plot "
   ]
  },
  {
   "cell_type": "code",
   "execution_count": 101,
   "id": "2b73f139",
   "metadata": {},
   "outputs": [
    {
     "name": "stdout",
     "output_type": "stream",
     "text": [
      "\n",
      "Unique species count by Plot Name (Grassland) - Sorted Descending:\n",
      "    Plot_Name_grassland  Unique_Species_Count\n",
      "33            ANTI-0105                    27\n",
      "94            MANA-0047                    27\n",
      "166           MONO-0057                    27\n",
      "186           MONO-0085                    26\n",
      "95            MANA-0048                    26\n",
      "..                  ...                   ...\n",
      "129           MANA-0256                    10\n",
      "19            ANTI-0074                     9\n",
      "135           MONO-0006                     9\n",
      "136           MONO-0007                     7\n",
      "201             Unknown                     1\n",
      "\n",
      "[202 rows x 2 columns]\n"
     ]
    }
   ],
   "source": [
    "# Sort the plot-level data by Unique_Species_Count in descending order (grassland)\n",
    "plot_species_count_grassland_sorted = merged_df.groupby('Plot_Name_grassland')['Common_Name_grassland'].nunique().reset_index(name='Unique_Species_Count').sort_values(by='Unique_Species_Count', ascending=False)\n",
    "print(\"\\nUnique species count by Plot Name (Grassland) - Sorted Descending:\")\n",
    "print(plot_species_count_grassland_sorted)"
   ]
  },
  {
   "cell_type": "markdown",
   "id": "92b6f7fd",
   "metadata": {},
   "source": [
    "#### Bar chart for count of unique species by plot name forest"
   ]
  },
  {
   "cell_type": "code",
   "execution_count": 105,
   "id": "39360185",
   "metadata": {},
   "outputs": [
    {
     "data": {
      "application/vnd.plotly.v1+json": {
       "config": {
        "plotlyServerURL": "https://plot.ly"
       },
       "data": [
        {
         "hovertemplate": "Plot_Name_forest=%{x}<br>Unique_Species_Count=%{y}<extra></extra>",
         "legendgroup": "",
         "marker": {
          "color": "#636efa",
          "pattern": {
           "shape": ""
          }
         },
         "name": "",
         "orientation": "v",
         "showlegend": false,
         "textposition": "auto",
         "type": "bar",
         "x": [
          "CHOH-0812",
          "NACE-0477",
          "CHOH-0380",
          "CHOH-0002",
          "CHOH-0795",
          "MANA-0240",
          "CHOH-0262",
          "NACE-0491",
          "CHOH-0806",
          "PRWI-0273",
          "MONO-0074",
          "CHOH-0074",
          "NACE-0453",
          "GWMP-0094",
          "ANTI-0207",
          "CHOH-0832",
          "PRWI-0366",
          "CHOH-0008",
          "CHOH-0006",
          "CHOH-0389"
         ],
         "xaxis": "x",
         "y": {
          "bdata": "GhcWFhYWFhUVFBQUFBQUFBQUFBM=",
          "dtype": "i1"
         },
         "yaxis": "y"
        }
       ],
       "layout": {
        "barmode": "relative",
        "legend": {
         "tracegroupgap": 0
        },
        "template": {
         "data": {
          "bar": [
           {
            "error_x": {
             "color": "#2a3f5f"
            },
            "error_y": {
             "color": "#2a3f5f"
            },
            "marker": {
             "line": {
              "color": "#E5ECF6",
              "width": 0.5
             },
             "pattern": {
              "fillmode": "overlay",
              "size": 10,
              "solidity": 0.2
             }
            },
            "type": "bar"
           }
          ],
          "barpolar": [
           {
            "marker": {
             "line": {
              "color": "#E5ECF6",
              "width": 0.5
             },
             "pattern": {
              "fillmode": "overlay",
              "size": 10,
              "solidity": 0.2
             }
            },
            "type": "barpolar"
           }
          ],
          "carpet": [
           {
            "aaxis": {
             "endlinecolor": "#2a3f5f",
             "gridcolor": "white",
             "linecolor": "white",
             "minorgridcolor": "white",
             "startlinecolor": "#2a3f5f"
            },
            "baxis": {
             "endlinecolor": "#2a3f5f",
             "gridcolor": "white",
             "linecolor": "white",
             "minorgridcolor": "white",
             "startlinecolor": "#2a3f5f"
            },
            "type": "carpet"
           }
          ],
          "choropleth": [
           {
            "colorbar": {
             "outlinewidth": 0,
             "ticks": ""
            },
            "type": "choropleth"
           }
          ],
          "contour": [
           {
            "colorbar": {
             "outlinewidth": 0,
             "ticks": ""
            },
            "colorscale": [
             [
              0,
              "#0d0887"
             ],
             [
              0.1111111111111111,
              "#46039f"
             ],
             [
              0.2222222222222222,
              "#7201a8"
             ],
             [
              0.3333333333333333,
              "#9c179e"
             ],
             [
              0.4444444444444444,
              "#bd3786"
             ],
             [
              0.5555555555555556,
              "#d8576b"
             ],
             [
              0.6666666666666666,
              "#ed7953"
             ],
             [
              0.7777777777777778,
              "#fb9f3a"
             ],
             [
              0.8888888888888888,
              "#fdca26"
             ],
             [
              1,
              "#f0f921"
             ]
            ],
            "type": "contour"
           }
          ],
          "contourcarpet": [
           {
            "colorbar": {
             "outlinewidth": 0,
             "ticks": ""
            },
            "type": "contourcarpet"
           }
          ],
          "heatmap": [
           {
            "colorbar": {
             "outlinewidth": 0,
             "ticks": ""
            },
            "colorscale": [
             [
              0,
              "#0d0887"
             ],
             [
              0.1111111111111111,
              "#46039f"
             ],
             [
              0.2222222222222222,
              "#7201a8"
             ],
             [
              0.3333333333333333,
              "#9c179e"
             ],
             [
              0.4444444444444444,
              "#bd3786"
             ],
             [
              0.5555555555555556,
              "#d8576b"
             ],
             [
              0.6666666666666666,
              "#ed7953"
             ],
             [
              0.7777777777777778,
              "#fb9f3a"
             ],
             [
              0.8888888888888888,
              "#fdca26"
             ],
             [
              1,
              "#f0f921"
             ]
            ],
            "type": "heatmap"
           }
          ],
          "histogram": [
           {
            "marker": {
             "pattern": {
              "fillmode": "overlay",
              "size": 10,
              "solidity": 0.2
             }
            },
            "type": "histogram"
           }
          ],
          "histogram2d": [
           {
            "colorbar": {
             "outlinewidth": 0,
             "ticks": ""
            },
            "colorscale": [
             [
              0,
              "#0d0887"
             ],
             [
              0.1111111111111111,
              "#46039f"
             ],
             [
              0.2222222222222222,
              "#7201a8"
             ],
             [
              0.3333333333333333,
              "#9c179e"
             ],
             [
              0.4444444444444444,
              "#bd3786"
             ],
             [
              0.5555555555555556,
              "#d8576b"
             ],
             [
              0.6666666666666666,
              "#ed7953"
             ],
             [
              0.7777777777777778,
              "#fb9f3a"
             ],
             [
              0.8888888888888888,
              "#fdca26"
             ],
             [
              1,
              "#f0f921"
             ]
            ],
            "type": "histogram2d"
           }
          ],
          "histogram2dcontour": [
           {
            "colorbar": {
             "outlinewidth": 0,
             "ticks": ""
            },
            "colorscale": [
             [
              0,
              "#0d0887"
             ],
             [
              0.1111111111111111,
              "#46039f"
             ],
             [
              0.2222222222222222,
              "#7201a8"
             ],
             [
              0.3333333333333333,
              "#9c179e"
             ],
             [
              0.4444444444444444,
              "#bd3786"
             ],
             [
              0.5555555555555556,
              "#d8576b"
             ],
             [
              0.6666666666666666,
              "#ed7953"
             ],
             [
              0.7777777777777778,
              "#fb9f3a"
             ],
             [
              0.8888888888888888,
              "#fdca26"
             ],
             [
              1,
              "#f0f921"
             ]
            ],
            "type": "histogram2dcontour"
           }
          ],
          "mesh3d": [
           {
            "colorbar": {
             "outlinewidth": 0,
             "ticks": ""
            },
            "type": "mesh3d"
           }
          ],
          "parcoords": [
           {
            "line": {
             "colorbar": {
              "outlinewidth": 0,
              "ticks": ""
             }
            },
            "type": "parcoords"
           }
          ],
          "pie": [
           {
            "automargin": true,
            "type": "pie"
           }
          ],
          "scatter": [
           {
            "fillpattern": {
             "fillmode": "overlay",
             "size": 10,
             "solidity": 0.2
            },
            "type": "scatter"
           }
          ],
          "scatter3d": [
           {
            "line": {
             "colorbar": {
              "outlinewidth": 0,
              "ticks": ""
             }
            },
            "marker": {
             "colorbar": {
              "outlinewidth": 0,
              "ticks": ""
             }
            },
            "type": "scatter3d"
           }
          ],
          "scattercarpet": [
           {
            "marker": {
             "colorbar": {
              "outlinewidth": 0,
              "ticks": ""
             }
            },
            "type": "scattercarpet"
           }
          ],
          "scattergeo": [
           {
            "marker": {
             "colorbar": {
              "outlinewidth": 0,
              "ticks": ""
             }
            },
            "type": "scattergeo"
           }
          ],
          "scattergl": [
           {
            "marker": {
             "colorbar": {
              "outlinewidth": 0,
              "ticks": ""
             }
            },
            "type": "scattergl"
           }
          ],
          "scattermap": [
           {
            "marker": {
             "colorbar": {
              "outlinewidth": 0,
              "ticks": ""
             }
            },
            "type": "scattermap"
           }
          ],
          "scattermapbox": [
           {
            "marker": {
             "colorbar": {
              "outlinewidth": 0,
              "ticks": ""
             }
            },
            "type": "scattermapbox"
           }
          ],
          "scatterpolar": [
           {
            "marker": {
             "colorbar": {
              "outlinewidth": 0,
              "ticks": ""
             }
            },
            "type": "scatterpolar"
           }
          ],
          "scatterpolargl": [
           {
            "marker": {
             "colorbar": {
              "outlinewidth": 0,
              "ticks": ""
             }
            },
            "type": "scatterpolargl"
           }
          ],
          "scatterternary": [
           {
            "marker": {
             "colorbar": {
              "outlinewidth": 0,
              "ticks": ""
             }
            },
            "type": "scatterternary"
           }
          ],
          "surface": [
           {
            "colorbar": {
             "outlinewidth": 0,
             "ticks": ""
            },
            "colorscale": [
             [
              0,
              "#0d0887"
             ],
             [
              0.1111111111111111,
              "#46039f"
             ],
             [
              0.2222222222222222,
              "#7201a8"
             ],
             [
              0.3333333333333333,
              "#9c179e"
             ],
             [
              0.4444444444444444,
              "#bd3786"
             ],
             [
              0.5555555555555556,
              "#d8576b"
             ],
             [
              0.6666666666666666,
              "#ed7953"
             ],
             [
              0.7777777777777778,
              "#fb9f3a"
             ],
             [
              0.8888888888888888,
              "#fdca26"
             ],
             [
              1,
              "#f0f921"
             ]
            ],
            "type": "surface"
           }
          ],
          "table": [
           {
            "cells": {
             "fill": {
              "color": "#EBF0F8"
             },
             "line": {
              "color": "white"
             }
            },
            "header": {
             "fill": {
              "color": "#C8D4E3"
             },
             "line": {
              "color": "white"
             }
            },
            "type": "table"
           }
          ]
         },
         "layout": {
          "annotationdefaults": {
           "arrowcolor": "#2a3f5f",
           "arrowhead": 0,
           "arrowwidth": 1
          },
          "autotypenumbers": "strict",
          "coloraxis": {
           "colorbar": {
            "outlinewidth": 0,
            "ticks": ""
           }
          },
          "colorscale": {
           "diverging": [
            [
             0,
             "#8e0152"
            ],
            [
             0.1,
             "#c51b7d"
            ],
            [
             0.2,
             "#de77ae"
            ],
            [
             0.3,
             "#f1b6da"
            ],
            [
             0.4,
             "#fde0ef"
            ],
            [
             0.5,
             "#f7f7f7"
            ],
            [
             0.6,
             "#e6f5d0"
            ],
            [
             0.7,
             "#b8e186"
            ],
            [
             0.8,
             "#7fbc41"
            ],
            [
             0.9,
             "#4d9221"
            ],
            [
             1,
             "#276419"
            ]
           ],
           "sequential": [
            [
             0,
             "#0d0887"
            ],
            [
             0.1111111111111111,
             "#46039f"
            ],
            [
             0.2222222222222222,
             "#7201a8"
            ],
            [
             0.3333333333333333,
             "#9c179e"
            ],
            [
             0.4444444444444444,
             "#bd3786"
            ],
            [
             0.5555555555555556,
             "#d8576b"
            ],
            [
             0.6666666666666666,
             "#ed7953"
            ],
            [
             0.7777777777777778,
             "#fb9f3a"
            ],
            [
             0.8888888888888888,
             "#fdca26"
            ],
            [
             1,
             "#f0f921"
            ]
           ],
           "sequentialminus": [
            [
             0,
             "#0d0887"
            ],
            [
             0.1111111111111111,
             "#46039f"
            ],
            [
             0.2222222222222222,
             "#7201a8"
            ],
            [
             0.3333333333333333,
             "#9c179e"
            ],
            [
             0.4444444444444444,
             "#bd3786"
            ],
            [
             0.5555555555555556,
             "#d8576b"
            ],
            [
             0.6666666666666666,
             "#ed7953"
            ],
            [
             0.7777777777777778,
             "#fb9f3a"
            ],
            [
             0.8888888888888888,
             "#fdca26"
            ],
            [
             1,
             "#f0f921"
            ]
           ]
          },
          "colorway": [
           "#636efa",
           "#EF553B",
           "#00cc96",
           "#ab63fa",
           "#FFA15A",
           "#19d3f3",
           "#FF6692",
           "#B6E880",
           "#FF97FF",
           "#FECB52"
          ],
          "font": {
           "color": "#2a3f5f"
          },
          "geo": {
           "bgcolor": "white",
           "lakecolor": "white",
           "landcolor": "#E5ECF6",
           "showlakes": true,
           "showland": true,
           "subunitcolor": "white"
          },
          "hoverlabel": {
           "align": "left"
          },
          "hovermode": "closest",
          "mapbox": {
           "style": "light"
          },
          "paper_bgcolor": "white",
          "plot_bgcolor": "#E5ECF6",
          "polar": {
           "angularaxis": {
            "gridcolor": "white",
            "linecolor": "white",
            "ticks": ""
           },
           "bgcolor": "#E5ECF6",
           "radialaxis": {
            "gridcolor": "white",
            "linecolor": "white",
            "ticks": ""
           }
          },
          "scene": {
           "xaxis": {
            "backgroundcolor": "#E5ECF6",
            "gridcolor": "white",
            "gridwidth": 2,
            "linecolor": "white",
            "showbackground": true,
            "ticks": "",
            "zerolinecolor": "white"
           },
           "yaxis": {
            "backgroundcolor": "#E5ECF6",
            "gridcolor": "white",
            "gridwidth": 2,
            "linecolor": "white",
            "showbackground": true,
            "ticks": "",
            "zerolinecolor": "white"
           },
           "zaxis": {
            "backgroundcolor": "#E5ECF6",
            "gridcolor": "white",
            "gridwidth": 2,
            "linecolor": "white",
            "showbackground": true,
            "ticks": "",
            "zerolinecolor": "white"
           }
          },
          "shapedefaults": {
           "line": {
            "color": "#2a3f5f"
           }
          },
          "ternary": {
           "aaxis": {
            "gridcolor": "white",
            "linecolor": "white",
            "ticks": ""
           },
           "baxis": {
            "gridcolor": "white",
            "linecolor": "white",
            "ticks": ""
           },
           "bgcolor": "#E5ECF6",
           "caxis": {
            "gridcolor": "white",
            "linecolor": "white",
            "ticks": ""
           }
          },
          "title": {
           "x": 0.05
          },
          "xaxis": {
           "automargin": true,
           "gridcolor": "white",
           "linecolor": "white",
           "ticks": "",
           "title": {
            "standoff": 15
           },
           "zerolinecolor": "white",
           "zerolinewidth": 2
          },
          "yaxis": {
           "automargin": true,
           "gridcolor": "white",
           "linecolor": "white",
           "ticks": "",
           "title": {
            "standoff": 15
           },
           "zerolinecolor": "white",
           "zerolinewidth": 2
          }
         }
        },
        "title": {
         "text": "Unique Species Count by Plot Name (Forest) - Sorted"
        },
        "xaxis": {
         "anchor": "y",
         "domain": [
          0,
          1
         ],
         "title": {
          "text": "Forest"
         }
        },
        "yaxis": {
         "anchor": "x",
         "domain": [
          0,
          1
         ],
         "title": {
          "text": "Unique Species Count"
         }
        }
       }
      }
     },
     "metadata": {},
     "output_type": "display_data"
    }
   ],
   "source": [
    "# Create sorted bar charts for unique species count by plot name (forest) top 20\n",
    "fig_plot_forest_sorted = px.bar(plot_species_count_forest_sorted.head(20), x='Plot_Name_forest', y='Unique_Species_Count', title='Unique Species Count by Plot Name (Forest) - Sorted')\n",
    "fig_plot_forest_sorted.update_layout(xaxis_title='Forest', yaxis_title='Unique Species Count')\n",
    "fig_plot_forest_sorted.show()"
   ]
  },
  {
   "cell_type": "markdown",
   "id": "01d8edb3",
   "metadata": {},
   "source": [
    "#### Bar chart for count of unique species by plot name grassland"
   ]
  },
  {
   "cell_type": "code",
   "execution_count": 106,
   "id": "4123b665",
   "metadata": {},
   "outputs": [
    {
     "data": {
      "application/vnd.plotly.v1+json": {
       "config": {
        "plotlyServerURL": "https://plot.ly"
       },
       "data": [
        {
         "hovertemplate": "Plot_Name_grassland=%{x}<br>Unique_Species_Count=%{y}<extra></extra>",
         "legendgroup": "",
         "marker": {
          "color": "#636efa",
          "pattern": {
           "shape": ""
          }
         },
         "name": "",
         "orientation": "v",
         "showlegend": false,
         "textposition": "auto",
         "type": "bar",
         "x": [
          "ANTI-0105",
          "MANA-0047",
          "MONO-0057",
          "MONO-0085",
          "MANA-0048",
          "MONO-0066",
          "MONO-0076",
          "ANTI-0077",
          "ANTI-0160",
          "ANTI-0009",
          "ANTI-0034",
          "HAFE-0067",
          "MANA-0111",
          "MANA-0097",
          "MONO-0047",
          "MONO-0027",
          "MONO-0049",
          "MONO-0055",
          "ANTI-0028",
          "ANTI-0016"
         ],
         "xaxis": "x",
         "y": {
          "bdata": "GxsbGhoaGhkZGRkYGBgYGBgYGBg=",
          "dtype": "i1"
         },
         "yaxis": "y"
        }
       ],
       "layout": {
        "barmode": "relative",
        "legend": {
         "tracegroupgap": 0
        },
        "template": {
         "data": {
          "bar": [
           {
            "error_x": {
             "color": "#2a3f5f"
            },
            "error_y": {
             "color": "#2a3f5f"
            },
            "marker": {
             "line": {
              "color": "#E5ECF6",
              "width": 0.5
             },
             "pattern": {
              "fillmode": "overlay",
              "size": 10,
              "solidity": 0.2
             }
            },
            "type": "bar"
           }
          ],
          "barpolar": [
           {
            "marker": {
             "line": {
              "color": "#E5ECF6",
              "width": 0.5
             },
             "pattern": {
              "fillmode": "overlay",
              "size": 10,
              "solidity": 0.2
             }
            },
            "type": "barpolar"
           }
          ],
          "carpet": [
           {
            "aaxis": {
             "endlinecolor": "#2a3f5f",
             "gridcolor": "white",
             "linecolor": "white",
             "minorgridcolor": "white",
             "startlinecolor": "#2a3f5f"
            },
            "baxis": {
             "endlinecolor": "#2a3f5f",
             "gridcolor": "white",
             "linecolor": "white",
             "minorgridcolor": "white",
             "startlinecolor": "#2a3f5f"
            },
            "type": "carpet"
           }
          ],
          "choropleth": [
           {
            "colorbar": {
             "outlinewidth": 0,
             "ticks": ""
            },
            "type": "choropleth"
           }
          ],
          "contour": [
           {
            "colorbar": {
             "outlinewidth": 0,
             "ticks": ""
            },
            "colorscale": [
             [
              0,
              "#0d0887"
             ],
             [
              0.1111111111111111,
              "#46039f"
             ],
             [
              0.2222222222222222,
              "#7201a8"
             ],
             [
              0.3333333333333333,
              "#9c179e"
             ],
             [
              0.4444444444444444,
              "#bd3786"
             ],
             [
              0.5555555555555556,
              "#d8576b"
             ],
             [
              0.6666666666666666,
              "#ed7953"
             ],
             [
              0.7777777777777778,
              "#fb9f3a"
             ],
             [
              0.8888888888888888,
              "#fdca26"
             ],
             [
              1,
              "#f0f921"
             ]
            ],
            "type": "contour"
           }
          ],
          "contourcarpet": [
           {
            "colorbar": {
             "outlinewidth": 0,
             "ticks": ""
            },
            "type": "contourcarpet"
           }
          ],
          "heatmap": [
           {
            "colorbar": {
             "outlinewidth": 0,
             "ticks": ""
            },
            "colorscale": [
             [
              0,
              "#0d0887"
             ],
             [
              0.1111111111111111,
              "#46039f"
             ],
             [
              0.2222222222222222,
              "#7201a8"
             ],
             [
              0.3333333333333333,
              "#9c179e"
             ],
             [
              0.4444444444444444,
              "#bd3786"
             ],
             [
              0.5555555555555556,
              "#d8576b"
             ],
             [
              0.6666666666666666,
              "#ed7953"
             ],
             [
              0.7777777777777778,
              "#fb9f3a"
             ],
             [
              0.8888888888888888,
              "#fdca26"
             ],
             [
              1,
              "#f0f921"
             ]
            ],
            "type": "heatmap"
           }
          ],
          "histogram": [
           {
            "marker": {
             "pattern": {
              "fillmode": "overlay",
              "size": 10,
              "solidity": 0.2
             }
            },
            "type": "histogram"
           }
          ],
          "histogram2d": [
           {
            "colorbar": {
             "outlinewidth": 0,
             "ticks": ""
            },
            "colorscale": [
             [
              0,
              "#0d0887"
             ],
             [
              0.1111111111111111,
              "#46039f"
             ],
             [
              0.2222222222222222,
              "#7201a8"
             ],
             [
              0.3333333333333333,
              "#9c179e"
             ],
             [
              0.4444444444444444,
              "#bd3786"
             ],
             [
              0.5555555555555556,
              "#d8576b"
             ],
             [
              0.6666666666666666,
              "#ed7953"
             ],
             [
              0.7777777777777778,
              "#fb9f3a"
             ],
             [
              0.8888888888888888,
              "#fdca26"
             ],
             [
              1,
              "#f0f921"
             ]
            ],
            "type": "histogram2d"
           }
          ],
          "histogram2dcontour": [
           {
            "colorbar": {
             "outlinewidth": 0,
             "ticks": ""
            },
            "colorscale": [
             [
              0,
              "#0d0887"
             ],
             [
              0.1111111111111111,
              "#46039f"
             ],
             [
              0.2222222222222222,
              "#7201a8"
             ],
             [
              0.3333333333333333,
              "#9c179e"
             ],
             [
              0.4444444444444444,
              "#bd3786"
             ],
             [
              0.5555555555555556,
              "#d8576b"
             ],
             [
              0.6666666666666666,
              "#ed7953"
             ],
             [
              0.7777777777777778,
              "#fb9f3a"
             ],
             [
              0.8888888888888888,
              "#fdca26"
             ],
             [
              1,
              "#f0f921"
             ]
            ],
            "type": "histogram2dcontour"
           }
          ],
          "mesh3d": [
           {
            "colorbar": {
             "outlinewidth": 0,
             "ticks": ""
            },
            "type": "mesh3d"
           }
          ],
          "parcoords": [
           {
            "line": {
             "colorbar": {
              "outlinewidth": 0,
              "ticks": ""
             }
            },
            "type": "parcoords"
           }
          ],
          "pie": [
           {
            "automargin": true,
            "type": "pie"
           }
          ],
          "scatter": [
           {
            "fillpattern": {
             "fillmode": "overlay",
             "size": 10,
             "solidity": 0.2
            },
            "type": "scatter"
           }
          ],
          "scatter3d": [
           {
            "line": {
             "colorbar": {
              "outlinewidth": 0,
              "ticks": ""
             }
            },
            "marker": {
             "colorbar": {
              "outlinewidth": 0,
              "ticks": ""
             }
            },
            "type": "scatter3d"
           }
          ],
          "scattercarpet": [
           {
            "marker": {
             "colorbar": {
              "outlinewidth": 0,
              "ticks": ""
             }
            },
            "type": "scattercarpet"
           }
          ],
          "scattergeo": [
           {
            "marker": {
             "colorbar": {
              "outlinewidth": 0,
              "ticks": ""
             }
            },
            "type": "scattergeo"
           }
          ],
          "scattergl": [
           {
            "marker": {
             "colorbar": {
              "outlinewidth": 0,
              "ticks": ""
             }
            },
            "type": "scattergl"
           }
          ],
          "scattermap": [
           {
            "marker": {
             "colorbar": {
              "outlinewidth": 0,
              "ticks": ""
             }
            },
            "type": "scattermap"
           }
          ],
          "scattermapbox": [
           {
            "marker": {
             "colorbar": {
              "outlinewidth": 0,
              "ticks": ""
             }
            },
            "type": "scattermapbox"
           }
          ],
          "scatterpolar": [
           {
            "marker": {
             "colorbar": {
              "outlinewidth": 0,
              "ticks": ""
             }
            },
            "type": "scatterpolar"
           }
          ],
          "scatterpolargl": [
           {
            "marker": {
             "colorbar": {
              "outlinewidth": 0,
              "ticks": ""
             }
            },
            "type": "scatterpolargl"
           }
          ],
          "scatterternary": [
           {
            "marker": {
             "colorbar": {
              "outlinewidth": 0,
              "ticks": ""
             }
            },
            "type": "scatterternary"
           }
          ],
          "surface": [
           {
            "colorbar": {
             "outlinewidth": 0,
             "ticks": ""
            },
            "colorscale": [
             [
              0,
              "#0d0887"
             ],
             [
              0.1111111111111111,
              "#46039f"
             ],
             [
              0.2222222222222222,
              "#7201a8"
             ],
             [
              0.3333333333333333,
              "#9c179e"
             ],
             [
              0.4444444444444444,
              "#bd3786"
             ],
             [
              0.5555555555555556,
              "#d8576b"
             ],
             [
              0.6666666666666666,
              "#ed7953"
             ],
             [
              0.7777777777777778,
              "#fb9f3a"
             ],
             [
              0.8888888888888888,
              "#fdca26"
             ],
             [
              1,
              "#f0f921"
             ]
            ],
            "type": "surface"
           }
          ],
          "table": [
           {
            "cells": {
             "fill": {
              "color": "#EBF0F8"
             },
             "line": {
              "color": "white"
             }
            },
            "header": {
             "fill": {
              "color": "#C8D4E3"
             },
             "line": {
              "color": "white"
             }
            },
            "type": "table"
           }
          ]
         },
         "layout": {
          "annotationdefaults": {
           "arrowcolor": "#2a3f5f",
           "arrowhead": 0,
           "arrowwidth": 1
          },
          "autotypenumbers": "strict",
          "coloraxis": {
           "colorbar": {
            "outlinewidth": 0,
            "ticks": ""
           }
          },
          "colorscale": {
           "diverging": [
            [
             0,
             "#8e0152"
            ],
            [
             0.1,
             "#c51b7d"
            ],
            [
             0.2,
             "#de77ae"
            ],
            [
             0.3,
             "#f1b6da"
            ],
            [
             0.4,
             "#fde0ef"
            ],
            [
             0.5,
             "#f7f7f7"
            ],
            [
             0.6,
             "#e6f5d0"
            ],
            [
             0.7,
             "#b8e186"
            ],
            [
             0.8,
             "#7fbc41"
            ],
            [
             0.9,
             "#4d9221"
            ],
            [
             1,
             "#276419"
            ]
           ],
           "sequential": [
            [
             0,
             "#0d0887"
            ],
            [
             0.1111111111111111,
             "#46039f"
            ],
            [
             0.2222222222222222,
             "#7201a8"
            ],
            [
             0.3333333333333333,
             "#9c179e"
            ],
            [
             0.4444444444444444,
             "#bd3786"
            ],
            [
             0.5555555555555556,
             "#d8576b"
            ],
            [
             0.6666666666666666,
             "#ed7953"
            ],
            [
             0.7777777777777778,
             "#fb9f3a"
            ],
            [
             0.8888888888888888,
             "#fdca26"
            ],
            [
             1,
             "#f0f921"
            ]
           ],
           "sequentialminus": [
            [
             0,
             "#0d0887"
            ],
            [
             0.1111111111111111,
             "#46039f"
            ],
            [
             0.2222222222222222,
             "#7201a8"
            ],
            [
             0.3333333333333333,
             "#9c179e"
            ],
            [
             0.4444444444444444,
             "#bd3786"
            ],
            [
             0.5555555555555556,
             "#d8576b"
            ],
            [
             0.6666666666666666,
             "#ed7953"
            ],
            [
             0.7777777777777778,
             "#fb9f3a"
            ],
            [
             0.8888888888888888,
             "#fdca26"
            ],
            [
             1,
             "#f0f921"
            ]
           ]
          },
          "colorway": [
           "#636efa",
           "#EF553B",
           "#00cc96",
           "#ab63fa",
           "#FFA15A",
           "#19d3f3",
           "#FF6692",
           "#B6E880",
           "#FF97FF",
           "#FECB52"
          ],
          "font": {
           "color": "#2a3f5f"
          },
          "geo": {
           "bgcolor": "white",
           "lakecolor": "white",
           "landcolor": "#E5ECF6",
           "showlakes": true,
           "showland": true,
           "subunitcolor": "white"
          },
          "hoverlabel": {
           "align": "left"
          },
          "hovermode": "closest",
          "mapbox": {
           "style": "light"
          },
          "paper_bgcolor": "white",
          "plot_bgcolor": "#E5ECF6",
          "polar": {
           "angularaxis": {
            "gridcolor": "white",
            "linecolor": "white",
            "ticks": ""
           },
           "bgcolor": "#E5ECF6",
           "radialaxis": {
            "gridcolor": "white",
            "linecolor": "white",
            "ticks": ""
           }
          },
          "scene": {
           "xaxis": {
            "backgroundcolor": "#E5ECF6",
            "gridcolor": "white",
            "gridwidth": 2,
            "linecolor": "white",
            "showbackground": true,
            "ticks": "",
            "zerolinecolor": "white"
           },
           "yaxis": {
            "backgroundcolor": "#E5ECF6",
            "gridcolor": "white",
            "gridwidth": 2,
            "linecolor": "white",
            "showbackground": true,
            "ticks": "",
            "zerolinecolor": "white"
           },
           "zaxis": {
            "backgroundcolor": "#E5ECF6",
            "gridcolor": "white",
            "gridwidth": 2,
            "linecolor": "white",
            "showbackground": true,
            "ticks": "",
            "zerolinecolor": "white"
           }
          },
          "shapedefaults": {
           "line": {
            "color": "#2a3f5f"
           }
          },
          "ternary": {
           "aaxis": {
            "gridcolor": "white",
            "linecolor": "white",
            "ticks": ""
           },
           "baxis": {
            "gridcolor": "white",
            "linecolor": "white",
            "ticks": ""
           },
           "bgcolor": "#E5ECF6",
           "caxis": {
            "gridcolor": "white",
            "linecolor": "white",
            "ticks": ""
           }
          },
          "title": {
           "x": 0.05
          },
          "xaxis": {
           "automargin": true,
           "gridcolor": "white",
           "linecolor": "white",
           "ticks": "",
           "title": {
            "standoff": 15
           },
           "zerolinecolor": "white",
           "zerolinewidth": 2
          },
          "yaxis": {
           "automargin": true,
           "gridcolor": "white",
           "linecolor": "white",
           "ticks": "",
           "title": {
            "standoff": 15
           },
           "zerolinecolor": "white",
           "zerolinewidth": 2
          }
         }
        },
        "title": {
         "text": "Unique Species Count by Plot Name (Grassland) - Sorted"
        },
        "xaxis": {
         "anchor": "y",
         "domain": [
          0,
          1
         ],
         "title": {
          "text": "Grassland"
         }
        },
        "yaxis": {
         "anchor": "x",
         "domain": [
          0,
          1
         ],
         "title": {
          "text": "Unique Species Count"
         }
        }
       }
      }
     },
     "metadata": {},
     "output_type": "display_data"
    }
   ],
   "source": [
    "# Create sorted bar charts for unique species count by plot name (grassland) top 20\n",
    "fig_plot_grassland_sorted = px.bar(plot_species_count_grassland_sorted.head(20), x='Plot_Name_grassland', y='Unique_Species_Count', title='Unique Species Count by Plot Name (Grassland) - Sorted')\n",
    "fig_plot_grassland_sorted.update_layout(xaxis_title='Grassland', yaxis_title='Unique Species Count')\n",
    "fig_plot_grassland_sorted.show()"
   ]
  },
  {
   "cell_type": "markdown",
   "id": "29d5daf0",
   "metadata": {},
   "source": [
    "#### Analyze the observer bias of forest"
   ]
  },
  {
   "cell_type": "code",
   "execution_count": 40,
   "id": "f1807030",
   "metadata": {},
   "outputs": [
    {
     "name": "stdout",
     "output_type": "stream",
     "text": [
      "Unique species count by Observer (Forest):\n",
      "    Observer_forest  Unique_Species_Count\n",
      "0    Brian Swimelar                    72\n",
      "1  Elizabeth Oswald                   102\n",
      "2    Kimberly Serno                    73\n"
     ]
    }
   ],
   "source": [
    "# Analyze Observer Bias\n",
    "observer_species_count = merged_df[merged_df['Observer_forest'] != 'Unknown'].groupby('Observer_forest')['AcceptedTSN'].nunique().reset_index()\n",
    "observer_species_count.rename(columns={'AcceptedTSN': 'Unique_Species_Count'}, inplace=True)\n",
    "print(\"Unique species count by Observer (Forest):\")\n",
    "print(observer_species_count)"
   ]
  },
  {
   "cell_type": "markdown",
   "id": "aebce6ba",
   "metadata": {},
   "source": [
    "#### Analyze the observer bias of grassland"
   ]
  },
  {
   "cell_type": "code",
   "execution_count": 41,
   "id": "1f8682ab",
   "metadata": {},
   "outputs": [
    {
     "name": "stdout",
     "output_type": "stream",
     "text": [
      "Unique species count by Observer (Grassland):\n",
      "  Observer_grassland  Unique_Species_Count\n",
      "0     Brian Swimelar                    65\n",
      "1   Elizabeth Oswald                    98\n",
      "2     Kimberly Serno                    75\n"
     ]
    }
   ],
   "source": [
    "observer_species_count_grassland = merged_df[merged_df['Observer_grassland'] != 'Unknown'].groupby('Observer_grassland')['AcceptedTSN'].nunique().reset_index()\n",
    "observer_species_count_grassland.rename(columns={'AcceptedTSN': 'Unique_Species_Count'}, inplace=True)\n",
    "print(\"Unique species count by Observer (Grassland):\")\n",
    "print(observer_species_count_grassland)"
   ]
  },
  {
   "cell_type": "markdown",
   "id": "f5102127",
   "metadata": {},
   "source": [
    "##### Pie chart visualization for Observer trends of forest"
   ]
  },
  {
   "cell_type": "code",
   "execution_count": 42,
   "id": "b052fb0c",
   "metadata": {},
   "outputs": [
    {
     "data": {
      "application/vnd.plotly.v1+json": {
       "config": {
        "plotlyServerURL": "https://plot.ly"
       },
       "data": [
        {
         "domain": {
          "x": [
           0,
           1
          ],
          "y": [
           0,
           1
          ]
         },
         "hovertemplate": "Observer_forest=%{label}<br>Unique_Species_Count=%{value}<extra></extra>",
         "labels": [
          "Brian Swimelar",
          "Elizabeth Oswald",
          "Kimberly Serno"
         ],
         "legendgroup": "",
         "name": "",
         "showlegend": true,
         "type": "pie",
         "values": {
          "bdata": "SGZJ",
          "dtype": "i1"
         }
        }
       ],
       "layout": {
        "legend": {
         "tracegroupgap": 0
        },
        "piecolorway": [
         "rgb(102, 197, 204)",
         "rgb(246, 207, 113)",
         "rgb(248, 156, 116)",
         "rgb(220, 176, 242)",
         "rgb(135, 197, 95)",
         "rgb(158, 185, 243)",
         "rgb(254, 136, 177)",
         "rgb(201, 219, 116)",
         "rgb(139, 224, 164)",
         "rgb(180, 151, 231)",
         "rgb(179, 179, 179)"
        ],
        "template": {
         "data": {
          "bar": [
           {
            "error_x": {
             "color": "#2a3f5f"
            },
            "error_y": {
             "color": "#2a3f5f"
            },
            "marker": {
             "line": {
              "color": "#E5ECF6",
              "width": 0.5
             },
             "pattern": {
              "fillmode": "overlay",
              "size": 10,
              "solidity": 0.2
             }
            },
            "type": "bar"
           }
          ],
          "barpolar": [
           {
            "marker": {
             "line": {
              "color": "#E5ECF6",
              "width": 0.5
             },
             "pattern": {
              "fillmode": "overlay",
              "size": 10,
              "solidity": 0.2
             }
            },
            "type": "barpolar"
           }
          ],
          "carpet": [
           {
            "aaxis": {
             "endlinecolor": "#2a3f5f",
             "gridcolor": "white",
             "linecolor": "white",
             "minorgridcolor": "white",
             "startlinecolor": "#2a3f5f"
            },
            "baxis": {
             "endlinecolor": "#2a3f5f",
             "gridcolor": "white",
             "linecolor": "white",
             "minorgridcolor": "white",
             "startlinecolor": "#2a3f5f"
            },
            "type": "carpet"
           }
          ],
          "choropleth": [
           {
            "colorbar": {
             "outlinewidth": 0,
             "ticks": ""
            },
            "type": "choropleth"
           }
          ],
          "contour": [
           {
            "colorbar": {
             "outlinewidth": 0,
             "ticks": ""
            },
            "colorscale": [
             [
              0,
              "#0d0887"
             ],
             [
              0.1111111111111111,
              "#46039f"
             ],
             [
              0.2222222222222222,
              "#7201a8"
             ],
             [
              0.3333333333333333,
              "#9c179e"
             ],
             [
              0.4444444444444444,
              "#bd3786"
             ],
             [
              0.5555555555555556,
              "#d8576b"
             ],
             [
              0.6666666666666666,
              "#ed7953"
             ],
             [
              0.7777777777777778,
              "#fb9f3a"
             ],
             [
              0.8888888888888888,
              "#fdca26"
             ],
             [
              1,
              "#f0f921"
             ]
            ],
            "type": "contour"
           }
          ],
          "contourcarpet": [
           {
            "colorbar": {
             "outlinewidth": 0,
             "ticks": ""
            },
            "type": "contourcarpet"
           }
          ],
          "heatmap": [
           {
            "colorbar": {
             "outlinewidth": 0,
             "ticks": ""
            },
            "colorscale": [
             [
              0,
              "#0d0887"
             ],
             [
              0.1111111111111111,
              "#46039f"
             ],
             [
              0.2222222222222222,
              "#7201a8"
             ],
             [
              0.3333333333333333,
              "#9c179e"
             ],
             [
              0.4444444444444444,
              "#bd3786"
             ],
             [
              0.5555555555555556,
              "#d8576b"
             ],
             [
              0.6666666666666666,
              "#ed7953"
             ],
             [
              0.7777777777777778,
              "#fb9f3a"
             ],
             [
              0.8888888888888888,
              "#fdca26"
             ],
             [
              1,
              "#f0f921"
             ]
            ],
            "type": "heatmap"
           }
          ],
          "histogram": [
           {
            "marker": {
             "pattern": {
              "fillmode": "overlay",
              "size": 10,
              "solidity": 0.2
             }
            },
            "type": "histogram"
           }
          ],
          "histogram2d": [
           {
            "colorbar": {
             "outlinewidth": 0,
             "ticks": ""
            },
            "colorscale": [
             [
              0,
              "#0d0887"
             ],
             [
              0.1111111111111111,
              "#46039f"
             ],
             [
              0.2222222222222222,
              "#7201a8"
             ],
             [
              0.3333333333333333,
              "#9c179e"
             ],
             [
              0.4444444444444444,
              "#bd3786"
             ],
             [
              0.5555555555555556,
              "#d8576b"
             ],
             [
              0.6666666666666666,
              "#ed7953"
             ],
             [
              0.7777777777777778,
              "#fb9f3a"
             ],
             [
              0.8888888888888888,
              "#fdca26"
             ],
             [
              1,
              "#f0f921"
             ]
            ],
            "type": "histogram2d"
           }
          ],
          "histogram2dcontour": [
           {
            "colorbar": {
             "outlinewidth": 0,
             "ticks": ""
            },
            "colorscale": [
             [
              0,
              "#0d0887"
             ],
             [
              0.1111111111111111,
              "#46039f"
             ],
             [
              0.2222222222222222,
              "#7201a8"
             ],
             [
              0.3333333333333333,
              "#9c179e"
             ],
             [
              0.4444444444444444,
              "#bd3786"
             ],
             [
              0.5555555555555556,
              "#d8576b"
             ],
             [
              0.6666666666666666,
              "#ed7953"
             ],
             [
              0.7777777777777778,
              "#fb9f3a"
             ],
             [
              0.8888888888888888,
              "#fdca26"
             ],
             [
              1,
              "#f0f921"
             ]
            ],
            "type": "histogram2dcontour"
           }
          ],
          "mesh3d": [
           {
            "colorbar": {
             "outlinewidth": 0,
             "ticks": ""
            },
            "type": "mesh3d"
           }
          ],
          "parcoords": [
           {
            "line": {
             "colorbar": {
              "outlinewidth": 0,
              "ticks": ""
             }
            },
            "type": "parcoords"
           }
          ],
          "pie": [
           {
            "automargin": true,
            "type": "pie"
           }
          ],
          "scatter": [
           {
            "fillpattern": {
             "fillmode": "overlay",
             "size": 10,
             "solidity": 0.2
            },
            "type": "scatter"
           }
          ],
          "scatter3d": [
           {
            "line": {
             "colorbar": {
              "outlinewidth": 0,
              "ticks": ""
             }
            },
            "marker": {
             "colorbar": {
              "outlinewidth": 0,
              "ticks": ""
             }
            },
            "type": "scatter3d"
           }
          ],
          "scattercarpet": [
           {
            "marker": {
             "colorbar": {
              "outlinewidth": 0,
              "ticks": ""
             }
            },
            "type": "scattercarpet"
           }
          ],
          "scattergeo": [
           {
            "marker": {
             "colorbar": {
              "outlinewidth": 0,
              "ticks": ""
             }
            },
            "type": "scattergeo"
           }
          ],
          "scattergl": [
           {
            "marker": {
             "colorbar": {
              "outlinewidth": 0,
              "ticks": ""
             }
            },
            "type": "scattergl"
           }
          ],
          "scattermap": [
           {
            "marker": {
             "colorbar": {
              "outlinewidth": 0,
              "ticks": ""
             }
            },
            "type": "scattermap"
           }
          ],
          "scattermapbox": [
           {
            "marker": {
             "colorbar": {
              "outlinewidth": 0,
              "ticks": ""
             }
            },
            "type": "scattermapbox"
           }
          ],
          "scatterpolar": [
           {
            "marker": {
             "colorbar": {
              "outlinewidth": 0,
              "ticks": ""
             }
            },
            "type": "scatterpolar"
           }
          ],
          "scatterpolargl": [
           {
            "marker": {
             "colorbar": {
              "outlinewidth": 0,
              "ticks": ""
             }
            },
            "type": "scatterpolargl"
           }
          ],
          "scatterternary": [
           {
            "marker": {
             "colorbar": {
              "outlinewidth": 0,
              "ticks": ""
             }
            },
            "type": "scatterternary"
           }
          ],
          "surface": [
           {
            "colorbar": {
             "outlinewidth": 0,
             "ticks": ""
            },
            "colorscale": [
             [
              0,
              "#0d0887"
             ],
             [
              0.1111111111111111,
              "#46039f"
             ],
             [
              0.2222222222222222,
              "#7201a8"
             ],
             [
              0.3333333333333333,
              "#9c179e"
             ],
             [
              0.4444444444444444,
              "#bd3786"
             ],
             [
              0.5555555555555556,
              "#d8576b"
             ],
             [
              0.6666666666666666,
              "#ed7953"
             ],
             [
              0.7777777777777778,
              "#fb9f3a"
             ],
             [
              0.8888888888888888,
              "#fdca26"
             ],
             [
              1,
              "#f0f921"
             ]
            ],
            "type": "surface"
           }
          ],
          "table": [
           {
            "cells": {
             "fill": {
              "color": "#EBF0F8"
             },
             "line": {
              "color": "white"
             }
            },
            "header": {
             "fill": {
              "color": "#C8D4E3"
             },
             "line": {
              "color": "white"
             }
            },
            "type": "table"
           }
          ]
         },
         "layout": {
          "annotationdefaults": {
           "arrowcolor": "#2a3f5f",
           "arrowhead": 0,
           "arrowwidth": 1
          },
          "autotypenumbers": "strict",
          "coloraxis": {
           "colorbar": {
            "outlinewidth": 0,
            "ticks": ""
           }
          },
          "colorscale": {
           "diverging": [
            [
             0,
             "#8e0152"
            ],
            [
             0.1,
             "#c51b7d"
            ],
            [
             0.2,
             "#de77ae"
            ],
            [
             0.3,
             "#f1b6da"
            ],
            [
             0.4,
             "#fde0ef"
            ],
            [
             0.5,
             "#f7f7f7"
            ],
            [
             0.6,
             "#e6f5d0"
            ],
            [
             0.7,
             "#b8e186"
            ],
            [
             0.8,
             "#7fbc41"
            ],
            [
             0.9,
             "#4d9221"
            ],
            [
             1,
             "#276419"
            ]
           ],
           "sequential": [
            [
             0,
             "#0d0887"
            ],
            [
             0.1111111111111111,
             "#46039f"
            ],
            [
             0.2222222222222222,
             "#7201a8"
            ],
            [
             0.3333333333333333,
             "#9c179e"
            ],
            [
             0.4444444444444444,
             "#bd3786"
            ],
            [
             0.5555555555555556,
             "#d8576b"
            ],
            [
             0.6666666666666666,
             "#ed7953"
            ],
            [
             0.7777777777777778,
             "#fb9f3a"
            ],
            [
             0.8888888888888888,
             "#fdca26"
            ],
            [
             1,
             "#f0f921"
            ]
           ],
           "sequentialminus": [
            [
             0,
             "#0d0887"
            ],
            [
             0.1111111111111111,
             "#46039f"
            ],
            [
             0.2222222222222222,
             "#7201a8"
            ],
            [
             0.3333333333333333,
             "#9c179e"
            ],
            [
             0.4444444444444444,
             "#bd3786"
            ],
            [
             0.5555555555555556,
             "#d8576b"
            ],
            [
             0.6666666666666666,
             "#ed7953"
            ],
            [
             0.7777777777777778,
             "#fb9f3a"
            ],
            [
             0.8888888888888888,
             "#fdca26"
            ],
            [
             1,
             "#f0f921"
            ]
           ]
          },
          "colorway": [
           "#636efa",
           "#EF553B",
           "#00cc96",
           "#ab63fa",
           "#FFA15A",
           "#19d3f3",
           "#FF6692",
           "#B6E880",
           "#FF97FF",
           "#FECB52"
          ],
          "font": {
           "color": "#2a3f5f"
          },
          "geo": {
           "bgcolor": "white",
           "lakecolor": "white",
           "landcolor": "#E5ECF6",
           "showlakes": true,
           "showland": true,
           "subunitcolor": "white"
          },
          "hoverlabel": {
           "align": "left"
          },
          "hovermode": "closest",
          "mapbox": {
           "style": "light"
          },
          "paper_bgcolor": "white",
          "plot_bgcolor": "#E5ECF6",
          "polar": {
           "angularaxis": {
            "gridcolor": "white",
            "linecolor": "white",
            "ticks": ""
           },
           "bgcolor": "#E5ECF6",
           "radialaxis": {
            "gridcolor": "white",
            "linecolor": "white",
            "ticks": ""
           }
          },
          "scene": {
           "xaxis": {
            "backgroundcolor": "#E5ECF6",
            "gridcolor": "white",
            "gridwidth": 2,
            "linecolor": "white",
            "showbackground": true,
            "ticks": "",
            "zerolinecolor": "white"
           },
           "yaxis": {
            "backgroundcolor": "#E5ECF6",
            "gridcolor": "white",
            "gridwidth": 2,
            "linecolor": "white",
            "showbackground": true,
            "ticks": "",
            "zerolinecolor": "white"
           },
           "zaxis": {
            "backgroundcolor": "#E5ECF6",
            "gridcolor": "white",
            "gridwidth": 2,
            "linecolor": "white",
            "showbackground": true,
            "ticks": "",
            "zerolinecolor": "white"
           }
          },
          "shapedefaults": {
           "line": {
            "color": "#2a3f5f"
           }
          },
          "ternary": {
           "aaxis": {
            "gridcolor": "white",
            "linecolor": "white",
            "ticks": ""
           },
           "baxis": {
            "gridcolor": "white",
            "linecolor": "white",
            "ticks": ""
           },
           "bgcolor": "#E5ECF6",
           "caxis": {
            "gridcolor": "white",
            "linecolor": "white",
            "ticks": ""
           }
          },
          "title": {
           "x": 0.05
          },
          "xaxis": {
           "automargin": true,
           "gridcolor": "white",
           "linecolor": "white",
           "ticks": "",
           "title": {
            "standoff": 15
           },
           "zerolinecolor": "white",
           "zerolinewidth": 2
          },
          "yaxis": {
           "automargin": true,
           "gridcolor": "white",
           "linecolor": "white",
           "ticks": "",
           "title": {
            "standoff": 15
           },
           "zerolinecolor": "white",
           "zerolinewidth": 2
          }
         }
        },
        "title": {
         "text": "Proportion of Unique Species by Observer (Forest)"
        }
       }
      }
     },
     "metadata": {},
     "output_type": "display_data"
    }
   ],
   "source": [
    "# Create a pie chart for observer trends (forest)\n",
    "fig_observer_forest_pie = px.pie(observer_species_count, values='Unique_Species_Count', names='Observer_forest', title='Proportion of Unique Species by Observer (Forest)',\n",
    "                                color_discrete_sequence=px.colors.qualitative.Pastel) # Example: Using Pastel color scheme\n",
    "fig_observer_forest_pie.show()"
   ]
  },
  {
   "cell_type": "markdown",
   "id": "b3028f7d",
   "metadata": {},
   "source": [
    "##### Pie chart visualization for Observer trends of grassland"
   ]
  },
  {
   "cell_type": "code",
   "execution_count": 43,
   "id": "ee89adcf",
   "metadata": {},
   "outputs": [
    {
     "data": {
      "application/vnd.plotly.v1+json": {
       "config": {
        "plotlyServerURL": "https://plot.ly"
       },
       "data": [
        {
         "domain": {
          "x": [
           0,
           1
          ],
          "y": [
           0,
           1
          ]
         },
         "hovertemplate": "Observer_grassland=%{label}<br>Unique_Species_Count=%{value}<extra></extra>",
         "labels": [
          "Brian Swimelar",
          "Elizabeth Oswald",
          "Kimberly Serno"
         ],
         "legendgroup": "",
         "name": "",
         "showlegend": true,
         "type": "pie",
         "values": {
          "bdata": "QWJL",
          "dtype": "i1"
         }
        }
       ],
       "layout": {
        "legend": {
         "tracegroupgap": 0
        },
        "piecolorway": [
         "rgb(102, 197, 204)",
         "rgb(246, 207, 113)",
         "rgb(248, 156, 116)",
         "rgb(220, 176, 242)",
         "rgb(135, 197, 95)",
         "rgb(158, 185, 243)",
         "rgb(254, 136, 177)",
         "rgb(201, 219, 116)",
         "rgb(139, 224, 164)",
         "rgb(180, 151, 231)",
         "rgb(179, 179, 179)"
        ],
        "template": {
         "data": {
          "bar": [
           {
            "error_x": {
             "color": "#2a3f5f"
            },
            "error_y": {
             "color": "#2a3f5f"
            },
            "marker": {
             "line": {
              "color": "#E5ECF6",
              "width": 0.5
             },
             "pattern": {
              "fillmode": "overlay",
              "size": 10,
              "solidity": 0.2
             }
            },
            "type": "bar"
           }
          ],
          "barpolar": [
           {
            "marker": {
             "line": {
              "color": "#E5ECF6",
              "width": 0.5
             },
             "pattern": {
              "fillmode": "overlay",
              "size": 10,
              "solidity": 0.2
             }
            },
            "type": "barpolar"
           }
          ],
          "carpet": [
           {
            "aaxis": {
             "endlinecolor": "#2a3f5f",
             "gridcolor": "white",
             "linecolor": "white",
             "minorgridcolor": "white",
             "startlinecolor": "#2a3f5f"
            },
            "baxis": {
             "endlinecolor": "#2a3f5f",
             "gridcolor": "white",
             "linecolor": "white",
             "minorgridcolor": "white",
             "startlinecolor": "#2a3f5f"
            },
            "type": "carpet"
           }
          ],
          "choropleth": [
           {
            "colorbar": {
             "outlinewidth": 0,
             "ticks": ""
            },
            "type": "choropleth"
           }
          ],
          "contour": [
           {
            "colorbar": {
             "outlinewidth": 0,
             "ticks": ""
            },
            "colorscale": [
             [
              0,
              "#0d0887"
             ],
             [
              0.1111111111111111,
              "#46039f"
             ],
             [
              0.2222222222222222,
              "#7201a8"
             ],
             [
              0.3333333333333333,
              "#9c179e"
             ],
             [
              0.4444444444444444,
              "#bd3786"
             ],
             [
              0.5555555555555556,
              "#d8576b"
             ],
             [
              0.6666666666666666,
              "#ed7953"
             ],
             [
              0.7777777777777778,
              "#fb9f3a"
             ],
             [
              0.8888888888888888,
              "#fdca26"
             ],
             [
              1,
              "#f0f921"
             ]
            ],
            "type": "contour"
           }
          ],
          "contourcarpet": [
           {
            "colorbar": {
             "outlinewidth": 0,
             "ticks": ""
            },
            "type": "contourcarpet"
           }
          ],
          "heatmap": [
           {
            "colorbar": {
             "outlinewidth": 0,
             "ticks": ""
            },
            "colorscale": [
             [
              0,
              "#0d0887"
             ],
             [
              0.1111111111111111,
              "#46039f"
             ],
             [
              0.2222222222222222,
              "#7201a8"
             ],
             [
              0.3333333333333333,
              "#9c179e"
             ],
             [
              0.4444444444444444,
              "#bd3786"
             ],
             [
              0.5555555555555556,
              "#d8576b"
             ],
             [
              0.6666666666666666,
              "#ed7953"
             ],
             [
              0.7777777777777778,
              "#fb9f3a"
             ],
             [
              0.8888888888888888,
              "#fdca26"
             ],
             [
              1,
              "#f0f921"
             ]
            ],
            "type": "heatmap"
           }
          ],
          "histogram": [
           {
            "marker": {
             "pattern": {
              "fillmode": "overlay",
              "size": 10,
              "solidity": 0.2
             }
            },
            "type": "histogram"
           }
          ],
          "histogram2d": [
           {
            "colorbar": {
             "outlinewidth": 0,
             "ticks": ""
            },
            "colorscale": [
             [
              0,
              "#0d0887"
             ],
             [
              0.1111111111111111,
              "#46039f"
             ],
             [
              0.2222222222222222,
              "#7201a8"
             ],
             [
              0.3333333333333333,
              "#9c179e"
             ],
             [
              0.4444444444444444,
              "#bd3786"
             ],
             [
              0.5555555555555556,
              "#d8576b"
             ],
             [
              0.6666666666666666,
              "#ed7953"
             ],
             [
              0.7777777777777778,
              "#fb9f3a"
             ],
             [
              0.8888888888888888,
              "#fdca26"
             ],
             [
              1,
              "#f0f921"
             ]
            ],
            "type": "histogram2d"
           }
          ],
          "histogram2dcontour": [
           {
            "colorbar": {
             "outlinewidth": 0,
             "ticks": ""
            },
            "colorscale": [
             [
              0,
              "#0d0887"
             ],
             [
              0.1111111111111111,
              "#46039f"
             ],
             [
              0.2222222222222222,
              "#7201a8"
             ],
             [
              0.3333333333333333,
              "#9c179e"
             ],
             [
              0.4444444444444444,
              "#bd3786"
             ],
             [
              0.5555555555555556,
              "#d8576b"
             ],
             [
              0.6666666666666666,
              "#ed7953"
             ],
             [
              0.7777777777777778,
              "#fb9f3a"
             ],
             [
              0.8888888888888888,
              "#fdca26"
             ],
             [
              1,
              "#f0f921"
             ]
            ],
            "type": "histogram2dcontour"
           }
          ],
          "mesh3d": [
           {
            "colorbar": {
             "outlinewidth": 0,
             "ticks": ""
            },
            "type": "mesh3d"
           }
          ],
          "parcoords": [
           {
            "line": {
             "colorbar": {
              "outlinewidth": 0,
              "ticks": ""
             }
            },
            "type": "parcoords"
           }
          ],
          "pie": [
           {
            "automargin": true,
            "type": "pie"
           }
          ],
          "scatter": [
           {
            "fillpattern": {
             "fillmode": "overlay",
             "size": 10,
             "solidity": 0.2
            },
            "type": "scatter"
           }
          ],
          "scatter3d": [
           {
            "line": {
             "colorbar": {
              "outlinewidth": 0,
              "ticks": ""
             }
            },
            "marker": {
             "colorbar": {
              "outlinewidth": 0,
              "ticks": ""
             }
            },
            "type": "scatter3d"
           }
          ],
          "scattercarpet": [
           {
            "marker": {
             "colorbar": {
              "outlinewidth": 0,
              "ticks": ""
             }
            },
            "type": "scattercarpet"
           }
          ],
          "scattergeo": [
           {
            "marker": {
             "colorbar": {
              "outlinewidth": 0,
              "ticks": ""
             }
            },
            "type": "scattergeo"
           }
          ],
          "scattergl": [
           {
            "marker": {
             "colorbar": {
              "outlinewidth": 0,
              "ticks": ""
             }
            },
            "type": "scattergl"
           }
          ],
          "scattermap": [
           {
            "marker": {
             "colorbar": {
              "outlinewidth": 0,
              "ticks": ""
             }
            },
            "type": "scattermap"
           }
          ],
          "scattermapbox": [
           {
            "marker": {
             "colorbar": {
              "outlinewidth": 0,
              "ticks": ""
             }
            },
            "type": "scattermapbox"
           }
          ],
          "scatterpolar": [
           {
            "marker": {
             "colorbar": {
              "outlinewidth": 0,
              "ticks": ""
             }
            },
            "type": "scatterpolar"
           }
          ],
          "scatterpolargl": [
           {
            "marker": {
             "colorbar": {
              "outlinewidth": 0,
              "ticks": ""
             }
            },
            "type": "scatterpolargl"
           }
          ],
          "scatterternary": [
           {
            "marker": {
             "colorbar": {
              "outlinewidth": 0,
              "ticks": ""
             }
            },
            "type": "scatterternary"
           }
          ],
          "surface": [
           {
            "colorbar": {
             "outlinewidth": 0,
             "ticks": ""
            },
            "colorscale": [
             [
              0,
              "#0d0887"
             ],
             [
              0.1111111111111111,
              "#46039f"
             ],
             [
              0.2222222222222222,
              "#7201a8"
             ],
             [
              0.3333333333333333,
              "#9c179e"
             ],
             [
              0.4444444444444444,
              "#bd3786"
             ],
             [
              0.5555555555555556,
              "#d8576b"
             ],
             [
              0.6666666666666666,
              "#ed7953"
             ],
             [
              0.7777777777777778,
              "#fb9f3a"
             ],
             [
              0.8888888888888888,
              "#fdca26"
             ],
             [
              1,
              "#f0f921"
             ]
            ],
            "type": "surface"
           }
          ],
          "table": [
           {
            "cells": {
             "fill": {
              "color": "#EBF0F8"
             },
             "line": {
              "color": "white"
             }
            },
            "header": {
             "fill": {
              "color": "#C8D4E3"
             },
             "line": {
              "color": "white"
             }
            },
            "type": "table"
           }
          ]
         },
         "layout": {
          "annotationdefaults": {
           "arrowcolor": "#2a3f5f",
           "arrowhead": 0,
           "arrowwidth": 1
          },
          "autotypenumbers": "strict",
          "coloraxis": {
           "colorbar": {
            "outlinewidth": 0,
            "ticks": ""
           }
          },
          "colorscale": {
           "diverging": [
            [
             0,
             "#8e0152"
            ],
            [
             0.1,
             "#c51b7d"
            ],
            [
             0.2,
             "#de77ae"
            ],
            [
             0.3,
             "#f1b6da"
            ],
            [
             0.4,
             "#fde0ef"
            ],
            [
             0.5,
             "#f7f7f7"
            ],
            [
             0.6,
             "#e6f5d0"
            ],
            [
             0.7,
             "#b8e186"
            ],
            [
             0.8,
             "#7fbc41"
            ],
            [
             0.9,
             "#4d9221"
            ],
            [
             1,
             "#276419"
            ]
           ],
           "sequential": [
            [
             0,
             "#0d0887"
            ],
            [
             0.1111111111111111,
             "#46039f"
            ],
            [
             0.2222222222222222,
             "#7201a8"
            ],
            [
             0.3333333333333333,
             "#9c179e"
            ],
            [
             0.4444444444444444,
             "#bd3786"
            ],
            [
             0.5555555555555556,
             "#d8576b"
            ],
            [
             0.6666666666666666,
             "#ed7953"
            ],
            [
             0.7777777777777778,
             "#fb9f3a"
            ],
            [
             0.8888888888888888,
             "#fdca26"
            ],
            [
             1,
             "#f0f921"
            ]
           ],
           "sequentialminus": [
            [
             0,
             "#0d0887"
            ],
            [
             0.1111111111111111,
             "#46039f"
            ],
            [
             0.2222222222222222,
             "#7201a8"
            ],
            [
             0.3333333333333333,
             "#9c179e"
            ],
            [
             0.4444444444444444,
             "#bd3786"
            ],
            [
             0.5555555555555556,
             "#d8576b"
            ],
            [
             0.6666666666666666,
             "#ed7953"
            ],
            [
             0.7777777777777778,
             "#fb9f3a"
            ],
            [
             0.8888888888888888,
             "#fdca26"
            ],
            [
             1,
             "#f0f921"
            ]
           ]
          },
          "colorway": [
           "#636efa",
           "#EF553B",
           "#00cc96",
           "#ab63fa",
           "#FFA15A",
           "#19d3f3",
           "#FF6692",
           "#B6E880",
           "#FF97FF",
           "#FECB52"
          ],
          "font": {
           "color": "#2a3f5f"
          },
          "geo": {
           "bgcolor": "white",
           "lakecolor": "white",
           "landcolor": "#E5ECF6",
           "showlakes": true,
           "showland": true,
           "subunitcolor": "white"
          },
          "hoverlabel": {
           "align": "left"
          },
          "hovermode": "closest",
          "mapbox": {
           "style": "light"
          },
          "paper_bgcolor": "white",
          "plot_bgcolor": "#E5ECF6",
          "polar": {
           "angularaxis": {
            "gridcolor": "white",
            "linecolor": "white",
            "ticks": ""
           },
           "bgcolor": "#E5ECF6",
           "radialaxis": {
            "gridcolor": "white",
            "linecolor": "white",
            "ticks": ""
           }
          },
          "scene": {
           "xaxis": {
            "backgroundcolor": "#E5ECF6",
            "gridcolor": "white",
            "gridwidth": 2,
            "linecolor": "white",
            "showbackground": true,
            "ticks": "",
            "zerolinecolor": "white"
           },
           "yaxis": {
            "backgroundcolor": "#E5ECF6",
            "gridcolor": "white",
            "gridwidth": 2,
            "linecolor": "white",
            "showbackground": true,
            "ticks": "",
            "zerolinecolor": "white"
           },
           "zaxis": {
            "backgroundcolor": "#E5ECF6",
            "gridcolor": "white",
            "gridwidth": 2,
            "linecolor": "white",
            "showbackground": true,
            "ticks": "",
            "zerolinecolor": "white"
           }
          },
          "shapedefaults": {
           "line": {
            "color": "#2a3f5f"
           }
          },
          "ternary": {
           "aaxis": {
            "gridcolor": "white",
            "linecolor": "white",
            "ticks": ""
           },
           "baxis": {
            "gridcolor": "white",
            "linecolor": "white",
            "ticks": ""
           },
           "bgcolor": "#E5ECF6",
           "caxis": {
            "gridcolor": "white",
            "linecolor": "white",
            "ticks": ""
           }
          },
          "title": {
           "x": 0.05
          },
          "xaxis": {
           "automargin": true,
           "gridcolor": "white",
           "linecolor": "white",
           "ticks": "",
           "title": {
            "standoff": 15
           },
           "zerolinecolor": "white",
           "zerolinewidth": 2
          },
          "yaxis": {
           "automargin": true,
           "gridcolor": "white",
           "linecolor": "white",
           "ticks": "",
           "title": {
            "standoff": 15
           },
           "zerolinecolor": "white",
           "zerolinewidth": 2
          }
         }
        },
        "title": {
         "text": "Proportion of Unique Species by Observer (Grassland)"
        }
       }
      }
     },
     "metadata": {},
     "output_type": "display_data"
    }
   ],
   "source": [
    "# Create a pie chart for observer trends (grassland)\n",
    "fig_observer_grassland_pie = px.pie(observer_species_count_grassland, values='Unique_Species_Count', names='Observer_grassland', title='Proportion of Unique Species by Observer (Grassland)',\n",
    "                                  color_discrete_sequence=px.colors.qualitative.Pastel) # Example: Using Plotly color scheme\n",
    "fig_observer_grassland_pie.show()"
   ]
  },
  {
   "cell_type": "markdown",
   "id": "4cc0cf08",
   "metadata": {},
   "source": [
    "##### Analyze the visit patterns of unique species in forest"
   ]
  },
  {
   "cell_type": "code",
   "execution_count": 44,
   "id": "a80d7ea4",
   "metadata": {},
   "outputs": [
    {
     "name": "stdout",
     "output_type": "stream",
     "text": [
      "Unique species count by Visit (Forest):\n",
      "   Visit_forest  Unique_Species_Count\n",
      "0           0.0                    18\n",
      "1           1.0                   100\n",
      "2           2.0                    84\n"
     ]
    }
   ],
   "source": [
    "# Analyze Visit Patterns\n",
    "visit_species_count_forest = merged_df[merged_df['Visit_forest'] != 'Unknown'].groupby('Visit_forest')['AcceptedTSN'].nunique().reset_index()\n",
    "visit_species_count_forest.rename(columns={'AcceptedTSN': 'Unique_Species_Count'}, inplace=True)\n",
    "print(\"Unique species count by Visit (Forest):\")\n",
    "print(visit_species_count_forest)"
   ]
  },
  {
   "cell_type": "markdown",
   "id": "297f792e",
   "metadata": {},
   "source": [
    "##### Analyze the visit patterns of unique species in grassland"
   ]
  },
  {
   "cell_type": "code",
   "execution_count": 45,
   "id": "7022fadd",
   "metadata": {},
   "outputs": [
    {
     "name": "stdout",
     "output_type": "stream",
     "text": [
      "Unique species count by Visit (Grassland):\n",
      "   Visit_grassland  Unique_Species_Count\n",
      "0                1                    96\n",
      "1                2                    81\n",
      "2                3                    74\n"
     ]
    }
   ],
   "source": [
    "visit_species_count_grassland = merged_df[merged_df['Visit_grassland'] != 'Unknown'].groupby('Visit_grassland')['AcceptedTSN'].nunique().reset_index()\n",
    "visit_species_count_grassland.rename(columns={'AcceptedTSN': 'Unique_Species_Count'}, inplace=True)\n",
    "print(\"Unique species count by Visit (Grassland):\")\n",
    "print(visit_species_count_grassland)"
   ]
  },
  {
   "cell_type": "markdown",
   "id": "434a8d89",
   "metadata": {},
   "source": [
    "### Environmental Conditions"
   ]
  },
  {
   "cell_type": "markdown",
   "id": "2501b9f1",
   "metadata": {},
   "source": [
    "##### Analyze the unique species observed in different temperature in forest"
   ]
  },
  {
   "cell_type": "code",
   "execution_count": 46,
   "id": "0199987d",
   "metadata": {},
   "outputs": [
    {
     "name": "stdout",
     "output_type": "stream",
     "text": [
      "Unique species count by Temperature (Forest):\n",
      "    Temperature_forest (°C)  Unique_Species_Count\n",
      "73                22.000000                    46\n",
      "37                18.400000                    42\n",
      "52                19.900000                    41\n",
      "59                20.600000                    40\n",
      "85                23.200001                    40\n"
     ]
    }
   ],
   "source": [
    "# Analyze Environmental Conditions (Weather Correlation)\n",
    "# Analyze average number of unique species by temperature (forest)\n",
    "avg_species_temp_forest = merged_df[merged_df['Temperature_forest'] != 0].groupby('Temperature_forest')['AcceptedTSN'].nunique().reset_index()\n",
    "avg_species_temp_forest.rename(columns={'AcceptedTSN': 'Unique_Species_Count', 'Temperature_forest': 'Temperature_forest (°C)'}, inplace=True)\n",
    "print(\"Unique species count by Temperature (Forest):\")\n",
    "print(avg_species_temp_forest.sort_values(by='Unique_Species_Count', ascending=False).head())"
   ]
  },
  {
   "cell_type": "markdown",
   "id": "4f596b57",
   "metadata": {},
   "source": [
    "##### Analyze the number of unique species observed in different humidity in forest"
   ]
  },
  {
   "cell_type": "code",
   "execution_count": 47,
   "id": "fdcb7fb7",
   "metadata": {},
   "outputs": [
    {
     "name": "stdout",
     "output_type": "stream",
     "text": [
      "\n",
      "Unique species count by Humidity (Forest):\n",
      "     Humidity_forest  Unique_Species_Count\n",
      "155        77.500000                    44\n",
      "218        84.199997                    35\n",
      "168        78.800003                    34\n",
      "207        83.099998                    33\n",
      "227        85.099998                    32\n"
     ]
    }
   ],
   "source": [
    "# Analyze average number of unique species by humidity (forest)\n",
    "avg_species_humidity_forest = merged_df[merged_df['Humidity_forest'] != 0].groupby('Humidity_forest')['AcceptedTSN'].nunique().reset_index()\n",
    "avg_species_humidity_forest.rename(columns={'AcceptedTSN': 'Unique_Species_Count'}, inplace=True)\n",
    "print(\"\\nUnique species count by Humidity (Forest):\")\n",
    "print(avg_species_humidity_forest.sort_values(by='Unique_Species_Count', ascending=False).head())"
   ]
  },
  {
   "cell_type": "markdown",
   "id": "607792fe",
   "metadata": {},
   "source": [
    "##### Analyze the number of unique species observed in different sky condition in forest"
   ]
  },
  {
   "cell_type": "code",
   "execution_count": 48,
   "id": "104cdba8",
   "metadata": {},
   "outputs": [
    {
     "name": "stdout",
     "output_type": "stream",
     "text": [
      "\n",
      "Unique species count by Sky Condition (Forest):\n",
      "            Sky_forest  Unique_Species_Count\n",
      "0  Clear or Few Clouds                    95\n",
      "4        Partly Cloudy                    87\n",
      "1      Cloudy/Overcast                    85\n",
      "2                  Fog                    54\n",
      "3         Mist/Drizzle                    42\n"
     ]
    }
   ],
   "source": [
    "# Analyze average number of unique species by sky condition (forest)\n",
    "avg_species_sky_forest = merged_df[merged_df['Sky_forest'] != 'Unknown'].groupby('Sky_forest')['AcceptedTSN'].nunique().reset_index()\n",
    "avg_species_sky_forest.rename(columns={'AcceptedTSN': 'Unique_Species_Count'}, inplace=True)\n",
    "print(\"\\nUnique species count by Sky Condition (Forest):\")\n",
    "print(avg_species_sky_forest.sort_values(by='Unique_Species_Count', ascending=False).head())"
   ]
  },
  {
   "cell_type": "markdown",
   "id": "24142119",
   "metadata": {},
   "source": [
    "##### Analyze the number of unique species observed in different wind condition in forest"
   ]
  },
  {
   "cell_type": "code",
   "execution_count": 49,
   "id": "58ec447b",
   "metadata": {
    "lines_to_next_cell": 2
   },
   "outputs": [
    {
     "name": "stdout",
     "output_type": "stream",
     "text": [
      "\n",
      "Unique species count by Wind Condition (Forest):\n",
      "                                  Wind_forest  Unique_Species_Count\n",
      "2   Light air movement (1-3 mph) smoke drifts                    98\n",
      "0       Calm (< 1 mph) smoke rises vertically                    86\n",
      "3    Light breeze (4-7 mph) wind felt on face                    76\n",
      "1  Gentle breeze (8-12 mph), leaves in motion                    44\n"
     ]
    }
   ],
   "source": [
    "# Analyze average number of unique species by wind condition (forest)\n",
    "avg_species_wind_forest = merged_df[merged_df['Wind_forest'] != 'Unknown'].groupby('Wind_forest')['AcceptedTSN'].nunique().reset_index()\n",
    "avg_species_wind_forest.rename(columns={'AcceptedTSN': 'Unique_Species_Count'}, inplace=True)\n",
    "print(\"\\nUnique species count by Wind Condition (Forest):\")\n",
    "print(avg_species_wind_forest.sort_values(by='Unique_Species_Count', ascending=False).head())"
   ]
  },
  {
   "cell_type": "markdown",
   "id": "fc03a795",
   "metadata": {},
   "source": [
    "##### Analyze the unique species observed in different temperature in grassland"
   ]
  },
  {
   "cell_type": "code",
   "execution_count": 50,
   "id": "d2dfd79a",
   "metadata": {},
   "outputs": [
    {
     "name": "stdout",
     "output_type": "stream",
     "text": [
      "\n",
      "Unique species count by Temperature (Grassland):\n",
      "    Temperature_grassland (°C)  Unique_Species_Count\n",
      "74                        22.0                    45\n",
      "90                        23.6                    43\n",
      "71                        21.6                    42\n",
      "80                        22.6                    42\n",
      "45                        19.0                    39\n"
     ]
    }
   ],
   "source": [
    "# Analyze average number of unique species by temperature (grassland)\n",
    "avg_species_temp_grassland = merged_df[merged_df['Temperature_grassland'] != 0].groupby('Temperature_grassland')['AcceptedTSN'].nunique().reset_index()\n",
    "avg_species_temp_grassland.rename(columns={'AcceptedTSN': 'Unique_Species_Count', 'Temperature_grassland': 'Temperature_grassland (°C)'}, inplace=True)\n",
    "print(\"\\nUnique species count by Temperature (Grassland):\")\n",
    "print(avg_species_temp_grassland.sort_values(by='Unique_Species_Count', ascending=False).head())"
   ]
  },
  {
   "cell_type": "markdown",
   "id": "5a22d6cb",
   "metadata": {},
   "source": [
    "##### Analyze the number of unique species observed in different humidity in grassland"
   ]
  },
  {
   "cell_type": "code",
   "execution_count": 51,
   "id": "166d45f2",
   "metadata": {},
   "outputs": [
    {
     "name": "stdout",
     "output_type": "stream",
     "text": [
      "\n",
      "Unique species count by Humidity (Grassland):\n",
      "     Humidity_grassland  Unique_Species_Count\n",
      "225           77.500000                    35\n",
      "236           79.000000                    34\n",
      "164           68.599998                    32\n",
      "175           70.000000                    32\n",
      "118           63.000000                    31\n"
     ]
    }
   ],
   "source": [
    "# Analyze average number of unique species by humidity (grassland)\n",
    "avg_species_humidity_grassland = merged_df[merged_df['Humidity_grassland'] != 0].groupby('Humidity_grassland')['AcceptedTSN'].nunique().reset_index()\n",
    "avg_species_humidity_grassland.rename(columns={'AcceptedTSN': 'Unique_Species_Count'}, inplace=True)\n",
    "print(\"\\nUnique species count by Humidity (Grassland):\")\n",
    "print(avg_species_humidity_grassland.sort_values(by='Unique_Species_Count', ascending=False).head())"
   ]
  },
  {
   "cell_type": "markdown",
   "id": "768f595a",
   "metadata": {},
   "source": [
    "##### Analyze the number of unique species observed in different sky condition in grassland"
   ]
  },
  {
   "cell_type": "code",
   "execution_count": 52,
   "id": "4a251402",
   "metadata": {},
   "outputs": [
    {
     "name": "stdout",
     "output_type": "stream",
     "text": [
      "\n",
      "Unique species count by Sky Condition (Grassland):\n",
      "         Sky_grassland  Unique_Species_Count\n",
      "4        Partly Cloudy                    92\n",
      "0  Clear or Few Clouds                    82\n",
      "1      Cloudy/Overcast                    74\n",
      "2                  Fog                    38\n",
      "3         Mist/Drizzle                    33\n"
     ]
    }
   ],
   "source": [
    "# Analyze average number of unique species by sky condition (grassland)\n",
    "avg_species_sky_grassland = merged_df[merged_df['Sky_grassland'] != 'Unknown'].groupby('Sky_grassland')['AcceptedTSN'].nunique().reset_index()\n",
    "avg_species_sky_grassland.rename(columns={'AcceptedTSN': 'Unique_Species_Count'}, inplace=True)\n",
    "print(\"\\nUnique species count by Sky Condition (Grassland):\")\n",
    "print(avg_species_sky_grassland.sort_values(by='Unique_Species_Count', ascending=False).head())"
   ]
  },
  {
   "cell_type": "markdown",
   "id": "0425da9b",
   "metadata": {},
   "source": [
    "##### Analyze the number of unique species observed in different wind condition in grassland"
   ]
  },
  {
   "cell_type": "code",
   "execution_count": 53,
   "id": "583baad1",
   "metadata": {},
   "outputs": [
    {
     "name": "stdout",
     "output_type": "stream",
     "text": [
      "\n",
      "Unique species count by Wind Condition (Grassland):\n",
      "                               Wind_grassland  Unique_Species_Count\n",
      "2   Light air movement (1-3 mph) smoke drifts                    95\n",
      "3    Light breeze (4-7 mph) wind felt on face                    88\n",
      "0       Calm (< 1 mph) smoke rises vertically                    74\n",
      "1  Gentle breeze (8-12 mph), leaves in motion                    49\n"
     ]
    }
   ],
   "source": [
    "# Analyze average number of unique species by wind condition (grassland)\n",
    "avg_species_wind_grassland = merged_df[merged_df['Wind_grassland'] != 'Unknown'].groupby('Wind_grassland')['AcceptedTSN'].nunique().reset_index()\n",
    "avg_species_wind_grassland.rename(columns={'AcceptedTSN': 'Unique_Species_Count'}, inplace=True)\n",
    "print(\"\\nUnique species count by Wind Condition (Grassland):\")\n",
    "print(avg_species_wind_grassland.sort_values(by='Unique_Species_Count', ascending=False).head())"
   ]
  },
  {
   "cell_type": "markdown",
   "id": "03fb6b69",
   "metadata": {},
   "source": [
    "## Visualization of temperature, humidity, sky conditions and wind conditions of forest"
   ]
  },
  {
   "cell_type": "code",
   "execution_count": 54,
   "id": "7e93b577",
   "metadata": {},
   "outputs": [
    {
     "data": {
      "application/vnd.plotly.v1+json": {
       "config": {
        "plotlyServerURL": "https://plot.ly"
       },
       "data": [
        {
         "hovertemplate": "Temperature_forest (°C)=%{x}<br>Unique_Species_Count=%{y}<extra></extra>",
         "legendgroup": "",
         "marker": {
          "color": "#636efa",
          "symbol": "circle"
         },
         "mode": "markers",
         "name": "",
         "orientation": "v",
         "showlegend": false,
         "type": "scatter",
         "x": {
          "bdata": "AAAAAAAAJkDr//9fZmYmQBUAAKCZmStADwAAwMzMK0AAAAAAAAAsQBUAAKCZmSxADwAAwMzMLEAAAAAAAAAtQBUAAKCZmS1AAAAAAAAALkDx//8/MzMuQOv//19mZi5ADwAAwMzMLkAAAAAAAAAvQPH//z8zMy9AAAAAAAAAMED5//+fmRkwQAcAAGBmZjBAAAAAAACAMED5//+fmZkwQA0AAEAzszBA8///v8zMMEAHAABgZuYwQAAAAAAAADFA+f//n5kZMUANAABAMzMxQPP//7/MTDFABwAAYGZmMUAAAAAAAIAxQPn//5+ZmTFADQAAQDOzMUDz//+/zMwxQAcAAGBm5jFAAAAAAAAAMkD5//+fmRkyQA0AAEAzMzJA8///v8xMMkAHAABgZmYyQAAAAAAAgDJA+f//n5mZMkANAABAM7MyQPP//7/MzDJABwAAYGbmMkAAAAAAAAAzQPn//5+ZGTNADQAAQDMzM0Dz//+/zEwzQAcAAGBmZjNAAAAAAACAM0D5//+fmZkzQA0AAEAzszNA8///v8zMM0AHAABgZuYzQAAAAAAAADRA+f//n5kZNEANAABAMzM0QPP//7/MTDRABwAAYGZmNEAAAAAAAIA0QPn//5+ZmTRADQAAQDOzNEDz//+/zMw0QAcAAGBm5jRAAAAAAAAANUD5//+fmRk1QA0AAEAzMzVA8///v8xMNUAHAABgZmY1QAAAAAAAgDVA+f//n5mZNUANAABAM7M1QPP//7/MzDVABwAAYGbmNUAAAAAAAAA2QPn//5+ZGTZADQAAQDMzNkDz//+/zEw2QAcAAGBmZjZAAAAAAACANkD5//+fmZk2QA0AAEAzszZA8///v8zMNkAHAABgZuY2QAAAAAAAADdA+f//n5kZN0ANAABAMzM3QPP//7/MTDdABwAAYGZmN0AAAAAAAIA3QPn//5+ZmTdADQAAQDOzN0Dz//+/zMw3QAcAAGBm5jdAAAAAAAAAOED5//+fmRk4QA0AAEAzMzhA8///v8xMOEAHAABgZmY4QAAAAAAAgDhA+f//n5mZOEANAABAM7M4QPP//7/MzDhABwAAYGbmOEAAAAAAAAA5QPn//5+ZGTlADQAAQDMzOUDz//+/zEw5QAcAAGBmZjlAAAAAAACAOUD5//+fmZk5QA0AAEAzszlA8///v8zMOUAHAABgZuY5QAAAAAAAADpA+f//n5kZOkANAABAMzM6QPP//7/MTDpABwAAYGZmOkAAAAAAAIA6QPn//5+ZmTpADQAAQDOzOkDz//+/zMw6QAcAAGBm5jpAAAAAAAAAO0D5//+fmRk7QA0AAEAzMztA8///v8xMO0AHAABgZmY7QAAAAAAAgDtA+f//n5mZO0Dz//+/zMw7QAcAAGBm5jtAAAAAAAAAPEANAABAMzM8QPP//7/MTDxABwAAYGZmPEAAAAAAAIA8QPn//5+ZmTxA8///v8zMPEAHAABgZuY8QAAAAAAAAD1A+f//n5kZPUANAABAMzM9QPP//7/MTD1ABwAAYGZmPUD5//+fmZk9QA0AAEAzsz1AAAAAAAAAPkAAAAAAAIA+QPn//5+ZmT5ADQAAQDOzPkAHAABgZuY+QAAAAAAAAD9ADQAAQDMzP0AAAAAAAIA/QAAAAAAAAEBAAQAAwMwMQEAAAAAAAIBAQAEAAMDMzEBA////PzMzQUA=",
          "dtype": "f8"
         },
         "xaxis": "x",
         "y": {
          "bdata": "BQUNBhsNDA0ZHQwfEBMTGBEHHwoODxYREBkcChQfHSIcIg8NGSocHh4SFxAaIBwhGSMgFiknGBkWJBsoGSMmJRkfJCAeJx8mGy4YIRskIyIaHxslHSgPFx8dHRgOHSQaIh4eFhkXHx0VHxUhHBEYEBIZEhQVFBATFBIQDgwVExITGBUPEhcFCQgSFxERCwYFDwkJDAoRBQYICwwGCAUJBg==",
          "dtype": "i1"
         },
         "yaxis": "y"
        }
       ],
       "layout": {
        "legend": {
         "tracegroupgap": 0
        },
        "template": {
         "data": {
          "bar": [
           {
            "error_x": {
             "color": "#2a3f5f"
            },
            "error_y": {
             "color": "#2a3f5f"
            },
            "marker": {
             "line": {
              "color": "#E5ECF6",
              "width": 0.5
             },
             "pattern": {
              "fillmode": "overlay",
              "size": 10,
              "solidity": 0.2
             }
            },
            "type": "bar"
           }
          ],
          "barpolar": [
           {
            "marker": {
             "line": {
              "color": "#E5ECF6",
              "width": 0.5
             },
             "pattern": {
              "fillmode": "overlay",
              "size": 10,
              "solidity": 0.2
             }
            },
            "type": "barpolar"
           }
          ],
          "carpet": [
           {
            "aaxis": {
             "endlinecolor": "#2a3f5f",
             "gridcolor": "white",
             "linecolor": "white",
             "minorgridcolor": "white",
             "startlinecolor": "#2a3f5f"
            },
            "baxis": {
             "endlinecolor": "#2a3f5f",
             "gridcolor": "white",
             "linecolor": "white",
             "minorgridcolor": "white",
             "startlinecolor": "#2a3f5f"
            },
            "type": "carpet"
           }
          ],
          "choropleth": [
           {
            "colorbar": {
             "outlinewidth": 0,
             "ticks": ""
            },
            "type": "choropleth"
           }
          ],
          "contour": [
           {
            "colorbar": {
             "outlinewidth": 0,
             "ticks": ""
            },
            "colorscale": [
             [
              0,
              "#0d0887"
             ],
             [
              0.1111111111111111,
              "#46039f"
             ],
             [
              0.2222222222222222,
              "#7201a8"
             ],
             [
              0.3333333333333333,
              "#9c179e"
             ],
             [
              0.4444444444444444,
              "#bd3786"
             ],
             [
              0.5555555555555556,
              "#d8576b"
             ],
             [
              0.6666666666666666,
              "#ed7953"
             ],
             [
              0.7777777777777778,
              "#fb9f3a"
             ],
             [
              0.8888888888888888,
              "#fdca26"
             ],
             [
              1,
              "#f0f921"
             ]
            ],
            "type": "contour"
           }
          ],
          "contourcarpet": [
           {
            "colorbar": {
             "outlinewidth": 0,
             "ticks": ""
            },
            "type": "contourcarpet"
           }
          ],
          "heatmap": [
           {
            "colorbar": {
             "outlinewidth": 0,
             "ticks": ""
            },
            "colorscale": [
             [
              0,
              "#0d0887"
             ],
             [
              0.1111111111111111,
              "#46039f"
             ],
             [
              0.2222222222222222,
              "#7201a8"
             ],
             [
              0.3333333333333333,
              "#9c179e"
             ],
             [
              0.4444444444444444,
              "#bd3786"
             ],
             [
              0.5555555555555556,
              "#d8576b"
             ],
             [
              0.6666666666666666,
              "#ed7953"
             ],
             [
              0.7777777777777778,
              "#fb9f3a"
             ],
             [
              0.8888888888888888,
              "#fdca26"
             ],
             [
              1,
              "#f0f921"
             ]
            ],
            "type": "heatmap"
           }
          ],
          "histogram": [
           {
            "marker": {
             "pattern": {
              "fillmode": "overlay",
              "size": 10,
              "solidity": 0.2
             }
            },
            "type": "histogram"
           }
          ],
          "histogram2d": [
           {
            "colorbar": {
             "outlinewidth": 0,
             "ticks": ""
            },
            "colorscale": [
             [
              0,
              "#0d0887"
             ],
             [
              0.1111111111111111,
              "#46039f"
             ],
             [
              0.2222222222222222,
              "#7201a8"
             ],
             [
              0.3333333333333333,
              "#9c179e"
             ],
             [
              0.4444444444444444,
              "#bd3786"
             ],
             [
              0.5555555555555556,
              "#d8576b"
             ],
             [
              0.6666666666666666,
              "#ed7953"
             ],
             [
              0.7777777777777778,
              "#fb9f3a"
             ],
             [
              0.8888888888888888,
              "#fdca26"
             ],
             [
              1,
              "#f0f921"
             ]
            ],
            "type": "histogram2d"
           }
          ],
          "histogram2dcontour": [
           {
            "colorbar": {
             "outlinewidth": 0,
             "ticks": ""
            },
            "colorscale": [
             [
              0,
              "#0d0887"
             ],
             [
              0.1111111111111111,
              "#46039f"
             ],
             [
              0.2222222222222222,
              "#7201a8"
             ],
             [
              0.3333333333333333,
              "#9c179e"
             ],
             [
              0.4444444444444444,
              "#bd3786"
             ],
             [
              0.5555555555555556,
              "#d8576b"
             ],
             [
              0.6666666666666666,
              "#ed7953"
             ],
             [
              0.7777777777777778,
              "#fb9f3a"
             ],
             [
              0.8888888888888888,
              "#fdca26"
             ],
             [
              1,
              "#f0f921"
             ]
            ],
            "type": "histogram2dcontour"
           }
          ],
          "mesh3d": [
           {
            "colorbar": {
             "outlinewidth": 0,
             "ticks": ""
            },
            "type": "mesh3d"
           }
          ],
          "parcoords": [
           {
            "line": {
             "colorbar": {
              "outlinewidth": 0,
              "ticks": ""
             }
            },
            "type": "parcoords"
           }
          ],
          "pie": [
           {
            "automargin": true,
            "type": "pie"
           }
          ],
          "scatter": [
           {
            "fillpattern": {
             "fillmode": "overlay",
             "size": 10,
             "solidity": 0.2
            },
            "type": "scatter"
           }
          ],
          "scatter3d": [
           {
            "line": {
             "colorbar": {
              "outlinewidth": 0,
              "ticks": ""
             }
            },
            "marker": {
             "colorbar": {
              "outlinewidth": 0,
              "ticks": ""
             }
            },
            "type": "scatter3d"
           }
          ],
          "scattercarpet": [
           {
            "marker": {
             "colorbar": {
              "outlinewidth": 0,
              "ticks": ""
             }
            },
            "type": "scattercarpet"
           }
          ],
          "scattergeo": [
           {
            "marker": {
             "colorbar": {
              "outlinewidth": 0,
              "ticks": ""
             }
            },
            "type": "scattergeo"
           }
          ],
          "scattergl": [
           {
            "marker": {
             "colorbar": {
              "outlinewidth": 0,
              "ticks": ""
             }
            },
            "type": "scattergl"
           }
          ],
          "scattermap": [
           {
            "marker": {
             "colorbar": {
              "outlinewidth": 0,
              "ticks": ""
             }
            },
            "type": "scattermap"
           }
          ],
          "scattermapbox": [
           {
            "marker": {
             "colorbar": {
              "outlinewidth": 0,
              "ticks": ""
             }
            },
            "type": "scattermapbox"
           }
          ],
          "scatterpolar": [
           {
            "marker": {
             "colorbar": {
              "outlinewidth": 0,
              "ticks": ""
             }
            },
            "type": "scatterpolar"
           }
          ],
          "scatterpolargl": [
           {
            "marker": {
             "colorbar": {
              "outlinewidth": 0,
              "ticks": ""
             }
            },
            "type": "scatterpolargl"
           }
          ],
          "scatterternary": [
           {
            "marker": {
             "colorbar": {
              "outlinewidth": 0,
              "ticks": ""
             }
            },
            "type": "scatterternary"
           }
          ],
          "surface": [
           {
            "colorbar": {
             "outlinewidth": 0,
             "ticks": ""
            },
            "colorscale": [
             [
              0,
              "#0d0887"
             ],
             [
              0.1111111111111111,
              "#46039f"
             ],
             [
              0.2222222222222222,
              "#7201a8"
             ],
             [
              0.3333333333333333,
              "#9c179e"
             ],
             [
              0.4444444444444444,
              "#bd3786"
             ],
             [
              0.5555555555555556,
              "#d8576b"
             ],
             [
              0.6666666666666666,
              "#ed7953"
             ],
             [
              0.7777777777777778,
              "#fb9f3a"
             ],
             [
              0.8888888888888888,
              "#fdca26"
             ],
             [
              1,
              "#f0f921"
             ]
            ],
            "type": "surface"
           }
          ],
          "table": [
           {
            "cells": {
             "fill": {
              "color": "#EBF0F8"
             },
             "line": {
              "color": "white"
             }
            },
            "header": {
             "fill": {
              "color": "#C8D4E3"
             },
             "line": {
              "color": "white"
             }
            },
            "type": "table"
           }
          ]
         },
         "layout": {
          "annotationdefaults": {
           "arrowcolor": "#2a3f5f",
           "arrowhead": 0,
           "arrowwidth": 1
          },
          "autotypenumbers": "strict",
          "coloraxis": {
           "colorbar": {
            "outlinewidth": 0,
            "ticks": ""
           }
          },
          "colorscale": {
           "diverging": [
            [
             0,
             "#8e0152"
            ],
            [
             0.1,
             "#c51b7d"
            ],
            [
             0.2,
             "#de77ae"
            ],
            [
             0.3,
             "#f1b6da"
            ],
            [
             0.4,
             "#fde0ef"
            ],
            [
             0.5,
             "#f7f7f7"
            ],
            [
             0.6,
             "#e6f5d0"
            ],
            [
             0.7,
             "#b8e186"
            ],
            [
             0.8,
             "#7fbc41"
            ],
            [
             0.9,
             "#4d9221"
            ],
            [
             1,
             "#276419"
            ]
           ],
           "sequential": [
            [
             0,
             "#0d0887"
            ],
            [
             0.1111111111111111,
             "#46039f"
            ],
            [
             0.2222222222222222,
             "#7201a8"
            ],
            [
             0.3333333333333333,
             "#9c179e"
            ],
            [
             0.4444444444444444,
             "#bd3786"
            ],
            [
             0.5555555555555556,
             "#d8576b"
            ],
            [
             0.6666666666666666,
             "#ed7953"
            ],
            [
             0.7777777777777778,
             "#fb9f3a"
            ],
            [
             0.8888888888888888,
             "#fdca26"
            ],
            [
             1,
             "#f0f921"
            ]
           ],
           "sequentialminus": [
            [
             0,
             "#0d0887"
            ],
            [
             0.1111111111111111,
             "#46039f"
            ],
            [
             0.2222222222222222,
             "#7201a8"
            ],
            [
             0.3333333333333333,
             "#9c179e"
            ],
            [
             0.4444444444444444,
             "#bd3786"
            ],
            [
             0.5555555555555556,
             "#d8576b"
            ],
            [
             0.6666666666666666,
             "#ed7953"
            ],
            [
             0.7777777777777778,
             "#fb9f3a"
            ],
            [
             0.8888888888888888,
             "#fdca26"
            ],
            [
             1,
             "#f0f921"
            ]
           ]
          },
          "colorway": [
           "#636efa",
           "#EF553B",
           "#00cc96",
           "#ab63fa",
           "#FFA15A",
           "#19d3f3",
           "#FF6692",
           "#B6E880",
           "#FF97FF",
           "#FECB52"
          ],
          "font": {
           "color": "#2a3f5f"
          },
          "geo": {
           "bgcolor": "white",
           "lakecolor": "white",
           "landcolor": "#E5ECF6",
           "showlakes": true,
           "showland": true,
           "subunitcolor": "white"
          },
          "hoverlabel": {
           "align": "left"
          },
          "hovermode": "closest",
          "mapbox": {
           "style": "light"
          },
          "paper_bgcolor": "white",
          "plot_bgcolor": "#E5ECF6",
          "polar": {
           "angularaxis": {
            "gridcolor": "white",
            "linecolor": "white",
            "ticks": ""
           },
           "bgcolor": "#E5ECF6",
           "radialaxis": {
            "gridcolor": "white",
            "linecolor": "white",
            "ticks": ""
           }
          },
          "scene": {
           "xaxis": {
            "backgroundcolor": "#E5ECF6",
            "gridcolor": "white",
            "gridwidth": 2,
            "linecolor": "white",
            "showbackground": true,
            "ticks": "",
            "zerolinecolor": "white"
           },
           "yaxis": {
            "backgroundcolor": "#E5ECF6",
            "gridcolor": "white",
            "gridwidth": 2,
            "linecolor": "white",
            "showbackground": true,
            "ticks": "",
            "zerolinecolor": "white"
           },
           "zaxis": {
            "backgroundcolor": "#E5ECF6",
            "gridcolor": "white",
            "gridwidth": 2,
            "linecolor": "white",
            "showbackground": true,
            "ticks": "",
            "zerolinecolor": "white"
           }
          },
          "shapedefaults": {
           "line": {
            "color": "#2a3f5f"
           }
          },
          "ternary": {
           "aaxis": {
            "gridcolor": "white",
            "linecolor": "white",
            "ticks": ""
           },
           "baxis": {
            "gridcolor": "white",
            "linecolor": "white",
            "ticks": ""
           },
           "bgcolor": "#E5ECF6",
           "caxis": {
            "gridcolor": "white",
            "linecolor": "white",
            "ticks": ""
           }
          },
          "title": {
           "x": 0.05
          },
          "xaxis": {
           "automargin": true,
           "gridcolor": "white",
           "linecolor": "white",
           "ticks": "",
           "title": {
            "standoff": 15
           },
           "zerolinecolor": "white",
           "zerolinewidth": 2
          },
          "yaxis": {
           "automargin": true,
           "gridcolor": "white",
           "linecolor": "white",
           "ticks": "",
           "title": {
            "standoff": 15
           },
           "zerolinecolor": "white",
           "zerolinewidth": 2
          }
         }
        },
        "title": {
         "text": "Unique Species Count by Temperature (Forest)"
        },
        "xaxis": {
         "anchor": "y",
         "domain": [
          0,
          1
         ],
         "title": {
          "text": "Temperature_forest (°C)"
         }
        },
        "yaxis": {
         "anchor": "x",
         "domain": [
          0,
          1
         ],
         "title": {
          "text": "Unique_Species_Count"
         }
        }
       }
      }
     },
     "metadata": {},
     "output_type": "display_data"
    }
   ],
   "source": [
    "# Create scatter plots for weather correlation (forest)\n",
    "fig_temp_forest_scatter = px.scatter(avg_species_temp_forest, x='Temperature_forest (°C)', y='Unique_Species_Count', title='Unique Species Count by Temperature (Forest)')\n",
    "fig_temp_forest_scatter.show()"
   ]
  },
  {
   "cell_type": "code",
   "execution_count": 55,
   "id": "5e6322ee",
   "metadata": {},
   "outputs": [
    {
     "data": {
      "application/vnd.plotly.v1+json": {
       "config": {
        "plotlyServerURL": "https://plot.ly"
       },
       "data": [
        {
         "hovertemplate": "Humidity_forest=%{x}<br>Unique_Species_Count=%{y}<extra></extra>",
         "legendgroup": "",
         "marker": {
          "color": "#636efa",
          "symbol": "circle"
         },
         "mode": "markers",
         "name": "",
         "orientation": "v",
         "showlegend": false,
         "type": "scatter",
         "x": {
          "bdata": "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",
          "dtype": "f8"
         },
         "xaxis": "x",
         "y": {
          "bdata": "Cw8JBwcMCQkOCwkJDwkOCxENCwwPCggIDBAJDAgFCA0DCBoJBxUGEgwHCQUJCwoCCQ8NBREXDwkFCBUIDwcMCA8KHxAWFQsKBxILCxYTBgcGCwsOCwceEhMIFQwPBxAaEBIOGQoLHAgSBA4QBxgYDgwWFw8NEhUQBg8LEBMUEA8KBgsaDQ8SDCAPBRsTFRUXChkZFw4WHxIVEg8sGhkOFQkbGRsVFA8YIgsWDwsJGhQQFhcQBgsRFBkYFg0WChoPHhQYGhAZCRYXHRkYFRILIRILHxYSFR0WHh8jDRUXHBseFxQgFw8UGg0UGwgPGg8QDAoOFg8PCRgcEQ4VGRUPGAwZDQgKEwoTDAkRAwcEFxoXCggMEhEYCRcGEg4GBxMGCQ0FFA0EChIJCQkJCAw=",
          "dtype": "i1"
         },
         "yaxis": "y"
        }
       ],
       "layout": {
        "legend": {
         "tracegroupgap": 0
        },
        "template": {
         "data": {
          "bar": [
           {
            "error_x": {
             "color": "#2a3f5f"
            },
            "error_y": {
             "color": "#2a3f5f"
            },
            "marker": {
             "line": {
              "color": "#E5ECF6",
              "width": 0.5
             },
             "pattern": {
              "fillmode": "overlay",
              "size": 10,
              "solidity": 0.2
             }
            },
            "type": "bar"
           }
          ],
          "barpolar": [
           {
            "marker": {
             "line": {
              "color": "#E5ECF6",
              "width": 0.5
             },
             "pattern": {
              "fillmode": "overlay",
              "size": 10,
              "solidity": 0.2
             }
            },
            "type": "barpolar"
           }
          ],
          "carpet": [
           {
            "aaxis": {
             "endlinecolor": "#2a3f5f",
             "gridcolor": "white",
             "linecolor": "white",
             "minorgridcolor": "white",
             "startlinecolor": "#2a3f5f"
            },
            "baxis": {
             "endlinecolor": "#2a3f5f",
             "gridcolor": "white",
             "linecolor": "white",
             "minorgridcolor": "white",
             "startlinecolor": "#2a3f5f"
            },
            "type": "carpet"
           }
          ],
          "choropleth": [
           {
            "colorbar": {
             "outlinewidth": 0,
             "ticks": ""
            },
            "type": "choropleth"
           }
          ],
          "contour": [
           {
            "colorbar": {
             "outlinewidth": 0,
             "ticks": ""
            },
            "colorscale": [
             [
              0,
              "#0d0887"
             ],
             [
              0.1111111111111111,
              "#46039f"
             ],
             [
              0.2222222222222222,
              "#7201a8"
             ],
             [
              0.3333333333333333,
              "#9c179e"
             ],
             [
              0.4444444444444444,
              "#bd3786"
             ],
             [
              0.5555555555555556,
              "#d8576b"
             ],
             [
              0.6666666666666666,
              "#ed7953"
             ],
             [
              0.7777777777777778,
              "#fb9f3a"
             ],
             [
              0.8888888888888888,
              "#fdca26"
             ],
             [
              1,
              "#f0f921"
             ]
            ],
            "type": "contour"
           }
          ],
          "contourcarpet": [
           {
            "colorbar": {
             "outlinewidth": 0,
             "ticks": ""
            },
            "type": "contourcarpet"
           }
          ],
          "heatmap": [
           {
            "colorbar": {
             "outlinewidth": 0,
             "ticks": ""
            },
            "colorscale": [
             [
              0,
              "#0d0887"
             ],
             [
              0.1111111111111111,
              "#46039f"
             ],
             [
              0.2222222222222222,
              "#7201a8"
             ],
             [
              0.3333333333333333,
              "#9c179e"
             ],
             [
              0.4444444444444444,
              "#bd3786"
             ],
             [
              0.5555555555555556,
              "#d8576b"
             ],
             [
              0.6666666666666666,
              "#ed7953"
             ],
             [
              0.7777777777777778,
              "#fb9f3a"
             ],
             [
              0.8888888888888888,
              "#fdca26"
             ],
             [
              1,
              "#f0f921"
             ]
            ],
            "type": "heatmap"
           }
          ],
          "histogram": [
           {
            "marker": {
             "pattern": {
              "fillmode": "overlay",
              "size": 10,
              "solidity": 0.2
             }
            },
            "type": "histogram"
           }
          ],
          "histogram2d": [
           {
            "colorbar": {
             "outlinewidth": 0,
             "ticks": ""
            },
            "colorscale": [
             [
              0,
              "#0d0887"
             ],
             [
              0.1111111111111111,
              "#46039f"
             ],
             [
              0.2222222222222222,
              "#7201a8"
             ],
             [
              0.3333333333333333,
              "#9c179e"
             ],
             [
              0.4444444444444444,
              "#bd3786"
             ],
             [
              0.5555555555555556,
              "#d8576b"
             ],
             [
              0.6666666666666666,
              "#ed7953"
             ],
             [
              0.7777777777777778,
              "#fb9f3a"
             ],
             [
              0.8888888888888888,
              "#fdca26"
             ],
             [
              1,
              "#f0f921"
             ]
            ],
            "type": "histogram2d"
           }
          ],
          "histogram2dcontour": [
           {
            "colorbar": {
             "outlinewidth": 0,
             "ticks": ""
            },
            "colorscale": [
             [
              0,
              "#0d0887"
             ],
             [
              0.1111111111111111,
              "#46039f"
             ],
             [
              0.2222222222222222,
              "#7201a8"
             ],
             [
              0.3333333333333333,
              "#9c179e"
             ],
             [
              0.4444444444444444,
              "#bd3786"
             ],
             [
              0.5555555555555556,
              "#d8576b"
             ],
             [
              0.6666666666666666,
              "#ed7953"
             ],
             [
              0.7777777777777778,
              "#fb9f3a"
             ],
             [
              0.8888888888888888,
              "#fdca26"
             ],
             [
              1,
              "#f0f921"
             ]
            ],
            "type": "histogram2dcontour"
           }
          ],
          "mesh3d": [
           {
            "colorbar": {
             "outlinewidth": 0,
             "ticks": ""
            },
            "type": "mesh3d"
           }
          ],
          "parcoords": [
           {
            "line": {
             "colorbar": {
              "outlinewidth": 0,
              "ticks": ""
             }
            },
            "type": "parcoords"
           }
          ],
          "pie": [
           {
            "automargin": true,
            "type": "pie"
           }
          ],
          "scatter": [
           {
            "fillpattern": {
             "fillmode": "overlay",
             "size": 10,
             "solidity": 0.2
            },
            "type": "scatter"
           }
          ],
          "scatter3d": [
           {
            "line": {
             "colorbar": {
              "outlinewidth": 0,
              "ticks": ""
             }
            },
            "marker": {
             "colorbar": {
              "outlinewidth": 0,
              "ticks": ""
             }
            },
            "type": "scatter3d"
           }
          ],
          "scattercarpet": [
           {
            "marker": {
             "colorbar": {
              "outlinewidth": 0,
              "ticks": ""
             }
            },
            "type": "scattercarpet"
           }
          ],
          "scattergeo": [
           {
            "marker": {
             "colorbar": {
              "outlinewidth": 0,
              "ticks": ""
             }
            },
            "type": "scattergeo"
           }
          ],
          "scattergl": [
           {
            "marker": {
             "colorbar": {
              "outlinewidth": 0,
              "ticks": ""
             }
            },
            "type": "scattergl"
           }
          ],
          "scattermap": [
           {
            "marker": {
             "colorbar": {
              "outlinewidth": 0,
              "ticks": ""
             }
            },
            "type": "scattermap"
           }
          ],
          "scattermapbox": [
           {
            "marker": {
             "colorbar": {
              "outlinewidth": 0,
              "ticks": ""
             }
            },
            "type": "scattermapbox"
           }
          ],
          "scatterpolar": [
           {
            "marker": {
             "colorbar": {
              "outlinewidth": 0,
              "ticks": ""
             }
            },
            "type": "scatterpolar"
           }
          ],
          "scatterpolargl": [
           {
            "marker": {
             "colorbar": {
              "outlinewidth": 0,
              "ticks": ""
             }
            },
            "type": "scatterpolargl"
           }
          ],
          "scatterternary": [
           {
            "marker": {
             "colorbar": {
              "outlinewidth": 0,
              "ticks": ""
             }
            },
            "type": "scatterternary"
           }
          ],
          "surface": [
           {
            "colorbar": {
             "outlinewidth": 0,
             "ticks": ""
            },
            "colorscale": [
             [
              0,
              "#0d0887"
             ],
             [
              0.1111111111111111,
              "#46039f"
             ],
             [
              0.2222222222222222,
              "#7201a8"
             ],
             [
              0.3333333333333333,
              "#9c179e"
             ],
             [
              0.4444444444444444,
              "#bd3786"
             ],
             [
              0.5555555555555556,
              "#d8576b"
             ],
             [
              0.6666666666666666,
              "#ed7953"
             ],
             [
              0.7777777777777778,
              "#fb9f3a"
             ],
             [
              0.8888888888888888,
              "#fdca26"
             ],
             [
              1,
              "#f0f921"
             ]
            ],
            "type": "surface"
           }
          ],
          "table": [
           {
            "cells": {
             "fill": {
              "color": "#EBF0F8"
             },
             "line": {
              "color": "white"
             }
            },
            "header": {
             "fill": {
              "color": "#C8D4E3"
             },
             "line": {
              "color": "white"
             }
            },
            "type": "table"
           }
          ]
         },
         "layout": {
          "annotationdefaults": {
           "arrowcolor": "#2a3f5f",
           "arrowhead": 0,
           "arrowwidth": 1
          },
          "autotypenumbers": "strict",
          "coloraxis": {
           "colorbar": {
            "outlinewidth": 0,
            "ticks": ""
           }
          },
          "colorscale": {
           "diverging": [
            [
             0,
             "#8e0152"
            ],
            [
             0.1,
             "#c51b7d"
            ],
            [
             0.2,
             "#de77ae"
            ],
            [
             0.3,
             "#f1b6da"
            ],
            [
             0.4,
             "#fde0ef"
            ],
            [
             0.5,
             "#f7f7f7"
            ],
            [
             0.6,
             "#e6f5d0"
            ],
            [
             0.7,
             "#b8e186"
            ],
            [
             0.8,
             "#7fbc41"
            ],
            [
             0.9,
             "#4d9221"
            ],
            [
             1,
             "#276419"
            ]
           ],
           "sequential": [
            [
             0,
             "#0d0887"
            ],
            [
             0.1111111111111111,
             "#46039f"
            ],
            [
             0.2222222222222222,
             "#7201a8"
            ],
            [
             0.3333333333333333,
             "#9c179e"
            ],
            [
             0.4444444444444444,
             "#bd3786"
            ],
            [
             0.5555555555555556,
             "#d8576b"
            ],
            [
             0.6666666666666666,
             "#ed7953"
            ],
            [
             0.7777777777777778,
             "#fb9f3a"
            ],
            [
             0.8888888888888888,
             "#fdca26"
            ],
            [
             1,
             "#f0f921"
            ]
           ],
           "sequentialminus": [
            [
             0,
             "#0d0887"
            ],
            [
             0.1111111111111111,
             "#46039f"
            ],
            [
             0.2222222222222222,
             "#7201a8"
            ],
            [
             0.3333333333333333,
             "#9c179e"
            ],
            [
             0.4444444444444444,
             "#bd3786"
            ],
            [
             0.5555555555555556,
             "#d8576b"
            ],
            [
             0.6666666666666666,
             "#ed7953"
            ],
            [
             0.7777777777777778,
             "#fb9f3a"
            ],
            [
             0.8888888888888888,
             "#fdca26"
            ],
            [
             1,
             "#f0f921"
            ]
           ]
          },
          "colorway": [
           "#636efa",
           "#EF553B",
           "#00cc96",
           "#ab63fa",
           "#FFA15A",
           "#19d3f3",
           "#FF6692",
           "#B6E880",
           "#FF97FF",
           "#FECB52"
          ],
          "font": {
           "color": "#2a3f5f"
          },
          "geo": {
           "bgcolor": "white",
           "lakecolor": "white",
           "landcolor": "#E5ECF6",
           "showlakes": true,
           "showland": true,
           "subunitcolor": "white"
          },
          "hoverlabel": {
           "align": "left"
          },
          "hovermode": "closest",
          "mapbox": {
           "style": "light"
          },
          "paper_bgcolor": "white",
          "plot_bgcolor": "#E5ECF6",
          "polar": {
           "angularaxis": {
            "gridcolor": "white",
            "linecolor": "white",
            "ticks": ""
           },
           "bgcolor": "#E5ECF6",
           "radialaxis": {
            "gridcolor": "white",
            "linecolor": "white",
            "ticks": ""
           }
          },
          "scene": {
           "xaxis": {
            "backgroundcolor": "#E5ECF6",
            "gridcolor": "white",
            "gridwidth": 2,
            "linecolor": "white",
            "showbackground": true,
            "ticks": "",
            "zerolinecolor": "white"
           },
           "yaxis": {
            "backgroundcolor": "#E5ECF6",
            "gridcolor": "white",
            "gridwidth": 2,
            "linecolor": "white",
            "showbackground": true,
            "ticks": "",
            "zerolinecolor": "white"
           },
           "zaxis": {
            "backgroundcolor": "#E5ECF6",
            "gridcolor": "white",
            "gridwidth": 2,
            "linecolor": "white",
            "showbackground": true,
            "ticks": "",
            "zerolinecolor": "white"
           }
          },
          "shapedefaults": {
           "line": {
            "color": "#2a3f5f"
           }
          },
          "ternary": {
           "aaxis": {
            "gridcolor": "white",
            "linecolor": "white",
            "ticks": ""
           },
           "baxis": {
            "gridcolor": "white",
            "linecolor": "white",
            "ticks": ""
           },
           "bgcolor": "#E5ECF6",
           "caxis": {
            "gridcolor": "white",
            "linecolor": "white",
            "ticks": ""
           }
          },
          "title": {
           "x": 0.05
          },
          "xaxis": {
           "automargin": true,
           "gridcolor": "white",
           "linecolor": "white",
           "ticks": "",
           "title": {
            "standoff": 15
           },
           "zerolinecolor": "white",
           "zerolinewidth": 2
          },
          "yaxis": {
           "automargin": true,
           "gridcolor": "white",
           "linecolor": "white",
           "ticks": "",
           "title": {
            "standoff": 15
           },
           "zerolinecolor": "white",
           "zerolinewidth": 2
          }
         }
        },
        "title": {
         "text": "Unique Species Count by Humidity (Forest)"
        },
        "xaxis": {
         "anchor": "y",
         "domain": [
          0,
          1
         ],
         "title": {
          "text": "Humidity_forest"
         }
        },
        "yaxis": {
         "anchor": "x",
         "domain": [
          0,
          1
         ],
         "title": {
          "text": "Unique_Species_Count"
         }
        }
       }
      }
     },
     "metadata": {},
     "output_type": "display_data"
    }
   ],
   "source": [
    "fig_humidity_forest_scatter = px.scatter(avg_species_humidity_forest, x='Humidity_forest', y='Unique_Species_Count', title='Unique Species Count by Humidity (Forest)')\n",
    "fig_humidity_forest_scatter.show()"
   ]
  },
  {
   "cell_type": "code",
   "execution_count": 56,
   "id": "1d6beb8b",
   "metadata": {},
   "outputs": [
    {
     "data": {
      "application/vnd.plotly.v1+json": {
       "config": {
        "plotlyServerURL": "https://plot.ly"
       },
       "data": [
        {
         "hovertemplate": "Sky_forest=%{x}<br>Unique_Species_Count=%{y}<extra></extra>",
         "legendgroup": "",
         "marker": {
          "color": "#636efa",
          "symbol": "circle"
         },
         "mode": "markers",
         "name": "",
         "orientation": "v",
         "showlegend": false,
         "type": "scatter",
         "x": [
          "Clear or Few Clouds",
          "Cloudy/Overcast",
          "Fog",
          "Mist/Drizzle",
          "Partly Cloudy"
         ],
         "xaxis": "x",
         "y": {
          "bdata": "X1U2Klc=",
          "dtype": "i1"
         },
         "yaxis": "y"
        }
       ],
       "layout": {
        "legend": {
         "tracegroupgap": 0
        },
        "template": {
         "data": {
          "bar": [
           {
            "error_x": {
             "color": "#2a3f5f"
            },
            "error_y": {
             "color": "#2a3f5f"
            },
            "marker": {
             "line": {
              "color": "#E5ECF6",
              "width": 0.5
             },
             "pattern": {
              "fillmode": "overlay",
              "size": 10,
              "solidity": 0.2
             }
            },
            "type": "bar"
           }
          ],
          "barpolar": [
           {
            "marker": {
             "line": {
              "color": "#E5ECF6",
              "width": 0.5
             },
             "pattern": {
              "fillmode": "overlay",
              "size": 10,
              "solidity": 0.2
             }
            },
            "type": "barpolar"
           }
          ],
          "carpet": [
           {
            "aaxis": {
             "endlinecolor": "#2a3f5f",
             "gridcolor": "white",
             "linecolor": "white",
             "minorgridcolor": "white",
             "startlinecolor": "#2a3f5f"
            },
            "baxis": {
             "endlinecolor": "#2a3f5f",
             "gridcolor": "white",
             "linecolor": "white",
             "minorgridcolor": "white",
             "startlinecolor": "#2a3f5f"
            },
            "type": "carpet"
           }
          ],
          "choropleth": [
           {
            "colorbar": {
             "outlinewidth": 0,
             "ticks": ""
            },
            "type": "choropleth"
           }
          ],
          "contour": [
           {
            "colorbar": {
             "outlinewidth": 0,
             "ticks": ""
            },
            "colorscale": [
             [
              0,
              "#0d0887"
             ],
             [
              0.1111111111111111,
              "#46039f"
             ],
             [
              0.2222222222222222,
              "#7201a8"
             ],
             [
              0.3333333333333333,
              "#9c179e"
             ],
             [
              0.4444444444444444,
              "#bd3786"
             ],
             [
              0.5555555555555556,
              "#d8576b"
             ],
             [
              0.6666666666666666,
              "#ed7953"
             ],
             [
              0.7777777777777778,
              "#fb9f3a"
             ],
             [
              0.8888888888888888,
              "#fdca26"
             ],
             [
              1,
              "#f0f921"
             ]
            ],
            "type": "contour"
           }
          ],
          "contourcarpet": [
           {
            "colorbar": {
             "outlinewidth": 0,
             "ticks": ""
            },
            "type": "contourcarpet"
           }
          ],
          "heatmap": [
           {
            "colorbar": {
             "outlinewidth": 0,
             "ticks": ""
            },
            "colorscale": [
             [
              0,
              "#0d0887"
             ],
             [
              0.1111111111111111,
              "#46039f"
             ],
             [
              0.2222222222222222,
              "#7201a8"
             ],
             [
              0.3333333333333333,
              "#9c179e"
             ],
             [
              0.4444444444444444,
              "#bd3786"
             ],
             [
              0.5555555555555556,
              "#d8576b"
             ],
             [
              0.6666666666666666,
              "#ed7953"
             ],
             [
              0.7777777777777778,
              "#fb9f3a"
             ],
             [
              0.8888888888888888,
              "#fdca26"
             ],
             [
              1,
              "#f0f921"
             ]
            ],
            "type": "heatmap"
           }
          ],
          "histogram": [
           {
            "marker": {
             "pattern": {
              "fillmode": "overlay",
              "size": 10,
              "solidity": 0.2
             }
            },
            "type": "histogram"
           }
          ],
          "histogram2d": [
           {
            "colorbar": {
             "outlinewidth": 0,
             "ticks": ""
            },
            "colorscale": [
             [
              0,
              "#0d0887"
             ],
             [
              0.1111111111111111,
              "#46039f"
             ],
             [
              0.2222222222222222,
              "#7201a8"
             ],
             [
              0.3333333333333333,
              "#9c179e"
             ],
             [
              0.4444444444444444,
              "#bd3786"
             ],
             [
              0.5555555555555556,
              "#d8576b"
             ],
             [
              0.6666666666666666,
              "#ed7953"
             ],
             [
              0.7777777777777778,
              "#fb9f3a"
             ],
             [
              0.8888888888888888,
              "#fdca26"
             ],
             [
              1,
              "#f0f921"
             ]
            ],
            "type": "histogram2d"
           }
          ],
          "histogram2dcontour": [
           {
            "colorbar": {
             "outlinewidth": 0,
             "ticks": ""
            },
            "colorscale": [
             [
              0,
              "#0d0887"
             ],
             [
              0.1111111111111111,
              "#46039f"
             ],
             [
              0.2222222222222222,
              "#7201a8"
             ],
             [
              0.3333333333333333,
              "#9c179e"
             ],
             [
              0.4444444444444444,
              "#bd3786"
             ],
             [
              0.5555555555555556,
              "#d8576b"
             ],
             [
              0.6666666666666666,
              "#ed7953"
             ],
             [
              0.7777777777777778,
              "#fb9f3a"
             ],
             [
              0.8888888888888888,
              "#fdca26"
             ],
             [
              1,
              "#f0f921"
             ]
            ],
            "type": "histogram2dcontour"
           }
          ],
          "mesh3d": [
           {
            "colorbar": {
             "outlinewidth": 0,
             "ticks": ""
            },
            "type": "mesh3d"
           }
          ],
          "parcoords": [
           {
            "line": {
             "colorbar": {
              "outlinewidth": 0,
              "ticks": ""
             }
            },
            "type": "parcoords"
           }
          ],
          "pie": [
           {
            "automargin": true,
            "type": "pie"
           }
          ],
          "scatter": [
           {
            "fillpattern": {
             "fillmode": "overlay",
             "size": 10,
             "solidity": 0.2
            },
            "type": "scatter"
           }
          ],
          "scatter3d": [
           {
            "line": {
             "colorbar": {
              "outlinewidth": 0,
              "ticks": ""
             }
            },
            "marker": {
             "colorbar": {
              "outlinewidth": 0,
              "ticks": ""
             }
            },
            "type": "scatter3d"
           }
          ],
          "scattercarpet": [
           {
            "marker": {
             "colorbar": {
              "outlinewidth": 0,
              "ticks": ""
             }
            },
            "type": "scattercarpet"
           }
          ],
          "scattergeo": [
           {
            "marker": {
             "colorbar": {
              "outlinewidth": 0,
              "ticks": ""
             }
            },
            "type": "scattergeo"
           }
          ],
          "scattergl": [
           {
            "marker": {
             "colorbar": {
              "outlinewidth": 0,
              "ticks": ""
             }
            },
            "type": "scattergl"
           }
          ],
          "scattermap": [
           {
            "marker": {
             "colorbar": {
              "outlinewidth": 0,
              "ticks": ""
             }
            },
            "type": "scattermap"
           }
          ],
          "scattermapbox": [
           {
            "marker": {
             "colorbar": {
              "outlinewidth": 0,
              "ticks": ""
             }
            },
            "type": "scattermapbox"
           }
          ],
          "scatterpolar": [
           {
            "marker": {
             "colorbar": {
              "outlinewidth": 0,
              "ticks": ""
             }
            },
            "type": "scatterpolar"
           }
          ],
          "scatterpolargl": [
           {
            "marker": {
             "colorbar": {
              "outlinewidth": 0,
              "ticks": ""
             }
            },
            "type": "scatterpolargl"
           }
          ],
          "scatterternary": [
           {
            "marker": {
             "colorbar": {
              "outlinewidth": 0,
              "ticks": ""
             }
            },
            "type": "scatterternary"
           }
          ],
          "surface": [
           {
            "colorbar": {
             "outlinewidth": 0,
             "ticks": ""
            },
            "colorscale": [
             [
              0,
              "#0d0887"
             ],
             [
              0.1111111111111111,
              "#46039f"
             ],
             [
              0.2222222222222222,
              "#7201a8"
             ],
             [
              0.3333333333333333,
              "#9c179e"
             ],
             [
              0.4444444444444444,
              "#bd3786"
             ],
             [
              0.5555555555555556,
              "#d8576b"
             ],
             [
              0.6666666666666666,
              "#ed7953"
             ],
             [
              0.7777777777777778,
              "#fb9f3a"
             ],
             [
              0.8888888888888888,
              "#fdca26"
             ],
             [
              1,
              "#f0f921"
             ]
            ],
            "type": "surface"
           }
          ],
          "table": [
           {
            "cells": {
             "fill": {
              "color": "#EBF0F8"
             },
             "line": {
              "color": "white"
             }
            },
            "header": {
             "fill": {
              "color": "#C8D4E3"
             },
             "line": {
              "color": "white"
             }
            },
            "type": "table"
           }
          ]
         },
         "layout": {
          "annotationdefaults": {
           "arrowcolor": "#2a3f5f",
           "arrowhead": 0,
           "arrowwidth": 1
          },
          "autotypenumbers": "strict",
          "coloraxis": {
           "colorbar": {
            "outlinewidth": 0,
            "ticks": ""
           }
          },
          "colorscale": {
           "diverging": [
            [
             0,
             "#8e0152"
            ],
            [
             0.1,
             "#c51b7d"
            ],
            [
             0.2,
             "#de77ae"
            ],
            [
             0.3,
             "#f1b6da"
            ],
            [
             0.4,
             "#fde0ef"
            ],
            [
             0.5,
             "#f7f7f7"
            ],
            [
             0.6,
             "#e6f5d0"
            ],
            [
             0.7,
             "#b8e186"
            ],
            [
             0.8,
             "#7fbc41"
            ],
            [
             0.9,
             "#4d9221"
            ],
            [
             1,
             "#276419"
            ]
           ],
           "sequential": [
            [
             0,
             "#0d0887"
            ],
            [
             0.1111111111111111,
             "#46039f"
            ],
            [
             0.2222222222222222,
             "#7201a8"
            ],
            [
             0.3333333333333333,
             "#9c179e"
            ],
            [
             0.4444444444444444,
             "#bd3786"
            ],
            [
             0.5555555555555556,
             "#d8576b"
            ],
            [
             0.6666666666666666,
             "#ed7953"
            ],
            [
             0.7777777777777778,
             "#fb9f3a"
            ],
            [
             0.8888888888888888,
             "#fdca26"
            ],
            [
             1,
             "#f0f921"
            ]
           ],
           "sequentialminus": [
            [
             0,
             "#0d0887"
            ],
            [
             0.1111111111111111,
             "#46039f"
            ],
            [
             0.2222222222222222,
             "#7201a8"
            ],
            [
             0.3333333333333333,
             "#9c179e"
            ],
            [
             0.4444444444444444,
             "#bd3786"
            ],
            [
             0.5555555555555556,
             "#d8576b"
            ],
            [
             0.6666666666666666,
             "#ed7953"
            ],
            [
             0.7777777777777778,
             "#fb9f3a"
            ],
            [
             0.8888888888888888,
             "#fdca26"
            ],
            [
             1,
             "#f0f921"
            ]
           ]
          },
          "colorway": [
           "#636efa",
           "#EF553B",
           "#00cc96",
           "#ab63fa",
           "#FFA15A",
           "#19d3f3",
           "#FF6692",
           "#B6E880",
           "#FF97FF",
           "#FECB52"
          ],
          "font": {
           "color": "#2a3f5f"
          },
          "geo": {
           "bgcolor": "white",
           "lakecolor": "white",
           "landcolor": "#E5ECF6",
           "showlakes": true,
           "showland": true,
           "subunitcolor": "white"
          },
          "hoverlabel": {
           "align": "left"
          },
          "hovermode": "closest",
          "mapbox": {
           "style": "light"
          },
          "paper_bgcolor": "white",
          "plot_bgcolor": "#E5ECF6",
          "polar": {
           "angularaxis": {
            "gridcolor": "white",
            "linecolor": "white",
            "ticks": ""
           },
           "bgcolor": "#E5ECF6",
           "radialaxis": {
            "gridcolor": "white",
            "linecolor": "white",
            "ticks": ""
           }
          },
          "scene": {
           "xaxis": {
            "backgroundcolor": "#E5ECF6",
            "gridcolor": "white",
            "gridwidth": 2,
            "linecolor": "white",
            "showbackground": true,
            "ticks": "",
            "zerolinecolor": "white"
           },
           "yaxis": {
            "backgroundcolor": "#E5ECF6",
            "gridcolor": "white",
            "gridwidth": 2,
            "linecolor": "white",
            "showbackground": true,
            "ticks": "",
            "zerolinecolor": "white"
           },
           "zaxis": {
            "backgroundcolor": "#E5ECF6",
            "gridcolor": "white",
            "gridwidth": 2,
            "linecolor": "white",
            "showbackground": true,
            "ticks": "",
            "zerolinecolor": "white"
           }
          },
          "shapedefaults": {
           "line": {
            "color": "#2a3f5f"
           }
          },
          "ternary": {
           "aaxis": {
            "gridcolor": "white",
            "linecolor": "white",
            "ticks": ""
           },
           "baxis": {
            "gridcolor": "white",
            "linecolor": "white",
            "ticks": ""
           },
           "bgcolor": "#E5ECF6",
           "caxis": {
            "gridcolor": "white",
            "linecolor": "white",
            "ticks": ""
           }
          },
          "title": {
           "x": 0.05
          },
          "xaxis": {
           "automargin": true,
           "gridcolor": "white",
           "linecolor": "white",
           "ticks": "",
           "title": {
            "standoff": 15
           },
           "zerolinecolor": "white",
           "zerolinewidth": 2
          },
          "yaxis": {
           "automargin": true,
           "gridcolor": "white",
           "linecolor": "white",
           "ticks": "",
           "title": {
            "standoff": 15
           },
           "zerolinecolor": "white",
           "zerolinewidth": 2
          }
         }
        },
        "title": {
         "text": "Unique Species Count by Sky Condition (Forest)"
        },
        "xaxis": {
         "anchor": "y",
         "domain": [
          0,
          1
         ],
         "title": {
          "text": "Sky_forest"
         }
        },
        "yaxis": {
         "anchor": "x",
         "domain": [
          0,
          1
         ],
         "title": {
          "text": "Unique_Species_Count"
         }
        }
       }
      }
     },
     "metadata": {},
     "output_type": "display_data"
    }
   ],
   "source": [
    "fig_sky_forest_scatter = px.scatter(avg_species_sky_forest, x='Sky_forest', y='Unique_Species_Count', title='Unique Species Count by Sky Condition (Forest)')\n",
    "fig_sky_forest_scatter.show()"
   ]
  },
  {
   "cell_type": "code",
   "execution_count": 57,
   "id": "bfa5f292",
   "metadata": {},
   "outputs": [
    {
     "data": {
      "application/vnd.plotly.v1+json": {
       "config": {
        "plotlyServerURL": "https://plot.ly"
       },
       "data": [
        {
         "hovertemplate": "Wind_forest=%{x}<br>Unique_Species_Count=%{y}<extra></extra>",
         "legendgroup": "",
         "marker": {
          "color": "#636efa",
          "symbol": "circle"
         },
         "mode": "markers",
         "name": "",
         "orientation": "v",
         "showlegend": false,
         "type": "scatter",
         "x": [
          "Calm (< 1 mph) smoke rises vertically",
          "Gentle breeze (8-12 mph), leaves in motion",
          "Light air movement (1-3 mph) smoke drifts",
          "Light breeze (4-7 mph) wind felt on face"
         ],
         "xaxis": "x",
         "y": {
          "bdata": "VixiTA==",
          "dtype": "i1"
         },
         "yaxis": "y"
        }
       ],
       "layout": {
        "legend": {
         "tracegroupgap": 0
        },
        "template": {
         "data": {
          "bar": [
           {
            "error_x": {
             "color": "#2a3f5f"
            },
            "error_y": {
             "color": "#2a3f5f"
            },
            "marker": {
             "line": {
              "color": "#E5ECF6",
              "width": 0.5
             },
             "pattern": {
              "fillmode": "overlay",
              "size": 10,
              "solidity": 0.2
             }
            },
            "type": "bar"
           }
          ],
          "barpolar": [
           {
            "marker": {
             "line": {
              "color": "#E5ECF6",
              "width": 0.5
             },
             "pattern": {
              "fillmode": "overlay",
              "size": 10,
              "solidity": 0.2
             }
            },
            "type": "barpolar"
           }
          ],
          "carpet": [
           {
            "aaxis": {
             "endlinecolor": "#2a3f5f",
             "gridcolor": "white",
             "linecolor": "white",
             "minorgridcolor": "white",
             "startlinecolor": "#2a3f5f"
            },
            "baxis": {
             "endlinecolor": "#2a3f5f",
             "gridcolor": "white",
             "linecolor": "white",
             "minorgridcolor": "white",
             "startlinecolor": "#2a3f5f"
            },
            "type": "carpet"
           }
          ],
          "choropleth": [
           {
            "colorbar": {
             "outlinewidth": 0,
             "ticks": ""
            },
            "type": "choropleth"
           }
          ],
          "contour": [
           {
            "colorbar": {
             "outlinewidth": 0,
             "ticks": ""
            },
            "colorscale": [
             [
              0,
              "#0d0887"
             ],
             [
              0.1111111111111111,
              "#46039f"
             ],
             [
              0.2222222222222222,
              "#7201a8"
             ],
             [
              0.3333333333333333,
              "#9c179e"
             ],
             [
              0.4444444444444444,
              "#bd3786"
             ],
             [
              0.5555555555555556,
              "#d8576b"
             ],
             [
              0.6666666666666666,
              "#ed7953"
             ],
             [
              0.7777777777777778,
              "#fb9f3a"
             ],
             [
              0.8888888888888888,
              "#fdca26"
             ],
             [
              1,
              "#f0f921"
             ]
            ],
            "type": "contour"
           }
          ],
          "contourcarpet": [
           {
            "colorbar": {
             "outlinewidth": 0,
             "ticks": ""
            },
            "type": "contourcarpet"
           }
          ],
          "heatmap": [
           {
            "colorbar": {
             "outlinewidth": 0,
             "ticks": ""
            },
            "colorscale": [
             [
              0,
              "#0d0887"
             ],
             [
              0.1111111111111111,
              "#46039f"
             ],
             [
              0.2222222222222222,
              "#7201a8"
             ],
             [
              0.3333333333333333,
              "#9c179e"
             ],
             [
              0.4444444444444444,
              "#bd3786"
             ],
             [
              0.5555555555555556,
              "#d8576b"
             ],
             [
              0.6666666666666666,
              "#ed7953"
             ],
             [
              0.7777777777777778,
              "#fb9f3a"
             ],
             [
              0.8888888888888888,
              "#fdca26"
             ],
             [
              1,
              "#f0f921"
             ]
            ],
            "type": "heatmap"
           }
          ],
          "histogram": [
           {
            "marker": {
             "pattern": {
              "fillmode": "overlay",
              "size": 10,
              "solidity": 0.2
             }
            },
            "type": "histogram"
           }
          ],
          "histogram2d": [
           {
            "colorbar": {
             "outlinewidth": 0,
             "ticks": ""
            },
            "colorscale": [
             [
              0,
              "#0d0887"
             ],
             [
              0.1111111111111111,
              "#46039f"
             ],
             [
              0.2222222222222222,
              "#7201a8"
             ],
             [
              0.3333333333333333,
              "#9c179e"
             ],
             [
              0.4444444444444444,
              "#bd3786"
             ],
             [
              0.5555555555555556,
              "#d8576b"
             ],
             [
              0.6666666666666666,
              "#ed7953"
             ],
             [
              0.7777777777777778,
              "#fb9f3a"
             ],
             [
              0.8888888888888888,
              "#fdca26"
             ],
             [
              1,
              "#f0f921"
             ]
            ],
            "type": "histogram2d"
           }
          ],
          "histogram2dcontour": [
           {
            "colorbar": {
             "outlinewidth": 0,
             "ticks": ""
            },
            "colorscale": [
             [
              0,
              "#0d0887"
             ],
             [
              0.1111111111111111,
              "#46039f"
             ],
             [
              0.2222222222222222,
              "#7201a8"
             ],
             [
              0.3333333333333333,
              "#9c179e"
             ],
             [
              0.4444444444444444,
              "#bd3786"
             ],
             [
              0.5555555555555556,
              "#d8576b"
             ],
             [
              0.6666666666666666,
              "#ed7953"
             ],
             [
              0.7777777777777778,
              "#fb9f3a"
             ],
             [
              0.8888888888888888,
              "#fdca26"
             ],
             [
              1,
              "#f0f921"
             ]
            ],
            "type": "histogram2dcontour"
           }
          ],
          "mesh3d": [
           {
            "colorbar": {
             "outlinewidth": 0,
             "ticks": ""
            },
            "type": "mesh3d"
           }
          ],
          "parcoords": [
           {
            "line": {
             "colorbar": {
              "outlinewidth": 0,
              "ticks": ""
             }
            },
            "type": "parcoords"
           }
          ],
          "pie": [
           {
            "automargin": true,
            "type": "pie"
           }
          ],
          "scatter": [
           {
            "fillpattern": {
             "fillmode": "overlay",
             "size": 10,
             "solidity": 0.2
            },
            "type": "scatter"
           }
          ],
          "scatter3d": [
           {
            "line": {
             "colorbar": {
              "outlinewidth": 0,
              "ticks": ""
             }
            },
            "marker": {
             "colorbar": {
              "outlinewidth": 0,
              "ticks": ""
             }
            },
            "type": "scatter3d"
           }
          ],
          "scattercarpet": [
           {
            "marker": {
             "colorbar": {
              "outlinewidth": 0,
              "ticks": ""
             }
            },
            "type": "scattercarpet"
           }
          ],
          "scattergeo": [
           {
            "marker": {
             "colorbar": {
              "outlinewidth": 0,
              "ticks": ""
             }
            },
            "type": "scattergeo"
           }
          ],
          "scattergl": [
           {
            "marker": {
             "colorbar": {
              "outlinewidth": 0,
              "ticks": ""
             }
            },
            "type": "scattergl"
           }
          ],
          "scattermap": [
           {
            "marker": {
             "colorbar": {
              "outlinewidth": 0,
              "ticks": ""
             }
            },
            "type": "scattermap"
           }
          ],
          "scattermapbox": [
           {
            "marker": {
             "colorbar": {
              "outlinewidth": 0,
              "ticks": ""
             }
            },
            "type": "scattermapbox"
           }
          ],
          "scatterpolar": [
           {
            "marker": {
             "colorbar": {
              "outlinewidth": 0,
              "ticks": ""
             }
            },
            "type": "scatterpolar"
           }
          ],
          "scatterpolargl": [
           {
            "marker": {
             "colorbar": {
              "outlinewidth": 0,
              "ticks": ""
             }
            },
            "type": "scatterpolargl"
           }
          ],
          "scatterternary": [
           {
            "marker": {
             "colorbar": {
              "outlinewidth": 0,
              "ticks": ""
             }
            },
            "type": "scatterternary"
           }
          ],
          "surface": [
           {
            "colorbar": {
             "outlinewidth": 0,
             "ticks": ""
            },
            "colorscale": [
             [
              0,
              "#0d0887"
             ],
             [
              0.1111111111111111,
              "#46039f"
             ],
             [
              0.2222222222222222,
              "#7201a8"
             ],
             [
              0.3333333333333333,
              "#9c179e"
             ],
             [
              0.4444444444444444,
              "#bd3786"
             ],
             [
              0.5555555555555556,
              "#d8576b"
             ],
             [
              0.6666666666666666,
              "#ed7953"
             ],
             [
              0.7777777777777778,
              "#fb9f3a"
             ],
             [
              0.8888888888888888,
              "#fdca26"
             ],
             [
              1,
              "#f0f921"
             ]
            ],
            "type": "surface"
           }
          ],
          "table": [
           {
            "cells": {
             "fill": {
              "color": "#EBF0F8"
             },
             "line": {
              "color": "white"
             }
            },
            "header": {
             "fill": {
              "color": "#C8D4E3"
             },
             "line": {
              "color": "white"
             }
            },
            "type": "table"
           }
          ]
         },
         "layout": {
          "annotationdefaults": {
           "arrowcolor": "#2a3f5f",
           "arrowhead": 0,
           "arrowwidth": 1
          },
          "autotypenumbers": "strict",
          "coloraxis": {
           "colorbar": {
            "outlinewidth": 0,
            "ticks": ""
           }
          },
          "colorscale": {
           "diverging": [
            [
             0,
             "#8e0152"
            ],
            [
             0.1,
             "#c51b7d"
            ],
            [
             0.2,
             "#de77ae"
            ],
            [
             0.3,
             "#f1b6da"
            ],
            [
             0.4,
             "#fde0ef"
            ],
            [
             0.5,
             "#f7f7f7"
            ],
            [
             0.6,
             "#e6f5d0"
            ],
            [
             0.7,
             "#b8e186"
            ],
            [
             0.8,
             "#7fbc41"
            ],
            [
             0.9,
             "#4d9221"
            ],
            [
             1,
             "#276419"
            ]
           ],
           "sequential": [
            [
             0,
             "#0d0887"
            ],
            [
             0.1111111111111111,
             "#46039f"
            ],
            [
             0.2222222222222222,
             "#7201a8"
            ],
            [
             0.3333333333333333,
             "#9c179e"
            ],
            [
             0.4444444444444444,
             "#bd3786"
            ],
            [
             0.5555555555555556,
             "#d8576b"
            ],
            [
             0.6666666666666666,
             "#ed7953"
            ],
            [
             0.7777777777777778,
             "#fb9f3a"
            ],
            [
             0.8888888888888888,
             "#fdca26"
            ],
            [
             1,
             "#f0f921"
            ]
           ],
           "sequentialminus": [
            [
             0,
             "#0d0887"
            ],
            [
             0.1111111111111111,
             "#46039f"
            ],
            [
             0.2222222222222222,
             "#7201a8"
            ],
            [
             0.3333333333333333,
             "#9c179e"
            ],
            [
             0.4444444444444444,
             "#bd3786"
            ],
            [
             0.5555555555555556,
             "#d8576b"
            ],
            [
             0.6666666666666666,
             "#ed7953"
            ],
            [
             0.7777777777777778,
             "#fb9f3a"
            ],
            [
             0.8888888888888888,
             "#fdca26"
            ],
            [
             1,
             "#f0f921"
            ]
           ]
          },
          "colorway": [
           "#636efa",
           "#EF553B",
           "#00cc96",
           "#ab63fa",
           "#FFA15A",
           "#19d3f3",
           "#FF6692",
           "#B6E880",
           "#FF97FF",
           "#FECB52"
          ],
          "font": {
           "color": "#2a3f5f"
          },
          "geo": {
           "bgcolor": "white",
           "lakecolor": "white",
           "landcolor": "#E5ECF6",
           "showlakes": true,
           "showland": true,
           "subunitcolor": "white"
          },
          "hoverlabel": {
           "align": "left"
          },
          "hovermode": "closest",
          "mapbox": {
           "style": "light"
          },
          "paper_bgcolor": "white",
          "plot_bgcolor": "#E5ECF6",
          "polar": {
           "angularaxis": {
            "gridcolor": "white",
            "linecolor": "white",
            "ticks": ""
           },
           "bgcolor": "#E5ECF6",
           "radialaxis": {
            "gridcolor": "white",
            "linecolor": "white",
            "ticks": ""
           }
          },
          "scene": {
           "xaxis": {
            "backgroundcolor": "#E5ECF6",
            "gridcolor": "white",
            "gridwidth": 2,
            "linecolor": "white",
            "showbackground": true,
            "ticks": "",
            "zerolinecolor": "white"
           },
           "yaxis": {
            "backgroundcolor": "#E5ECF6",
            "gridcolor": "white",
            "gridwidth": 2,
            "linecolor": "white",
            "showbackground": true,
            "ticks": "",
            "zerolinecolor": "white"
           },
           "zaxis": {
            "backgroundcolor": "#E5ECF6",
            "gridcolor": "white",
            "gridwidth": 2,
            "linecolor": "white",
            "showbackground": true,
            "ticks": "",
            "zerolinecolor": "white"
           }
          },
          "shapedefaults": {
           "line": {
            "color": "#2a3f5f"
           }
          },
          "ternary": {
           "aaxis": {
            "gridcolor": "white",
            "linecolor": "white",
            "ticks": ""
           },
           "baxis": {
            "gridcolor": "white",
            "linecolor": "white",
            "ticks": ""
           },
           "bgcolor": "#E5ECF6",
           "caxis": {
            "gridcolor": "white",
            "linecolor": "white",
            "ticks": ""
           }
          },
          "title": {
           "x": 0.05
          },
          "xaxis": {
           "automargin": true,
           "gridcolor": "white",
           "linecolor": "white",
           "ticks": "",
           "title": {
            "standoff": 15
           },
           "zerolinecolor": "white",
           "zerolinewidth": 2
          },
          "yaxis": {
           "automargin": true,
           "gridcolor": "white",
           "linecolor": "white",
           "ticks": "",
           "title": {
            "standoff": 15
           },
           "zerolinecolor": "white",
           "zerolinewidth": 2
          }
         }
        },
        "title": {
         "text": "Unique Species Count by Wind Condition (Forest)"
        },
        "xaxis": {
         "anchor": "y",
         "domain": [
          0,
          1
         ],
         "title": {
          "text": "Wind_forest"
         }
        },
        "yaxis": {
         "anchor": "x",
         "domain": [
          0,
          1
         ],
         "title": {
          "text": "Unique_Species_Count"
         }
        }
       }
      }
     },
     "metadata": {},
     "output_type": "display_data"
    }
   ],
   "source": [
    "fig_wind_forest_scatter = px.scatter(avg_species_wind_forest, x='Wind_forest', y='Unique_Species_Count', title='Unique Species Count by Wind Condition (Forest)')\n",
    "fig_wind_forest_scatter.show()"
   ]
  },
  {
   "cell_type": "markdown",
   "id": "e01101f1",
   "metadata": {},
   "source": [
    "## Visualization of temperature, humidity, sky conditions and wind conditions of grassland"
   ]
  },
  {
   "cell_type": "code",
   "execution_count": 58,
   "id": "e08cb680",
   "metadata": {},
   "outputs": [
    {
     "data": {
      "application/vnd.plotly.v1+json": {
       "config": {
        "plotlyServerURL": "https://plot.ly"
       },
       "data": [
        {
         "hovertemplate": "Temperature_grassland (°C)=%{x}<br>Unique_Species_Count=%{y}<extra></extra>",
         "legendgroup": "",
         "marker": {
          "color": "#636efa",
          "symbol": "circle"
         },
         "mode": "markers",
         "name": "",
         "orientation": "v",
         "showlegend": false,
         "type": "scatter",
         "x": {
          "bdata": "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",
          "dtype": "f8"
         },
         "xaxis": "x",
         "y": {
          "bdata": "CgkDAw0SBgYNCAkRCw4LFhIWCBAQFAgRExATCxAJCA0KGBsHHh4LCgobDw8gJxsbFxwRGgsfEQwiJhMfJhUNGx8hFyUOISAqFyItIB0TGSMqHSQVFg8VFSAeKxIOJxwZHxoPGxYFHBASFxwTEhkcCBUWHQ8SHyQcHh4ZCCIHERMQEwQJDxsEEgcMDBoJEhILEBYXEQoHCRIUCg0TBxEHBhEDDAUVBgoODQMUEAoOCAQJCAoJCwoFCgcHCQk=",
          "dtype": "i1"
         },
         "yaxis": "y"
        }
       ],
       "layout": {
        "legend": {
         "tracegroupgap": 0
        },
        "template": {
         "data": {
          "bar": [
           {
            "error_x": {
             "color": "#2a3f5f"
            },
            "error_y": {
             "color": "#2a3f5f"
            },
            "marker": {
             "line": {
              "color": "#E5ECF6",
              "width": 0.5
             },
             "pattern": {
              "fillmode": "overlay",
              "size": 10,
              "solidity": 0.2
             }
            },
            "type": "bar"
           }
          ],
          "barpolar": [
           {
            "marker": {
             "line": {
              "color": "#E5ECF6",
              "width": 0.5
             },
             "pattern": {
              "fillmode": "overlay",
              "size": 10,
              "solidity": 0.2
             }
            },
            "type": "barpolar"
           }
          ],
          "carpet": [
           {
            "aaxis": {
             "endlinecolor": "#2a3f5f",
             "gridcolor": "white",
             "linecolor": "white",
             "minorgridcolor": "white",
             "startlinecolor": "#2a3f5f"
            },
            "baxis": {
             "endlinecolor": "#2a3f5f",
             "gridcolor": "white",
             "linecolor": "white",
             "minorgridcolor": "white",
             "startlinecolor": "#2a3f5f"
            },
            "type": "carpet"
           }
          ],
          "choropleth": [
           {
            "colorbar": {
             "outlinewidth": 0,
             "ticks": ""
            },
            "type": "choropleth"
           }
          ],
          "contour": [
           {
            "colorbar": {
             "outlinewidth": 0,
             "ticks": ""
            },
            "colorscale": [
             [
              0,
              "#0d0887"
             ],
             [
              0.1111111111111111,
              "#46039f"
             ],
             [
              0.2222222222222222,
              "#7201a8"
             ],
             [
              0.3333333333333333,
              "#9c179e"
             ],
             [
              0.4444444444444444,
              "#bd3786"
             ],
             [
              0.5555555555555556,
              "#d8576b"
             ],
             [
              0.6666666666666666,
              "#ed7953"
             ],
             [
              0.7777777777777778,
              "#fb9f3a"
             ],
             [
              0.8888888888888888,
              "#fdca26"
             ],
             [
              1,
              "#f0f921"
             ]
            ],
            "type": "contour"
           }
          ],
          "contourcarpet": [
           {
            "colorbar": {
             "outlinewidth": 0,
             "ticks": ""
            },
            "type": "contourcarpet"
           }
          ],
          "heatmap": [
           {
            "colorbar": {
             "outlinewidth": 0,
             "ticks": ""
            },
            "colorscale": [
             [
              0,
              "#0d0887"
             ],
             [
              0.1111111111111111,
              "#46039f"
             ],
             [
              0.2222222222222222,
              "#7201a8"
             ],
             [
              0.3333333333333333,
              "#9c179e"
             ],
             [
              0.4444444444444444,
              "#bd3786"
             ],
             [
              0.5555555555555556,
              "#d8576b"
             ],
             [
              0.6666666666666666,
              "#ed7953"
             ],
             [
              0.7777777777777778,
              "#fb9f3a"
             ],
             [
              0.8888888888888888,
              "#fdca26"
             ],
             [
              1,
              "#f0f921"
             ]
            ],
            "type": "heatmap"
           }
          ],
          "histogram": [
           {
            "marker": {
             "pattern": {
              "fillmode": "overlay",
              "size": 10,
              "solidity": 0.2
             }
            },
            "type": "histogram"
           }
          ],
          "histogram2d": [
           {
            "colorbar": {
             "outlinewidth": 0,
             "ticks": ""
            },
            "colorscale": [
             [
              0,
              "#0d0887"
             ],
             [
              0.1111111111111111,
              "#46039f"
             ],
             [
              0.2222222222222222,
              "#7201a8"
             ],
             [
              0.3333333333333333,
              "#9c179e"
             ],
             [
              0.4444444444444444,
              "#bd3786"
             ],
             [
              0.5555555555555556,
              "#d8576b"
             ],
             [
              0.6666666666666666,
              "#ed7953"
             ],
             [
              0.7777777777777778,
              "#fb9f3a"
             ],
             [
              0.8888888888888888,
              "#fdca26"
             ],
             [
              1,
              "#f0f921"
             ]
            ],
            "type": "histogram2d"
           }
          ],
          "histogram2dcontour": [
           {
            "colorbar": {
             "outlinewidth": 0,
             "ticks": ""
            },
            "colorscale": [
             [
              0,
              "#0d0887"
             ],
             [
              0.1111111111111111,
              "#46039f"
             ],
             [
              0.2222222222222222,
              "#7201a8"
             ],
             [
              0.3333333333333333,
              "#9c179e"
             ],
             [
              0.4444444444444444,
              "#bd3786"
             ],
             [
              0.5555555555555556,
              "#d8576b"
             ],
             [
              0.6666666666666666,
              "#ed7953"
             ],
             [
              0.7777777777777778,
              "#fb9f3a"
             ],
             [
              0.8888888888888888,
              "#fdca26"
             ],
             [
              1,
              "#f0f921"
             ]
            ],
            "type": "histogram2dcontour"
           }
          ],
          "mesh3d": [
           {
            "colorbar": {
             "outlinewidth": 0,
             "ticks": ""
            },
            "type": "mesh3d"
           }
          ],
          "parcoords": [
           {
            "line": {
             "colorbar": {
              "outlinewidth": 0,
              "ticks": ""
             }
            },
            "type": "parcoords"
           }
          ],
          "pie": [
           {
            "automargin": true,
            "type": "pie"
           }
          ],
          "scatter": [
           {
            "fillpattern": {
             "fillmode": "overlay",
             "size": 10,
             "solidity": 0.2
            },
            "type": "scatter"
           }
          ],
          "scatter3d": [
           {
            "line": {
             "colorbar": {
              "outlinewidth": 0,
              "ticks": ""
             }
            },
            "marker": {
             "colorbar": {
              "outlinewidth": 0,
              "ticks": ""
             }
            },
            "type": "scatter3d"
           }
          ],
          "scattercarpet": [
           {
            "marker": {
             "colorbar": {
              "outlinewidth": 0,
              "ticks": ""
             }
            },
            "type": "scattercarpet"
           }
          ],
          "scattergeo": [
           {
            "marker": {
             "colorbar": {
              "outlinewidth": 0,
              "ticks": ""
             }
            },
            "type": "scattergeo"
           }
          ],
          "scattergl": [
           {
            "marker": {
             "colorbar": {
              "outlinewidth": 0,
              "ticks": ""
             }
            },
            "type": "scattergl"
           }
          ],
          "scattermap": [
           {
            "marker": {
             "colorbar": {
              "outlinewidth": 0,
              "ticks": ""
             }
            },
            "type": "scattermap"
           }
          ],
          "scattermapbox": [
           {
            "marker": {
             "colorbar": {
              "outlinewidth": 0,
              "ticks": ""
             }
            },
            "type": "scattermapbox"
           }
          ],
          "scatterpolar": [
           {
            "marker": {
             "colorbar": {
              "outlinewidth": 0,
              "ticks": ""
             }
            },
            "type": "scatterpolar"
           }
          ],
          "scatterpolargl": [
           {
            "marker": {
             "colorbar": {
              "outlinewidth": 0,
              "ticks": ""
             }
            },
            "type": "scatterpolargl"
           }
          ],
          "scatterternary": [
           {
            "marker": {
             "colorbar": {
              "outlinewidth": 0,
              "ticks": ""
             }
            },
            "type": "scatterternary"
           }
          ],
          "surface": [
           {
            "colorbar": {
             "outlinewidth": 0,
             "ticks": ""
            },
            "colorscale": [
             [
              0,
              "#0d0887"
             ],
             [
              0.1111111111111111,
              "#46039f"
             ],
             [
              0.2222222222222222,
              "#7201a8"
             ],
             [
              0.3333333333333333,
              "#9c179e"
             ],
             [
              0.4444444444444444,
              "#bd3786"
             ],
             [
              0.5555555555555556,
              "#d8576b"
             ],
             [
              0.6666666666666666,
              "#ed7953"
             ],
             [
              0.7777777777777778,
              "#fb9f3a"
             ],
             [
              0.8888888888888888,
              "#fdca26"
             ],
             [
              1,
              "#f0f921"
             ]
            ],
            "type": "surface"
           }
          ],
          "table": [
           {
            "cells": {
             "fill": {
              "color": "#EBF0F8"
             },
             "line": {
              "color": "white"
             }
            },
            "header": {
             "fill": {
              "color": "#C8D4E3"
             },
             "line": {
              "color": "white"
             }
            },
            "type": "table"
           }
          ]
         },
         "layout": {
          "annotationdefaults": {
           "arrowcolor": "#2a3f5f",
           "arrowhead": 0,
           "arrowwidth": 1
          },
          "autotypenumbers": "strict",
          "coloraxis": {
           "colorbar": {
            "outlinewidth": 0,
            "ticks": ""
           }
          },
          "colorscale": {
           "diverging": [
            [
             0,
             "#8e0152"
            ],
            [
             0.1,
             "#c51b7d"
            ],
            [
             0.2,
             "#de77ae"
            ],
            [
             0.3,
             "#f1b6da"
            ],
            [
             0.4,
             "#fde0ef"
            ],
            [
             0.5,
             "#f7f7f7"
            ],
            [
             0.6,
             "#e6f5d0"
            ],
            [
             0.7,
             "#b8e186"
            ],
            [
             0.8,
             "#7fbc41"
            ],
            [
             0.9,
             "#4d9221"
            ],
            [
             1,
             "#276419"
            ]
           ],
           "sequential": [
            [
             0,
             "#0d0887"
            ],
            [
             0.1111111111111111,
             "#46039f"
            ],
            [
             0.2222222222222222,
             "#7201a8"
            ],
            [
             0.3333333333333333,
             "#9c179e"
            ],
            [
             0.4444444444444444,
             "#bd3786"
            ],
            [
             0.5555555555555556,
             "#d8576b"
            ],
            [
             0.6666666666666666,
             "#ed7953"
            ],
            [
             0.7777777777777778,
             "#fb9f3a"
            ],
            [
             0.8888888888888888,
             "#fdca26"
            ],
            [
             1,
             "#f0f921"
            ]
           ],
           "sequentialminus": [
            [
             0,
             "#0d0887"
            ],
            [
             0.1111111111111111,
             "#46039f"
            ],
            [
             0.2222222222222222,
             "#7201a8"
            ],
            [
             0.3333333333333333,
             "#9c179e"
            ],
            [
             0.4444444444444444,
             "#bd3786"
            ],
            [
             0.5555555555555556,
             "#d8576b"
            ],
            [
             0.6666666666666666,
             "#ed7953"
            ],
            [
             0.7777777777777778,
             "#fb9f3a"
            ],
            [
             0.8888888888888888,
             "#fdca26"
            ],
            [
             1,
             "#f0f921"
            ]
           ]
          },
          "colorway": [
           "#636efa",
           "#EF553B",
           "#00cc96",
           "#ab63fa",
           "#FFA15A",
           "#19d3f3",
           "#FF6692",
           "#B6E880",
           "#FF97FF",
           "#FECB52"
          ],
          "font": {
           "color": "#2a3f5f"
          },
          "geo": {
           "bgcolor": "white",
           "lakecolor": "white",
           "landcolor": "#E5ECF6",
           "showlakes": true,
           "showland": true,
           "subunitcolor": "white"
          },
          "hoverlabel": {
           "align": "left"
          },
          "hovermode": "closest",
          "mapbox": {
           "style": "light"
          },
          "paper_bgcolor": "white",
          "plot_bgcolor": "#E5ECF6",
          "polar": {
           "angularaxis": {
            "gridcolor": "white",
            "linecolor": "white",
            "ticks": ""
           },
           "bgcolor": "#E5ECF6",
           "radialaxis": {
            "gridcolor": "white",
            "linecolor": "white",
            "ticks": ""
           }
          },
          "scene": {
           "xaxis": {
            "backgroundcolor": "#E5ECF6",
            "gridcolor": "white",
            "gridwidth": 2,
            "linecolor": "white",
            "showbackground": true,
            "ticks": "",
            "zerolinecolor": "white"
           },
           "yaxis": {
            "backgroundcolor": "#E5ECF6",
            "gridcolor": "white",
            "gridwidth": 2,
            "linecolor": "white",
            "showbackground": true,
            "ticks": "",
            "zerolinecolor": "white"
           },
           "zaxis": {
            "backgroundcolor": "#E5ECF6",
            "gridcolor": "white",
            "gridwidth": 2,
            "linecolor": "white",
            "showbackground": true,
            "ticks": "",
            "zerolinecolor": "white"
           }
          },
          "shapedefaults": {
           "line": {
            "color": "#2a3f5f"
           }
          },
          "ternary": {
           "aaxis": {
            "gridcolor": "white",
            "linecolor": "white",
            "ticks": ""
           },
           "baxis": {
            "gridcolor": "white",
            "linecolor": "white",
            "ticks": ""
           },
           "bgcolor": "#E5ECF6",
           "caxis": {
            "gridcolor": "white",
            "linecolor": "white",
            "ticks": ""
           }
          },
          "title": {
           "x": 0.05
          },
          "xaxis": {
           "automargin": true,
           "gridcolor": "white",
           "linecolor": "white",
           "ticks": "",
           "title": {
            "standoff": 15
           },
           "zerolinecolor": "white",
           "zerolinewidth": 2
          },
          "yaxis": {
           "automargin": true,
           "gridcolor": "white",
           "linecolor": "white",
           "ticks": "",
           "title": {
            "standoff": 15
           },
           "zerolinecolor": "white",
           "zerolinewidth": 2
          }
         }
        },
        "title": {
         "text": "Unique Species Count by Temperature (Grassland)"
        },
        "xaxis": {
         "anchor": "y",
         "domain": [
          0,
          1
         ],
         "title": {
          "text": "Temperature_grassland (°C)"
         }
        },
        "yaxis": {
         "anchor": "x",
         "domain": [
          0,
          1
         ],
         "title": {
          "text": "Unique_Species_Count"
         }
        }
       }
      }
     },
     "metadata": {},
     "output_type": "display_data"
    }
   ],
   "source": [
    "# Create scatter plots for weather correlation (grassland)\n",
    "fig_temp_grassland_scatter = px.scatter(avg_species_temp_grassland, x='Temperature_grassland (°C)', y='Unique_Species_Count', title='Unique Species Count by Temperature (Grassland)')\n",
    "fig_temp_grassland_scatter.show()"
   ]
  },
  {
   "cell_type": "code",
   "execution_count": 59,
   "id": "029a2fc3",
   "metadata": {},
   "outputs": [
    {
     "data": {
      "application/vnd.plotly.v1+json": {
       "config": {
        "plotlyServerURL": "https://plot.ly"
       },
       "data": [
        {
         "hovertemplate": "Humidity_grassland=%{x}<br>Unique_Species_Count=%{y}<extra></extra>",
         "legendgroup": "",
         "marker": {
          "color": "#636efa",
          "symbol": "circle"
         },
         "mode": "markers",
         "name": "",
         "orientation": "v",
         "showlegend": false,
         "type": "scatter",
         "x": {
          "bdata": "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",
          "dtype": "f8"
         },
         "xaxis": "x",
         "y": {
          "bdata": "CBEODAoJDwcJChADCAUOCQoEBAwHBwcLBgcSCRAKCQoQEw8KDwUGDgwQCgYGBggRBg0PBwYRCAkJFAcHCAgHBA4IDBEKEwsLEgcQDw8PCxMREwgMBA8SBw4LDg0JDggKAxULCg8ICgoKCwoIERMODhANCgcJEB8IDQoMBQwXEBAUCwwMEhAKCg4RDh4JCwgDDAQJFQMJBRMHCRcLDQ4LCQwKFQsgGgwdGQQNDhIKEiATCBUIDhAbCBkTChIMFw8LEBUPFgcWChUREQMKHQwLCBIKBgsSDA8VEgoXEAUTDggLIwgPGxMUFBAKCAwiEAoHEBYUFRQRHAobFhEcDwkUBg4OGQsYExQRFQkMDgcTEBwXCQ8ODRYJCQsaCwcOEAIMEA0IFA4XAxwHEBkNDwgJEgsOGQcMEQsKFAgFDBELCQoHBwkECw==",
          "dtype": "i1"
         },
         "yaxis": "y"
        }
       ],
       "layout": {
        "legend": {
         "tracegroupgap": 0
        },
        "template": {
         "data": {
          "bar": [
           {
            "error_x": {
             "color": "#2a3f5f"
            },
            "error_y": {
             "color": "#2a3f5f"
            },
            "marker": {
             "line": {
              "color": "#E5ECF6",
              "width": 0.5
             },
             "pattern": {
              "fillmode": "overlay",
              "size": 10,
              "solidity": 0.2
             }
            },
            "type": "bar"
           }
          ],
          "barpolar": [
           {
            "marker": {
             "line": {
              "color": "#E5ECF6",
              "width": 0.5
             },
             "pattern": {
              "fillmode": "overlay",
              "size": 10,
              "solidity": 0.2
             }
            },
            "type": "barpolar"
           }
          ],
          "carpet": [
           {
            "aaxis": {
             "endlinecolor": "#2a3f5f",
             "gridcolor": "white",
             "linecolor": "white",
             "minorgridcolor": "white",
             "startlinecolor": "#2a3f5f"
            },
            "baxis": {
             "endlinecolor": "#2a3f5f",
             "gridcolor": "white",
             "linecolor": "white",
             "minorgridcolor": "white",
             "startlinecolor": "#2a3f5f"
            },
            "type": "carpet"
           }
          ],
          "choropleth": [
           {
            "colorbar": {
             "outlinewidth": 0,
             "ticks": ""
            },
            "type": "choropleth"
           }
          ],
          "contour": [
           {
            "colorbar": {
             "outlinewidth": 0,
             "ticks": ""
            },
            "colorscale": [
             [
              0,
              "#0d0887"
             ],
             [
              0.1111111111111111,
              "#46039f"
             ],
             [
              0.2222222222222222,
              "#7201a8"
             ],
             [
              0.3333333333333333,
              "#9c179e"
             ],
             [
              0.4444444444444444,
              "#bd3786"
             ],
             [
              0.5555555555555556,
              "#d8576b"
             ],
             [
              0.6666666666666666,
              "#ed7953"
             ],
             [
              0.7777777777777778,
              "#fb9f3a"
             ],
             [
              0.8888888888888888,
              "#fdca26"
             ],
             [
              1,
              "#f0f921"
             ]
            ],
            "type": "contour"
           }
          ],
          "contourcarpet": [
           {
            "colorbar": {
             "outlinewidth": 0,
             "ticks": ""
            },
            "type": "contourcarpet"
           }
          ],
          "heatmap": [
           {
            "colorbar": {
             "outlinewidth": 0,
             "ticks": ""
            },
            "colorscale": [
             [
              0,
              "#0d0887"
             ],
             [
              0.1111111111111111,
              "#46039f"
             ],
             [
              0.2222222222222222,
              "#7201a8"
             ],
             [
              0.3333333333333333,
              "#9c179e"
             ],
             [
              0.4444444444444444,
              "#bd3786"
             ],
             [
              0.5555555555555556,
              "#d8576b"
             ],
             [
              0.6666666666666666,
              "#ed7953"
             ],
             [
              0.7777777777777778,
              "#fb9f3a"
             ],
             [
              0.8888888888888888,
              "#fdca26"
             ],
             [
              1,
              "#f0f921"
             ]
            ],
            "type": "heatmap"
           }
          ],
          "histogram": [
           {
            "marker": {
             "pattern": {
              "fillmode": "overlay",
              "size": 10,
              "solidity": 0.2
             }
            },
            "type": "histogram"
           }
          ],
          "histogram2d": [
           {
            "colorbar": {
             "outlinewidth": 0,
             "ticks": ""
            },
            "colorscale": [
             [
              0,
              "#0d0887"
             ],
             [
              0.1111111111111111,
              "#46039f"
             ],
             [
              0.2222222222222222,
              "#7201a8"
             ],
             [
              0.3333333333333333,
              "#9c179e"
             ],
             [
              0.4444444444444444,
              "#bd3786"
             ],
             [
              0.5555555555555556,
              "#d8576b"
             ],
             [
              0.6666666666666666,
              "#ed7953"
             ],
             [
              0.7777777777777778,
              "#fb9f3a"
             ],
             [
              0.8888888888888888,
              "#fdca26"
             ],
             [
              1,
              "#f0f921"
             ]
            ],
            "type": "histogram2d"
           }
          ],
          "histogram2dcontour": [
           {
            "colorbar": {
             "outlinewidth": 0,
             "ticks": ""
            },
            "colorscale": [
             [
              0,
              "#0d0887"
             ],
             [
              0.1111111111111111,
              "#46039f"
             ],
             [
              0.2222222222222222,
              "#7201a8"
             ],
             [
              0.3333333333333333,
              "#9c179e"
             ],
             [
              0.4444444444444444,
              "#bd3786"
             ],
             [
              0.5555555555555556,
              "#d8576b"
             ],
             [
              0.6666666666666666,
              "#ed7953"
             ],
             [
              0.7777777777777778,
              "#fb9f3a"
             ],
             [
              0.8888888888888888,
              "#fdca26"
             ],
             [
              1,
              "#f0f921"
             ]
            ],
            "type": "histogram2dcontour"
           }
          ],
          "mesh3d": [
           {
            "colorbar": {
             "outlinewidth": 0,
             "ticks": ""
            },
            "type": "mesh3d"
           }
          ],
          "parcoords": [
           {
            "line": {
             "colorbar": {
              "outlinewidth": 0,
              "ticks": ""
             }
            },
            "type": "parcoords"
           }
          ],
          "pie": [
           {
            "automargin": true,
            "type": "pie"
           }
          ],
          "scatter": [
           {
            "fillpattern": {
             "fillmode": "overlay",
             "size": 10,
             "solidity": 0.2
            },
            "type": "scatter"
           }
          ],
          "scatter3d": [
           {
            "line": {
             "colorbar": {
              "outlinewidth": 0,
              "ticks": ""
             }
            },
            "marker": {
             "colorbar": {
              "outlinewidth": 0,
              "ticks": ""
             }
            },
            "type": "scatter3d"
           }
          ],
          "scattercarpet": [
           {
            "marker": {
             "colorbar": {
              "outlinewidth": 0,
              "ticks": ""
             }
            },
            "type": "scattercarpet"
           }
          ],
          "scattergeo": [
           {
            "marker": {
             "colorbar": {
              "outlinewidth": 0,
              "ticks": ""
             }
            },
            "type": "scattergeo"
           }
          ],
          "scattergl": [
           {
            "marker": {
             "colorbar": {
              "outlinewidth": 0,
              "ticks": ""
             }
            },
            "type": "scattergl"
           }
          ],
          "scattermap": [
           {
            "marker": {
             "colorbar": {
              "outlinewidth": 0,
              "ticks": ""
             }
            },
            "type": "scattermap"
           }
          ],
          "scattermapbox": [
           {
            "marker": {
             "colorbar": {
              "outlinewidth": 0,
              "ticks": ""
             }
            },
            "type": "scattermapbox"
           }
          ],
          "scatterpolar": [
           {
            "marker": {
             "colorbar": {
              "outlinewidth": 0,
              "ticks": ""
             }
            },
            "type": "scatterpolar"
           }
          ],
          "scatterpolargl": [
           {
            "marker": {
             "colorbar": {
              "outlinewidth": 0,
              "ticks": ""
             }
            },
            "type": "scatterpolargl"
           }
          ],
          "scatterternary": [
           {
            "marker": {
             "colorbar": {
              "outlinewidth": 0,
              "ticks": ""
             }
            },
            "type": "scatterternary"
           }
          ],
          "surface": [
           {
            "colorbar": {
             "outlinewidth": 0,
             "ticks": ""
            },
            "colorscale": [
             [
              0,
              "#0d0887"
             ],
             [
              0.1111111111111111,
              "#46039f"
             ],
             [
              0.2222222222222222,
              "#7201a8"
             ],
             [
              0.3333333333333333,
              "#9c179e"
             ],
             [
              0.4444444444444444,
              "#bd3786"
             ],
             [
              0.5555555555555556,
              "#d8576b"
             ],
             [
              0.6666666666666666,
              "#ed7953"
             ],
             [
              0.7777777777777778,
              "#fb9f3a"
             ],
             [
              0.8888888888888888,
              "#fdca26"
             ],
             [
              1,
              "#f0f921"
             ]
            ],
            "type": "surface"
           }
          ],
          "table": [
           {
            "cells": {
             "fill": {
              "color": "#EBF0F8"
             },
             "line": {
              "color": "white"
             }
            },
            "header": {
             "fill": {
              "color": "#C8D4E3"
             },
             "line": {
              "color": "white"
             }
            },
            "type": "table"
           }
          ]
         },
         "layout": {
          "annotationdefaults": {
           "arrowcolor": "#2a3f5f",
           "arrowhead": 0,
           "arrowwidth": 1
          },
          "autotypenumbers": "strict",
          "coloraxis": {
           "colorbar": {
            "outlinewidth": 0,
            "ticks": ""
           }
          },
          "colorscale": {
           "diverging": [
            [
             0,
             "#8e0152"
            ],
            [
             0.1,
             "#c51b7d"
            ],
            [
             0.2,
             "#de77ae"
            ],
            [
             0.3,
             "#f1b6da"
            ],
            [
             0.4,
             "#fde0ef"
            ],
            [
             0.5,
             "#f7f7f7"
            ],
            [
             0.6,
             "#e6f5d0"
            ],
            [
             0.7,
             "#b8e186"
            ],
            [
             0.8,
             "#7fbc41"
            ],
            [
             0.9,
             "#4d9221"
            ],
            [
             1,
             "#276419"
            ]
           ],
           "sequential": [
            [
             0,
             "#0d0887"
            ],
            [
             0.1111111111111111,
             "#46039f"
            ],
            [
             0.2222222222222222,
             "#7201a8"
            ],
            [
             0.3333333333333333,
             "#9c179e"
            ],
            [
             0.4444444444444444,
             "#bd3786"
            ],
            [
             0.5555555555555556,
             "#d8576b"
            ],
            [
             0.6666666666666666,
             "#ed7953"
            ],
            [
             0.7777777777777778,
             "#fb9f3a"
            ],
            [
             0.8888888888888888,
             "#fdca26"
            ],
            [
             1,
             "#f0f921"
            ]
           ],
           "sequentialminus": [
            [
             0,
             "#0d0887"
            ],
            [
             0.1111111111111111,
             "#46039f"
            ],
            [
             0.2222222222222222,
             "#7201a8"
            ],
            [
             0.3333333333333333,
             "#9c179e"
            ],
            [
             0.4444444444444444,
             "#bd3786"
            ],
            [
             0.5555555555555556,
             "#d8576b"
            ],
            [
             0.6666666666666666,
             "#ed7953"
            ],
            [
             0.7777777777777778,
             "#fb9f3a"
            ],
            [
             0.8888888888888888,
             "#fdca26"
            ],
            [
             1,
             "#f0f921"
            ]
           ]
          },
          "colorway": [
           "#636efa",
           "#EF553B",
           "#00cc96",
           "#ab63fa",
           "#FFA15A",
           "#19d3f3",
           "#FF6692",
           "#B6E880",
           "#FF97FF",
           "#FECB52"
          ],
          "font": {
           "color": "#2a3f5f"
          },
          "geo": {
           "bgcolor": "white",
           "lakecolor": "white",
           "landcolor": "#E5ECF6",
           "showlakes": true,
           "showland": true,
           "subunitcolor": "white"
          },
          "hoverlabel": {
           "align": "left"
          },
          "hovermode": "closest",
          "mapbox": {
           "style": "light"
          },
          "paper_bgcolor": "white",
          "plot_bgcolor": "#E5ECF6",
          "polar": {
           "angularaxis": {
            "gridcolor": "white",
            "linecolor": "white",
            "ticks": ""
           },
           "bgcolor": "#E5ECF6",
           "radialaxis": {
            "gridcolor": "white",
            "linecolor": "white",
            "ticks": ""
           }
          },
          "scene": {
           "xaxis": {
            "backgroundcolor": "#E5ECF6",
            "gridcolor": "white",
            "gridwidth": 2,
            "linecolor": "white",
            "showbackground": true,
            "ticks": "",
            "zerolinecolor": "white"
           },
           "yaxis": {
            "backgroundcolor": "#E5ECF6",
            "gridcolor": "white",
            "gridwidth": 2,
            "linecolor": "white",
            "showbackground": true,
            "ticks": "",
            "zerolinecolor": "white"
           },
           "zaxis": {
            "backgroundcolor": "#E5ECF6",
            "gridcolor": "white",
            "gridwidth": 2,
            "linecolor": "white",
            "showbackground": true,
            "ticks": "",
            "zerolinecolor": "white"
           }
          },
          "shapedefaults": {
           "line": {
            "color": "#2a3f5f"
           }
          },
          "ternary": {
           "aaxis": {
            "gridcolor": "white",
            "linecolor": "white",
            "ticks": ""
           },
           "baxis": {
            "gridcolor": "white",
            "linecolor": "white",
            "ticks": ""
           },
           "bgcolor": "#E5ECF6",
           "caxis": {
            "gridcolor": "white",
            "linecolor": "white",
            "ticks": ""
           }
          },
          "title": {
           "x": 0.05
          },
          "xaxis": {
           "automargin": true,
           "gridcolor": "white",
           "linecolor": "white",
           "ticks": "",
           "title": {
            "standoff": 15
           },
           "zerolinecolor": "white",
           "zerolinewidth": 2
          },
          "yaxis": {
           "automargin": true,
           "gridcolor": "white",
           "linecolor": "white",
           "ticks": "",
           "title": {
            "standoff": 15
           },
           "zerolinecolor": "white",
           "zerolinewidth": 2
          }
         }
        },
        "title": {
         "text": "Unique Species Count by Humidity (Grassland)"
        },
        "xaxis": {
         "anchor": "y",
         "domain": [
          0,
          1
         ],
         "title": {
          "text": "Humidity_grassland"
         }
        },
        "yaxis": {
         "anchor": "x",
         "domain": [
          0,
          1
         ],
         "title": {
          "text": "Unique_Species_Count"
         }
        }
       }
      }
     },
     "metadata": {},
     "output_type": "display_data"
    }
   ],
   "source": [
    "fig_humidity_grassland_scatter = px.scatter(avg_species_humidity_grassland, x='Humidity_grassland', y='Unique_Species_Count', title='Unique Species Count by Humidity (Grassland)')\n",
    "fig_humidity_grassland_scatter.show()"
   ]
  },
  {
   "cell_type": "code",
   "execution_count": 60,
   "id": "8a00a3e3",
   "metadata": {},
   "outputs": [
    {
     "data": {
      "application/vnd.plotly.v1+json": {
       "config": {
        "plotlyServerURL": "https://plot.ly"
       },
       "data": [
        {
         "hovertemplate": "Sky_grassland=%{x}<br>Unique_Species_Count=%{y}<extra></extra>",
         "legendgroup": "",
         "marker": {
          "color": "#636efa",
          "symbol": "circle"
         },
         "mode": "markers",
         "name": "",
         "orientation": "v",
         "showlegend": false,
         "type": "scatter",
         "x": [
          "Clear or Few Clouds",
          "Cloudy/Overcast",
          "Fog",
          "Mist/Drizzle",
          "Partly Cloudy"
         ],
         "xaxis": "x",
         "y": {
          "bdata": "UkomIVw=",
          "dtype": "i1"
         },
         "yaxis": "y"
        }
       ],
       "layout": {
        "legend": {
         "tracegroupgap": 0
        },
        "template": {
         "data": {
          "bar": [
           {
            "error_x": {
             "color": "#2a3f5f"
            },
            "error_y": {
             "color": "#2a3f5f"
            },
            "marker": {
             "line": {
              "color": "#E5ECF6",
              "width": 0.5
             },
             "pattern": {
              "fillmode": "overlay",
              "size": 10,
              "solidity": 0.2
             }
            },
            "type": "bar"
           }
          ],
          "barpolar": [
           {
            "marker": {
             "line": {
              "color": "#E5ECF6",
              "width": 0.5
             },
             "pattern": {
              "fillmode": "overlay",
              "size": 10,
              "solidity": 0.2
             }
            },
            "type": "barpolar"
           }
          ],
          "carpet": [
           {
            "aaxis": {
             "endlinecolor": "#2a3f5f",
             "gridcolor": "white",
             "linecolor": "white",
             "minorgridcolor": "white",
             "startlinecolor": "#2a3f5f"
            },
            "baxis": {
             "endlinecolor": "#2a3f5f",
             "gridcolor": "white",
             "linecolor": "white",
             "minorgridcolor": "white",
             "startlinecolor": "#2a3f5f"
            },
            "type": "carpet"
           }
          ],
          "choropleth": [
           {
            "colorbar": {
             "outlinewidth": 0,
             "ticks": ""
            },
            "type": "choropleth"
           }
          ],
          "contour": [
           {
            "colorbar": {
             "outlinewidth": 0,
             "ticks": ""
            },
            "colorscale": [
             [
              0,
              "#0d0887"
             ],
             [
              0.1111111111111111,
              "#46039f"
             ],
             [
              0.2222222222222222,
              "#7201a8"
             ],
             [
              0.3333333333333333,
              "#9c179e"
             ],
             [
              0.4444444444444444,
              "#bd3786"
             ],
             [
              0.5555555555555556,
              "#d8576b"
             ],
             [
              0.6666666666666666,
              "#ed7953"
             ],
             [
              0.7777777777777778,
              "#fb9f3a"
             ],
             [
              0.8888888888888888,
              "#fdca26"
             ],
             [
              1,
              "#f0f921"
             ]
            ],
            "type": "contour"
           }
          ],
          "contourcarpet": [
           {
            "colorbar": {
             "outlinewidth": 0,
             "ticks": ""
            },
            "type": "contourcarpet"
           }
          ],
          "heatmap": [
           {
            "colorbar": {
             "outlinewidth": 0,
             "ticks": ""
            },
            "colorscale": [
             [
              0,
              "#0d0887"
             ],
             [
              0.1111111111111111,
              "#46039f"
             ],
             [
              0.2222222222222222,
              "#7201a8"
             ],
             [
              0.3333333333333333,
              "#9c179e"
             ],
             [
              0.4444444444444444,
              "#bd3786"
             ],
             [
              0.5555555555555556,
              "#d8576b"
             ],
             [
              0.6666666666666666,
              "#ed7953"
             ],
             [
              0.7777777777777778,
              "#fb9f3a"
             ],
             [
              0.8888888888888888,
              "#fdca26"
             ],
             [
              1,
              "#f0f921"
             ]
            ],
            "type": "heatmap"
           }
          ],
          "histogram": [
           {
            "marker": {
             "pattern": {
              "fillmode": "overlay",
              "size": 10,
              "solidity": 0.2
             }
            },
            "type": "histogram"
           }
          ],
          "histogram2d": [
           {
            "colorbar": {
             "outlinewidth": 0,
             "ticks": ""
            },
            "colorscale": [
             [
              0,
              "#0d0887"
             ],
             [
              0.1111111111111111,
              "#46039f"
             ],
             [
              0.2222222222222222,
              "#7201a8"
             ],
             [
              0.3333333333333333,
              "#9c179e"
             ],
             [
              0.4444444444444444,
              "#bd3786"
             ],
             [
              0.5555555555555556,
              "#d8576b"
             ],
             [
              0.6666666666666666,
              "#ed7953"
             ],
             [
              0.7777777777777778,
              "#fb9f3a"
             ],
             [
              0.8888888888888888,
              "#fdca26"
             ],
             [
              1,
              "#f0f921"
             ]
            ],
            "type": "histogram2d"
           }
          ],
          "histogram2dcontour": [
           {
            "colorbar": {
             "outlinewidth": 0,
             "ticks": ""
            },
            "colorscale": [
             [
              0,
              "#0d0887"
             ],
             [
              0.1111111111111111,
              "#46039f"
             ],
             [
              0.2222222222222222,
              "#7201a8"
             ],
             [
              0.3333333333333333,
              "#9c179e"
             ],
             [
              0.4444444444444444,
              "#bd3786"
             ],
             [
              0.5555555555555556,
              "#d8576b"
             ],
             [
              0.6666666666666666,
              "#ed7953"
             ],
             [
              0.7777777777777778,
              "#fb9f3a"
             ],
             [
              0.8888888888888888,
              "#fdca26"
             ],
             [
              1,
              "#f0f921"
             ]
            ],
            "type": "histogram2dcontour"
           }
          ],
          "mesh3d": [
           {
            "colorbar": {
             "outlinewidth": 0,
             "ticks": ""
            },
            "type": "mesh3d"
           }
          ],
          "parcoords": [
           {
            "line": {
             "colorbar": {
              "outlinewidth": 0,
              "ticks": ""
             }
            },
            "type": "parcoords"
           }
          ],
          "pie": [
           {
            "automargin": true,
            "type": "pie"
           }
          ],
          "scatter": [
           {
            "fillpattern": {
             "fillmode": "overlay",
             "size": 10,
             "solidity": 0.2
            },
            "type": "scatter"
           }
          ],
          "scatter3d": [
           {
            "line": {
             "colorbar": {
              "outlinewidth": 0,
              "ticks": ""
             }
            },
            "marker": {
             "colorbar": {
              "outlinewidth": 0,
              "ticks": ""
             }
            },
            "type": "scatter3d"
           }
          ],
          "scattercarpet": [
           {
            "marker": {
             "colorbar": {
              "outlinewidth": 0,
              "ticks": ""
             }
            },
            "type": "scattercarpet"
           }
          ],
          "scattergeo": [
           {
            "marker": {
             "colorbar": {
              "outlinewidth": 0,
              "ticks": ""
             }
            },
            "type": "scattergeo"
           }
          ],
          "scattergl": [
           {
            "marker": {
             "colorbar": {
              "outlinewidth": 0,
              "ticks": ""
             }
            },
            "type": "scattergl"
           }
          ],
          "scattermap": [
           {
            "marker": {
             "colorbar": {
              "outlinewidth": 0,
              "ticks": ""
             }
            },
            "type": "scattermap"
           }
          ],
          "scattermapbox": [
           {
            "marker": {
             "colorbar": {
              "outlinewidth": 0,
              "ticks": ""
             }
            },
            "type": "scattermapbox"
           }
          ],
          "scatterpolar": [
           {
            "marker": {
             "colorbar": {
              "outlinewidth": 0,
              "ticks": ""
             }
            },
            "type": "scatterpolar"
           }
          ],
          "scatterpolargl": [
           {
            "marker": {
             "colorbar": {
              "outlinewidth": 0,
              "ticks": ""
             }
            },
            "type": "scatterpolargl"
           }
          ],
          "scatterternary": [
           {
            "marker": {
             "colorbar": {
              "outlinewidth": 0,
              "ticks": ""
             }
            },
            "type": "scatterternary"
           }
          ],
          "surface": [
           {
            "colorbar": {
             "outlinewidth": 0,
             "ticks": ""
            },
            "colorscale": [
             [
              0,
              "#0d0887"
             ],
             [
              0.1111111111111111,
              "#46039f"
             ],
             [
              0.2222222222222222,
              "#7201a8"
             ],
             [
              0.3333333333333333,
              "#9c179e"
             ],
             [
              0.4444444444444444,
              "#bd3786"
             ],
             [
              0.5555555555555556,
              "#d8576b"
             ],
             [
              0.6666666666666666,
              "#ed7953"
             ],
             [
              0.7777777777777778,
              "#fb9f3a"
             ],
             [
              0.8888888888888888,
              "#fdca26"
             ],
             [
              1,
              "#f0f921"
             ]
            ],
            "type": "surface"
           }
          ],
          "table": [
           {
            "cells": {
             "fill": {
              "color": "#EBF0F8"
             },
             "line": {
              "color": "white"
             }
            },
            "header": {
             "fill": {
              "color": "#C8D4E3"
             },
             "line": {
              "color": "white"
             }
            },
            "type": "table"
           }
          ]
         },
         "layout": {
          "annotationdefaults": {
           "arrowcolor": "#2a3f5f",
           "arrowhead": 0,
           "arrowwidth": 1
          },
          "autotypenumbers": "strict",
          "coloraxis": {
           "colorbar": {
            "outlinewidth": 0,
            "ticks": ""
           }
          },
          "colorscale": {
           "diverging": [
            [
             0,
             "#8e0152"
            ],
            [
             0.1,
             "#c51b7d"
            ],
            [
             0.2,
             "#de77ae"
            ],
            [
             0.3,
             "#f1b6da"
            ],
            [
             0.4,
             "#fde0ef"
            ],
            [
             0.5,
             "#f7f7f7"
            ],
            [
             0.6,
             "#e6f5d0"
            ],
            [
             0.7,
             "#b8e186"
            ],
            [
             0.8,
             "#7fbc41"
            ],
            [
             0.9,
             "#4d9221"
            ],
            [
             1,
             "#276419"
            ]
           ],
           "sequential": [
            [
             0,
             "#0d0887"
            ],
            [
             0.1111111111111111,
             "#46039f"
            ],
            [
             0.2222222222222222,
             "#7201a8"
            ],
            [
             0.3333333333333333,
             "#9c179e"
            ],
            [
             0.4444444444444444,
             "#bd3786"
            ],
            [
             0.5555555555555556,
             "#d8576b"
            ],
            [
             0.6666666666666666,
             "#ed7953"
            ],
            [
             0.7777777777777778,
             "#fb9f3a"
            ],
            [
             0.8888888888888888,
             "#fdca26"
            ],
            [
             1,
             "#f0f921"
            ]
           ],
           "sequentialminus": [
            [
             0,
             "#0d0887"
            ],
            [
             0.1111111111111111,
             "#46039f"
            ],
            [
             0.2222222222222222,
             "#7201a8"
            ],
            [
             0.3333333333333333,
             "#9c179e"
            ],
            [
             0.4444444444444444,
             "#bd3786"
            ],
            [
             0.5555555555555556,
             "#d8576b"
            ],
            [
             0.6666666666666666,
             "#ed7953"
            ],
            [
             0.7777777777777778,
             "#fb9f3a"
            ],
            [
             0.8888888888888888,
             "#fdca26"
            ],
            [
             1,
             "#f0f921"
            ]
           ]
          },
          "colorway": [
           "#636efa",
           "#EF553B",
           "#00cc96",
           "#ab63fa",
           "#FFA15A",
           "#19d3f3",
           "#FF6692",
           "#B6E880",
           "#FF97FF",
           "#FECB52"
          ],
          "font": {
           "color": "#2a3f5f"
          },
          "geo": {
           "bgcolor": "white",
           "lakecolor": "white",
           "landcolor": "#E5ECF6",
           "showlakes": true,
           "showland": true,
           "subunitcolor": "white"
          },
          "hoverlabel": {
           "align": "left"
          },
          "hovermode": "closest",
          "mapbox": {
           "style": "light"
          },
          "paper_bgcolor": "white",
          "plot_bgcolor": "#E5ECF6",
          "polar": {
           "angularaxis": {
            "gridcolor": "white",
            "linecolor": "white",
            "ticks": ""
           },
           "bgcolor": "#E5ECF6",
           "radialaxis": {
            "gridcolor": "white",
            "linecolor": "white",
            "ticks": ""
           }
          },
          "scene": {
           "xaxis": {
            "backgroundcolor": "#E5ECF6",
            "gridcolor": "white",
            "gridwidth": 2,
            "linecolor": "white",
            "showbackground": true,
            "ticks": "",
            "zerolinecolor": "white"
           },
           "yaxis": {
            "backgroundcolor": "#E5ECF6",
            "gridcolor": "white",
            "gridwidth": 2,
            "linecolor": "white",
            "showbackground": true,
            "ticks": "",
            "zerolinecolor": "white"
           },
           "zaxis": {
            "backgroundcolor": "#E5ECF6",
            "gridcolor": "white",
            "gridwidth": 2,
            "linecolor": "white",
            "showbackground": true,
            "ticks": "",
            "zerolinecolor": "white"
           }
          },
          "shapedefaults": {
           "line": {
            "color": "#2a3f5f"
           }
          },
          "ternary": {
           "aaxis": {
            "gridcolor": "white",
            "linecolor": "white",
            "ticks": ""
           },
           "baxis": {
            "gridcolor": "white",
            "linecolor": "white",
            "ticks": ""
           },
           "bgcolor": "#E5ECF6",
           "caxis": {
            "gridcolor": "white",
            "linecolor": "white",
            "ticks": ""
           }
          },
          "title": {
           "x": 0.05
          },
          "xaxis": {
           "automargin": true,
           "gridcolor": "white",
           "linecolor": "white",
           "ticks": "",
           "title": {
            "standoff": 15
           },
           "zerolinecolor": "white",
           "zerolinewidth": 2
          },
          "yaxis": {
           "automargin": true,
           "gridcolor": "white",
           "linecolor": "white",
           "ticks": "",
           "title": {
            "standoff": 15
           },
           "zerolinecolor": "white",
           "zerolinewidth": 2
          }
         }
        },
        "title": {
         "text": "Unique Species Count by Sky Condition (Grassland)"
        },
        "xaxis": {
         "anchor": "y",
         "domain": [
          0,
          1
         ],
         "title": {
          "text": "Sky_grassland"
         }
        },
        "yaxis": {
         "anchor": "x",
         "domain": [
          0,
          1
         ],
         "title": {
          "text": "Unique_Species_Count"
         }
        }
       }
      }
     },
     "metadata": {},
     "output_type": "display_data"
    }
   ],
   "source": [
    "fig_sky_grassland_scatter = px.scatter(avg_species_sky_grassland, x='Sky_grassland', y='Unique_Species_Count', title='Unique Species Count by Sky Condition (Grassland)')\n",
    "fig_sky_grassland_scatter.show()"
   ]
  },
  {
   "cell_type": "code",
   "execution_count": 61,
   "id": "c93cd35f",
   "metadata": {
    "lines_to_next_cell": 2
   },
   "outputs": [
    {
     "data": {
      "application/vnd.plotly.v1+json": {
       "config": {
        "plotlyServerURL": "https://plot.ly"
       },
       "data": [
        {
         "hovertemplate": "Wind_grassland=%{x}<br>Unique_Species_Count=%{y}<extra></extra>",
         "legendgroup": "",
         "marker": {
          "color": "#636efa",
          "symbol": "circle"
         },
         "mode": "markers",
         "name": "",
         "orientation": "v",
         "showlegend": false,
         "type": "scatter",
         "x": [
          "Calm (< 1 mph) smoke rises vertically",
          "Gentle breeze (8-12 mph), leaves in motion",
          "Light air movement (1-3 mph) smoke drifts",
          "Light breeze (4-7 mph) wind felt on face"
         ],
         "xaxis": "x",
         "y": {
          "bdata": "SjFfWA==",
          "dtype": "i1"
         },
         "yaxis": "y"
        }
       ],
       "layout": {
        "legend": {
         "tracegroupgap": 0
        },
        "template": {
         "data": {
          "bar": [
           {
            "error_x": {
             "color": "#2a3f5f"
            },
            "error_y": {
             "color": "#2a3f5f"
            },
            "marker": {
             "line": {
              "color": "#E5ECF6",
              "width": 0.5
             },
             "pattern": {
              "fillmode": "overlay",
              "size": 10,
              "solidity": 0.2
             }
            },
            "type": "bar"
           }
          ],
          "barpolar": [
           {
            "marker": {
             "line": {
              "color": "#E5ECF6",
              "width": 0.5
             },
             "pattern": {
              "fillmode": "overlay",
              "size": 10,
              "solidity": 0.2
             }
            },
            "type": "barpolar"
           }
          ],
          "carpet": [
           {
            "aaxis": {
             "endlinecolor": "#2a3f5f",
             "gridcolor": "white",
             "linecolor": "white",
             "minorgridcolor": "white",
             "startlinecolor": "#2a3f5f"
            },
            "baxis": {
             "endlinecolor": "#2a3f5f",
             "gridcolor": "white",
             "linecolor": "white",
             "minorgridcolor": "white",
             "startlinecolor": "#2a3f5f"
            },
            "type": "carpet"
           }
          ],
          "choropleth": [
           {
            "colorbar": {
             "outlinewidth": 0,
             "ticks": ""
            },
            "type": "choropleth"
           }
          ],
          "contour": [
           {
            "colorbar": {
             "outlinewidth": 0,
             "ticks": ""
            },
            "colorscale": [
             [
              0,
              "#0d0887"
             ],
             [
              0.1111111111111111,
              "#46039f"
             ],
             [
              0.2222222222222222,
              "#7201a8"
             ],
             [
              0.3333333333333333,
              "#9c179e"
             ],
             [
              0.4444444444444444,
              "#bd3786"
             ],
             [
              0.5555555555555556,
              "#d8576b"
             ],
             [
              0.6666666666666666,
              "#ed7953"
             ],
             [
              0.7777777777777778,
              "#fb9f3a"
             ],
             [
              0.8888888888888888,
              "#fdca26"
             ],
             [
              1,
              "#f0f921"
             ]
            ],
            "type": "contour"
           }
          ],
          "contourcarpet": [
           {
            "colorbar": {
             "outlinewidth": 0,
             "ticks": ""
            },
            "type": "contourcarpet"
           }
          ],
          "heatmap": [
           {
            "colorbar": {
             "outlinewidth": 0,
             "ticks": ""
            },
            "colorscale": [
             [
              0,
              "#0d0887"
             ],
             [
              0.1111111111111111,
              "#46039f"
             ],
             [
              0.2222222222222222,
              "#7201a8"
             ],
             [
              0.3333333333333333,
              "#9c179e"
             ],
             [
              0.4444444444444444,
              "#bd3786"
             ],
             [
              0.5555555555555556,
              "#d8576b"
             ],
             [
              0.6666666666666666,
              "#ed7953"
             ],
             [
              0.7777777777777778,
              "#fb9f3a"
             ],
             [
              0.8888888888888888,
              "#fdca26"
             ],
             [
              1,
              "#f0f921"
             ]
            ],
            "type": "heatmap"
           }
          ],
          "histogram": [
           {
            "marker": {
             "pattern": {
              "fillmode": "overlay",
              "size": 10,
              "solidity": 0.2
             }
            },
            "type": "histogram"
           }
          ],
          "histogram2d": [
           {
            "colorbar": {
             "outlinewidth": 0,
             "ticks": ""
            },
            "colorscale": [
             [
              0,
              "#0d0887"
             ],
             [
              0.1111111111111111,
              "#46039f"
             ],
             [
              0.2222222222222222,
              "#7201a8"
             ],
             [
              0.3333333333333333,
              "#9c179e"
             ],
             [
              0.4444444444444444,
              "#bd3786"
             ],
             [
              0.5555555555555556,
              "#d8576b"
             ],
             [
              0.6666666666666666,
              "#ed7953"
             ],
             [
              0.7777777777777778,
              "#fb9f3a"
             ],
             [
              0.8888888888888888,
              "#fdca26"
             ],
             [
              1,
              "#f0f921"
             ]
            ],
            "type": "histogram2d"
           }
          ],
          "histogram2dcontour": [
           {
            "colorbar": {
             "outlinewidth": 0,
             "ticks": ""
            },
            "colorscale": [
             [
              0,
              "#0d0887"
             ],
             [
              0.1111111111111111,
              "#46039f"
             ],
             [
              0.2222222222222222,
              "#7201a8"
             ],
             [
              0.3333333333333333,
              "#9c179e"
             ],
             [
              0.4444444444444444,
              "#bd3786"
             ],
             [
              0.5555555555555556,
              "#d8576b"
             ],
             [
              0.6666666666666666,
              "#ed7953"
             ],
             [
              0.7777777777777778,
              "#fb9f3a"
             ],
             [
              0.8888888888888888,
              "#fdca26"
             ],
             [
              1,
              "#f0f921"
             ]
            ],
            "type": "histogram2dcontour"
           }
          ],
          "mesh3d": [
           {
            "colorbar": {
             "outlinewidth": 0,
             "ticks": ""
            },
            "type": "mesh3d"
           }
          ],
          "parcoords": [
           {
            "line": {
             "colorbar": {
              "outlinewidth": 0,
              "ticks": ""
             }
            },
            "type": "parcoords"
           }
          ],
          "pie": [
           {
            "automargin": true,
            "type": "pie"
           }
          ],
          "scatter": [
           {
            "fillpattern": {
             "fillmode": "overlay",
             "size": 10,
             "solidity": 0.2
            },
            "type": "scatter"
           }
          ],
          "scatter3d": [
           {
            "line": {
             "colorbar": {
              "outlinewidth": 0,
              "ticks": ""
             }
            },
            "marker": {
             "colorbar": {
              "outlinewidth": 0,
              "ticks": ""
             }
            },
            "type": "scatter3d"
           }
          ],
          "scattercarpet": [
           {
            "marker": {
             "colorbar": {
              "outlinewidth": 0,
              "ticks": ""
             }
            },
            "type": "scattercarpet"
           }
          ],
          "scattergeo": [
           {
            "marker": {
             "colorbar": {
              "outlinewidth": 0,
              "ticks": ""
             }
            },
            "type": "scattergeo"
           }
          ],
          "scattergl": [
           {
            "marker": {
             "colorbar": {
              "outlinewidth": 0,
              "ticks": ""
             }
            },
            "type": "scattergl"
           }
          ],
          "scattermap": [
           {
            "marker": {
             "colorbar": {
              "outlinewidth": 0,
              "ticks": ""
             }
            },
            "type": "scattermap"
           }
          ],
          "scattermapbox": [
           {
            "marker": {
             "colorbar": {
              "outlinewidth": 0,
              "ticks": ""
             }
            },
            "type": "scattermapbox"
           }
          ],
          "scatterpolar": [
           {
            "marker": {
             "colorbar": {
              "outlinewidth": 0,
              "ticks": ""
             }
            },
            "type": "scatterpolar"
           }
          ],
          "scatterpolargl": [
           {
            "marker": {
             "colorbar": {
              "outlinewidth": 0,
              "ticks": ""
             }
            },
            "type": "scatterpolargl"
           }
          ],
          "scatterternary": [
           {
            "marker": {
             "colorbar": {
              "outlinewidth": 0,
              "ticks": ""
             }
            },
            "type": "scatterternary"
           }
          ],
          "surface": [
           {
            "colorbar": {
             "outlinewidth": 0,
             "ticks": ""
            },
            "colorscale": [
             [
              0,
              "#0d0887"
             ],
             [
              0.1111111111111111,
              "#46039f"
             ],
             [
              0.2222222222222222,
              "#7201a8"
             ],
             [
              0.3333333333333333,
              "#9c179e"
             ],
             [
              0.4444444444444444,
              "#bd3786"
             ],
             [
              0.5555555555555556,
              "#d8576b"
             ],
             [
              0.6666666666666666,
              "#ed7953"
             ],
             [
              0.7777777777777778,
              "#fb9f3a"
             ],
             [
              0.8888888888888888,
              "#fdca26"
             ],
             [
              1,
              "#f0f921"
             ]
            ],
            "type": "surface"
           }
          ],
          "table": [
           {
            "cells": {
             "fill": {
              "color": "#EBF0F8"
             },
             "line": {
              "color": "white"
             }
            },
            "header": {
             "fill": {
              "color": "#C8D4E3"
             },
             "line": {
              "color": "white"
             }
            },
            "type": "table"
           }
          ]
         },
         "layout": {
          "annotationdefaults": {
           "arrowcolor": "#2a3f5f",
           "arrowhead": 0,
           "arrowwidth": 1
          },
          "autotypenumbers": "strict",
          "coloraxis": {
           "colorbar": {
            "outlinewidth": 0,
            "ticks": ""
           }
          },
          "colorscale": {
           "diverging": [
            [
             0,
             "#8e0152"
            ],
            [
             0.1,
             "#c51b7d"
            ],
            [
             0.2,
             "#de77ae"
            ],
            [
             0.3,
             "#f1b6da"
            ],
            [
             0.4,
             "#fde0ef"
            ],
            [
             0.5,
             "#f7f7f7"
            ],
            [
             0.6,
             "#e6f5d0"
            ],
            [
             0.7,
             "#b8e186"
            ],
            [
             0.8,
             "#7fbc41"
            ],
            [
             0.9,
             "#4d9221"
            ],
            [
             1,
             "#276419"
            ]
           ],
           "sequential": [
            [
             0,
             "#0d0887"
            ],
            [
             0.1111111111111111,
             "#46039f"
            ],
            [
             0.2222222222222222,
             "#7201a8"
            ],
            [
             0.3333333333333333,
             "#9c179e"
            ],
            [
             0.4444444444444444,
             "#bd3786"
            ],
            [
             0.5555555555555556,
             "#d8576b"
            ],
            [
             0.6666666666666666,
             "#ed7953"
            ],
            [
             0.7777777777777778,
             "#fb9f3a"
            ],
            [
             0.8888888888888888,
             "#fdca26"
            ],
            [
             1,
             "#f0f921"
            ]
           ],
           "sequentialminus": [
            [
             0,
             "#0d0887"
            ],
            [
             0.1111111111111111,
             "#46039f"
            ],
            [
             0.2222222222222222,
             "#7201a8"
            ],
            [
             0.3333333333333333,
             "#9c179e"
            ],
            [
             0.4444444444444444,
             "#bd3786"
            ],
            [
             0.5555555555555556,
             "#d8576b"
            ],
            [
             0.6666666666666666,
             "#ed7953"
            ],
            [
             0.7777777777777778,
             "#fb9f3a"
            ],
            [
             0.8888888888888888,
             "#fdca26"
            ],
            [
             1,
             "#f0f921"
            ]
           ]
          },
          "colorway": [
           "#636efa",
           "#EF553B",
           "#00cc96",
           "#ab63fa",
           "#FFA15A",
           "#19d3f3",
           "#FF6692",
           "#B6E880",
           "#FF97FF",
           "#FECB52"
          ],
          "font": {
           "color": "#2a3f5f"
          },
          "geo": {
           "bgcolor": "white",
           "lakecolor": "white",
           "landcolor": "#E5ECF6",
           "showlakes": true,
           "showland": true,
           "subunitcolor": "white"
          },
          "hoverlabel": {
           "align": "left"
          },
          "hovermode": "closest",
          "mapbox": {
           "style": "light"
          },
          "paper_bgcolor": "white",
          "plot_bgcolor": "#E5ECF6",
          "polar": {
           "angularaxis": {
            "gridcolor": "white",
            "linecolor": "white",
            "ticks": ""
           },
           "bgcolor": "#E5ECF6",
           "radialaxis": {
            "gridcolor": "white",
            "linecolor": "white",
            "ticks": ""
           }
          },
          "scene": {
           "xaxis": {
            "backgroundcolor": "#E5ECF6",
            "gridcolor": "white",
            "gridwidth": 2,
            "linecolor": "white",
            "showbackground": true,
            "ticks": "",
            "zerolinecolor": "white"
           },
           "yaxis": {
            "backgroundcolor": "#E5ECF6",
            "gridcolor": "white",
            "gridwidth": 2,
            "linecolor": "white",
            "showbackground": true,
            "ticks": "",
            "zerolinecolor": "white"
           },
           "zaxis": {
            "backgroundcolor": "#E5ECF6",
            "gridcolor": "white",
            "gridwidth": 2,
            "linecolor": "white",
            "showbackground": true,
            "ticks": "",
            "zerolinecolor": "white"
           }
          },
          "shapedefaults": {
           "line": {
            "color": "#2a3f5f"
           }
          },
          "ternary": {
           "aaxis": {
            "gridcolor": "white",
            "linecolor": "white",
            "ticks": ""
           },
           "baxis": {
            "gridcolor": "white",
            "linecolor": "white",
            "ticks": ""
           },
           "bgcolor": "#E5ECF6",
           "caxis": {
            "gridcolor": "white",
            "linecolor": "white",
            "ticks": ""
           }
          },
          "title": {
           "x": 0.05
          },
          "xaxis": {
           "automargin": true,
           "gridcolor": "white",
           "linecolor": "white",
           "ticks": "",
           "title": {
            "standoff": 15
           },
           "zerolinecolor": "white",
           "zerolinewidth": 2
          },
          "yaxis": {
           "automargin": true,
           "gridcolor": "white",
           "linecolor": "white",
           "ticks": "",
           "title": {
            "standoff": 15
           },
           "zerolinecolor": "white",
           "zerolinewidth": 2
          }
         }
        },
        "title": {
         "text": "Unique Species Count by Wind Condition (Grassland)"
        },
        "xaxis": {
         "anchor": "y",
         "domain": [
          0,
          1
         ],
         "title": {
          "text": "Wind_grassland"
         }
        },
        "yaxis": {
         "anchor": "x",
         "domain": [
          0,
          1
         ],
         "title": {
          "text": "Unique_Species_Count"
         }
        }
       }
      }
     },
     "metadata": {},
     "output_type": "display_data"
    }
   ],
   "source": [
    "fig_wind_grassland_scatter = px.scatter(avg_species_wind_grassland, x='Wind_grassland', y='Unique_Species_Count', title='Unique Species Count by Wind Condition (Grassland)')\n",
    "fig_wind_grassland_scatter.show()"
   ]
  },
  {
   "cell_type": "markdown",
   "id": "5d40d0e5",
   "metadata": {},
   "source": [
    "##### Analyze the disturbance effect in forest"
   ]
  },
  {
   "cell_type": "code",
   "execution_count": 62,
   "id": "d400025e",
   "metadata": {},
   "outputs": [
    {
     "name": "stdout",
     "output_type": "stream",
     "text": [
      "Unique species count by Disturbance (Forest):\n",
      "         Disturbance_forest  Unique_Species_Count\n",
      "1        No effect on count                    96\n",
      "3    Slight effect on count                    91\n",
      "0  Moderate effect on count                    65\n",
      "2   Serious effect on count                    45\n"
     ]
    }
   ],
   "source": [
    "# Analyze Disturbance Effect\n",
    "disturbance_species_count_forest = merged_df[merged_df['Disturbance_forest'] != 'Unknown'].groupby('Disturbance_forest')['AcceptedTSN'].nunique().reset_index()\n",
    "disturbance_species_count_forest.rename(columns={'AcceptedTSN': 'Unique_Species_Count'}, inplace=True)\n",
    "print(\"Unique species count by Disturbance (Forest):\")\n",
    "print(disturbance_species_count_forest.sort_values(by='Unique_Species_Count', ascending=False))"
   ]
  },
  {
   "cell_type": "markdown",
   "id": "a0248e00",
   "metadata": {},
   "source": [
    "##### Analyze the disturbance effect in grassland"
   ]
  },
  {
   "cell_type": "code",
   "execution_count": 63,
   "id": "9a0003af",
   "metadata": {},
   "outputs": [
    {
     "name": "stdout",
     "output_type": "stream",
     "text": [
      "\n",
      "Unique species count by Disturbance (Grassland):\n",
      "      Disturbance_grassland  Unique_Species_Count\n",
      "3    Slight effect on count                    91\n",
      "1        No effect on count                    84\n",
      "0  Moderate effect on count                    75\n",
      "2   Serious effect on count                    47\n"
     ]
    }
   ],
   "source": [
    "disturbance_species_count_grassland = merged_df[merged_df['Disturbance_grassland'] != 'Unknown'].groupby('Disturbance_grassland')['AcceptedTSN'].nunique().reset_index()\n",
    "disturbance_species_count_grassland.rename(columns={'AcceptedTSN': 'Unique_Species_Count'}, inplace=True)\n",
    "print(\"\\nUnique species count by Disturbance (Grassland):\")\n",
    "print(disturbance_species_count_grassland.sort_values(by='Unique_Species_Count', ascending=False))"
   ]
  },
  {
   "cell_type": "markdown",
   "id": "38d234fa",
   "metadata": {},
   "source": [
    "##### Analyze the countof  unique speciesare in watchlist trend in forest"
   ]
  },
  {
   "cell_type": "code",
   "execution_count": 64,
   "id": "c4b762f7",
   "metadata": {},
   "outputs": [
    {
     "name": "stdout",
     "output_type": "stream",
     "text": [
      "Unique species count by PIF Watchlist Status (Forest):\n",
      "   PIF_Watchlist_Status_forest  Unique_Species_Count\n",
      "0                        False                   101\n",
      "1                         True                     7\n"
     ]
    }
   ],
   "source": [
    "# Analyze Watchlist Trends\n",
    "watchlist_counts_forest = merged_df[merged_df['PIF_Watchlist_Status_forest'] != 'Unknown'].groupby('PIF_Watchlist_Status_forest')['AcceptedTSN'].nunique().reset_index()\n",
    "watchlist_counts_forest.rename(columns={'AcceptedTSN': 'Unique_Species_Count'}, inplace=True)\n",
    "print(\"Unique species count by PIF Watchlist Status (Forest):\")\n",
    "print(watchlist_counts_forest)"
   ]
  },
  {
   "cell_type": "markdown",
   "id": "a2e90089",
   "metadata": {},
   "source": [
    "##### Analyze the countof  unique speciesare in watchlist trend in grassland"
   ]
  },
  {
   "cell_type": "code",
   "execution_count": 65,
   "id": "723560bc",
   "metadata": {},
   "outputs": [
    {
     "name": "stdout",
     "output_type": "stream",
     "text": [
      "\n",
      "Unique species count by PIF Watchlist Status (Grassland):\n",
      "   PIF_Watchlist_Status_grassland  Unique_Species_Count\n",
      "0                           False                   103\n",
      "1                            True                     4\n"
     ]
    }
   ],
   "source": [
    "watchlist_counts_grassland = merged_df[merged_df['PIF_Watchlist_Status_grassland'] != 'Unknown'].groupby('PIF_Watchlist_Status_grassland')['AcceptedTSN'].nunique().reset_index()\n",
    "watchlist_counts_grassland.rename(columns={'AcceptedTSN': 'Unique_Species_Count'}, inplace=True)\n",
    "print(\"\\nUnique species count by PIF Watchlist Status (Grassland):\")\n",
    "print(watchlist_counts_grassland)"
   ]
  },
  {
   "cell_type": "markdown",
   "id": "3d6d1741",
   "metadata": {},
   "source": [
    "##### Analyze the count of unique species in the regional stewardship status in forest"
   ]
  },
  {
   "cell_type": "code",
   "execution_count": 66,
   "id": "ee601052",
   "metadata": {},
   "outputs": [
    {
     "name": "stdout",
     "output_type": "stream",
     "text": [
      "\n",
      "Unique species count by Regional Stewardship Status (Forest):\n",
      "   Regional_Stewardship_Status_forest  Unique_Species_Count\n",
      "0                               False                    88\n",
      "1                                True                    20\n"
     ]
    }
   ],
   "source": [
    "stewardship_counts_forest = merged_df[merged_df['Regional_Stewardship_Status_forest'] != 'Unknown'].groupby('Regional_Stewardship_Status_forest')['AcceptedTSN'].nunique().reset_index()\n",
    "stewardship_counts_forest.rename(columns={'AcceptedTSN': 'Unique_Species_Count'}, inplace=True)\n",
    "print(\"\\nUnique species count by Regional Stewardship Status (Forest):\")\n",
    "print(stewardship_counts_forest)"
   ]
  },
  {
   "cell_type": "markdown",
   "id": "3afc4817",
   "metadata": {},
   "source": [
    "##### Analyze the count of unique species in the regional stewardship status in grassland"
   ]
  },
  {
   "cell_type": "code",
   "execution_count": 67,
   "id": "08c4d954",
   "metadata": {},
   "outputs": [
    {
     "name": "stdout",
     "output_type": "stream",
     "text": [
      "\n",
      "Unique species count by Regional Stewardship Status (Grassland):\n",
      "   Regional_Stewardship_Status_grassland  Unique_Species_Count\n",
      "0                                  False                    90\n",
      "1                                   True                    17\n"
     ]
    }
   ],
   "source": [
    "stewardship_counts_grassland = merged_df[merged_df['Regional_Stewardship_Status_grassland'] != 'Unknown'].groupby('Regional_Stewardship_Status_grassland')['AcceptedTSN'].nunique().reset_index()\n",
    "stewardship_counts_grassland.rename(columns={'AcceptedTSN': 'Unique_Species_Count'}, inplace=True)\n",
    "print(\"\\nUnique species count by Regional Stewardship Status (Grassland):\")\n",
    "print(stewardship_counts_grassland)"
   ]
  },
  {
   "cell_type": "markdown",
   "id": "ddc7d278",
   "metadata": {},
   "source": [
    "##### Bar chart for PIF Watchlist Status (forest)"
   ]
  },
  {
   "cell_type": "code",
   "execution_count": 68,
   "id": "719ead39",
   "metadata": {},
   "outputs": [
    {
     "data": {
      "application/vnd.plotly.v1+json": {
       "config": {
        "plotlyServerURL": "https://plot.ly"
       },
       "data": [
        {
         "hovertemplate": "PIF_Watchlist_Status_forest=%{x}<br>Unique_Species_Count=%{y}<extra></extra>",
         "legendgroup": "",
         "marker": {
          "color": "#636efa",
          "pattern": {
           "shape": ""
          }
         },
         "name": "",
         "orientation": "v",
         "showlegend": false,
         "textposition": "auto",
         "type": "bar",
         "x": [
          false,
          true
         ],
         "xaxis": "x",
         "y": {
          "bdata": "ZQc=",
          "dtype": "i1"
         },
         "yaxis": "y"
        }
       ],
       "layout": {
        "barmode": "relative",
        "legend": {
         "tracegroupgap": 0
        },
        "template": {
         "data": {
          "bar": [
           {
            "error_x": {
             "color": "#2a3f5f"
            },
            "error_y": {
             "color": "#2a3f5f"
            },
            "marker": {
             "line": {
              "color": "#E5ECF6",
              "width": 0.5
             },
             "pattern": {
              "fillmode": "overlay",
              "size": 10,
              "solidity": 0.2
             }
            },
            "type": "bar"
           }
          ],
          "barpolar": [
           {
            "marker": {
             "line": {
              "color": "#E5ECF6",
              "width": 0.5
             },
             "pattern": {
              "fillmode": "overlay",
              "size": 10,
              "solidity": 0.2
             }
            },
            "type": "barpolar"
           }
          ],
          "carpet": [
           {
            "aaxis": {
             "endlinecolor": "#2a3f5f",
             "gridcolor": "white",
             "linecolor": "white",
             "minorgridcolor": "white",
             "startlinecolor": "#2a3f5f"
            },
            "baxis": {
             "endlinecolor": "#2a3f5f",
             "gridcolor": "white",
             "linecolor": "white",
             "minorgridcolor": "white",
             "startlinecolor": "#2a3f5f"
            },
            "type": "carpet"
           }
          ],
          "choropleth": [
           {
            "colorbar": {
             "outlinewidth": 0,
             "ticks": ""
            },
            "type": "choropleth"
           }
          ],
          "contour": [
           {
            "colorbar": {
             "outlinewidth": 0,
             "ticks": ""
            },
            "colorscale": [
             [
              0,
              "#0d0887"
             ],
             [
              0.1111111111111111,
              "#46039f"
             ],
             [
              0.2222222222222222,
              "#7201a8"
             ],
             [
              0.3333333333333333,
              "#9c179e"
             ],
             [
              0.4444444444444444,
              "#bd3786"
             ],
             [
              0.5555555555555556,
              "#d8576b"
             ],
             [
              0.6666666666666666,
              "#ed7953"
             ],
             [
              0.7777777777777778,
              "#fb9f3a"
             ],
             [
              0.8888888888888888,
              "#fdca26"
             ],
             [
              1,
              "#f0f921"
             ]
            ],
            "type": "contour"
           }
          ],
          "contourcarpet": [
           {
            "colorbar": {
             "outlinewidth": 0,
             "ticks": ""
            },
            "type": "contourcarpet"
           }
          ],
          "heatmap": [
           {
            "colorbar": {
             "outlinewidth": 0,
             "ticks": ""
            },
            "colorscale": [
             [
              0,
              "#0d0887"
             ],
             [
              0.1111111111111111,
              "#46039f"
             ],
             [
              0.2222222222222222,
              "#7201a8"
             ],
             [
              0.3333333333333333,
              "#9c179e"
             ],
             [
              0.4444444444444444,
              "#bd3786"
             ],
             [
              0.5555555555555556,
              "#d8576b"
             ],
             [
              0.6666666666666666,
              "#ed7953"
             ],
             [
              0.7777777777777778,
              "#fb9f3a"
             ],
             [
              0.8888888888888888,
              "#fdca26"
             ],
             [
              1,
              "#f0f921"
             ]
            ],
            "type": "heatmap"
           }
          ],
          "histogram": [
           {
            "marker": {
             "pattern": {
              "fillmode": "overlay",
              "size": 10,
              "solidity": 0.2
             }
            },
            "type": "histogram"
           }
          ],
          "histogram2d": [
           {
            "colorbar": {
             "outlinewidth": 0,
             "ticks": ""
            },
            "colorscale": [
             [
              0,
              "#0d0887"
             ],
             [
              0.1111111111111111,
              "#46039f"
             ],
             [
              0.2222222222222222,
              "#7201a8"
             ],
             [
              0.3333333333333333,
              "#9c179e"
             ],
             [
              0.4444444444444444,
              "#bd3786"
             ],
             [
              0.5555555555555556,
              "#d8576b"
             ],
             [
              0.6666666666666666,
              "#ed7953"
             ],
             [
              0.7777777777777778,
              "#fb9f3a"
             ],
             [
              0.8888888888888888,
              "#fdca26"
             ],
             [
              1,
              "#f0f921"
             ]
            ],
            "type": "histogram2d"
           }
          ],
          "histogram2dcontour": [
           {
            "colorbar": {
             "outlinewidth": 0,
             "ticks": ""
            },
            "colorscale": [
             [
              0,
              "#0d0887"
             ],
             [
              0.1111111111111111,
              "#46039f"
             ],
             [
              0.2222222222222222,
              "#7201a8"
             ],
             [
              0.3333333333333333,
              "#9c179e"
             ],
             [
              0.4444444444444444,
              "#bd3786"
             ],
             [
              0.5555555555555556,
              "#d8576b"
             ],
             [
              0.6666666666666666,
              "#ed7953"
             ],
             [
              0.7777777777777778,
              "#fb9f3a"
             ],
             [
              0.8888888888888888,
              "#fdca26"
             ],
             [
              1,
              "#f0f921"
             ]
            ],
            "type": "histogram2dcontour"
           }
          ],
          "mesh3d": [
           {
            "colorbar": {
             "outlinewidth": 0,
             "ticks": ""
            },
            "type": "mesh3d"
           }
          ],
          "parcoords": [
           {
            "line": {
             "colorbar": {
              "outlinewidth": 0,
              "ticks": ""
             }
            },
            "type": "parcoords"
           }
          ],
          "pie": [
           {
            "automargin": true,
            "type": "pie"
           }
          ],
          "scatter": [
           {
            "fillpattern": {
             "fillmode": "overlay",
             "size": 10,
             "solidity": 0.2
            },
            "type": "scatter"
           }
          ],
          "scatter3d": [
           {
            "line": {
             "colorbar": {
              "outlinewidth": 0,
              "ticks": ""
             }
            },
            "marker": {
             "colorbar": {
              "outlinewidth": 0,
              "ticks": ""
             }
            },
            "type": "scatter3d"
           }
          ],
          "scattercarpet": [
           {
            "marker": {
             "colorbar": {
              "outlinewidth": 0,
              "ticks": ""
             }
            },
            "type": "scattercarpet"
           }
          ],
          "scattergeo": [
           {
            "marker": {
             "colorbar": {
              "outlinewidth": 0,
              "ticks": ""
             }
            },
            "type": "scattergeo"
           }
          ],
          "scattergl": [
           {
            "marker": {
             "colorbar": {
              "outlinewidth": 0,
              "ticks": ""
             }
            },
            "type": "scattergl"
           }
          ],
          "scattermap": [
           {
            "marker": {
             "colorbar": {
              "outlinewidth": 0,
              "ticks": ""
             }
            },
            "type": "scattermap"
           }
          ],
          "scattermapbox": [
           {
            "marker": {
             "colorbar": {
              "outlinewidth": 0,
              "ticks": ""
             }
            },
            "type": "scattermapbox"
           }
          ],
          "scatterpolar": [
           {
            "marker": {
             "colorbar": {
              "outlinewidth": 0,
              "ticks": ""
             }
            },
            "type": "scatterpolar"
           }
          ],
          "scatterpolargl": [
           {
            "marker": {
             "colorbar": {
              "outlinewidth": 0,
              "ticks": ""
             }
            },
            "type": "scatterpolargl"
           }
          ],
          "scatterternary": [
           {
            "marker": {
             "colorbar": {
              "outlinewidth": 0,
              "ticks": ""
             }
            },
            "type": "scatterternary"
           }
          ],
          "surface": [
           {
            "colorbar": {
             "outlinewidth": 0,
             "ticks": ""
            },
            "colorscale": [
             [
              0,
              "#0d0887"
             ],
             [
              0.1111111111111111,
              "#46039f"
             ],
             [
              0.2222222222222222,
              "#7201a8"
             ],
             [
              0.3333333333333333,
              "#9c179e"
             ],
             [
              0.4444444444444444,
              "#bd3786"
             ],
             [
              0.5555555555555556,
              "#d8576b"
             ],
             [
              0.6666666666666666,
              "#ed7953"
             ],
             [
              0.7777777777777778,
              "#fb9f3a"
             ],
             [
              0.8888888888888888,
              "#fdca26"
             ],
             [
              1,
              "#f0f921"
             ]
            ],
            "type": "surface"
           }
          ],
          "table": [
           {
            "cells": {
             "fill": {
              "color": "#EBF0F8"
             },
             "line": {
              "color": "white"
             }
            },
            "header": {
             "fill": {
              "color": "#C8D4E3"
             },
             "line": {
              "color": "white"
             }
            },
            "type": "table"
           }
          ]
         },
         "layout": {
          "annotationdefaults": {
           "arrowcolor": "#2a3f5f",
           "arrowhead": 0,
           "arrowwidth": 1
          },
          "autotypenumbers": "strict",
          "coloraxis": {
           "colorbar": {
            "outlinewidth": 0,
            "ticks": ""
           }
          },
          "colorscale": {
           "diverging": [
            [
             0,
             "#8e0152"
            ],
            [
             0.1,
             "#c51b7d"
            ],
            [
             0.2,
             "#de77ae"
            ],
            [
             0.3,
             "#f1b6da"
            ],
            [
             0.4,
             "#fde0ef"
            ],
            [
             0.5,
             "#f7f7f7"
            ],
            [
             0.6,
             "#e6f5d0"
            ],
            [
             0.7,
             "#b8e186"
            ],
            [
             0.8,
             "#7fbc41"
            ],
            [
             0.9,
             "#4d9221"
            ],
            [
             1,
             "#276419"
            ]
           ],
           "sequential": [
            [
             0,
             "#0d0887"
            ],
            [
             0.1111111111111111,
             "#46039f"
            ],
            [
             0.2222222222222222,
             "#7201a8"
            ],
            [
             0.3333333333333333,
             "#9c179e"
            ],
            [
             0.4444444444444444,
             "#bd3786"
            ],
            [
             0.5555555555555556,
             "#d8576b"
            ],
            [
             0.6666666666666666,
             "#ed7953"
            ],
            [
             0.7777777777777778,
             "#fb9f3a"
            ],
            [
             0.8888888888888888,
             "#fdca26"
            ],
            [
             1,
             "#f0f921"
            ]
           ],
           "sequentialminus": [
            [
             0,
             "#0d0887"
            ],
            [
             0.1111111111111111,
             "#46039f"
            ],
            [
             0.2222222222222222,
             "#7201a8"
            ],
            [
             0.3333333333333333,
             "#9c179e"
            ],
            [
             0.4444444444444444,
             "#bd3786"
            ],
            [
             0.5555555555555556,
             "#d8576b"
            ],
            [
             0.6666666666666666,
             "#ed7953"
            ],
            [
             0.7777777777777778,
             "#fb9f3a"
            ],
            [
             0.8888888888888888,
             "#fdca26"
            ],
            [
             1,
             "#f0f921"
            ]
           ]
          },
          "colorway": [
           "#636efa",
           "#EF553B",
           "#00cc96",
           "#ab63fa",
           "#FFA15A",
           "#19d3f3",
           "#FF6692",
           "#B6E880",
           "#FF97FF",
           "#FECB52"
          ],
          "font": {
           "color": "#2a3f5f"
          },
          "geo": {
           "bgcolor": "white",
           "lakecolor": "white",
           "landcolor": "#E5ECF6",
           "showlakes": true,
           "showland": true,
           "subunitcolor": "white"
          },
          "hoverlabel": {
           "align": "left"
          },
          "hovermode": "closest",
          "mapbox": {
           "style": "light"
          },
          "paper_bgcolor": "white",
          "plot_bgcolor": "#E5ECF6",
          "polar": {
           "angularaxis": {
            "gridcolor": "white",
            "linecolor": "white",
            "ticks": ""
           },
           "bgcolor": "#E5ECF6",
           "radialaxis": {
            "gridcolor": "white",
            "linecolor": "white",
            "ticks": ""
           }
          },
          "scene": {
           "xaxis": {
            "backgroundcolor": "#E5ECF6",
            "gridcolor": "white",
            "gridwidth": 2,
            "linecolor": "white",
            "showbackground": true,
            "ticks": "",
            "zerolinecolor": "white"
           },
           "yaxis": {
            "backgroundcolor": "#E5ECF6",
            "gridcolor": "white",
            "gridwidth": 2,
            "linecolor": "white",
            "showbackground": true,
            "ticks": "",
            "zerolinecolor": "white"
           },
           "zaxis": {
            "backgroundcolor": "#E5ECF6",
            "gridcolor": "white",
            "gridwidth": 2,
            "linecolor": "white",
            "showbackground": true,
            "ticks": "",
            "zerolinecolor": "white"
           }
          },
          "shapedefaults": {
           "line": {
            "color": "#2a3f5f"
           }
          },
          "ternary": {
           "aaxis": {
            "gridcolor": "white",
            "linecolor": "white",
            "ticks": ""
           },
           "baxis": {
            "gridcolor": "white",
            "linecolor": "white",
            "ticks": ""
           },
           "bgcolor": "#E5ECF6",
           "caxis": {
            "gridcolor": "white",
            "linecolor": "white",
            "ticks": ""
           }
          },
          "title": {
           "x": 0.05
          },
          "xaxis": {
           "automargin": true,
           "gridcolor": "white",
           "linecolor": "white",
           "ticks": "",
           "title": {
            "standoff": 15
           },
           "zerolinecolor": "white",
           "zerolinewidth": 2
          },
          "yaxis": {
           "automargin": true,
           "gridcolor": "white",
           "linecolor": "white",
           "ticks": "",
           "title": {
            "standoff": 15
           },
           "zerolinecolor": "white",
           "zerolinewidth": 2
          }
         }
        },
        "title": {
         "text": "Unique Species Count by PIF Watchlist Status (Forest)"
        },
        "xaxis": {
         "anchor": "y",
         "domain": [
          0,
          1
         ],
         "title": {
          "text": "PIF_Watchlist_Status_forest"
         }
        },
        "yaxis": {
         "anchor": "x",
         "domain": [
          0,
          1
         ],
         "title": {
          "text": "Unique_Species_Count"
         }
        }
       }
      }
     },
     "metadata": {},
     "output_type": "display_data"
    }
   ],
   "source": [
    "# Create a bar chart for PIF Watchlist Status (forest)\n",
    "fig_watchlist_forest = px.bar(watchlist_counts_forest, x='PIF_Watchlist_Status_forest', y='Unique_Species_Count', title='Unique Species Count by PIF Watchlist Status (Forest)')\n",
    "fig_watchlist_forest.show()"
   ]
  },
  {
   "cell_type": "markdown",
   "id": "db4e1d7a",
   "metadata": {},
   "source": [
    "##### Bar chart for PIF Watchlist Status (grassland)"
   ]
  },
  {
   "cell_type": "code",
   "execution_count": 69,
   "id": "1bb8f758",
   "metadata": {},
   "outputs": [
    {
     "data": {
      "application/vnd.plotly.v1+json": {
       "config": {
        "plotlyServerURL": "https://plot.ly"
       },
       "data": [
        {
         "hovertemplate": "PIF_Watchlist_Status_grassland=%{x}<br>Unique_Species_Count=%{y}<extra></extra>",
         "legendgroup": "",
         "marker": {
          "color": "#636efa",
          "pattern": {
           "shape": ""
          }
         },
         "name": "",
         "orientation": "v",
         "showlegend": false,
         "textposition": "auto",
         "type": "bar",
         "x": [
          false,
          true
         ],
         "xaxis": "x",
         "y": {
          "bdata": "ZwQ=",
          "dtype": "i1"
         },
         "yaxis": "y"
        }
       ],
       "layout": {
        "barmode": "relative",
        "legend": {
         "tracegroupgap": 0
        },
        "template": {
         "data": {
          "bar": [
           {
            "error_x": {
             "color": "#2a3f5f"
            },
            "error_y": {
             "color": "#2a3f5f"
            },
            "marker": {
             "line": {
              "color": "#E5ECF6",
              "width": 0.5
             },
             "pattern": {
              "fillmode": "overlay",
              "size": 10,
              "solidity": 0.2
             }
            },
            "type": "bar"
           }
          ],
          "barpolar": [
           {
            "marker": {
             "line": {
              "color": "#E5ECF6",
              "width": 0.5
             },
             "pattern": {
              "fillmode": "overlay",
              "size": 10,
              "solidity": 0.2
             }
            },
            "type": "barpolar"
           }
          ],
          "carpet": [
           {
            "aaxis": {
             "endlinecolor": "#2a3f5f",
             "gridcolor": "white",
             "linecolor": "white",
             "minorgridcolor": "white",
             "startlinecolor": "#2a3f5f"
            },
            "baxis": {
             "endlinecolor": "#2a3f5f",
             "gridcolor": "white",
             "linecolor": "white",
             "minorgridcolor": "white",
             "startlinecolor": "#2a3f5f"
            },
            "type": "carpet"
           }
          ],
          "choropleth": [
           {
            "colorbar": {
             "outlinewidth": 0,
             "ticks": ""
            },
            "type": "choropleth"
           }
          ],
          "contour": [
           {
            "colorbar": {
             "outlinewidth": 0,
             "ticks": ""
            },
            "colorscale": [
             [
              0,
              "#0d0887"
             ],
             [
              0.1111111111111111,
              "#46039f"
             ],
             [
              0.2222222222222222,
              "#7201a8"
             ],
             [
              0.3333333333333333,
              "#9c179e"
             ],
             [
              0.4444444444444444,
              "#bd3786"
             ],
             [
              0.5555555555555556,
              "#d8576b"
             ],
             [
              0.6666666666666666,
              "#ed7953"
             ],
             [
              0.7777777777777778,
              "#fb9f3a"
             ],
             [
              0.8888888888888888,
              "#fdca26"
             ],
             [
              1,
              "#f0f921"
             ]
            ],
            "type": "contour"
           }
          ],
          "contourcarpet": [
           {
            "colorbar": {
             "outlinewidth": 0,
             "ticks": ""
            },
            "type": "contourcarpet"
           }
          ],
          "heatmap": [
           {
            "colorbar": {
             "outlinewidth": 0,
             "ticks": ""
            },
            "colorscale": [
             [
              0,
              "#0d0887"
             ],
             [
              0.1111111111111111,
              "#46039f"
             ],
             [
              0.2222222222222222,
              "#7201a8"
             ],
             [
              0.3333333333333333,
              "#9c179e"
             ],
             [
              0.4444444444444444,
              "#bd3786"
             ],
             [
              0.5555555555555556,
              "#d8576b"
             ],
             [
              0.6666666666666666,
              "#ed7953"
             ],
             [
              0.7777777777777778,
              "#fb9f3a"
             ],
             [
              0.8888888888888888,
              "#fdca26"
             ],
             [
              1,
              "#f0f921"
             ]
            ],
            "type": "heatmap"
           }
          ],
          "histogram": [
           {
            "marker": {
             "pattern": {
              "fillmode": "overlay",
              "size": 10,
              "solidity": 0.2
             }
            },
            "type": "histogram"
           }
          ],
          "histogram2d": [
           {
            "colorbar": {
             "outlinewidth": 0,
             "ticks": ""
            },
            "colorscale": [
             [
              0,
              "#0d0887"
             ],
             [
              0.1111111111111111,
              "#46039f"
             ],
             [
              0.2222222222222222,
              "#7201a8"
             ],
             [
              0.3333333333333333,
              "#9c179e"
             ],
             [
              0.4444444444444444,
              "#bd3786"
             ],
             [
              0.5555555555555556,
              "#d8576b"
             ],
             [
              0.6666666666666666,
              "#ed7953"
             ],
             [
              0.7777777777777778,
              "#fb9f3a"
             ],
             [
              0.8888888888888888,
              "#fdca26"
             ],
             [
              1,
              "#f0f921"
             ]
            ],
            "type": "histogram2d"
           }
          ],
          "histogram2dcontour": [
           {
            "colorbar": {
             "outlinewidth": 0,
             "ticks": ""
            },
            "colorscale": [
             [
              0,
              "#0d0887"
             ],
             [
              0.1111111111111111,
              "#46039f"
             ],
             [
              0.2222222222222222,
              "#7201a8"
             ],
             [
              0.3333333333333333,
              "#9c179e"
             ],
             [
              0.4444444444444444,
              "#bd3786"
             ],
             [
              0.5555555555555556,
              "#d8576b"
             ],
             [
              0.6666666666666666,
              "#ed7953"
             ],
             [
              0.7777777777777778,
              "#fb9f3a"
             ],
             [
              0.8888888888888888,
              "#fdca26"
             ],
             [
              1,
              "#f0f921"
             ]
            ],
            "type": "histogram2dcontour"
           }
          ],
          "mesh3d": [
           {
            "colorbar": {
             "outlinewidth": 0,
             "ticks": ""
            },
            "type": "mesh3d"
           }
          ],
          "parcoords": [
           {
            "line": {
             "colorbar": {
              "outlinewidth": 0,
              "ticks": ""
             }
            },
            "type": "parcoords"
           }
          ],
          "pie": [
           {
            "automargin": true,
            "type": "pie"
           }
          ],
          "scatter": [
           {
            "fillpattern": {
             "fillmode": "overlay",
             "size": 10,
             "solidity": 0.2
            },
            "type": "scatter"
           }
          ],
          "scatter3d": [
           {
            "line": {
             "colorbar": {
              "outlinewidth": 0,
              "ticks": ""
             }
            },
            "marker": {
             "colorbar": {
              "outlinewidth": 0,
              "ticks": ""
             }
            },
            "type": "scatter3d"
           }
          ],
          "scattercarpet": [
           {
            "marker": {
             "colorbar": {
              "outlinewidth": 0,
              "ticks": ""
             }
            },
            "type": "scattercarpet"
           }
          ],
          "scattergeo": [
           {
            "marker": {
             "colorbar": {
              "outlinewidth": 0,
              "ticks": ""
             }
            },
            "type": "scattergeo"
           }
          ],
          "scattergl": [
           {
            "marker": {
             "colorbar": {
              "outlinewidth": 0,
              "ticks": ""
             }
            },
            "type": "scattergl"
           }
          ],
          "scattermap": [
           {
            "marker": {
             "colorbar": {
              "outlinewidth": 0,
              "ticks": ""
             }
            },
            "type": "scattermap"
           }
          ],
          "scattermapbox": [
           {
            "marker": {
             "colorbar": {
              "outlinewidth": 0,
              "ticks": ""
             }
            },
            "type": "scattermapbox"
           }
          ],
          "scatterpolar": [
           {
            "marker": {
             "colorbar": {
              "outlinewidth": 0,
              "ticks": ""
             }
            },
            "type": "scatterpolar"
           }
          ],
          "scatterpolargl": [
           {
            "marker": {
             "colorbar": {
              "outlinewidth": 0,
              "ticks": ""
             }
            },
            "type": "scatterpolargl"
           }
          ],
          "scatterternary": [
           {
            "marker": {
             "colorbar": {
              "outlinewidth": 0,
              "ticks": ""
             }
            },
            "type": "scatterternary"
           }
          ],
          "surface": [
           {
            "colorbar": {
             "outlinewidth": 0,
             "ticks": ""
            },
            "colorscale": [
             [
              0,
              "#0d0887"
             ],
             [
              0.1111111111111111,
              "#46039f"
             ],
             [
              0.2222222222222222,
              "#7201a8"
             ],
             [
              0.3333333333333333,
              "#9c179e"
             ],
             [
              0.4444444444444444,
              "#bd3786"
             ],
             [
              0.5555555555555556,
              "#d8576b"
             ],
             [
              0.6666666666666666,
              "#ed7953"
             ],
             [
              0.7777777777777778,
              "#fb9f3a"
             ],
             [
              0.8888888888888888,
              "#fdca26"
             ],
             [
              1,
              "#f0f921"
             ]
            ],
            "type": "surface"
           }
          ],
          "table": [
           {
            "cells": {
             "fill": {
              "color": "#EBF0F8"
             },
             "line": {
              "color": "white"
             }
            },
            "header": {
             "fill": {
              "color": "#C8D4E3"
             },
             "line": {
              "color": "white"
             }
            },
            "type": "table"
           }
          ]
         },
         "layout": {
          "annotationdefaults": {
           "arrowcolor": "#2a3f5f",
           "arrowhead": 0,
           "arrowwidth": 1
          },
          "autotypenumbers": "strict",
          "coloraxis": {
           "colorbar": {
            "outlinewidth": 0,
            "ticks": ""
           }
          },
          "colorscale": {
           "diverging": [
            [
             0,
             "#8e0152"
            ],
            [
             0.1,
             "#c51b7d"
            ],
            [
             0.2,
             "#de77ae"
            ],
            [
             0.3,
             "#f1b6da"
            ],
            [
             0.4,
             "#fde0ef"
            ],
            [
             0.5,
             "#f7f7f7"
            ],
            [
             0.6,
             "#e6f5d0"
            ],
            [
             0.7,
             "#b8e186"
            ],
            [
             0.8,
             "#7fbc41"
            ],
            [
             0.9,
             "#4d9221"
            ],
            [
             1,
             "#276419"
            ]
           ],
           "sequential": [
            [
             0,
             "#0d0887"
            ],
            [
             0.1111111111111111,
             "#46039f"
            ],
            [
             0.2222222222222222,
             "#7201a8"
            ],
            [
             0.3333333333333333,
             "#9c179e"
            ],
            [
             0.4444444444444444,
             "#bd3786"
            ],
            [
             0.5555555555555556,
             "#d8576b"
            ],
            [
             0.6666666666666666,
             "#ed7953"
            ],
            [
             0.7777777777777778,
             "#fb9f3a"
            ],
            [
             0.8888888888888888,
             "#fdca26"
            ],
            [
             1,
             "#f0f921"
            ]
           ],
           "sequentialminus": [
            [
             0,
             "#0d0887"
            ],
            [
             0.1111111111111111,
             "#46039f"
            ],
            [
             0.2222222222222222,
             "#7201a8"
            ],
            [
             0.3333333333333333,
             "#9c179e"
            ],
            [
             0.4444444444444444,
             "#bd3786"
            ],
            [
             0.5555555555555556,
             "#d8576b"
            ],
            [
             0.6666666666666666,
             "#ed7953"
            ],
            [
             0.7777777777777778,
             "#fb9f3a"
            ],
            [
             0.8888888888888888,
             "#fdca26"
            ],
            [
             1,
             "#f0f921"
            ]
           ]
          },
          "colorway": [
           "#636efa",
           "#EF553B",
           "#00cc96",
           "#ab63fa",
           "#FFA15A",
           "#19d3f3",
           "#FF6692",
           "#B6E880",
           "#FF97FF",
           "#FECB52"
          ],
          "font": {
           "color": "#2a3f5f"
          },
          "geo": {
           "bgcolor": "white",
           "lakecolor": "white",
           "landcolor": "#E5ECF6",
           "showlakes": true,
           "showland": true,
           "subunitcolor": "white"
          },
          "hoverlabel": {
           "align": "left"
          },
          "hovermode": "closest",
          "mapbox": {
           "style": "light"
          },
          "paper_bgcolor": "white",
          "plot_bgcolor": "#E5ECF6",
          "polar": {
           "angularaxis": {
            "gridcolor": "white",
            "linecolor": "white",
            "ticks": ""
           },
           "bgcolor": "#E5ECF6",
           "radialaxis": {
            "gridcolor": "white",
            "linecolor": "white",
            "ticks": ""
           }
          },
          "scene": {
           "xaxis": {
            "backgroundcolor": "#E5ECF6",
            "gridcolor": "white",
            "gridwidth": 2,
            "linecolor": "white",
            "showbackground": true,
            "ticks": "",
            "zerolinecolor": "white"
           },
           "yaxis": {
            "backgroundcolor": "#E5ECF6",
            "gridcolor": "white",
            "gridwidth": 2,
            "linecolor": "white",
            "showbackground": true,
            "ticks": "",
            "zerolinecolor": "white"
           },
           "zaxis": {
            "backgroundcolor": "#E5ECF6",
            "gridcolor": "white",
            "gridwidth": 2,
            "linecolor": "white",
            "showbackground": true,
            "ticks": "",
            "zerolinecolor": "white"
           }
          },
          "shapedefaults": {
           "line": {
            "color": "#2a3f5f"
           }
          },
          "ternary": {
           "aaxis": {
            "gridcolor": "white",
            "linecolor": "white",
            "ticks": ""
           },
           "baxis": {
            "gridcolor": "white",
            "linecolor": "white",
            "ticks": ""
           },
           "bgcolor": "#E5ECF6",
           "caxis": {
            "gridcolor": "white",
            "linecolor": "white",
            "ticks": ""
           }
          },
          "title": {
           "x": 0.05
          },
          "xaxis": {
           "automargin": true,
           "gridcolor": "white",
           "linecolor": "white",
           "ticks": "",
           "title": {
            "standoff": 15
           },
           "zerolinecolor": "white",
           "zerolinewidth": 2
          },
          "yaxis": {
           "automargin": true,
           "gridcolor": "white",
           "linecolor": "white",
           "ticks": "",
           "title": {
            "standoff": 15
           },
           "zerolinecolor": "white",
           "zerolinewidth": 2
          }
         }
        },
        "title": {
         "text": "Unique Species Count by PIF Watchlist Status (Grassland)"
        },
        "xaxis": {
         "anchor": "y",
         "domain": [
          0,
          1
         ],
         "title": {
          "text": "PIF_Watchlist_Status_grassland"
         }
        },
        "yaxis": {
         "anchor": "x",
         "domain": [
          0,
          1
         ],
         "title": {
          "text": "Unique_Species_Count"
         }
        }
       }
      }
     },
     "metadata": {},
     "output_type": "display_data"
    }
   ],
   "source": [
    "# Create a bar chart for PIF Watchlist Status (grassland)\n",
    "fig_watchlist_grassland = px.bar(watchlist_counts_grassland, x='PIF_Watchlist_Status_grassland', y='Unique_Species_Count', title='Unique Species Count by PIF Watchlist Status (Grassland)')\n",
    "fig_watchlist_grassland.show()"
   ]
  },
  {
   "cell_type": "markdown",
   "id": "ccd47853",
   "metadata": {},
   "source": [
    "##### Bar chart for Regional Stewardship Status (forest)"
   ]
  },
  {
   "cell_type": "code",
   "execution_count": 70,
   "id": "fd02a92e",
   "metadata": {},
   "outputs": [
    {
     "data": {
      "application/vnd.plotly.v1+json": {
       "config": {
        "plotlyServerURL": "https://plot.ly"
       },
       "data": [
        {
         "hovertemplate": "Regional_Stewardship_Status_forest=%{x}<br>Unique_Species_Count=%{y}<extra></extra>",
         "legendgroup": "",
         "marker": {
          "color": "#636efa",
          "pattern": {
           "shape": ""
          }
         },
         "name": "",
         "orientation": "v",
         "showlegend": false,
         "textposition": "auto",
         "type": "bar",
         "x": [
          false,
          true
         ],
         "xaxis": "x",
         "y": {
          "bdata": "WBQ=",
          "dtype": "i1"
         },
         "yaxis": "y"
        }
       ],
       "layout": {
        "barmode": "relative",
        "legend": {
         "tracegroupgap": 0
        },
        "template": {
         "data": {
          "bar": [
           {
            "error_x": {
             "color": "#2a3f5f"
            },
            "error_y": {
             "color": "#2a3f5f"
            },
            "marker": {
             "line": {
              "color": "#E5ECF6",
              "width": 0.5
             },
             "pattern": {
              "fillmode": "overlay",
              "size": 10,
              "solidity": 0.2
             }
            },
            "type": "bar"
           }
          ],
          "barpolar": [
           {
            "marker": {
             "line": {
              "color": "#E5ECF6",
              "width": 0.5
             },
             "pattern": {
              "fillmode": "overlay",
              "size": 10,
              "solidity": 0.2
             }
            },
            "type": "barpolar"
           }
          ],
          "carpet": [
           {
            "aaxis": {
             "endlinecolor": "#2a3f5f",
             "gridcolor": "white",
             "linecolor": "white",
             "minorgridcolor": "white",
             "startlinecolor": "#2a3f5f"
            },
            "baxis": {
             "endlinecolor": "#2a3f5f",
             "gridcolor": "white",
             "linecolor": "white",
             "minorgridcolor": "white",
             "startlinecolor": "#2a3f5f"
            },
            "type": "carpet"
           }
          ],
          "choropleth": [
           {
            "colorbar": {
             "outlinewidth": 0,
             "ticks": ""
            },
            "type": "choropleth"
           }
          ],
          "contour": [
           {
            "colorbar": {
             "outlinewidth": 0,
             "ticks": ""
            },
            "colorscale": [
             [
              0,
              "#0d0887"
             ],
             [
              0.1111111111111111,
              "#46039f"
             ],
             [
              0.2222222222222222,
              "#7201a8"
             ],
             [
              0.3333333333333333,
              "#9c179e"
             ],
             [
              0.4444444444444444,
              "#bd3786"
             ],
             [
              0.5555555555555556,
              "#d8576b"
             ],
             [
              0.6666666666666666,
              "#ed7953"
             ],
             [
              0.7777777777777778,
              "#fb9f3a"
             ],
             [
              0.8888888888888888,
              "#fdca26"
             ],
             [
              1,
              "#f0f921"
             ]
            ],
            "type": "contour"
           }
          ],
          "contourcarpet": [
           {
            "colorbar": {
             "outlinewidth": 0,
             "ticks": ""
            },
            "type": "contourcarpet"
           }
          ],
          "heatmap": [
           {
            "colorbar": {
             "outlinewidth": 0,
             "ticks": ""
            },
            "colorscale": [
             [
              0,
              "#0d0887"
             ],
             [
              0.1111111111111111,
              "#46039f"
             ],
             [
              0.2222222222222222,
              "#7201a8"
             ],
             [
              0.3333333333333333,
              "#9c179e"
             ],
             [
              0.4444444444444444,
              "#bd3786"
             ],
             [
              0.5555555555555556,
              "#d8576b"
             ],
             [
              0.6666666666666666,
              "#ed7953"
             ],
             [
              0.7777777777777778,
              "#fb9f3a"
             ],
             [
              0.8888888888888888,
              "#fdca26"
             ],
             [
              1,
              "#f0f921"
             ]
            ],
            "type": "heatmap"
           }
          ],
          "histogram": [
           {
            "marker": {
             "pattern": {
              "fillmode": "overlay",
              "size": 10,
              "solidity": 0.2
             }
            },
            "type": "histogram"
           }
          ],
          "histogram2d": [
           {
            "colorbar": {
             "outlinewidth": 0,
             "ticks": ""
            },
            "colorscale": [
             [
              0,
              "#0d0887"
             ],
             [
              0.1111111111111111,
              "#46039f"
             ],
             [
              0.2222222222222222,
              "#7201a8"
             ],
             [
              0.3333333333333333,
              "#9c179e"
             ],
             [
              0.4444444444444444,
              "#bd3786"
             ],
             [
              0.5555555555555556,
              "#d8576b"
             ],
             [
              0.6666666666666666,
              "#ed7953"
             ],
             [
              0.7777777777777778,
              "#fb9f3a"
             ],
             [
              0.8888888888888888,
              "#fdca26"
             ],
             [
              1,
              "#f0f921"
             ]
            ],
            "type": "histogram2d"
           }
          ],
          "histogram2dcontour": [
           {
            "colorbar": {
             "outlinewidth": 0,
             "ticks": ""
            },
            "colorscale": [
             [
              0,
              "#0d0887"
             ],
             [
              0.1111111111111111,
              "#46039f"
             ],
             [
              0.2222222222222222,
              "#7201a8"
             ],
             [
              0.3333333333333333,
              "#9c179e"
             ],
             [
              0.4444444444444444,
              "#bd3786"
             ],
             [
              0.5555555555555556,
              "#d8576b"
             ],
             [
              0.6666666666666666,
              "#ed7953"
             ],
             [
              0.7777777777777778,
              "#fb9f3a"
             ],
             [
              0.8888888888888888,
              "#fdca26"
             ],
             [
              1,
              "#f0f921"
             ]
            ],
            "type": "histogram2dcontour"
           }
          ],
          "mesh3d": [
           {
            "colorbar": {
             "outlinewidth": 0,
             "ticks": ""
            },
            "type": "mesh3d"
           }
          ],
          "parcoords": [
           {
            "line": {
             "colorbar": {
              "outlinewidth": 0,
              "ticks": ""
             }
            },
            "type": "parcoords"
           }
          ],
          "pie": [
           {
            "automargin": true,
            "type": "pie"
           }
          ],
          "scatter": [
           {
            "fillpattern": {
             "fillmode": "overlay",
             "size": 10,
             "solidity": 0.2
            },
            "type": "scatter"
           }
          ],
          "scatter3d": [
           {
            "line": {
             "colorbar": {
              "outlinewidth": 0,
              "ticks": ""
             }
            },
            "marker": {
             "colorbar": {
              "outlinewidth": 0,
              "ticks": ""
             }
            },
            "type": "scatter3d"
           }
          ],
          "scattercarpet": [
           {
            "marker": {
             "colorbar": {
              "outlinewidth": 0,
              "ticks": ""
             }
            },
            "type": "scattercarpet"
           }
          ],
          "scattergeo": [
           {
            "marker": {
             "colorbar": {
              "outlinewidth": 0,
              "ticks": ""
             }
            },
            "type": "scattergeo"
           }
          ],
          "scattergl": [
           {
            "marker": {
             "colorbar": {
              "outlinewidth": 0,
              "ticks": ""
             }
            },
            "type": "scattergl"
           }
          ],
          "scattermap": [
           {
            "marker": {
             "colorbar": {
              "outlinewidth": 0,
              "ticks": ""
             }
            },
            "type": "scattermap"
           }
          ],
          "scattermapbox": [
           {
            "marker": {
             "colorbar": {
              "outlinewidth": 0,
              "ticks": ""
             }
            },
            "type": "scattermapbox"
           }
          ],
          "scatterpolar": [
           {
            "marker": {
             "colorbar": {
              "outlinewidth": 0,
              "ticks": ""
             }
            },
            "type": "scatterpolar"
           }
          ],
          "scatterpolargl": [
           {
            "marker": {
             "colorbar": {
              "outlinewidth": 0,
              "ticks": ""
             }
            },
            "type": "scatterpolargl"
           }
          ],
          "scatterternary": [
           {
            "marker": {
             "colorbar": {
              "outlinewidth": 0,
              "ticks": ""
             }
            },
            "type": "scatterternary"
           }
          ],
          "surface": [
           {
            "colorbar": {
             "outlinewidth": 0,
             "ticks": ""
            },
            "colorscale": [
             [
              0,
              "#0d0887"
             ],
             [
              0.1111111111111111,
              "#46039f"
             ],
             [
              0.2222222222222222,
              "#7201a8"
             ],
             [
              0.3333333333333333,
              "#9c179e"
             ],
             [
              0.4444444444444444,
              "#bd3786"
             ],
             [
              0.5555555555555556,
              "#d8576b"
             ],
             [
              0.6666666666666666,
              "#ed7953"
             ],
             [
              0.7777777777777778,
              "#fb9f3a"
             ],
             [
              0.8888888888888888,
              "#fdca26"
             ],
             [
              1,
              "#f0f921"
             ]
            ],
            "type": "surface"
           }
          ],
          "table": [
           {
            "cells": {
             "fill": {
              "color": "#EBF0F8"
             },
             "line": {
              "color": "white"
             }
            },
            "header": {
             "fill": {
              "color": "#C8D4E3"
             },
             "line": {
              "color": "white"
             }
            },
            "type": "table"
           }
          ]
         },
         "layout": {
          "annotationdefaults": {
           "arrowcolor": "#2a3f5f",
           "arrowhead": 0,
           "arrowwidth": 1
          },
          "autotypenumbers": "strict",
          "coloraxis": {
           "colorbar": {
            "outlinewidth": 0,
            "ticks": ""
           }
          },
          "colorscale": {
           "diverging": [
            [
             0,
             "#8e0152"
            ],
            [
             0.1,
             "#c51b7d"
            ],
            [
             0.2,
             "#de77ae"
            ],
            [
             0.3,
             "#f1b6da"
            ],
            [
             0.4,
             "#fde0ef"
            ],
            [
             0.5,
             "#f7f7f7"
            ],
            [
             0.6,
             "#e6f5d0"
            ],
            [
             0.7,
             "#b8e186"
            ],
            [
             0.8,
             "#7fbc41"
            ],
            [
             0.9,
             "#4d9221"
            ],
            [
             1,
             "#276419"
            ]
           ],
           "sequential": [
            [
             0,
             "#0d0887"
            ],
            [
             0.1111111111111111,
             "#46039f"
            ],
            [
             0.2222222222222222,
             "#7201a8"
            ],
            [
             0.3333333333333333,
             "#9c179e"
            ],
            [
             0.4444444444444444,
             "#bd3786"
            ],
            [
             0.5555555555555556,
             "#d8576b"
            ],
            [
             0.6666666666666666,
             "#ed7953"
            ],
            [
             0.7777777777777778,
             "#fb9f3a"
            ],
            [
             0.8888888888888888,
             "#fdca26"
            ],
            [
             1,
             "#f0f921"
            ]
           ],
           "sequentialminus": [
            [
             0,
             "#0d0887"
            ],
            [
             0.1111111111111111,
             "#46039f"
            ],
            [
             0.2222222222222222,
             "#7201a8"
            ],
            [
             0.3333333333333333,
             "#9c179e"
            ],
            [
             0.4444444444444444,
             "#bd3786"
            ],
            [
             0.5555555555555556,
             "#d8576b"
            ],
            [
             0.6666666666666666,
             "#ed7953"
            ],
            [
             0.7777777777777778,
             "#fb9f3a"
            ],
            [
             0.8888888888888888,
             "#fdca26"
            ],
            [
             1,
             "#f0f921"
            ]
           ]
          },
          "colorway": [
           "#636efa",
           "#EF553B",
           "#00cc96",
           "#ab63fa",
           "#FFA15A",
           "#19d3f3",
           "#FF6692",
           "#B6E880",
           "#FF97FF",
           "#FECB52"
          ],
          "font": {
           "color": "#2a3f5f"
          },
          "geo": {
           "bgcolor": "white",
           "lakecolor": "white",
           "landcolor": "#E5ECF6",
           "showlakes": true,
           "showland": true,
           "subunitcolor": "white"
          },
          "hoverlabel": {
           "align": "left"
          },
          "hovermode": "closest",
          "mapbox": {
           "style": "light"
          },
          "paper_bgcolor": "white",
          "plot_bgcolor": "#E5ECF6",
          "polar": {
           "angularaxis": {
            "gridcolor": "white",
            "linecolor": "white",
            "ticks": ""
           },
           "bgcolor": "#E5ECF6",
           "radialaxis": {
            "gridcolor": "white",
            "linecolor": "white",
            "ticks": ""
           }
          },
          "scene": {
           "xaxis": {
            "backgroundcolor": "#E5ECF6",
            "gridcolor": "white",
            "gridwidth": 2,
            "linecolor": "white",
            "showbackground": true,
            "ticks": "",
            "zerolinecolor": "white"
           },
           "yaxis": {
            "backgroundcolor": "#E5ECF6",
            "gridcolor": "white",
            "gridwidth": 2,
            "linecolor": "white",
            "showbackground": true,
            "ticks": "",
            "zerolinecolor": "white"
           },
           "zaxis": {
            "backgroundcolor": "#E5ECF6",
            "gridcolor": "white",
            "gridwidth": 2,
            "linecolor": "white",
            "showbackground": true,
            "ticks": "",
            "zerolinecolor": "white"
           }
          },
          "shapedefaults": {
           "line": {
            "color": "#2a3f5f"
           }
          },
          "ternary": {
           "aaxis": {
            "gridcolor": "white",
            "linecolor": "white",
            "ticks": ""
           },
           "baxis": {
            "gridcolor": "white",
            "linecolor": "white",
            "ticks": ""
           },
           "bgcolor": "#E5ECF6",
           "caxis": {
            "gridcolor": "white",
            "linecolor": "white",
            "ticks": ""
           }
          },
          "title": {
           "x": 0.05
          },
          "xaxis": {
           "automargin": true,
           "gridcolor": "white",
           "linecolor": "white",
           "ticks": "",
           "title": {
            "standoff": 15
           },
           "zerolinecolor": "white",
           "zerolinewidth": 2
          },
          "yaxis": {
           "automargin": true,
           "gridcolor": "white",
           "linecolor": "white",
           "ticks": "",
           "title": {
            "standoff": 15
           },
           "zerolinecolor": "white",
           "zerolinewidth": 2
          }
         }
        },
        "title": {
         "text": "Unique Species Count by Regional Stewardship Status (Forest)"
        },
        "xaxis": {
         "anchor": "y",
         "domain": [
          0,
          1
         ],
         "title": {
          "text": "Regional_Stewardship_Status_forest"
         }
        },
        "yaxis": {
         "anchor": "x",
         "domain": [
          0,
          1
         ],
         "title": {
          "text": "Unique_Species_Count"
         }
        }
       }
      }
     },
     "metadata": {},
     "output_type": "display_data"
    }
   ],
   "source": [
    "# Create a bar chart for Regional Stewardship Status (forest)\n",
    "fig_stewardship_forest = px.bar(stewardship_counts_forest, x='Regional_Stewardship_Status_forest', y='Unique_Species_Count', title='Unique Species Count by Regional Stewardship Status (Forest)')\n",
    "fig_stewardship_forest.show()"
   ]
  },
  {
   "cell_type": "markdown",
   "id": "d3cf5b78",
   "metadata": {},
   "source": [
    "##### Bar chart for Regional Stewardship Status (grassland)"
   ]
  },
  {
   "cell_type": "code",
   "execution_count": 71,
   "id": "a4dbf65a",
   "metadata": {},
   "outputs": [
    {
     "data": {
      "application/vnd.plotly.v1+json": {
       "config": {
        "plotlyServerURL": "https://plot.ly"
       },
       "data": [
        {
         "hovertemplate": "Regional_Stewardship_Status_grassland=%{x}<br>Unique_Species_Count=%{y}<extra></extra>",
         "legendgroup": "",
         "marker": {
          "color": "#636efa",
          "pattern": {
           "shape": ""
          }
         },
         "name": "",
         "orientation": "v",
         "showlegend": false,
         "textposition": "auto",
         "type": "bar",
         "x": [
          false,
          true
         ],
         "xaxis": "x",
         "y": {
          "bdata": "WhE=",
          "dtype": "i1"
         },
         "yaxis": "y"
        }
       ],
       "layout": {
        "barmode": "relative",
        "legend": {
         "tracegroupgap": 0
        },
        "template": {
         "data": {
          "bar": [
           {
            "error_x": {
             "color": "#2a3f5f"
            },
            "error_y": {
             "color": "#2a3f5f"
            },
            "marker": {
             "line": {
              "color": "#E5ECF6",
              "width": 0.5
             },
             "pattern": {
              "fillmode": "overlay",
              "size": 10,
              "solidity": 0.2
             }
            },
            "type": "bar"
           }
          ],
          "barpolar": [
           {
            "marker": {
             "line": {
              "color": "#E5ECF6",
              "width": 0.5
             },
             "pattern": {
              "fillmode": "overlay",
              "size": 10,
              "solidity": 0.2
             }
            },
            "type": "barpolar"
           }
          ],
          "carpet": [
           {
            "aaxis": {
             "endlinecolor": "#2a3f5f",
             "gridcolor": "white",
             "linecolor": "white",
             "minorgridcolor": "white",
             "startlinecolor": "#2a3f5f"
            },
            "baxis": {
             "endlinecolor": "#2a3f5f",
             "gridcolor": "white",
             "linecolor": "white",
             "minorgridcolor": "white",
             "startlinecolor": "#2a3f5f"
            },
            "type": "carpet"
           }
          ],
          "choropleth": [
           {
            "colorbar": {
             "outlinewidth": 0,
             "ticks": ""
            },
            "type": "choropleth"
           }
          ],
          "contour": [
           {
            "colorbar": {
             "outlinewidth": 0,
             "ticks": ""
            },
            "colorscale": [
             [
              0,
              "#0d0887"
             ],
             [
              0.1111111111111111,
              "#46039f"
             ],
             [
              0.2222222222222222,
              "#7201a8"
             ],
             [
              0.3333333333333333,
              "#9c179e"
             ],
             [
              0.4444444444444444,
              "#bd3786"
             ],
             [
              0.5555555555555556,
              "#d8576b"
             ],
             [
              0.6666666666666666,
              "#ed7953"
             ],
             [
              0.7777777777777778,
              "#fb9f3a"
             ],
             [
              0.8888888888888888,
              "#fdca26"
             ],
             [
              1,
              "#f0f921"
             ]
            ],
            "type": "contour"
           }
          ],
          "contourcarpet": [
           {
            "colorbar": {
             "outlinewidth": 0,
             "ticks": ""
            },
            "type": "contourcarpet"
           }
          ],
          "heatmap": [
           {
            "colorbar": {
             "outlinewidth": 0,
             "ticks": ""
            },
            "colorscale": [
             [
              0,
              "#0d0887"
             ],
             [
              0.1111111111111111,
              "#46039f"
             ],
             [
              0.2222222222222222,
              "#7201a8"
             ],
             [
              0.3333333333333333,
              "#9c179e"
             ],
             [
              0.4444444444444444,
              "#bd3786"
             ],
             [
              0.5555555555555556,
              "#d8576b"
             ],
             [
              0.6666666666666666,
              "#ed7953"
             ],
             [
              0.7777777777777778,
              "#fb9f3a"
             ],
             [
              0.8888888888888888,
              "#fdca26"
             ],
             [
              1,
              "#f0f921"
             ]
            ],
            "type": "heatmap"
           }
          ],
          "histogram": [
           {
            "marker": {
             "pattern": {
              "fillmode": "overlay",
              "size": 10,
              "solidity": 0.2
             }
            },
            "type": "histogram"
           }
          ],
          "histogram2d": [
           {
            "colorbar": {
             "outlinewidth": 0,
             "ticks": ""
            },
            "colorscale": [
             [
              0,
              "#0d0887"
             ],
             [
              0.1111111111111111,
              "#46039f"
             ],
             [
              0.2222222222222222,
              "#7201a8"
             ],
             [
              0.3333333333333333,
              "#9c179e"
             ],
             [
              0.4444444444444444,
              "#bd3786"
             ],
             [
              0.5555555555555556,
              "#d8576b"
             ],
             [
              0.6666666666666666,
              "#ed7953"
             ],
             [
              0.7777777777777778,
              "#fb9f3a"
             ],
             [
              0.8888888888888888,
              "#fdca26"
             ],
             [
              1,
              "#f0f921"
             ]
            ],
            "type": "histogram2d"
           }
          ],
          "histogram2dcontour": [
           {
            "colorbar": {
             "outlinewidth": 0,
             "ticks": ""
            },
            "colorscale": [
             [
              0,
              "#0d0887"
             ],
             [
              0.1111111111111111,
              "#46039f"
             ],
             [
              0.2222222222222222,
              "#7201a8"
             ],
             [
              0.3333333333333333,
              "#9c179e"
             ],
             [
              0.4444444444444444,
              "#bd3786"
             ],
             [
              0.5555555555555556,
              "#d8576b"
             ],
             [
              0.6666666666666666,
              "#ed7953"
             ],
             [
              0.7777777777777778,
              "#fb9f3a"
             ],
             [
              0.8888888888888888,
              "#fdca26"
             ],
             [
              1,
              "#f0f921"
             ]
            ],
            "type": "histogram2dcontour"
           }
          ],
          "mesh3d": [
           {
            "colorbar": {
             "outlinewidth": 0,
             "ticks": ""
            },
            "type": "mesh3d"
           }
          ],
          "parcoords": [
           {
            "line": {
             "colorbar": {
              "outlinewidth": 0,
              "ticks": ""
             }
            },
            "type": "parcoords"
           }
          ],
          "pie": [
           {
            "automargin": true,
            "type": "pie"
           }
          ],
          "scatter": [
           {
            "fillpattern": {
             "fillmode": "overlay",
             "size": 10,
             "solidity": 0.2
            },
            "type": "scatter"
           }
          ],
          "scatter3d": [
           {
            "line": {
             "colorbar": {
              "outlinewidth": 0,
              "ticks": ""
             }
            },
            "marker": {
             "colorbar": {
              "outlinewidth": 0,
              "ticks": ""
             }
            },
            "type": "scatter3d"
           }
          ],
          "scattercarpet": [
           {
            "marker": {
             "colorbar": {
              "outlinewidth": 0,
              "ticks": ""
             }
            },
            "type": "scattercarpet"
           }
          ],
          "scattergeo": [
           {
            "marker": {
             "colorbar": {
              "outlinewidth": 0,
              "ticks": ""
             }
            },
            "type": "scattergeo"
           }
          ],
          "scattergl": [
           {
            "marker": {
             "colorbar": {
              "outlinewidth": 0,
              "ticks": ""
             }
            },
            "type": "scattergl"
           }
          ],
          "scattermap": [
           {
            "marker": {
             "colorbar": {
              "outlinewidth": 0,
              "ticks": ""
             }
            },
            "type": "scattermap"
           }
          ],
          "scattermapbox": [
           {
            "marker": {
             "colorbar": {
              "outlinewidth": 0,
              "ticks": ""
             }
            },
            "type": "scattermapbox"
           }
          ],
          "scatterpolar": [
           {
            "marker": {
             "colorbar": {
              "outlinewidth": 0,
              "ticks": ""
             }
            },
            "type": "scatterpolar"
           }
          ],
          "scatterpolargl": [
           {
            "marker": {
             "colorbar": {
              "outlinewidth": 0,
              "ticks": ""
             }
            },
            "type": "scatterpolargl"
           }
          ],
          "scatterternary": [
           {
            "marker": {
             "colorbar": {
              "outlinewidth": 0,
              "ticks": ""
             }
            },
            "type": "scatterternary"
           }
          ],
          "surface": [
           {
            "colorbar": {
             "outlinewidth": 0,
             "ticks": ""
            },
            "colorscale": [
             [
              0,
              "#0d0887"
             ],
             [
              0.1111111111111111,
              "#46039f"
             ],
             [
              0.2222222222222222,
              "#7201a8"
             ],
             [
              0.3333333333333333,
              "#9c179e"
             ],
             [
              0.4444444444444444,
              "#bd3786"
             ],
             [
              0.5555555555555556,
              "#d8576b"
             ],
             [
              0.6666666666666666,
              "#ed7953"
             ],
             [
              0.7777777777777778,
              "#fb9f3a"
             ],
             [
              0.8888888888888888,
              "#fdca26"
             ],
             [
              1,
              "#f0f921"
             ]
            ],
            "type": "surface"
           }
          ],
          "table": [
           {
            "cells": {
             "fill": {
              "color": "#EBF0F8"
             },
             "line": {
              "color": "white"
             }
            },
            "header": {
             "fill": {
              "color": "#C8D4E3"
             },
             "line": {
              "color": "white"
             }
            },
            "type": "table"
           }
          ]
         },
         "layout": {
          "annotationdefaults": {
           "arrowcolor": "#2a3f5f",
           "arrowhead": 0,
           "arrowwidth": 1
          },
          "autotypenumbers": "strict",
          "coloraxis": {
           "colorbar": {
            "outlinewidth": 0,
            "ticks": ""
           }
          },
          "colorscale": {
           "diverging": [
            [
             0,
             "#8e0152"
            ],
            [
             0.1,
             "#c51b7d"
            ],
            [
             0.2,
             "#de77ae"
            ],
            [
             0.3,
             "#f1b6da"
            ],
            [
             0.4,
             "#fde0ef"
            ],
            [
             0.5,
             "#f7f7f7"
            ],
            [
             0.6,
             "#e6f5d0"
            ],
            [
             0.7,
             "#b8e186"
            ],
            [
             0.8,
             "#7fbc41"
            ],
            [
             0.9,
             "#4d9221"
            ],
            [
             1,
             "#276419"
            ]
           ],
           "sequential": [
            [
             0,
             "#0d0887"
            ],
            [
             0.1111111111111111,
             "#46039f"
            ],
            [
             0.2222222222222222,
             "#7201a8"
            ],
            [
             0.3333333333333333,
             "#9c179e"
            ],
            [
             0.4444444444444444,
             "#bd3786"
            ],
            [
             0.5555555555555556,
             "#d8576b"
            ],
            [
             0.6666666666666666,
             "#ed7953"
            ],
            [
             0.7777777777777778,
             "#fb9f3a"
            ],
            [
             0.8888888888888888,
             "#fdca26"
            ],
            [
             1,
             "#f0f921"
            ]
           ],
           "sequentialminus": [
            [
             0,
             "#0d0887"
            ],
            [
             0.1111111111111111,
             "#46039f"
            ],
            [
             0.2222222222222222,
             "#7201a8"
            ],
            [
             0.3333333333333333,
             "#9c179e"
            ],
            [
             0.4444444444444444,
             "#bd3786"
            ],
            [
             0.5555555555555556,
             "#d8576b"
            ],
            [
             0.6666666666666666,
             "#ed7953"
            ],
            [
             0.7777777777777778,
             "#fb9f3a"
            ],
            [
             0.8888888888888888,
             "#fdca26"
            ],
            [
             1,
             "#f0f921"
            ]
           ]
          },
          "colorway": [
           "#636efa",
           "#EF553B",
           "#00cc96",
           "#ab63fa",
           "#FFA15A",
           "#19d3f3",
           "#FF6692",
           "#B6E880",
           "#FF97FF",
           "#FECB52"
          ],
          "font": {
           "color": "#2a3f5f"
          },
          "geo": {
           "bgcolor": "white",
           "lakecolor": "white",
           "landcolor": "#E5ECF6",
           "showlakes": true,
           "showland": true,
           "subunitcolor": "white"
          },
          "hoverlabel": {
           "align": "left"
          },
          "hovermode": "closest",
          "mapbox": {
           "style": "light"
          },
          "paper_bgcolor": "white",
          "plot_bgcolor": "#E5ECF6",
          "polar": {
           "angularaxis": {
            "gridcolor": "white",
            "linecolor": "white",
            "ticks": ""
           },
           "bgcolor": "#E5ECF6",
           "radialaxis": {
            "gridcolor": "white",
            "linecolor": "white",
            "ticks": ""
           }
          },
          "scene": {
           "xaxis": {
            "backgroundcolor": "#E5ECF6",
            "gridcolor": "white",
            "gridwidth": 2,
            "linecolor": "white",
            "showbackground": true,
            "ticks": "",
            "zerolinecolor": "white"
           },
           "yaxis": {
            "backgroundcolor": "#E5ECF6",
            "gridcolor": "white",
            "gridwidth": 2,
            "linecolor": "white",
            "showbackground": true,
            "ticks": "",
            "zerolinecolor": "white"
           },
           "zaxis": {
            "backgroundcolor": "#E5ECF6",
            "gridcolor": "white",
            "gridwidth": 2,
            "linecolor": "white",
            "showbackground": true,
            "ticks": "",
            "zerolinecolor": "white"
           }
          },
          "shapedefaults": {
           "line": {
            "color": "#2a3f5f"
           }
          },
          "ternary": {
           "aaxis": {
            "gridcolor": "white",
            "linecolor": "white",
            "ticks": ""
           },
           "baxis": {
            "gridcolor": "white",
            "linecolor": "white",
            "ticks": ""
           },
           "bgcolor": "#E5ECF6",
           "caxis": {
            "gridcolor": "white",
            "linecolor": "white",
            "ticks": ""
           }
          },
          "title": {
           "x": 0.05
          },
          "xaxis": {
           "automargin": true,
           "gridcolor": "white",
           "linecolor": "white",
           "ticks": "",
           "title": {
            "standoff": 15
           },
           "zerolinecolor": "white",
           "zerolinewidth": 2
          },
          "yaxis": {
           "automargin": true,
           "gridcolor": "white",
           "linecolor": "white",
           "ticks": "",
           "title": {
            "standoff": 15
           },
           "zerolinecolor": "white",
           "zerolinewidth": 2
          }
         }
        },
        "title": {
         "text": "Unique Species Count by Regional Stewardship Status (Grassland)"
        },
        "xaxis": {
         "anchor": "y",
         "domain": [
          0,
          1
         ],
         "title": {
          "text": "Regional_Stewardship_Status_grassland"
         }
        },
        "yaxis": {
         "anchor": "x",
         "domain": [
          0,
          1
         ],
         "title": {
          "text": "Unique_Species_Count"
         }
        }
       }
      }
     },
     "metadata": {},
     "output_type": "display_data"
    }
   ],
   "source": [
    "# Create a bar chart for Regional Stewardship Status (grassland)\n",
    "fig_stewardship_grassland = px.bar(stewardship_counts_grassland, x='Regional_Stewardship_Status_grassland', y='Unique_Species_Count', title='Unique Species Count by Regional Stewardship Status (Grassland)')\n",
    "fig_stewardship_grassland.show()"
   ]
  },
  {
   "cell_type": "markdown",
   "id": "f4d095c5",
   "metadata": {},
   "source": [
    "## Analyze AOU Code patterns (Admin_Unit_Code: The code for the administrative unit (e.g., \"ANTI\") where the observation was conducted)"
   ]
  },
  {
   "cell_type": "markdown",
   "id": "3e885167",
   "metadata": {},
   "source": [
    "##### Analyze the AOU Code for forest species"
   ]
  },
  {
   "cell_type": "code",
   "execution_count": 72,
   "id": "e340de79",
   "metadata": {},
   "outputs": [
    {
     "name": "stdout",
     "output_type": "stream",
     "text": [
      "Unique species count by AOU Code (Forest):\n",
      "  AOU_Code_forest  Unique_Species_Count Scientific_Name_forest  \\\n",
      "0            ACFL                     1    Empidonax virescens   \n",
      "1            AMCR                     1  Corvus brachyrhynchos   \n",
      "2            AMGO                     1         Spinus tristis   \n",
      "3            AMRE                     1    Setophaga ruticilla   \n",
      "4            AMRO                     1     Turdus migratorius   \n",
      "\n",
      "   Common_Name_forest  \n",
      "0  Acadian Flycatcher  \n",
      "1       American Crow  \n",
      "2  American Goldfinch  \n",
      "3   American Redstart  \n",
      "4      American Robin  \n"
     ]
    }
   ],
   "source": [
    "# Analyze AOU Code Patterns\n",
    "aou_code_counts_forest = merged_df[merged_df['AOU_Code_forest'] != 'Unknown'].groupby('AOU_Code_forest')['AcceptedTSN'].nunique().reset_index()\n",
    "aou_code_counts_forest.rename(columns={'AcceptedTSN': 'Unique_Species_Count'}, inplace=True)\n",
    "# Merge with scientific names and common names\n",
    "aou_code_counts_forest = pd.merge(aou_code_counts_forest, merged_df[['AOU_Code_forest', 'Scientific_Name_forest', 'Common_Name_forest']].drop_duplicates(), on='AOU_Code_forest', how='left')\n",
    "print(\"Unique species count by AOU Code (Forest):\")\n",
    "print(aou_code_counts_forest.sort_values(by='Unique_Species_Count', ascending=False).head())"
   ]
  },
  {
   "cell_type": "markdown",
   "id": "881b3948",
   "metadata": {},
   "source": [
    "##### Analyze the AOU Code for grassland species"
   ]
  },
  {
   "cell_type": "code",
   "execution_count": 73,
   "id": "b1a7e80c",
   "metadata": {},
   "outputs": [
    {
     "name": "stdout",
     "output_type": "stream",
     "text": [
      "\n",
      "Unique species count by AOU Code (Grassland):\n",
      "  AOU_Code_grassland  Unique_Species_Count Scientific_Name_grassland  \\\n",
      "0               ACFL                     1       Empidonax virescens   \n",
      "1               AMCR                     1     Corvus brachyrhynchos   \n",
      "2               AMGO                     1         Carduelis tristis   \n",
      "3               AMKE                     1          Falco sparverius   \n",
      "4               AMRE                     1       Setophaga ruticilla   \n",
      "\n",
      "  Common_Name_grassland  \n",
      "0    Acadian Flycatcher  \n",
      "1         American Crow  \n",
      "2    American Goldfinch  \n",
      "3      American Kestrel  \n",
      "4     American Redstart  \n"
     ]
    }
   ],
   "source": [
    "aou_code_counts_grassland = merged_df[merged_df['AOU_Code_grassland'] != 'Unknown'].groupby('AOU_Code_grassland')['AcceptedTSN'].nunique().reset_index()\n",
    "aou_code_counts_grassland.rename(columns={'AcceptedTSN': 'Unique_Species_Count'}, inplace=True)\n",
    "# Merge with scientific names and common names\n",
    "aou_code_counts_grassland = pd.merge(aou_code_counts_grassland, merged_df[['AOU_Code_grassland', 'Scientific_Name_grassland', 'Common_Name_grassland']].drop_duplicates(), on='AOU_Code_grassland', how='left')\n",
    "print(\"\\nUnique species count by AOU Code (Grassland):\")\n",
    "print(aou_code_counts_grassland.sort_values(by='Unique_Species_Count', ascending=False).head())"
   ]
  },
  {
   "cell_type": "markdown",
   "id": "e80d398b",
   "metadata": {},
   "source": [
    "##### Analyze AOU Code related to PIF status (forest)"
   ]
  },
  {
   "cell_type": "code",
   "execution_count": 74,
   "id": "1761f180",
   "metadata": {},
   "outputs": [
    {
     "name": "stdout",
     "output_type": "stream",
     "text": [
      "AOU Codes on PIF Watchlist (Forest):\n",
      "  AOU_Code_forest      Scientific_Name_forest     Common_Name_forest  \\\n",
      "0            BWWA        Vermivora cyanoptera    Blue-winged Warbler   \n",
      "1            CERW           Setophaga cerulea       Cerulean Warbler   \n",
      "2            KEWA          Oporornis formosus       Kentucky Warbler   \n",
      "3            PRAW          Setophaga discolor        Prairie Warbler   \n",
      "4            RHWO  Melanerpes erythrocephalus  Red-headed Woodpecker   \n",
      "5            WEWA      Helmitheros vermivorus    Worm-eating Warbler   \n",
      "6            WOTH        Hylocichla mustelina            Wood Thrush   \n",
      "\n",
      "   Unique_Species_Count  \n",
      "0                     1  \n",
      "1                     1  \n",
      "2                     1  \n",
      "3                     1  \n",
      "4                     1  \n",
      "5                     1  \n",
      "6                     1  \n"
     ]
    }
   ],
   "source": [
    "# Analyze AOU codes related to PIF Watchlist status (Forest)\n",
    "pif_watchlist_aou_forest = merged_df[(merged_df['PIF_Watchlist_Status_forest'] == True) & (merged_df['AOU_Code_forest'] != 'Unknown')].groupby(['AOU_Code_forest', 'Scientific_Name_forest', 'Common_Name_forest'])['AcceptedTSN'].nunique().reset_index()\n",
    "pif_watchlist_aou_forest.rename(columns={'AcceptedTSN': 'Unique_Species_Count'}, inplace=True)\n",
    "print(\"AOU Codes on PIF Watchlist (Forest):\")\n",
    "print(pif_watchlist_aou_forest.sort_values(by='Unique_Species_Count', ascending=False))"
   ]
  },
  {
   "cell_type": "markdown",
   "id": "08d715d4",
   "metadata": {},
   "source": [
    "##### Analyze AOU Code related to  Regional Stewardship status (Forest)"
   ]
  },
  {
   "cell_type": "code",
   "execution_count": 75,
   "id": "daaf30df",
   "metadata": {},
   "outputs": [
    {
     "name": "stdout",
     "output_type": "stream",
     "text": [
      "\n",
      "AOU Codes with Regional Stewardship Status (Forest):\n",
      "   AOU_Code_forest   Scientific_Name_forest       Common_Name_forest  \\\n",
      "0             ACFL      Empidonax virescens       Acadian Flycatcher   \n",
      "1             BEKI            Ceryle alcyon        Belted Kingfisher   \n",
      "2             BRTH          Toxostoma rufum           Brown Thrasher   \n",
      "3             CACH     Poecile carolinensis       Carolina Chickadee   \n",
      "4             CHSW        Chaetura pelagica            Chimney Swift   \n",
      "5             DOWO       Picoides pubescens         Downy Woodpecker   \n",
      "6             EATO  Pipilo erythrophthalmus           Eastern Towhee   \n",
      "7             EAWP          Contopus virens       Eastern Wood-Pewee   \n",
      "8             FISP         Spizella pusilla            Field Sparrow   \n",
      "9             HOWA        Setophaga citrina           Hooded Warbler   \n",
      "10            INBU         Passerina cyanea           Indigo Bunting   \n",
      "11            KEWA       Oporornis formosus         Kentucky Warbler   \n",
      "12            LOWA       Parkesia motacilla    Louisiana Waterthrush   \n",
      "13            PIWA          Setophaga pinus             Pine Warbler   \n",
      "14            PRAW       Setophaga discolor          Prairie Warbler   \n",
      "15            SCTA         Piranga olivacea          Scarlet Tanager   \n",
      "16            WEWA   Helmitheros vermivorus      Worm-eating Warbler   \n",
      "17            WOTH     Hylocichla mustelina              Wood Thrush   \n",
      "18            YTVI         Vireo flavifrons    Yellow-throated Vireo   \n",
      "19            YTWA       Setophaga dominica  Yellow-throated Warbler   \n",
      "\n",
      "    Unique_Species_Count  \n",
      "0                      1  \n",
      "1                      1  \n",
      "2                      1  \n",
      "3                      1  \n",
      "4                      1  \n",
      "5                      1  \n",
      "6                      1  \n",
      "7                      1  \n",
      "8                      1  \n",
      "9                      1  \n",
      "10                     1  \n",
      "11                     1  \n",
      "12                     1  \n",
      "13                     1  \n",
      "14                     1  \n",
      "15                     1  \n",
      "16                     1  \n",
      "17                     1  \n",
      "18                     1  \n",
      "19                     1  \n"
     ]
    }
   ],
   "source": [
    "# Analyze AOU codes related to Regional Stewardship status (Forest)\n",
    "stewardship_aou_forest = merged_df[(merged_df['Regional_Stewardship_Status_forest'] == True) & (merged_df['AOU_Code_forest'] != 'Unknown')].groupby(['AOU_Code_forest', 'Scientific_Name_forest', 'Common_Name_forest'])['AcceptedTSN'].nunique().reset_index()\n",
    "stewardship_aou_forest.rename(columns={'AcceptedTSN': 'Unique_Species_Count'}, inplace=True)\n",
    "print(\"\\nAOU Codes with Regional Stewardship Status (Forest):\")\n",
    "print(stewardship_aou_forest.sort_values(by='Unique_Species_Count', ascending=False))"
   ]
  },
  {
   "cell_type": "markdown",
   "id": "9ebd79b0",
   "metadata": {},
   "source": [
    "##### Analyze AOU Code related to PIF status (grassland)"
   ]
  },
  {
   "cell_type": "code",
   "execution_count": 76,
   "id": "9f7941d3",
   "metadata": {},
   "outputs": [
    {
     "name": "stdout",
     "output_type": "stream",
     "text": [
      "\n",
      "AOU Codes on PIF Watchlist (Grassland):\n",
      "  AOU_Code_grassland Scientific_Name_grassland Common_Name_grassland  \\\n",
      "0               KEWA        Oporornis formosus      Kentucky Warbler   \n",
      "1               PRAW        Setophaga discolor       Prairie Warbler   \n",
      "2               WIFL        Empidonax traillii     Willow Flycatcher   \n",
      "3               WOTH      Hylocichla mustelina           Wood Thrush   \n",
      "\n",
      "   Unique_Species_Count  \n",
      "0                     1  \n",
      "1                     1  \n",
      "2                     1  \n",
      "3                     1  \n"
     ]
    }
   ],
   "source": [
    "# Analyze AOU codes related to PIF Watchlist status (Grassland)\n",
    "pif_watchlist_aou_grassland = merged_df[(merged_df['PIF_Watchlist_Status_grassland'] == True) & (merged_df['AOU_Code_grassland'] != 'Unknown')].groupby(['AOU_Code_grassland', 'Scientific_Name_grassland', 'Common_Name_grassland'])['AcceptedTSN'].nunique().reset_index()\n",
    "pif_watchlist_aou_grassland.rename(columns={'AcceptedTSN': 'Unique_Species_Count'}, inplace=True)\n",
    "print(\"\\nAOU Codes on PIF Watchlist (Grassland):\")\n",
    "print(pif_watchlist_aou_grassland.sort_values(by='Unique_Species_Count', ascending=False))"
   ]
  },
  {
   "cell_type": "markdown",
   "id": "735f3002",
   "metadata": {},
   "source": [
    "##### Analyze AOU Code related to  Regional Stewardship status (grassland)"
   ]
  },
  {
   "cell_type": "code",
   "execution_count": 77,
   "id": "50d233e1",
   "metadata": {},
   "outputs": [
    {
     "name": "stdout",
     "output_type": "stream",
     "text": [
      "\n",
      "AOU Codes with Regional Stewardship Status (Grassland):\n",
      "   AOU_Code_grassland Scientific_Name_grassland  Common_Name_grassland  \\\n",
      "0                ACFL       Empidonax virescens     Acadian Flycatcher   \n",
      "1                BEKI             Ceryle alcyon      Belted Kingfisher   \n",
      "2                BLGR          Guiraca caerulea          Blue Grosbeak   \n",
      "3                BRTH           Toxostoma rufum         Brown Thrasher   \n",
      "4                CACH      Poecile carolinensis     Carolina Chickadee   \n",
      "5                CHSW         Chaetura pelagica          Chimney Swift   \n",
      "6                DOWO        Picoides pubescens       Downy Woodpecker   \n",
      "7                EATO   Pipilo erythrophthalmus         Eastern Towhee   \n",
      "8                EAWP           Contopus virens     Eastern Wood-Pewee   \n",
      "9                FISP          Spizella pusilla          Field Sparrow   \n",
      "10               INBU          Passerina cyanea         Indigo Bunting   \n",
      "11               KEWA        Oporornis formosus       Kentucky Warbler   \n",
      "12               PIWA           Setophaga pinus           Pine Warbler   \n",
      "13               PRAW        Setophaga discolor        Prairie Warbler   \n",
      "14               SCTA          Piranga olivacea        Scarlet Tanager   \n",
      "15               WOTH      Hylocichla mustelina            Wood Thrush   \n",
      "16               YTVI          Vireo flavifrons  Yellow-throated Vireo   \n",
      "\n",
      "    Unique_Species_Count  \n",
      "0                      1  \n",
      "1                      1  \n",
      "2                      1  \n",
      "3                      1  \n",
      "4                      1  \n",
      "5                      1  \n",
      "6                      1  \n",
      "7                      1  \n",
      "8                      1  \n",
      "9                      1  \n",
      "10                     1  \n",
      "11                     1  \n",
      "12                     1  \n",
      "13                     1  \n",
      "14                     1  \n",
      "15                     1  \n",
      "16                     1  \n"
     ]
    }
   ],
   "source": [
    "# Analyze AOU codes related to Regional Stewardship status (Grassland)\n",
    "stewardship_aou_grassland = merged_df[(merged_df['Regional_Stewardship_Status_grassland'] == True) & (merged_df['AOU_Code_grassland'] != 'Unknown')].groupby(['AOU_Code_grassland', 'Scientific_Name_grassland', 'Common_Name_grassland'])['AcceptedTSN'].nunique().reset_index()\n",
    "stewardship_aou_grassland.rename(columns={'AcceptedTSN': 'Unique_Species_Count'}, inplace=True)\n",
    "print(\"\\nAOU Codes with Regional Stewardship Status (Grassland):\")\n",
    "print(stewardship_aou_grassland.sort_values(by='Unique_Species_Count', ascending=False))"
   ]
  },
  {
   "cell_type": "markdown",
   "id": "4c348ca4",
   "metadata": {},
   "source": [
    "## Flyover Frequency"
   ]
  },
  {
   "cell_type": "markdown",
   "id": "ebc1fc10",
   "metadata": {},
   "source": [
    "##### Analyze the flyover frequency of species in forest"
   ]
  },
  {
   "cell_type": "code",
   "execution_count": 78,
   "id": "1c0471bb",
   "metadata": {},
   "outputs": [
    {
     "name": "stdout",
     "output_type": "stream",
     "text": [
      "Flyover observation counts (Forest):\n",
      "   Count    count\n",
      "0  False  1324868\n",
      "1   True    14633\n"
     ]
    }
   ],
   "source": [
    "# Analyze Flyover Frequency\n",
    "flyover_counts_forest = merged_df[merged_df['Flyover_Observed_forest'] != 'Unknown']['Flyover_Observed_forest'].value_counts().reset_index()\n",
    "flyover_counts_forest.rename(columns={'index': 'Flyover_Observed', 'Flyover_Observed_forest': 'Count'}, inplace=True)\n",
    "print(\"Flyover observation counts (Forest):\")\n",
    "print(flyover_counts_forest)"
   ]
  },
  {
   "cell_type": "markdown",
   "id": "7e406448",
   "metadata": {},
   "source": [
    "##### Analyze the flyover frequency of species in grassland"
   ]
  },
  {
   "cell_type": "code",
   "execution_count": 79,
   "id": "3179362f",
   "metadata": {},
   "outputs": [
    {
     "name": "stdout",
     "output_type": "stream",
     "text": [
      "Flyover observation counts (Grassland):\n",
      "   Count    count\n",
      "0  False  1265636\n",
      "1   True    73947\n"
     ]
    }
   ],
   "source": [
    "flyover_counts_grassland = merged_df[merged_df['Flyover_Observed_grassland'] != 'Unknown']['Flyover_Observed_grassland'].value_counts().reset_index()\n",
    "flyover_counts_grassland.rename(columns={'index': 'Flyover_Observed', 'Flyover_Observed_grassland': 'Count'}, inplace=True)\n",
    "print(\"Flyover observation counts (Grassland):\")\n",
    "print(flyover_counts_grassland)"
   ]
  },
  {
   "cell_type": "markdown",
   "id": "5cfcd19f",
   "metadata": {},
   "source": [
    "##### Analyze the unique species by Singing, Visualization, Calling in forest"
   ]
  },
  {
   "cell_type": "code",
   "execution_count": 83,
   "id": "5c6a9296",
   "metadata": {},
   "outputs": [
    {
     "name": "stdout",
     "output_type": "stream",
     "text": [
      "Unique species count by ID Method (Forest):\n",
      "  ID_Method_forest  Unique_Species_Count\n",
      "1          Singing                    81\n",
      "2    Visualization                    66\n",
      "0          Calling                    55\n"
     ]
    }
   ],
   "source": [
    "# Analyze ID Method by Common Name (Forest)\n",
    "id_method_species_forest = merged_df[merged_df['ID_Method_forest'] != 'Unknown'].groupby('ID_Method_forest')['Common_Name_forest'].nunique().reset_index()\n",
    "id_method_species_forest.rename(columns={'Common_Name_forest': 'Unique_Species_Count'}, inplace=True)\n",
    "print(\"Unique species count by ID Method (Forest):\")\n",
    "print(id_method_species_forest.sort_values(by='Unique_Species_Count', ascending=False))"
   ]
  },
  {
   "cell_type": "markdown",
   "id": "8ca96135",
   "metadata": {},
   "source": [
    "##### Analyze the unique species by Singing, Visualization, Calling in grassland"
   ]
  },
  {
   "cell_type": "code",
   "execution_count": 84,
   "id": "b52dadc4",
   "metadata": {},
   "outputs": [
    {
     "name": "stdout",
     "output_type": "stream",
     "text": [
      "\n",
      "Unique species count by ID Method (Grassland):\n",
      "  ID_Method_grassland  Unique_Species_Count\n",
      "1             Singing                    76\n",
      "2       Visualization                    70\n",
      "0             Calling                    54\n"
     ]
    }
   ],
   "source": [
    "# Analyze ID Method by Common Name (Grassland)\n",
    "id_method_species_grassland = merged_df[merged_df['ID_Method_grassland'] != 'Unknown'].groupby('ID_Method_grassland')['Common_Name_grassland'].nunique().reset_index()\n",
    "id_method_species_grassland.rename(columns={'Common_Name_grassland': 'Unique_Species_Count'}, inplace=True)\n",
    "print(\"\\nUnique species count by ID Method (Grassland):\")\n",
    "print(id_method_species_grassland.sort_values(by='Unique_Species_Count', ascending=False))"
   ]
  },
  {
   "cell_type": "markdown",
   "id": "f2ffc425",
   "metadata": {},
   "source": [
    "##### Analyze the species with visualization, singing, calling by their common name in forest"
   ]
  },
  {
   "cell_type": "code",
   "execution_count": 85,
   "id": "af02acc4",
   "metadata": {},
   "outputs": [
    {
     "name": "stdout",
     "output_type": "stream",
     "text": [
      "\n",
      "Top ID Methods for each Common Name (Forest):\n",
      "   Common_Name_forest ID_Method_forest  Count\n",
      "1  Acadian Flycatcher          Singing  11076\n",
      "0  Acadian Flycatcher          Calling    182\n",
      "2  Acadian Flycatcher    Visualization     78\n",
      "3       American Crow          Calling  19875\n",
      "4       American Crow    Visualization   2703\n"
     ]
    }
   ],
   "source": [
    "# Analyze Common Name by ID Method (Forest - showing top methods for each species)\n",
    "common_name_methods_forest = merged_df[merged_df['ID_Method_forest'] != 'Unknown'].groupby(['Common_Name_forest', 'ID_Method_forest']).size().reset_index(name='Count')\n",
    "common_name_methods_forest = common_name_methods_forest.sort_values(by=['Common_Name_forest', 'Count'], ascending=[True, False])\n",
    "print(\"\\nTop ID Methods for each Common Name (Forest):\")\n",
    "print(common_name_methods_forest.head())"
   ]
  },
  {
   "cell_type": "markdown",
   "id": "b0f67769",
   "metadata": {},
   "source": [
    "##### Analyze the species with visualization, singing, calling by their common name in grassland"
   ]
  },
  {
   "cell_type": "code",
   "execution_count": 86,
   "id": "1331beef",
   "metadata": {},
   "outputs": [
    {
     "name": "stdout",
     "output_type": "stream",
     "text": [
      "\n",
      "Top ID Methods for each Common Name (Grassland):\n",
      "  Common_Name_grassland ID_Method_grassland  Count\n",
      "1    Acadian Flycatcher             Singing  10900\n",
      "0    Acadian Flycatcher             Calling    436\n",
      "2         American Crow             Calling  16046\n",
      "3         American Crow       Visualization   6390\n",
      "4    American Goldfinch             Calling  25137\n"
     ]
    }
   ],
   "source": [
    "# Analyze Common Name by ID Method (Grassland - showing top methods for each species)\n",
    "common_name_methods_grassland = merged_df[merged_df['ID_Method_grassland'] != 'Unknown'].groupby(['Common_Name_grassland', 'ID_Method_grassland']).size().reset_index(name='Count')\n",
    "common_name_methods_grassland = common_name_methods_grassland.sort_values(by=['Common_Name_grassland', 'Count'], ascending=[True, False])\n",
    "print(\"\\nTop ID Methods for each Common Name (Grassland):\")\n",
    "print(common_name_methods_grassland.head())"
   ]
  },
  {
   "cell_type": "markdown",
   "id": "a7390f5d",
   "metadata": {},
   "source": [
    "##### Pie chart for ID Method(visualization, singing, calling) (forest)"
   ]
  },
  {
   "cell_type": "code",
   "execution_count": 87,
   "id": "f28ab48f",
   "metadata": {},
   "outputs": [
    {
     "data": {
      "application/vnd.plotly.v1+json": {
       "config": {
        "plotlyServerURL": "https://plot.ly"
       },
       "data": [
        {
         "domain": {
          "x": [
           0,
           1
          ],
          "y": [
           0,
           1
          ]
         },
         "hovertemplate": "ID_Method_forest=%{label}<br>Unique_Species_Count=%{value}<extra></extra>",
         "labels": [
          "Calling",
          "Singing",
          "Visualization"
         ],
         "legendgroup": "",
         "name": "",
         "showlegend": true,
         "type": "pie",
         "values": {
          "bdata": "N1FC",
          "dtype": "i1"
         }
        }
       ],
       "layout": {
        "legend": {
         "tracegroupgap": 0
        },
        "template": {
         "data": {
          "bar": [
           {
            "error_x": {
             "color": "#2a3f5f"
            },
            "error_y": {
             "color": "#2a3f5f"
            },
            "marker": {
             "line": {
              "color": "#E5ECF6",
              "width": 0.5
             },
             "pattern": {
              "fillmode": "overlay",
              "size": 10,
              "solidity": 0.2
             }
            },
            "type": "bar"
           }
          ],
          "barpolar": [
           {
            "marker": {
             "line": {
              "color": "#E5ECF6",
              "width": 0.5
             },
             "pattern": {
              "fillmode": "overlay",
              "size": 10,
              "solidity": 0.2
             }
            },
            "type": "barpolar"
           }
          ],
          "carpet": [
           {
            "aaxis": {
             "endlinecolor": "#2a3f5f",
             "gridcolor": "white",
             "linecolor": "white",
             "minorgridcolor": "white",
             "startlinecolor": "#2a3f5f"
            },
            "baxis": {
             "endlinecolor": "#2a3f5f",
             "gridcolor": "white",
             "linecolor": "white",
             "minorgridcolor": "white",
             "startlinecolor": "#2a3f5f"
            },
            "type": "carpet"
           }
          ],
          "choropleth": [
           {
            "colorbar": {
             "outlinewidth": 0,
             "ticks": ""
            },
            "type": "choropleth"
           }
          ],
          "contour": [
           {
            "colorbar": {
             "outlinewidth": 0,
             "ticks": ""
            },
            "colorscale": [
             [
              0,
              "#0d0887"
             ],
             [
              0.1111111111111111,
              "#46039f"
             ],
             [
              0.2222222222222222,
              "#7201a8"
             ],
             [
              0.3333333333333333,
              "#9c179e"
             ],
             [
              0.4444444444444444,
              "#bd3786"
             ],
             [
              0.5555555555555556,
              "#d8576b"
             ],
             [
              0.6666666666666666,
              "#ed7953"
             ],
             [
              0.7777777777777778,
              "#fb9f3a"
             ],
             [
              0.8888888888888888,
              "#fdca26"
             ],
             [
              1,
              "#f0f921"
             ]
            ],
            "type": "contour"
           }
          ],
          "contourcarpet": [
           {
            "colorbar": {
             "outlinewidth": 0,
             "ticks": ""
            },
            "type": "contourcarpet"
           }
          ],
          "heatmap": [
           {
            "colorbar": {
             "outlinewidth": 0,
             "ticks": ""
            },
            "colorscale": [
             [
              0,
              "#0d0887"
             ],
             [
              0.1111111111111111,
              "#46039f"
             ],
             [
              0.2222222222222222,
              "#7201a8"
             ],
             [
              0.3333333333333333,
              "#9c179e"
             ],
             [
              0.4444444444444444,
              "#bd3786"
             ],
             [
              0.5555555555555556,
              "#d8576b"
             ],
             [
              0.6666666666666666,
              "#ed7953"
             ],
             [
              0.7777777777777778,
              "#fb9f3a"
             ],
             [
              0.8888888888888888,
              "#fdca26"
             ],
             [
              1,
              "#f0f921"
             ]
            ],
            "type": "heatmap"
           }
          ],
          "histogram": [
           {
            "marker": {
             "pattern": {
              "fillmode": "overlay",
              "size": 10,
              "solidity": 0.2
             }
            },
            "type": "histogram"
           }
          ],
          "histogram2d": [
           {
            "colorbar": {
             "outlinewidth": 0,
             "ticks": ""
            },
            "colorscale": [
             [
              0,
              "#0d0887"
             ],
             [
              0.1111111111111111,
              "#46039f"
             ],
             [
              0.2222222222222222,
              "#7201a8"
             ],
             [
              0.3333333333333333,
              "#9c179e"
             ],
             [
              0.4444444444444444,
              "#bd3786"
             ],
             [
              0.5555555555555556,
              "#d8576b"
             ],
             [
              0.6666666666666666,
              "#ed7953"
             ],
             [
              0.7777777777777778,
              "#fb9f3a"
             ],
             [
              0.8888888888888888,
              "#fdca26"
             ],
             [
              1,
              "#f0f921"
             ]
            ],
            "type": "histogram2d"
           }
          ],
          "histogram2dcontour": [
           {
            "colorbar": {
             "outlinewidth": 0,
             "ticks": ""
            },
            "colorscale": [
             [
              0,
              "#0d0887"
             ],
             [
              0.1111111111111111,
              "#46039f"
             ],
             [
              0.2222222222222222,
              "#7201a8"
             ],
             [
              0.3333333333333333,
              "#9c179e"
             ],
             [
              0.4444444444444444,
              "#bd3786"
             ],
             [
              0.5555555555555556,
              "#d8576b"
             ],
             [
              0.6666666666666666,
              "#ed7953"
             ],
             [
              0.7777777777777778,
              "#fb9f3a"
             ],
             [
              0.8888888888888888,
              "#fdca26"
             ],
             [
              1,
              "#f0f921"
             ]
            ],
            "type": "histogram2dcontour"
           }
          ],
          "mesh3d": [
           {
            "colorbar": {
             "outlinewidth": 0,
             "ticks": ""
            },
            "type": "mesh3d"
           }
          ],
          "parcoords": [
           {
            "line": {
             "colorbar": {
              "outlinewidth": 0,
              "ticks": ""
             }
            },
            "type": "parcoords"
           }
          ],
          "pie": [
           {
            "automargin": true,
            "type": "pie"
           }
          ],
          "scatter": [
           {
            "fillpattern": {
             "fillmode": "overlay",
             "size": 10,
             "solidity": 0.2
            },
            "type": "scatter"
           }
          ],
          "scatter3d": [
           {
            "line": {
             "colorbar": {
              "outlinewidth": 0,
              "ticks": ""
             }
            },
            "marker": {
             "colorbar": {
              "outlinewidth": 0,
              "ticks": ""
             }
            },
            "type": "scatter3d"
           }
          ],
          "scattercarpet": [
           {
            "marker": {
             "colorbar": {
              "outlinewidth": 0,
              "ticks": ""
             }
            },
            "type": "scattercarpet"
           }
          ],
          "scattergeo": [
           {
            "marker": {
             "colorbar": {
              "outlinewidth": 0,
              "ticks": ""
             }
            },
            "type": "scattergeo"
           }
          ],
          "scattergl": [
           {
            "marker": {
             "colorbar": {
              "outlinewidth": 0,
              "ticks": ""
             }
            },
            "type": "scattergl"
           }
          ],
          "scattermap": [
           {
            "marker": {
             "colorbar": {
              "outlinewidth": 0,
              "ticks": ""
             }
            },
            "type": "scattermap"
           }
          ],
          "scattermapbox": [
           {
            "marker": {
             "colorbar": {
              "outlinewidth": 0,
              "ticks": ""
             }
            },
            "type": "scattermapbox"
           }
          ],
          "scatterpolar": [
           {
            "marker": {
             "colorbar": {
              "outlinewidth": 0,
              "ticks": ""
             }
            },
            "type": "scatterpolar"
           }
          ],
          "scatterpolargl": [
           {
            "marker": {
             "colorbar": {
              "outlinewidth": 0,
              "ticks": ""
             }
            },
            "type": "scatterpolargl"
           }
          ],
          "scatterternary": [
           {
            "marker": {
             "colorbar": {
              "outlinewidth": 0,
              "ticks": ""
             }
            },
            "type": "scatterternary"
           }
          ],
          "surface": [
           {
            "colorbar": {
             "outlinewidth": 0,
             "ticks": ""
            },
            "colorscale": [
             [
              0,
              "#0d0887"
             ],
             [
              0.1111111111111111,
              "#46039f"
             ],
             [
              0.2222222222222222,
              "#7201a8"
             ],
             [
              0.3333333333333333,
              "#9c179e"
             ],
             [
              0.4444444444444444,
              "#bd3786"
             ],
             [
              0.5555555555555556,
              "#d8576b"
             ],
             [
              0.6666666666666666,
              "#ed7953"
             ],
             [
              0.7777777777777778,
              "#fb9f3a"
             ],
             [
              0.8888888888888888,
              "#fdca26"
             ],
             [
              1,
              "#f0f921"
             ]
            ],
            "type": "surface"
           }
          ],
          "table": [
           {
            "cells": {
             "fill": {
              "color": "#EBF0F8"
             },
             "line": {
              "color": "white"
             }
            },
            "header": {
             "fill": {
              "color": "#C8D4E3"
             },
             "line": {
              "color": "white"
             }
            },
            "type": "table"
           }
          ]
         },
         "layout": {
          "annotationdefaults": {
           "arrowcolor": "#2a3f5f",
           "arrowhead": 0,
           "arrowwidth": 1
          },
          "autotypenumbers": "strict",
          "coloraxis": {
           "colorbar": {
            "outlinewidth": 0,
            "ticks": ""
           }
          },
          "colorscale": {
           "diverging": [
            [
             0,
             "#8e0152"
            ],
            [
             0.1,
             "#c51b7d"
            ],
            [
             0.2,
             "#de77ae"
            ],
            [
             0.3,
             "#f1b6da"
            ],
            [
             0.4,
             "#fde0ef"
            ],
            [
             0.5,
             "#f7f7f7"
            ],
            [
             0.6,
             "#e6f5d0"
            ],
            [
             0.7,
             "#b8e186"
            ],
            [
             0.8,
             "#7fbc41"
            ],
            [
             0.9,
             "#4d9221"
            ],
            [
             1,
             "#276419"
            ]
           ],
           "sequential": [
            [
             0,
             "#0d0887"
            ],
            [
             0.1111111111111111,
             "#46039f"
            ],
            [
             0.2222222222222222,
             "#7201a8"
            ],
            [
             0.3333333333333333,
             "#9c179e"
            ],
            [
             0.4444444444444444,
             "#bd3786"
            ],
            [
             0.5555555555555556,
             "#d8576b"
            ],
            [
             0.6666666666666666,
             "#ed7953"
            ],
            [
             0.7777777777777778,
             "#fb9f3a"
            ],
            [
             0.8888888888888888,
             "#fdca26"
            ],
            [
             1,
             "#f0f921"
            ]
           ],
           "sequentialminus": [
            [
             0,
             "#0d0887"
            ],
            [
             0.1111111111111111,
             "#46039f"
            ],
            [
             0.2222222222222222,
             "#7201a8"
            ],
            [
             0.3333333333333333,
             "#9c179e"
            ],
            [
             0.4444444444444444,
             "#bd3786"
            ],
            [
             0.5555555555555556,
             "#d8576b"
            ],
            [
             0.6666666666666666,
             "#ed7953"
            ],
            [
             0.7777777777777778,
             "#fb9f3a"
            ],
            [
             0.8888888888888888,
             "#fdca26"
            ],
            [
             1,
             "#f0f921"
            ]
           ]
          },
          "colorway": [
           "#636efa",
           "#EF553B",
           "#00cc96",
           "#ab63fa",
           "#FFA15A",
           "#19d3f3",
           "#FF6692",
           "#B6E880",
           "#FF97FF",
           "#FECB52"
          ],
          "font": {
           "color": "#2a3f5f"
          },
          "geo": {
           "bgcolor": "white",
           "lakecolor": "white",
           "landcolor": "#E5ECF6",
           "showlakes": true,
           "showland": true,
           "subunitcolor": "white"
          },
          "hoverlabel": {
           "align": "left"
          },
          "hovermode": "closest",
          "mapbox": {
           "style": "light"
          },
          "paper_bgcolor": "white",
          "plot_bgcolor": "#E5ECF6",
          "polar": {
           "angularaxis": {
            "gridcolor": "white",
            "linecolor": "white",
            "ticks": ""
           },
           "bgcolor": "#E5ECF6",
           "radialaxis": {
            "gridcolor": "white",
            "linecolor": "white",
            "ticks": ""
           }
          },
          "scene": {
           "xaxis": {
            "backgroundcolor": "#E5ECF6",
            "gridcolor": "white",
            "gridwidth": 2,
            "linecolor": "white",
            "showbackground": true,
            "ticks": "",
            "zerolinecolor": "white"
           },
           "yaxis": {
            "backgroundcolor": "#E5ECF6",
            "gridcolor": "white",
            "gridwidth": 2,
            "linecolor": "white",
            "showbackground": true,
            "ticks": "",
            "zerolinecolor": "white"
           },
           "zaxis": {
            "backgroundcolor": "#E5ECF6",
            "gridcolor": "white",
            "gridwidth": 2,
            "linecolor": "white",
            "showbackground": true,
            "ticks": "",
            "zerolinecolor": "white"
           }
          },
          "shapedefaults": {
           "line": {
            "color": "#2a3f5f"
           }
          },
          "ternary": {
           "aaxis": {
            "gridcolor": "white",
            "linecolor": "white",
            "ticks": ""
           },
           "baxis": {
            "gridcolor": "white",
            "linecolor": "white",
            "ticks": ""
           },
           "bgcolor": "#E5ECF6",
           "caxis": {
            "gridcolor": "white",
            "linecolor": "white",
            "ticks": ""
           }
          },
          "title": {
           "x": 0.05
          },
          "xaxis": {
           "automargin": true,
           "gridcolor": "white",
           "linecolor": "white",
           "ticks": "",
           "title": {
            "standoff": 15
           },
           "zerolinecolor": "white",
           "zerolinewidth": 2
          },
          "yaxis": {
           "automargin": true,
           "gridcolor": "white",
           "linecolor": "white",
           "ticks": "",
           "title": {
            "standoff": 15
           },
           "zerolinecolor": "white",
           "zerolinewidth": 2
          }
         }
        },
        "title": {
         "text": "Proportion of Unique Species by ID Method (Forest)"
        }
       }
      }
     },
     "metadata": {},
     "output_type": "display_data"
    }
   ],
   "source": [
    "# Create a pie chart for ID Method (forest)\n",
    "fig_id_method_forest_pie = px.pie(id_method_species_forest, values='Unique_Species_Count', names='ID_Method_forest', title='Proportion of Unique Species by ID Method (Forest)')\n",
    "fig_id_method_forest_pie.show()"
   ]
  },
  {
   "cell_type": "markdown",
   "id": "235bf742",
   "metadata": {},
   "source": [
    "##### Pie chart for ID Method(visualization, singing, calling) (grassland)"
   ]
  },
  {
   "cell_type": "code",
   "execution_count": 88,
   "id": "c8c41179",
   "metadata": {},
   "outputs": [
    {
     "data": {
      "application/vnd.plotly.v1+json": {
       "config": {
        "plotlyServerURL": "https://plot.ly"
       },
       "data": [
        {
         "domain": {
          "x": [
           0,
           1
          ],
          "y": [
           0,
           1
          ]
         },
         "hovertemplate": "ID_Method_grassland=%{label}<br>Unique_Species_Count=%{value}<extra></extra>",
         "labels": [
          "Calling",
          "Singing",
          "Visualization"
         ],
         "legendgroup": "",
         "name": "",
         "showlegend": true,
         "type": "pie",
         "values": {
          "bdata": "NkxG",
          "dtype": "i1"
         }
        }
       ],
       "layout": {
        "legend": {
         "tracegroupgap": 0
        },
        "template": {
         "data": {
          "bar": [
           {
            "error_x": {
             "color": "#2a3f5f"
            },
            "error_y": {
             "color": "#2a3f5f"
            },
            "marker": {
             "line": {
              "color": "#E5ECF6",
              "width": 0.5
             },
             "pattern": {
              "fillmode": "overlay",
              "size": 10,
              "solidity": 0.2
             }
            },
            "type": "bar"
           }
          ],
          "barpolar": [
           {
            "marker": {
             "line": {
              "color": "#E5ECF6",
              "width": 0.5
             },
             "pattern": {
              "fillmode": "overlay",
              "size": 10,
              "solidity": 0.2
             }
            },
            "type": "barpolar"
           }
          ],
          "carpet": [
           {
            "aaxis": {
             "endlinecolor": "#2a3f5f",
             "gridcolor": "white",
             "linecolor": "white",
             "minorgridcolor": "white",
             "startlinecolor": "#2a3f5f"
            },
            "baxis": {
             "endlinecolor": "#2a3f5f",
             "gridcolor": "white",
             "linecolor": "white",
             "minorgridcolor": "white",
             "startlinecolor": "#2a3f5f"
            },
            "type": "carpet"
           }
          ],
          "choropleth": [
           {
            "colorbar": {
             "outlinewidth": 0,
             "ticks": ""
            },
            "type": "choropleth"
           }
          ],
          "contour": [
           {
            "colorbar": {
             "outlinewidth": 0,
             "ticks": ""
            },
            "colorscale": [
             [
              0,
              "#0d0887"
             ],
             [
              0.1111111111111111,
              "#46039f"
             ],
             [
              0.2222222222222222,
              "#7201a8"
             ],
             [
              0.3333333333333333,
              "#9c179e"
             ],
             [
              0.4444444444444444,
              "#bd3786"
             ],
             [
              0.5555555555555556,
              "#d8576b"
             ],
             [
              0.6666666666666666,
              "#ed7953"
             ],
             [
              0.7777777777777778,
              "#fb9f3a"
             ],
             [
              0.8888888888888888,
              "#fdca26"
             ],
             [
              1,
              "#f0f921"
             ]
            ],
            "type": "contour"
           }
          ],
          "contourcarpet": [
           {
            "colorbar": {
             "outlinewidth": 0,
             "ticks": ""
            },
            "type": "contourcarpet"
           }
          ],
          "heatmap": [
           {
            "colorbar": {
             "outlinewidth": 0,
             "ticks": ""
            },
            "colorscale": [
             [
              0,
              "#0d0887"
             ],
             [
              0.1111111111111111,
              "#46039f"
             ],
             [
              0.2222222222222222,
              "#7201a8"
             ],
             [
              0.3333333333333333,
              "#9c179e"
             ],
             [
              0.4444444444444444,
              "#bd3786"
             ],
             [
              0.5555555555555556,
              "#d8576b"
             ],
             [
              0.6666666666666666,
              "#ed7953"
             ],
             [
              0.7777777777777778,
              "#fb9f3a"
             ],
             [
              0.8888888888888888,
              "#fdca26"
             ],
             [
              1,
              "#f0f921"
             ]
            ],
            "type": "heatmap"
           }
          ],
          "histogram": [
           {
            "marker": {
             "pattern": {
              "fillmode": "overlay",
              "size": 10,
              "solidity": 0.2
             }
            },
            "type": "histogram"
           }
          ],
          "histogram2d": [
           {
            "colorbar": {
             "outlinewidth": 0,
             "ticks": ""
            },
            "colorscale": [
             [
              0,
              "#0d0887"
             ],
             [
              0.1111111111111111,
              "#46039f"
             ],
             [
              0.2222222222222222,
              "#7201a8"
             ],
             [
              0.3333333333333333,
              "#9c179e"
             ],
             [
              0.4444444444444444,
              "#bd3786"
             ],
             [
              0.5555555555555556,
              "#d8576b"
             ],
             [
              0.6666666666666666,
              "#ed7953"
             ],
             [
              0.7777777777777778,
              "#fb9f3a"
             ],
             [
              0.8888888888888888,
              "#fdca26"
             ],
             [
              1,
              "#f0f921"
             ]
            ],
            "type": "histogram2d"
           }
          ],
          "histogram2dcontour": [
           {
            "colorbar": {
             "outlinewidth": 0,
             "ticks": ""
            },
            "colorscale": [
             [
              0,
              "#0d0887"
             ],
             [
              0.1111111111111111,
              "#46039f"
             ],
             [
              0.2222222222222222,
              "#7201a8"
             ],
             [
              0.3333333333333333,
              "#9c179e"
             ],
             [
              0.4444444444444444,
              "#bd3786"
             ],
             [
              0.5555555555555556,
              "#d8576b"
             ],
             [
              0.6666666666666666,
              "#ed7953"
             ],
             [
              0.7777777777777778,
              "#fb9f3a"
             ],
             [
              0.8888888888888888,
              "#fdca26"
             ],
             [
              1,
              "#f0f921"
             ]
            ],
            "type": "histogram2dcontour"
           }
          ],
          "mesh3d": [
           {
            "colorbar": {
             "outlinewidth": 0,
             "ticks": ""
            },
            "type": "mesh3d"
           }
          ],
          "parcoords": [
           {
            "line": {
             "colorbar": {
              "outlinewidth": 0,
              "ticks": ""
             }
            },
            "type": "parcoords"
           }
          ],
          "pie": [
           {
            "automargin": true,
            "type": "pie"
           }
          ],
          "scatter": [
           {
            "fillpattern": {
             "fillmode": "overlay",
             "size": 10,
             "solidity": 0.2
            },
            "type": "scatter"
           }
          ],
          "scatter3d": [
           {
            "line": {
             "colorbar": {
              "outlinewidth": 0,
              "ticks": ""
             }
            },
            "marker": {
             "colorbar": {
              "outlinewidth": 0,
              "ticks": ""
             }
            },
            "type": "scatter3d"
           }
          ],
          "scattercarpet": [
           {
            "marker": {
             "colorbar": {
              "outlinewidth": 0,
              "ticks": ""
             }
            },
            "type": "scattercarpet"
           }
          ],
          "scattergeo": [
           {
            "marker": {
             "colorbar": {
              "outlinewidth": 0,
              "ticks": ""
             }
            },
            "type": "scattergeo"
           }
          ],
          "scattergl": [
           {
            "marker": {
             "colorbar": {
              "outlinewidth": 0,
              "ticks": ""
             }
            },
            "type": "scattergl"
           }
          ],
          "scattermap": [
           {
            "marker": {
             "colorbar": {
              "outlinewidth": 0,
              "ticks": ""
             }
            },
            "type": "scattermap"
           }
          ],
          "scattermapbox": [
           {
            "marker": {
             "colorbar": {
              "outlinewidth": 0,
              "ticks": ""
             }
            },
            "type": "scattermapbox"
           }
          ],
          "scatterpolar": [
           {
            "marker": {
             "colorbar": {
              "outlinewidth": 0,
              "ticks": ""
             }
            },
            "type": "scatterpolar"
           }
          ],
          "scatterpolargl": [
           {
            "marker": {
             "colorbar": {
              "outlinewidth": 0,
              "ticks": ""
             }
            },
            "type": "scatterpolargl"
           }
          ],
          "scatterternary": [
           {
            "marker": {
             "colorbar": {
              "outlinewidth": 0,
              "ticks": ""
             }
            },
            "type": "scatterternary"
           }
          ],
          "surface": [
           {
            "colorbar": {
             "outlinewidth": 0,
             "ticks": ""
            },
            "colorscale": [
             [
              0,
              "#0d0887"
             ],
             [
              0.1111111111111111,
              "#46039f"
             ],
             [
              0.2222222222222222,
              "#7201a8"
             ],
             [
              0.3333333333333333,
              "#9c179e"
             ],
             [
              0.4444444444444444,
              "#bd3786"
             ],
             [
              0.5555555555555556,
              "#d8576b"
             ],
             [
              0.6666666666666666,
              "#ed7953"
             ],
             [
              0.7777777777777778,
              "#fb9f3a"
             ],
             [
              0.8888888888888888,
              "#fdca26"
             ],
             [
              1,
              "#f0f921"
             ]
            ],
            "type": "surface"
           }
          ],
          "table": [
           {
            "cells": {
             "fill": {
              "color": "#EBF0F8"
             },
             "line": {
              "color": "white"
             }
            },
            "header": {
             "fill": {
              "color": "#C8D4E3"
             },
             "line": {
              "color": "white"
             }
            },
            "type": "table"
           }
          ]
         },
         "layout": {
          "annotationdefaults": {
           "arrowcolor": "#2a3f5f",
           "arrowhead": 0,
           "arrowwidth": 1
          },
          "autotypenumbers": "strict",
          "coloraxis": {
           "colorbar": {
            "outlinewidth": 0,
            "ticks": ""
           }
          },
          "colorscale": {
           "diverging": [
            [
             0,
             "#8e0152"
            ],
            [
             0.1,
             "#c51b7d"
            ],
            [
             0.2,
             "#de77ae"
            ],
            [
             0.3,
             "#f1b6da"
            ],
            [
             0.4,
             "#fde0ef"
            ],
            [
             0.5,
             "#f7f7f7"
            ],
            [
             0.6,
             "#e6f5d0"
            ],
            [
             0.7,
             "#b8e186"
            ],
            [
             0.8,
             "#7fbc41"
            ],
            [
             0.9,
             "#4d9221"
            ],
            [
             1,
             "#276419"
            ]
           ],
           "sequential": [
            [
             0,
             "#0d0887"
            ],
            [
             0.1111111111111111,
             "#46039f"
            ],
            [
             0.2222222222222222,
             "#7201a8"
            ],
            [
             0.3333333333333333,
             "#9c179e"
            ],
            [
             0.4444444444444444,
             "#bd3786"
            ],
            [
             0.5555555555555556,
             "#d8576b"
            ],
            [
             0.6666666666666666,
             "#ed7953"
            ],
            [
             0.7777777777777778,
             "#fb9f3a"
            ],
            [
             0.8888888888888888,
             "#fdca26"
            ],
            [
             1,
             "#f0f921"
            ]
           ],
           "sequentialminus": [
            [
             0,
             "#0d0887"
            ],
            [
             0.1111111111111111,
             "#46039f"
            ],
            [
             0.2222222222222222,
             "#7201a8"
            ],
            [
             0.3333333333333333,
             "#9c179e"
            ],
            [
             0.4444444444444444,
             "#bd3786"
            ],
            [
             0.5555555555555556,
             "#d8576b"
            ],
            [
             0.6666666666666666,
             "#ed7953"
            ],
            [
             0.7777777777777778,
             "#fb9f3a"
            ],
            [
             0.8888888888888888,
             "#fdca26"
            ],
            [
             1,
             "#f0f921"
            ]
           ]
          },
          "colorway": [
           "#636efa",
           "#EF553B",
           "#00cc96",
           "#ab63fa",
           "#FFA15A",
           "#19d3f3",
           "#FF6692",
           "#B6E880",
           "#FF97FF",
           "#FECB52"
          ],
          "font": {
           "color": "#2a3f5f"
          },
          "geo": {
           "bgcolor": "white",
           "lakecolor": "white",
           "landcolor": "#E5ECF6",
           "showlakes": true,
           "showland": true,
           "subunitcolor": "white"
          },
          "hoverlabel": {
           "align": "left"
          },
          "hovermode": "closest",
          "mapbox": {
           "style": "light"
          },
          "paper_bgcolor": "white",
          "plot_bgcolor": "#E5ECF6",
          "polar": {
           "angularaxis": {
            "gridcolor": "white",
            "linecolor": "white",
            "ticks": ""
           },
           "bgcolor": "#E5ECF6",
           "radialaxis": {
            "gridcolor": "white",
            "linecolor": "white",
            "ticks": ""
           }
          },
          "scene": {
           "xaxis": {
            "backgroundcolor": "#E5ECF6",
            "gridcolor": "white",
            "gridwidth": 2,
            "linecolor": "white",
            "showbackground": true,
            "ticks": "",
            "zerolinecolor": "white"
           },
           "yaxis": {
            "backgroundcolor": "#E5ECF6",
            "gridcolor": "white",
            "gridwidth": 2,
            "linecolor": "white",
            "showbackground": true,
            "ticks": "",
            "zerolinecolor": "white"
           },
           "zaxis": {
            "backgroundcolor": "#E5ECF6",
            "gridcolor": "white",
            "gridwidth": 2,
            "linecolor": "white",
            "showbackground": true,
            "ticks": "",
            "zerolinecolor": "white"
           }
          },
          "shapedefaults": {
           "line": {
            "color": "#2a3f5f"
           }
          },
          "ternary": {
           "aaxis": {
            "gridcolor": "white",
            "linecolor": "white",
            "ticks": ""
           },
           "baxis": {
            "gridcolor": "white",
            "linecolor": "white",
            "ticks": ""
           },
           "bgcolor": "#E5ECF6",
           "caxis": {
            "gridcolor": "white",
            "linecolor": "white",
            "ticks": ""
           }
          },
          "title": {
           "x": 0.05
          },
          "xaxis": {
           "automargin": true,
           "gridcolor": "white",
           "linecolor": "white",
           "ticks": "",
           "title": {
            "standoff": 15
           },
           "zerolinecolor": "white",
           "zerolinewidth": 2
          },
          "yaxis": {
           "automargin": true,
           "gridcolor": "white",
           "linecolor": "white",
           "ticks": "",
           "title": {
            "standoff": 15
           },
           "zerolinecolor": "white",
           "zerolinewidth": 2
          }
         }
        },
        "title": {
         "text": "Proportion of Unique Species by ID Method (Grassland)"
        }
       }
      }
     },
     "metadata": {},
     "output_type": "display_data"
    }
   ],
   "source": [
    "# Create a pie chart for ID Method (grassland)\n",
    "fig_id_method_grassland_pie = px.pie(id_method_species_grassland, values='Unique_Species_Count', names='ID_Method_grassland', title='Proportion of Unique Species by ID Method (Grassland)')\n",
    "fig_id_method_grassland_pie.show()"
   ]
  },
  {
   "cell_type": "code",
   "execution_count": null,
   "id": "eb24d562",
   "metadata": {},
   "outputs": [],
   "source": []
  },
  {
   "cell_type": "markdown",
   "id": "67f7eab9",
   "metadata": {},
   "source": [
    "  ## KEY INSIGHTS\n",
    "  \n",
    "  \n",
    "  ##### Based on the analysis we've performed, here are some conclusions and suggestions regarding the bird monitoring data in forest and grassland locations:\n",
    "\n",
    "### 1. Temporal Analysis:\n",
    "##### The majority of bird observations occurred during the Spring and Summer seasons, which aligns with typical bird activity patterns during breeding and migration periods.\n",
    "\n",
    "##### Observation times are concentrated in the early morning hours, peaking around 7:00 AM. This suggests that monitoring efforts are effectively targeting the most active periods for birds.\n",
    "\n",
    "### 2. Spatial Analysis:\n",
    "\n",
    "##### Both forest and grassland locations show a similar number of unique species observed.\n",
    "##### Plot-level analysis revealed variations in unique species counts across different plots within both forest and grassland areas. Some plots consistently show higher species diversity than others.\n",
    "\n",
    "## 3. Observer Trends:\n",
    "\n",
    "##### There are differences in the number of unique species observed by different observers. Elizabeth Oswald recorded the highest number of unique species in both forest and grassland locations. This could indicate differences in observer experience, effort, or the specific areas surveyed by each observer.\n",
    "\n",
    "## 4. Environmental Analysis (Weather Correlation):\n",
    "\n",
    "##### The analysis of unique species count by temperature, humidity, sky condition, and wind condition provides insights into the preferred environmental conditions for bird sightings. For example, certain temperature and humidity ranges appear to be associated with higher unique species counts. Clear or partly cloudy skies and light air movement also seem to correlate with more unique species observations.\n",
    "\n",
    "## 5. Conservation Insights:\n",
    "\n",
    "##### The PIF Watchlist Status and Regional Stewardship Status analysis highlight species that are of conservation concern. We identified specific AOU codes corresponding to species on the PIF Watchlist and those with Regional Stewardship status in both forest and grassland locations. This information is crucial for prioritizing conservation efforts.\n",
    "\n",
    "## 6. Distance and Behavior (Flyover Frequency):\n",
    "\n",
    "##### The flyover frequency analysis shows that a significant number of birds are observed flying over the areas, particularly in grasslands. This suggests that monitoring methods are capturing both birds within the plot and those passing through.\n",
    "\n",
    "## 7. ID Method:\n",
    "\n",
    "##### The ID method analysis indicates that 'Singing' and 'Visualization' are the most common methods used for identifying unique species in both locations. This information can be useful for evaluating the effectiveness of different survey techniques.\n",
    "\n",
    "## SUGGESTIONS\n",
    "\n",
    "##### Business Use Cases:\n",
    "\n",
    "#### Based on the analysis and the business use cases you've provided, here are some specific suggestions:\n",
    "\n",
    "## 1. Wildlife Conservation:\n",
    "\n",
    "* Suggestion: Prioritize conservation efforts on plots identified in the plot-level analysis with the highest unique species counts.\n",
    "* Link to Analysis: The plot-level analysis (sorted by unique species count) directly identifies areas with high biodiversity.\n",
    "* Suggestion: Focus on protecting habitats that exhibit environmental conditions (temperature, humidity, sky, wind) correlated with higher unique species counts, as identified in the weather correlation analysis.\n",
    "* Link to Analysis: The environmental analysis provides insights into favorable conditions for bird sightings and unique species presence.\n",
    "* Suggestion: Develop targeted conservation plans for the species identified on the PIF Watchlist and those with Regional Stewardship Status based on their specific habitat preferences and temporal patterns.\n",
    "* Link to Analysis: The conservation insights analysis directly identifies these species of concern.\n",
    "   \n",
    "## 2. Land Management:\n",
    "\n",
    "* Suggestion: Use the plot-level analysis to inform land management decisions, focusing on preserving or enhancing habitat features in plots with high species diversity.\n",
    "* Link to Analysis: The sorted plot-level analysis highlights the most biodiverse areas.\n",
    "* Suggestion: Implement habitat restoration strategies in areas with lower unique species counts, potentially by mimicking the environmental conditions and habitat structures of high-diversity plots.\n",
    "* Link to Analysis: The spatial and environmental analyses provide data on species distribution and preferences.\n",
    "\n",
    "## 3. Eco-Tourism:\n",
    "\n",
    "* Suggestion: Promote bird-watching activities in the plots identified with the highest unique species counts.\n",
    "* Link to Analysis: The sorted plot-level analysis clearly shows which plots have the most unique species.\n",
    "* Suggestion: Offer guided bird-watching tours during the peak observation hours and seasons identified in the temporal analysis.\n",
    "* Link to Analysis: The temporal analysis provides insights into the best times for bird observation.\n",
    "* Suggestion: Develop informational materials highlighting the species of conservation concern found in the area, linking eco-tourism to conservation awareness.\n",
    "* Link to Analysis: The conservation insights provide information on species at risk.\n",
    "\n",
    "## 4. Sustainable Agriculture:\n",
    "\n",
    "* Suggestion: For agricultural lands adjacent to grassland plots, promote practices that maintain or enhance habitat features that support the unique species found in nearby high-diversity grassland plots.\n",
    "* Link to Analysis: The plot-level analysis for grasslands identifies key areas.\n",
    "    Suggestion: Encourage farming practices that consider the peak bird activity times to minimize disturbance during crucial periods.\n",
    "* Link to Analysis: The temporal analysis highlights peak observation times.\n",
    "\n",
    "## 5. Policy Support:\n",
    "\n",
    "* Suggestion: Use the data on PIF Watchlist and Regional Stewardship species to support policy decisions regarding habitat protection and conservation funding.\n",
    "* Link to Analysis: The conservation insights provide direct evidence of species at risk and those requiring regional attention.\n",
    "* Suggestion: Advocate for policies that consider the impact of development or land use changes on the identified high-diversity plots and areas with favorable environmental conditions for birds.\n",
    "* Link to Analysis: The spatial and environmental analyses provide data on important bird areas and conditions.\n",
    "\n",
    "## 6. Biodiversity Monitoring:\n",
    "\n",
    "* Suggestion: Continue monitoring efforts in the identified high-diversity plots as key indicators of ecosystem health.\n",
    "* Link to Analysis: The sorted plot-level analysis identifies these key monitoring areas.\n",
    "* Suggestion: Use the observer trend analysis to ensure consistency in data collection methods and potentially provide additional training to observers to minimize bias.\n",
    "* Link to Analysis: The observer trend analysis highlights potential variations in data collection.\n",
    "* Suggestion: Expand monitoring to include other environmental variables that were not part of this analysis but could be relevant to bird populations.\n",
    "\n",
    "\n"
   ]
  }
 ],
 "metadata": {
  "jupytext": {
   "cell_metadata_filter": "-all",
   "encoding": "# -*- coding: utf-8 -*-",
   "main_language": "python",
   "notebook_metadata_filter": "-all"
  },
  "kernelspec": {
   "display_name": ".venv",
   "language": "python",
   "name": "python3"
  },
  "language_info": {
   "codemirror_mode": {
    "name": "ipython",
    "version": 3
   },
   "file_extension": ".py",
   "mimetype": "text/x-python",
   "name": "python",
   "nbconvert_exporter": "python",
   "pygments_lexer": "ipython3",
   "version": "3.13.7"
  }
 },
 "nbformat": 4,
 "nbformat_minor": 5
}
